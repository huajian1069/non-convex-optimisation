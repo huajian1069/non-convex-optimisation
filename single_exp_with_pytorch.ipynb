{
 "cells": [
  {
   "cell_type": "code",
   "execution_count": 1,
   "metadata": {},
   "outputs": [],
   "source": [
    "from library.experiments import *\n",
    "from library.objective_function import *\n",
    "from library.optimiser import *"
   ]
  },
  {
   "cell_type": "code",
   "execution_count": 4,
   "metadata": {},
   "outputs": [
    {
     "name": "stdout",
     "output_type": "stream",
     "text": [
      "\n",
      "\n",
      "*******starting optimisation from intitial point:  tensor([16.2300, 23.0230], grad_fn=<SqueezeBackward0>)\n",
      "total evaluatios = 201\n",
      "gradient at stop position = tensor([-0.0001,  0.0001]),\n",
      "modified graident = tensor([-2.1003e-06, -8.8239e-06])\n",
      "found minimum position = tensor([15.9994, 22.9992], requires_grad=True), found minimum = 19.61959457397461\n",
      "Result:  local minimum\n",
      "found minimum: 19.61959457397461, minimum position: [15.999424 22.999178], evals: 201\n"
     ]
    },
    {
     "data": {
      "text/plain": [
       "('local minimum', tensor(19.6196, grad_fn=<AddBackward0>), 201)"
      ]
     },
     "execution_count": 4,
     "metadata": {},
     "output_type": "execute_result"
    }
   ],
   "source": [
    "# init and setup one experiment\n",
    "exp = single_experiment()\n",
    "# One experiment: setup objective function\n",
    "ak = ackley()\n",
    "exp.set_objective(ak)\n",
    "ad = adam()\n",
    "optParas = {\n",
    "         'x0': torch.tensor([16.23, 23.023], requires_grad=True),\n",
    "         'alpha': 0.1,\n",
    "         'beta_1': 0.9, \n",
    "         'beta_2': 0.999, \n",
    "         'epsilon': 1e-11, \n",
    "         'max_iter': 2000,\n",
    "         'tol': 1e-6,              \n",
    "         'verbose': True,\n",
    "         'record': False }\n",
    "ad.set_parameters(optParas)\n",
    "exp.set_optimizer(ad)\n",
    "exp.do()"
   ]
  },
  {
   "cell_type": "code",
   "execution_count": 31,
   "metadata": {},
   "outputs": [
    {
     "name": "stdout",
     "output_type": "stream",
     "text": [
      "\n",
      "*******starting optimisation from intitial point:  tensor([16.2300, 23.0230], grad_fn=<SqueezeBackward0>)\n",
      "total evaluatios = 41\n",
      "gradient at stop position = tensor([0.0005, 0.0002])\n",
      "found minimum position = tensor([15.9994, 22.9992], requires_grad=True), found minimum = 19.61959457397461\n",
      "Result:  local minimum\n",
      "found minimum: 19.61959457397461, minimum position: [15.999435 22.99918 ], evals: 41\n"
     ]
    },
    {
     "data": {
      "text/plain": [
       "('local minimum', tensor(19.6196, grad_fn=<AddBackward0>), 41)"
      ]
     },
     "execution_count": 31,
     "metadata": {},
     "output_type": "execute_result"
    }
   ],
   "source": [
    "# init and setup one experiment\n",
    "exp = single_experiment()\n",
    "# One experiment: setup objective function\n",
    "ak = ackley()\n",
    "exp.set_objective(ak)\n",
    "ln = line_search()\n",
    "optParas = {\n",
    "    'x0': torch.tensor([16.23, 23.023], requires_grad=True),\n",
    "    'alpha': 1,\n",
    "    'beta': 0.1, \n",
    "    'max_iter': 1000,\n",
    "    'tol': 1e-3,              \n",
    "    'verbose': True,\n",
    "    'record': False\n",
    "}\n",
    "ln.set_parameters(optParas)\n",
    "exp.set_optimizer(ln)\n",
    "exp.do()"
   ]
  },
  {
   "cell_type": "code",
   "execution_count": 26,
   "metadata": {},
   "outputs": [
    {
     "name": "stdout",
     "output_type": "stream",
     "text": [
      "\n",
      "\n",
      "*******starting optimisation from intitial mean:  tensor([196.2300, 123.0230], grad_fn=<SqueezeBackward0>)\n",
      "eigenvalue of variance = tensor([9.8974e-04, 6.7251e-05], grad_fn=<SqrtBackward>)\n",
      "total iterations = 400, total evaluatios = 2400\n",
      "found minimum position = tensor([-2174968., -1005778.], grad_fn=<SelectBackward>), found minimum = 20.00206756591797\n",
      "Result:  local minimum\n",
      "found minimum: 20.00206756591797, minimum position: [-2174968. -1005778.], evals: 2400\n"
     ]
    },
    {
     "data": {
      "text/plain": [
       "('local minimum', tensor(20.0021, grad_fn=<SelectBackward>), 2400)"
      ]
     },
     "execution_count": 26,
     "metadata": {},
     "output_type": "execute_result"
    }
   ],
   "source": [
    "# init and setup one experiment\n",
    "exp = single_experiment()\n",
    "# One experiment: setup objective function\n",
    "ak = ackley()\n",
    "exp.set_objective(ak)\n",
    "opt = cma_es()\n",
    "optParas ={'x0': torch.tensor([196.23, 123.023], requires_grad=True),\n",
    "           'std': torch.ones((2,)) * 3, \n",
    "           'tol': 1e-3, \n",
    "           'adjust_func': do_nothing(), \n",
    "           'record': False, \n",
    "           'verbose': True}\n",
    "opt.set_parameters(optParas)\n",
    "exp.set_optimizer(opt)\n",
    "exp.do()"
   ]
  },
  {
   "cell_type": "code",
   "execution_count": 25,
   "metadata": {},
   "outputs": [
    {
     "name": "stdout",
     "output_type": "stream",
     "text": [
      "\n",
      "\n",
      "*******starting optimisation from intitial mean:  tensor([196.2300, 123.0230], grad_fn=<SqueezeBackward0>)\n",
      "eigenvalue of variance = tensor([ 8.1473, 12.1323], grad_fn=<SqrtBackward>)\n",
      "total iterations = 35, total evaluatios = 12136\n",
      "found minimum position = tensor([ 4.1871e-07, -1.2184e-07], grad_fn=<SelectBackward>), found minimum = 9.5367431640625e-07\n",
      "Result:  global minimum\n",
      "found minimum: 9.5367431640625e-07, minimum position: [ 4.1870697e-07 -1.2184466e-07], evals: 12136\n"
     ]
    },
    {
     "data": {
      "text/plain": [
       "('global minimum', tensor(9.5367e-07, grad_fn=<SelectBackward>), 12136)"
      ]
     },
     "execution_count": 25,
     "metadata": {},
     "output_type": "execute_result"
    }
   ],
   "source": [
    "# init and setup one experiment\n",
    "exp = single_experiment()\n",
    "# One experiment: setup objective function\n",
    "ak = ackley()\n",
    "exp.set_objective(ak)\n",
    "\n",
    "inner_opt = line_search()\n",
    "innerOptParas = {\n",
    "   'x0': None,\n",
    "    'alpha': 1,\n",
    "    'beta': 0.1, \n",
    "    'max_iter': 100,\n",
    "    'tol': 1e-1,              \n",
    "    'verbose': False,\n",
    "    'record': False\n",
    "}\n",
    "inner_opt.set_parameters(innerOptParas)\n",
    "\n",
    "opt = cma_es()\n",
    "optParas ={'x0': torch.tensor([196.23, 123.023], requires_grad=True),\n",
    "           'std': torch.ones((2,)) * 30, \n",
    "           'tol': 1e-3, \n",
    "           'adjust_func': inner_opt, \n",
    "           'record': False, \n",
    "           'verbose': True}\n",
    "opt.set_parameters(optParas)\n",
    "exp.set_optimizer(opt)\n",
    "exp.do()"
   ]
  },
  {
   "cell_type": "code",
   "execution_count": null,
   "metadata": {},
   "outputs": [],
   "source": []
  },
  {
   "cell_type": "code",
   "execution_count": 30,
   "metadata": {},
   "outputs": [
    {
     "name": "stdout",
     "output_type": "stream",
     "text": [
      "\n",
      "\n",
      "*******starting optimisation from intitial mean:  tensor([196.2300, 123.0230], grad_fn=<SqueezeBackward0>)\n",
      "eigenvalue of variance = tensor([0.0018, 0.0028], grad_fn=<SqrtBackward>)\n",
      "total iterations = 400, total evaluatios = 186400\n",
      "found minimum position = tensor([14.0245, -5.0542], grad_fn=<SelectBackward>), found minimum = 17.66341209411621\n",
      "Result:  local minimum\n",
      "found minimum: 17.66341209411621, minimum position: [14.024487 -5.054191], evals: 186400\n"
     ]
    },
    {
     "data": {
      "text/plain": [
       "('local minimum', tensor(17.6634, grad_fn=<SelectBackward>), 186400)"
      ]
     },
     "execution_count": 30,
     "metadata": {},
     "output_type": "execute_result"
    }
   ],
   "source": [
    "exp = single_experiment()\n",
    "# setup objective function\n",
    "ak = ackley()\n",
    "exp.set_objective(ak)\n",
    "\n",
    "inner_opt = adam()\n",
    "optParas = {\n",
    "         'x0': None,\n",
    "         'alpha': 1,\n",
    "         'beta_1': 0.9, \n",
    "         'beta_2': 0.999, \n",
    "         'epsilon': 1e-11, \n",
    "         'max_iter': 100,\n",
    "         'tol': 1e-1,              \n",
    "         'verbose': False,\n",
    "         'record': False }\n",
    "inner_opt.set_parameters(optParas)\n",
    "\n",
    "opt = cma_es()\n",
    "optParas ={'x0': torch.tensor([196.23, 123.023], requires_grad=True),\n",
    "           'std': torch.ones((2,)) * 30, \n",
    "           'tol': 1e-3, \n",
    "           'adjust_func': inner_opt, \n",
    "           'record': False, \n",
    "           'verbose': True}\n",
    "opt.set_parameters(optParas)\n",
    "exp.set_optimizer(opt)\n",
    "exp.do()"
   ]
  },
  {
   "cell_type": "code",
   "execution_count": null,
   "metadata": {},
   "outputs": [],
   "source": []
  }
 ],
 "metadata": {
  "kernelspec": {
   "display_name": "Python [conda env:miniconda3-ada] *",
   "language": "python",
   "name": "conda-env-miniconda3-ada-py"
  },
  "language_info": {
   "codemirror_mode": {
    "name": "ipython",
    "version": 3
   },
   "file_extension": ".py",
   "mimetype": "text/x-python",
   "name": "python",
   "nbconvert_exporter": "python",
   "pygments_lexer": "ipython3",
   "version": "3.7.4"
  }
 },
 "nbformat": 4,
 "nbformat_minor": 4
}
