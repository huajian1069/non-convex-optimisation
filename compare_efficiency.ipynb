{
 "cells": [
  {
   "cell_type": "code",
   "execution_count": 1,
   "metadata": {},
   "outputs": [],
   "source": [
    "from library.objective_function import *\n",
    "from library.optimiser import *\n",
    "from library.post_analysis import *\n",
    "from library.experiments import *\n",
    "%matplotlib inline\n",
    "SEED = 23191"
   ]
  },
  {
   "cell_type": "markdown",
   "metadata": {},
   "source": [
    "**naming of objective function**\n",
    "ackley -> ak \n",
    "\n",
    "tuned ackley -> tak\n",
    "\n",
    "bukin -> bk\n",
    "\n",
    "egg holder -> eh\n",
    "\n",
    "**naming of optimizer**\n",
    "\n",
    "original CMA -> no\n",
    "\n",
    "line search CMA-> ls\n",
    "\n",
    "round off CMA-> ro\n",
    "\n",
    "**naming of experiments**\n",
    "\n",
    "experiments -> exps + objective function + optimizer + [hyperparameter]"
   ]
  },
  {
   "cell_type": "code",
   "execution_count": 4,
   "metadata": {},
   "outputs": [],
   "source": [
    "def setup_compsite_cma(inner_opt):\n",
    "    # One experiment: setup optimizer\n",
    "    cma = cma_es()\n",
    "    optmizerParas = {\n",
    "             'x0': np.zeros((2,)),\n",
    "             'std': np.ones((2,)) * 3, \n",
    "             'tol': 1e-5, \n",
    "             'adjust_func': inner_opt, \n",
    "             'record': False, \n",
    "             'verbose': False}\n",
    "    cma.set_parameters(optmizerParas)\n",
    "    return cma\n",
    "    \n",
    "def compare_efficiency_ackley(optimizer, seed):\n",
    "    np.random.seed(seed)\n",
    "\n",
    "    # init multiple experiments\n",
    "    mexps = multiple_experiment()\n",
    "\n",
    "    # init and setup one experiment\n",
    "    exp = single_experiment()\n",
    "    # One experiment: setup objective function\n",
    "    ak = ackley()\n",
    "    exp.set_objective(ak)\n",
    "    exp.set_optimizer(optimizer)\n",
    "\n",
    "    # Multiple experiment: setup one expreiment\n",
    "    mexps.set_single_exp(exp)\n",
    "    # Multiple experiments: setup sample zone of multiple experiments\n",
    "    zoneParas = {'origin': np.array([0,0]),\n",
    "             'edge': np.array([500, 500]),\n",
    "             'step': 100,\n",
    "             'size': 10,\n",
    "             'sym': True}\n",
    "    mexps.set_sample_zone(zoneParas)\n",
    "\n",
    "    data = mexps.do()"
   ]
  },
  {
   "cell_type": "markdown",
   "metadata": {},
   "source": [
    "## test influence of random seed"
   ]
  },
  {
   "cell_type": "code",
   "execution_count": 29,
   "metadata": {},
   "outputs": [
    {
     "name": "stdout",
     "output_type": "stream",
     "text": [
      "avg probility of converge:  0.02666666666666667\n",
      "avg func value:  19.831645846483443\n",
      "avg evals per exp:  1480.4799999999998\n",
      "\n",
      "\n",
      "CPU times: user 14.2 s, sys: 134 ms, total: 14.3 s\n",
      "Wall time: 14.5 s\n",
      "avg probility of converge:  0.013333333333333334\n",
      "avg func value:  20.065190191781713\n",
      "avg evals per exp:  1470.84\n",
      "\n",
      "\n",
      "CPU times: user 14 s, sys: 117 ms, total: 14.1 s\n",
      "Wall time: 14.3 s\n",
      "diverge, raise LinAlgError!\n",
      "avg probility of converge:  0.02\n",
      "avg func value:  19.91107105638078\n",
      "avg evals per exp:  1493.9200000000003\n",
      "\n",
      "\n",
      "CPU times: user 14.8 s, sys: 158 ms, total: 15 s\n",
      "Wall time: 15.1 s\n",
      "avg probility of converge:  0.03333333333333333\n",
      "avg func value:  19.675662087266524\n",
      "avg evals per exp:  1446.6000000000001\n",
      "\n",
      "\n",
      "CPU times: user 13 s, sys: 70.3 ms, total: 13.1 s\n",
      "Wall time: 13.2 s\n",
      "avg probility of converge:  0.02666666666666667\n",
      "avg func value:  19.74227867506498\n",
      "avg evals per exp:  1387.2\n",
      "\n",
      "\n",
      "CPU times: user 12 s, sys: 34.5 ms, total: 12 s\n",
      "Wall time: 12.1 s\n",
      "avg probility of converge:  0.02666666666666667\n",
      "avg func value:  19.75953080870234\n",
      "avg evals per exp:  1375.16\n",
      "\n",
      "\n",
      "CPU times: user 12.2 s, sys: 59 ms, total: 12.2 s\n",
      "Wall time: 12.3 s\n",
      "avg probility of converge:  0.02666666666666667\n",
      "avg func value:  19.795296502290793\n",
      "avg evals per exp:  1478.24\n",
      "\n",
      "\n",
      "CPU times: user 12.7 s, sys: 27.5 ms, total: 12.7 s\n",
      "Wall time: 12.7 s\n"
     ]
    }
   ],
   "source": [
    "inner_optimizer = do_nothing()\n",
    "composite_optimizer = setup_compsite_cma(inner_optimizer)\n",
    "for i in [1291, 3, 100, 29383, 3322, 902, 222]:\n",
    "    %time conmpare_efficency_ackley(composite_optimizer, i)"
   ]
  },
  {
   "cell_type": "markdown",
   "metadata": {},
   "source": [
    "# 1. orginal Ackley function"
   ]
  },
  {
   "cell_type": "markdown",
   "metadata": {},
   "source": [
    "## no optimisation\n"
   ]
  },
  {
   "cell_type": "code",
   "execution_count": 3,
   "metadata": {},
   "outputs": [
    {
     "name": "stdout",
     "output_type": "stream",
     "text": [
      "complete: 1 / 15 \n",
      "complete: 3 / 15 \n",
      "complete: 6 / 15 \n",
      "complete: 10 / 15 \n",
      "complete: 15 / 15 \n",
      "avg probility of converge:  0.0\n",
      "avg func value:  21.553441979953742\n",
      "avg evals per exp:  1.0\n",
      "\n",
      "\n",
      "CPU times: user 13.4 ms, sys: 3.32 ms, total: 16.7 ms\n",
      "Wall time: 15 ms\n"
     ]
    }
   ],
   "source": [
    "no = do_nothing()\n",
    "%time compare_efficiency_ackley(no, seed=SEED)"
   ]
  },
  {
   "cell_type": "markdown",
   "metadata": {},
   "source": [
    "## orginal CMA + original Ackley"
   ]
  },
  {
   "cell_type": "code",
   "execution_count": 33,
   "metadata": {},
   "outputs": [
    {
     "name": "stdout",
     "output_type": "stream",
     "text": [
      "avg probility of converge:  0.02666666666666667\n",
      "avg func value:  19.821937003313206\n",
      "avg evals per exp:  1459.48\n",
      "\n",
      "\n",
      "CPU times: user 12.6 s, sys: 22.9 ms, total: 12.6 s\n",
      "Wall time: 12.6 s\n"
     ]
    }
   ],
   "source": [
    "inner_optimizer = do_nothing()\n",
    "composite_optimizer = setup_compsite_cma(inner_optimizer)\n",
    "%time compare_efficiency_ackley(composite_optimizer, seed=SEED)"
   ]
  },
  {
   "cell_type": "code",
   "execution_count": 39,
   "metadata": {},
   "outputs": [
    {
     "data": {
      "text/plain": [
       "5.7573680603152835e-05"
      ]
     },
     "execution_count": 39,
     "metadata": {},
     "output_type": "execute_result"
    }
   ],
   "source": [
    "# time per evalutations (s)\n",
    "12.6 / 150 / 1459"
   ]
  },
  {
   "cell_type": "markdown",
   "metadata": {},
   "source": [
    "## adam-CMA + original Ackley"
   ]
  },
  {
   "cell_type": "code",
   "execution_count": null,
   "metadata": {},
   "outputs": [],
   "source": [
    "inner_optimizer = adam()\n",
    "optmizerParas = {'x0': np.zeros((2,)),\n",
    "         'alpha': 1.5,\n",
    "         'beta_1': 0.9, \n",
    "         'beta_2': 0.999, \n",
    "         'epsilon': 1e-8, \n",
    "         'max_iter': 100,\n",
    "         'tol': 1e-2,              \n",
    "         'verbose': False,\n",
    "         'record': False}\n",
    "inner_optimizer.set_parameters(optmizerParas)\n",
    "composite_optimizer = setup_compsite_cma(inner_optimizer)\n",
    "%time compare_efficiency_ackley(composite_optimizer, seed=SEED)"
   ]
  },
  {
   "cell_type": "markdown",
   "metadata": {},
   "source": [
    "## line-search-CMA + original Ackley"
   ]
  },
  {
   "cell_type": "code",
   "execution_count": 39,
   "metadata": {},
   "outputs": [
    {
     "name": "stdout",
     "output_type": "stream",
     "text": [
      "diverge, raise LinAlgError!\n",
      "avg probility of converge:  0.4133333333333333\n",
      "avg func value:  11.733333588932046\n",
      "avg evals per exp:  70947.87333333334\n",
      "\n",
      "\n",
      "CPU times: user 3min 19s, sys: 1.17 s, total: 3min 20s\n",
      "Wall time: 3min 28s\n"
     ]
    }
   ],
   "source": [
    "inner_optimizer = line_search()\n",
    "composite_optimizer = setup_compsite_cma(inner_optimizer)\n",
    "%time compare_efficiency_ackley(composite_optimizer, seed=SEED)"
   ]
  },
  {
   "cell_type": "code",
   "execution_count": 40,
   "metadata": {},
   "outputs": [
    {
     "data": {
      "text/plain": [
       "2.1424443598742724e-05"
      ]
     },
     "execution_count": 40,
     "metadata": {},
     "output_type": "execute_result"
    }
   ],
   "source": [
    "228 / 70947 / 150"
   ]
  },
  {
   "cell_type": "markdown",
   "metadata": {},
   "source": [
    "## adam + original Ackley"
   ]
  },
  {
   "cell_type": "code",
   "execution_count": 44,
   "metadata": {},
   "outputs": [
    {
     "name": "stdout",
     "output_type": "stream",
     "text": [
      "avg probility of converge:  0.0\n",
      "avg func value:  19.97863731361894\n",
      "avg evals per exp:  144.18666666666664\n",
      "\n",
      "\n",
      "CPU times: user 890 ms, sys: 12.2 ms, total: 902 ms\n",
      "Wall time: 901 ms\n"
     ]
    }
   ],
   "source": [
    "ad = adam()\n",
    "%time compare_efficiency_ackley(ad, seed=SEED)"
   ]
  },
  {
   "cell_type": "code",
   "execution_count": 45,
   "metadata": {},
   "outputs": [
    {
     "data": {
      "text/plain": [
       "4.171296296296297e-05"
      ]
     },
     "execution_count": 45,
     "metadata": {},
     "output_type": "execute_result"
    }
   ],
   "source": [
    "0.901 / 150 / 144"
   ]
  },
  {
   "cell_type": "markdown",
   "metadata": {},
   "source": [
    "## line search + original Ackley"
   ]
  },
  {
   "cell_type": "code",
   "execution_count": 30,
   "metadata": {},
   "outputs": [
    {
     "name": "stdout",
     "output_type": "stream",
     "text": [
      "avg probility of converge:  0.0\n",
      "avg func value:  19.9743627591425\n",
      "avg evals per exp:  39.89333333333334\n",
      "\n",
      "\n",
      "CPU times: user 119 ms, sys: 3.68 ms, total: 123 ms\n",
      "Wall time: 121 ms\n"
     ]
    }
   ],
   "source": [
    "ls = line_search()\n",
    "%time compare_efficiency_ackley(ls, seed=SEED)"
   ]
  },
  {
   "cell_type": "code",
   "execution_count": 31,
   "metadata": {},
   "outputs": [
    {
     "data": {
      "text/plain": [
       "2.0166666666666664e-05"
      ]
     },
     "execution_count": 31,
     "metadata": {},
     "output_type": "execute_result"
    }
   ],
   "source": [
    "0.121 / 40 / 150"
   ]
  },
  {
   "cell_type": "markdown",
   "metadata": {},
   "source": [
    "## summary on original ackley\n",
    "| --      | adam | line search | original CMA | line search - CMA | adam-CMA | no optimisation |\n",
    "| --      | --   |          -- | --           | --                |       -- |              -- |\n",
    "| #experiments | <td colspan=3>150 times of optimisation</td> \n",
    "|total time          |  0.9 s | 0.12 s      | 12.6s       |  199 s        |     818 s   |   0.01 s      |\n",
    "|evalutaions per exp | 0.14 k | 39.9 k evals|1.46 k evals |  70.9 k evals |156.4 k evals| 0.001 k evals |  \n",
    "|*performance*       |     -- | --          |          -- |            -- | --          | --            |\n",
    "|cost                | 19.98  |  19.98      |   19.82     | 11.73         |     16.27   |      21.55    |\n",
    "|probability         | 0      |     0       |    3%.      |     41%       |       19%   |        0      | \n"
   ]
  },
  {
   "cell_type": "markdown",
   "metadata": {},
   "source": [
    "# 2. Bukin function"
   ]
  },
  {
   "cell_type": "code",
   "execution_count": 17,
   "metadata": {},
   "outputs": [],
   "source": [
    "def compare_efficiency_bukin(optimizer, seed):\n",
    "    np.random.seed(seed)\n",
    "\n",
    "    # init multiple experiments\n",
    "    mexps = multiple_experiment()\n",
    "\n",
    "    # init and setup one experiment\n",
    "    exp = single_experiment()\n",
    "    # One experiment: setup objective function\n",
    "    bk = bukin()\n",
    "    exp.set_objective(bk)\n",
    "    exp.set_optimizer(optimizer)\n",
    "\n",
    "    # Multiple experiment: setup one expreiment\n",
    "    mexps.set_single_exp(exp)\n",
    "    # Multiple experiments: setup sample zone of multiple experiments\n",
    "    zoneParas = {'origin': np.array([-15,-15]),\n",
    "             'edge': np.array([30, 30]),\n",
    "             'step': 10,\n",
    "             'size': 10,\n",
    "             'sym': False}\n",
    "    mexps.set_sample_zone(zoneParas)\n",
    "\n",
    "    data = mexps.do()\n",
    "    \n",
    "    print(\"avg probility of converge: \", data['res'].mean())\n",
    "    print(\"avg func value: \", data['cost'].mean())\n",
    "    print(\"avg evals per exp: \", data['evals'].mean())\n",
    "    print(\"\\n\")\n",
    "    return data"
   ]
  },
  {
   "cell_type": "markdown",
   "metadata": {},
   "source": [
    "## no optimisation"
   ]
  },
  {
   "cell_type": "code",
   "execution_count": 4,
   "metadata": {},
   "outputs": [
    {
     "name": "stdout",
     "output_type": "stream",
     "text": [
      "avg probility of converge:  0.0\n",
      "avg func value:  260.01946408646216\n",
      "avg evals per exp:  1.0\n",
      "\n",
      "\n",
      "CPU times: user 6.27 ms, sys: 2.04 ms, total: 8.31 ms\n",
      "Wall time: 6.55 ms\n"
     ]
    }
   ],
   "source": [
    "dn = do_nothing(verbose=False)\n",
    "%time data = compare_efficiency_bukin(dn, seed=SEED)"
   ]
  },
  {
   "cell_type": "code",
   "execution_count": 5,
   "metadata": {},
   "outputs": [
    {
     "data": {
      "text/plain": [
       "0.0007277777777777778"
      ]
     },
     "execution_count": 5,
     "metadata": {},
     "output_type": "execute_result"
    }
   ],
   "source": [
    "0.0655 / 90 "
   ]
  },
  {
   "cell_type": "markdown",
   "metadata": {},
   "source": [
    "## adam + bukin func"
   ]
  },
  {
   "cell_type": "code",
   "execution_count": 35,
   "metadata": {},
   "outputs": [
    {
     "name": "stdout",
     "output_type": "stream",
     "text": [
      "avg probility of converge:  0.0\n",
      "avg func value:  11.362796385278592\n",
      "avg evals per exp:  7224.9\n",
      "\n",
      "\n",
      "CPU times: user 21 s, sys: 210 ms, total: 21.2 s\n",
      "Wall time: 21.7 s\n"
     ]
    }
   ],
   "source": [
    "ad = adam()\n",
    "%time data = compare_efficiency_bukin(ad, seed=SEED)"
   ]
  },
  {
   "cell_type": "code",
   "execution_count": 36,
   "metadata": {},
   "outputs": [
    {
     "data": {
      "text/plain": [
       "3.3376399655469424e-05"
      ]
     },
     "execution_count": 36,
     "metadata": {},
     "output_type": "execute_result"
    }
   ],
   "source": [
    "21.7 / 90 / 7224"
   ]
  },
  {
   "cell_type": "markdown",
   "metadata": {},
   "source": [
    "## line search + bukin"
   ]
  },
  {
   "cell_type": "code",
   "execution_count": 12,
   "metadata": {},
   "outputs": [
    {
     "name": "stdout",
     "output_type": "stream",
     "text": [
      "avg probility of converge:  0.4555555555555555\n",
      "avg func value:  0.12478531793284657\n",
      "avg evals per exp:  2088.988888888889\n",
      "\n",
      "\n",
      "CPU times: user 1.96 s, sys: 13.2 ms, total: 1.98 s\n",
      "Wall time: 2 s\n"
     ]
    }
   ],
   "source": [
    "ls = line_search()\n",
    "optmizerParas = {'x0': np.zeros((2,)),\n",
    "         'alpha': 1,\n",
    "         'beta': 0.1, \n",
    "         'max_iter': 1000,\n",
    "         'tol': 1e-2,              \n",
    "         'verbose': False,\n",
    "         'record': False}\n",
    "ls.set_parameters(optmizerParas)\n",
    "\n",
    "%time data_ls_bk = compare_efficiency_bukin(ls, seed=SEED)"
   ]
  },
  {
   "cell_type": "code",
   "execution_count": 39,
   "metadata": {},
   "outputs": [
    {
     "data": {
      "text/plain": [
       "{'x': array([[-15.,  -5.,   5.],\n",
       "        [-15.,  -5.,   5.],\n",
       "        [-15.,  -5.,   5.]]),\n",
       " 'y': array([[  5.,   5.,   5.],\n",
       "        [ -5.,  -5.,  -5.],\n",
       "        [-15., -15., -15.]]),\n",
       " 'mask': array([[0, 0, 0],\n",
       "        [0, 0, 0],\n",
       "        [0, 0, 0]], dtype=uint8),\n",
       " 'res': array([[1. , 0.6, 0. ],\n",
       "        [1. , 0.3, 0. ],\n",
       "        [1. , 0.2, 0. ]]),\n",
       " 'cost': array([[0.04252106, 0.10433405, 0.24025312],\n",
       "        [0.02799697, 0.11619172, 0.20358712],\n",
       "        [0.02977672, 0.12432748, 0.23407963]]),\n",
       " 'evals': array([[2088.7, 2093.5, 2084.5],\n",
       "        [2087.2, 2095.1, 2086.3],\n",
       "        [2087.7, 2092.9, 2085. ]])}"
      ]
     },
     "execution_count": 39,
     "metadata": {},
     "output_type": "execute_result"
    }
   ],
   "source": [
    "data_ls_bk"
   ]
  },
  {
   "cell_type": "code",
   "execution_count": 31,
   "metadata": {},
   "outputs": [
    {
     "data": {
      "text/plain": [
       "9.573958831977022e-06"
      ]
     },
     "execution_count": 31,
     "metadata": {},
     "output_type": "execute_result"
    }
   ],
   "source": [
    "1.8 / 2089 / 90"
   ]
  },
  {
   "cell_type": "markdown",
   "metadata": {},
   "source": [
    "## original cma + bukin"
   ]
  },
  {
   "cell_type": "code",
   "execution_count": 3,
   "metadata": {},
   "outputs": [
    {
     "name": "stdout",
     "output_type": "stream",
     "text": [
      "diverge, concentrate in low dimension manifold\n",
      "diverge, concentrate in low dimension manifold\n",
      "diverge, concentrate in low dimension manifold\n",
      "diverge, concentrate in low dimension manifold\n",
      "diverge, concentrate in low dimension manifold\n",
      "diverge, concentrate in low dimension manifold\n",
      "avg probility of converge:  0.0\n",
      "avg func value:  0.9873887672079006\n",
      "avg evals per exp:  2389.3999999999996\n",
      "\n",
      "\n",
      "CPU times: user 12.5 s, sys: 67.1 ms, total: 12.6 s\n",
      "Wall time: 12.7 s\n"
     ]
    }
   ],
   "source": [
    "cma = cma_es()\n",
    "paras = {'x0': np.zeros((2,)),\n",
    "         'std': np.ones((2,)) * 0.003, \n",
    "         'tol': 1e-5, \n",
    "         'adjust_func': do_nothing(), \n",
    "         'record': False, \n",
    "         'verbose': False}\n",
    "cma.set_parameters(paras)\n",
    "%time data = compare_efficiency_bukin(cma, seed=SEED)"
   ]
  },
  {
   "cell_type": "code",
   "execution_count": 4,
   "metadata": {},
   "outputs": [
    {
     "data": {
      "text/plain": [
       "{'x': array([[-15.,  -5.,   5.],\n",
       "        [-15.,  -5.,   5.],\n",
       "        [-15.,  -5.,   5.]]),\n",
       " 'y': array([[  5.,   5.,   5.],\n",
       "        [ -5.,  -5.,  -5.],\n",
       "        [-15., -15., -15.]]),\n",
       " 'mask': array([[0, 0, 0],\n",
       "        [0, 0, 0],\n",
       "        [0, 0, 0]], dtype=uint8),\n",
       " 'res': array([[0., 0., 0.],\n",
       "        [0., 0., 0.],\n",
       "        [0., 0., 0.]]),\n",
       " 'cost': array([[0.42778181, 0.25823846, 3.38802278],\n",
       "        [1.12686907, 0.26793981, 0.87462486],\n",
       "        [0.8038382 , 1.57245936, 0.16672455]]),\n",
       " 'evals': array([[2398.8, 2397.6, 2385.6],\n",
       "        [2399.4, 2400. , 2400. ],\n",
       "        [2332.2, 2400. , 2391. ]])}"
      ]
     },
     "execution_count": 4,
     "metadata": {},
     "output_type": "execute_result"
    }
   ],
   "source": [
    "data"
   ]
  },
  {
   "cell_type": "code",
   "execution_count": 5,
   "metadata": {},
   "outputs": [
    {
     "data": {
      "text/plain": [
       "5.90670201385982e-05"
      ]
     },
     "execution_count": 5,
     "metadata": {},
     "output_type": "execute_result"
    }
   ],
   "source": [
    "12.7 / 90 / 2389"
   ]
  },
  {
   "cell_type": "markdown",
   "metadata": {},
   "source": [
    "## line-search-cma + bukin"
   ]
  },
  {
   "cell_type": "code",
   "execution_count": null,
   "metadata": {},
   "outputs": [],
   "source": [
    "cma = cma_es()\n",
    "paras = {'x0': np.zeros((2,)),\n",
    "         'std': np.ones((2,)) * 0.003, \n",
    "         'tol': 1e-5, \n",
    "         'adjust_func': line_search(alpha=1e-5, beta=2e-5), \n",
    "         'record': False, \n",
    "         'verbose': True}\n",
    "cma.set_parameters(paras)\n",
    "%time data = compare_efficiency_bukin(cma, seed=SEED)"
   ]
  },
  {
   "cell_type": "code",
   "execution_count": 6,
   "metadata": {
    "scrolled": true
   },
   "outputs": [
    {
     "data": {
      "text/plain": [
       "{'x': array([[-15.,  -5.,   5.],\n",
       "        [-15.,  -5.,   5.],\n",
       "        [-15.,  -5.,   5.]]),\n",
       " 'y': array([[  5.,   5.,   5.],\n",
       "        [ -5.,  -5.,  -5.],\n",
       "        [-15., -15., -15.]]),\n",
       " 'mask': array([[0, 0, 0],\n",
       "        [0, 0, 0],\n",
       "        [0, 0, 0]], dtype=uint8),\n",
       " 'res': array([[1. , 0.9, 1. ],\n",
       "        [1. , 0.9, 1. ],\n",
       "        [1. , 1. , 0.9]]),\n",
       " 'cost': array([[3.27603230e-06, 2.61121374e+00, 2.27950007e-04],\n",
       "        [2.51539799e-06, 9.63918122e+01, 2.42287062e-06],\n",
       "        [3.09460454e-06, 9.44530163e-07, 1.93736556e+00]]),\n",
       " 'evals': array([[265629.5, 218364. , 283121.4],\n",
       "        [236491.8, 262611.5, 317096.7],\n",
       "        [212104.4, 215871.8, 383664.2]])}"
      ]
     },
     "execution_count": 6,
     "metadata": {},
     "output_type": "execute_result"
    }
   ],
   "source": [
    "data"
   ]
  },
  {
   "cell_type": "code",
   "execution_count": null,
   "metadata": {},
   "outputs": [],
   "source": [
    "## one case of diverge"
   ]
  },
  {
   "cell_type": "markdown",
   "metadata": {},
   "source": [
    "*******starting optimisation from intitial mean:  [-2.07243989 -0.3797777 ]\n",
    "\n",
    "diverge, raise LinAlgError!\n",
    "\n",
    "eigenvalue of variance = [       nan 0.00019923]\n",
    "\n",
    "total iterations = 75, total evaluatios = 99531\n",
    "\n",
    "found minimum position = [-203.29567204  320.75917861], found minimum = 963.8691504042331\n",
    "\n",
    "Result:  diverge\n",
    "\n",
    "found minimum: 963.8691504042331, minimum position: [-203.29567204  320.75917861], evals: 99531"
   ]
  },
  {
   "cell_type": "code",
   "execution_count": null,
   "metadata": {},
   "outputs": [],
   "source": [
    "## one case of not converge"
   ]
  },
  {
   "cell_type": "markdown",
   "metadata": {},
   "source": [
    "*******starting optimisation from intitial mean:  [ 5.26336317 -8.49785954]\n",
    "\n",
    "eigenvalue of variance = [5.14172784e-12 9.15848313e-11]\n",
    "\n",
    "total iterations = 400, total evaluatios = 539221\n",
    "\n",
    "found minimum position = [-12.49672561   1.52424477], found minimum = 19.37354450370227\n",
    "\n",
    "Result:  local minimum\n",
    "\n",
    "found minimum: 19.37354450370227, minimum position: [-12.49672561   1.52424477], evals: 539221\n"
   ]
  },
  {
   "cell_type": "code",
   "execution_count": 11,
   "metadata": {},
   "outputs": [
    {
     "data": {
      "text/plain": [
       "4.0033907020675074e-05"
      ]
     },
     "execution_count": 11,
     "metadata": {},
     "output_type": "execute_result"
    }
   ],
   "source": [
    "data['cost'][data['cost'] < 1 ].mean()"
   ]
  },
  {
   "cell_type": "code",
   "execution_count": 7,
   "metadata": {},
   "outputs": [
    {
     "data": {
      "text/plain": [
       "1.1691247514566042e-05"
      ]
     },
     "execution_count": 7,
     "metadata": {},
     "output_type": "execute_result"
    }
   ],
   "source": [
    "280 / 90 / 266106"
   ]
  },
  {
   "cell_type": "markdown",
   "metadata": {},
   "source": [
    "## adam CMA + bukin"
   ]
  },
  {
   "cell_type": "code",
   "execution_count": 35,
   "metadata": {},
   "outputs": [
    {
     "name": "stdout",
     "output_type": "stream",
     "text": [
      "avg probility of converge:  0.0\n",
      "avg func value:  1.4041556031468763\n",
      "avg evals per exp:  22648.088888888888\n",
      "\n",
      "\n",
      "CPU times: user 1min, sys: 236 ms, total: 1min\n",
      "Wall time: 1min 1s\n"
     ]
    }
   ],
   "source": [
    "ad = adam()\n",
    "optmizerParas = {'x0': np.zeros((2,)),\n",
    "         'alpha': 0.0001,\n",
    "         'beta_1': 0.9, \n",
    "         'beta_2': 0.999, \n",
    "         'epsilon': 1e-8, \n",
    "         'max_iter': 10,\n",
    "         'tol': 1e-2,              \n",
    "         'verbose': False,\n",
    "         'record': False}\n",
    "ad.set_parameters(optmizerParas)\n",
    "cma = cma_es()\n",
    "paras = {'x0': np.zeros((2,)),\n",
    "         'std': np.ones((2,)) * 0.003, \n",
    "         'tol': 1e-5, \n",
    "         'adjust_func': ad, \n",
    "         'record': False, \n",
    "         'verbose': False}\n",
    "cma.set_parameters(paras)\n",
    "%time data = compare_efficiency_bukin(cma, seed=SEED + 11212)"
   ]
  },
  {
   "cell_type": "code",
   "execution_count": 29,
   "metadata": {},
   "outputs": [
    {
     "data": {
      "text/plain": [
       "3.1788605771618734e-05"
      ]
     },
     "execution_count": 29,
     "metadata": {},
     "output_type": "execute_result"
    }
   ],
   "source": [
    "64 / 90 / 22370"
   ]
  },
  {
   "cell_type": "markdown",
   "metadata": {},
   "source": [
    "## summary of bukin\n",
    "| -- | Adam | line search(large max_iter)  | CMA | line-search CMA | Adam CMA | no optimisation\n",
    "| -- | -- | -- | -- | -- | -- | -- |\n",
    "| #experiments| 90 experiments | 90 experiments | 90 experiments | 90 experiments | 90 experiments | 90 experiments |\n",
    "| total time | 21.7 s | 1.8 s | 12.7 s | 263 s | 64 s | 0.007 s |\n",
    "| evalutaions per exp | 7.2 k evals |  2.1 k evals | 2.4 k evals | 266 k evals  | 22.4 k evals | 0.001 k evals\n",
    "| cost | 11.36 | 0.12 | 0.99 | 11.22 (4e-5) | 0.89 | 260 |\n",
    "| prob | 0 | 46% | 0 | 97% | 0 | 0 | "
   ]
  },
  {
   "cell_type": "markdown",
   "metadata": {},
   "source": [
    "# 3. Tuned Ackley"
   ]
  },
  {
   "cell_type": "code",
   "execution_count": 28,
   "metadata": {},
   "outputs": [],
   "source": [
    "def compare_efficiency_tunned_ackley(optimizer, seed):\n",
    "    np.random.seed(seed)\n",
    "\n",
    "    # init multiple experiments\n",
    "    mexps = multiple_experiment()\n",
    "\n",
    "    # init and setup one experiment\n",
    "    exp = single_experiment()\n",
    "    # One experiment: setup objective function\n",
    "    tak = tuned_ackley()\n",
    "    exp.set_objective(tak)\n",
    "    exp.set_optimizer(optimizer)\n",
    "\n",
    "    # Multiple experiment: setup one expreiment\n",
    "    mexps.set_single_exp(exp)\n",
    "    # Multiple experiments: setup sample zone of multiple experiments\n",
    "    zoneParas = {'origin': np.array([0, 0]),\n",
    "             'edge': np.array([20, 20]),\n",
    "             'step': 4,\n",
    "             'size': 10,\n",
    "             'sym': True}\n",
    "    mexps.set_sample_zone(zoneParas)\n",
    "\n",
    "    data = mexps.do()\n",
    "    num = zoneParas['edge'][0] / zoneParas['step']\n",
    "    num = (num + 1) * num / 2\n",
    "    print(\"avg probility of converge: \", data['res'].sum() / num)\n",
    "    print(\"avg func value: \", data['cost'].sum() / num)\n",
    "    print(\"avg evals per exp: \", data['evals'].sum() / num)\n",
    "    print(\"\\n\")\n",
    "    return data"
   ]
  },
  {
   "cell_type": "code",
   "execution_count": 21,
   "metadata": {},
   "outputs": [
    {
     "name": "stderr",
     "output_type": "stream",
     "text": [
      "/Users/huajian/Non-convex/library/objective_function.py:75: UserWarning:\n",
      "\n",
      "Matplotlib is currently using module://ipykernel.pylab.backend_inline, which is a non-GUI backend, so cannot show the figure.\n",
      "\n"
     ]
    },
    {
     "data": {
      "image/png": "[encoded data removed]",
      "text/plain": [
       "<Figure size 288x288 with 1 Axes>"
      ]
     },
     "metadata": {
      "needs_background": "light"
     },
     "output_type": "display_data"
    }
   ],
   "source": [
    "tuned_ackley().visualise2d_section(0, 'x')"
   ]
  },
  {
   "cell_type": "markdown",
   "metadata": {},
   "source": [
    "## no optimisation"
   ]
  },
  {
   "cell_type": "code",
   "execution_count": 22,
   "metadata": {},
   "outputs": [
    {
     "name": "stdout",
     "output_type": "stream",
     "text": [
      "avg probility of converge:  0.0\n",
      "avg func value:  18.351217369003276\n",
      "avg evals per exp:  1.0\n",
      "\n",
      "\n",
      "CPU times: user 11.3 ms, sys: 3.19 ms, total: 14.5 ms\n",
      "Wall time: 11.8 ms\n"
     ]
    }
   ],
   "source": [
    "no = do_nothing()\n",
    "%time data = compare_efficiency_tunned_ackley(no, seed=SEED)"
   ]
  },
  {
   "cell_type": "code",
   "execution_count": 23,
   "metadata": {},
   "outputs": [
    {
     "data": {
      "text/plain": [
       "7.866666666666666e-05"
      ]
     },
     "execution_count": 23,
     "metadata": {},
     "output_type": "execute_result"
    }
   ],
   "source": [
    "0.0118 / 150"
   ]
  },
  {
   "cell_type": "markdown",
   "metadata": {},
   "source": [
    "## adam + tuned ackley"
   ]
  },
  {
   "cell_type": "code",
   "execution_count": 29,
   "metadata": {},
   "outputs": [
    {
     "name": "stdout",
     "output_type": "stream",
     "text": [
      "avg probility of converge:  0.2\n",
      "avg func value:  15.082240830655659\n",
      "avg evals per exp:  121.72\n",
      "\n",
      "\n",
      "CPU times: user 822 ms, sys: 12.8 ms, total: 835 ms\n",
      "Wall time: 835 ms\n"
     ]
    }
   ],
   "source": [
    "ad = adam(verbose=False)\n",
    "%time data = compare_efficiency_tunned_ackley(ad, seed=SEED)"
   ]
  },
  {
   "cell_type": "code",
   "execution_count": 31,
   "metadata": {},
   "outputs": [
    {
     "data": {
      "text/plain": [
       "4.52892561983471e-05"
      ]
     },
     "execution_count": 31,
     "metadata": {},
     "output_type": "execute_result"
    }
   ],
   "source": [
    "0.822 / 121 / 150"
   ]
  },
  {
   "cell_type": "code",
   "execution_count": 30,
   "metadata": {},
   "outputs": [
    {
     "data": {
      "text/plain": [
       "{'x': array([[ 0.,  0.,  0.,  0., 16.],\n",
       "        [ 0.,  0.,  0., 12., 16.],\n",
       "        [ 0.,  0.,  8., 12., 16.],\n",
       "        [ 0.,  4.,  8., 12., 16.],\n",
       "        [ 0.,  4.,  8., 12., 16.]]),\n",
       " 'y': array([[ 0.,  0.,  0.,  0., 16.],\n",
       "        [ 0.,  0.,  0., 12., 12.],\n",
       "        [ 0.,  0.,  8.,  8.,  8.],\n",
       "        [ 0.,  4.,  4.,  4.,  4.],\n",
       "        [ 0.,  0.,  0.,  0.,  0.]]),\n",
       " 'mask': array([[1, 1, 1, 1, 0],\n",
       "        [1, 1, 1, 0, 0],\n",
       "        [1, 1, 0, 0, 0],\n",
       "        [1, 0, 0, 0, 0],\n",
       "        [0, 0, 0, 0, 0]], dtype=uint8),\n",
       " 'res': array([[0. , 0. , 0. , 0. , 0. ],\n",
       "        [0. , 0. , 0. , 0. , 0. ],\n",
       "        [0. , 0. , 0. , 0. , 0. ],\n",
       "        [0. , 0.8, 0. , 0. , 0. ],\n",
       "        [1. , 1. , 0.2, 0. , 0. ]]),\n",
       " 'cost': array([[ 0.        ,  0.        ,  0.        ,  0.        , 50.        ],\n",
       "        [ 0.        ,  0.        ,  0.        ,  8.45234363, 45.83414631],\n",
       "        [ 0.        ,  0.        , 14.69570773, 11.92313093, 16.65887943],\n",
       "        [ 0.        ,  2.98882763, 14.77833665, 13.8746298 , 10.40027029],\n",
       "        [ 0.05242353,  0.0848    , 11.05951167, 14.21714659, 11.21345826]]),\n",
       " 'evals': array([[  0. ,   0. ,   0. ,   0. ,   1. ],\n",
       "        [  0. ,   0. ,   0. ,  56.9,   7.7],\n",
       "        [  0. ,   0. ,  42.1,  52.7,  35.5],\n",
       "        [  0. , 420. ,  47.5,  57.1,  50.7],\n",
       "        [234.1, 497.7, 204.7,  65.1,  53. ]])}"
      ]
     },
     "execution_count": 30,
     "metadata": {},
     "output_type": "execute_result"
    }
   ],
   "source": [
    "data"
   ]
  },
  {
   "cell_type": "markdown",
   "metadata": {},
   "source": [
    "## line search + tuned ackley"
   ]
  },
  {
   "cell_type": "code",
   "execution_count": 32,
   "metadata": {},
   "outputs": [
    {
     "name": "stdout",
     "output_type": "stream",
     "text": [
      "avg probility of converge:  0.26666666666666666\n",
      "avg func value:  13.302264371883025\n",
      "avg evals per exp:  312.38666666666666\n",
      "\n",
      "\n",
      "CPU times: user 909 ms, sys: 20.9 ms, total: 930 ms\n",
      "Wall time: 919 ms\n"
     ]
    }
   ],
   "source": [
    "ls = line_search()\n",
    "%time data = compare_efficiency_tunned_ackley(ls, seed=SEED)"
   ]
  },
  {
   "cell_type": "code",
   "execution_count": 33,
   "metadata": {},
   "outputs": [
    {
     "data": {
      "text/plain": [
       "1.9636752136752138e-05"
      ]
     },
     "execution_count": 33,
     "metadata": {},
     "output_type": "execute_result"
    }
   ],
   "source": [
    "0.919 / 312 / 150"
   ]
  },
  {
   "cell_type": "code",
   "execution_count": 34,
   "metadata": {},
   "outputs": [
    {
     "data": {
      "text/plain": [
       "{'x': array([[ 0.,  0.,  0.,  0., 16.],\n",
       "        [ 0.,  0.,  0., 12., 16.],\n",
       "        [ 0.,  0.,  8., 12., 16.],\n",
       "        [ 0.,  4.,  8., 12., 16.],\n",
       "        [ 0.,  4.,  8., 12., 16.]]),\n",
       " 'y': array([[ 0.,  0.,  0.,  0., 16.],\n",
       "        [ 0.,  0.,  0., 12., 12.],\n",
       "        [ 0.,  0.,  8.,  8.,  8.],\n",
       "        [ 0.,  4.,  4.,  4.,  4.],\n",
       "        [ 0.,  0.,  0.,  0.,  0.]]),\n",
       " 'mask': array([[1, 1, 1, 1, 0],\n",
       "        [1, 1, 1, 0, 0],\n",
       "        [1, 1, 0, 0, 0],\n",
       "        [1, 0, 0, 0, 0],\n",
       "        [0, 0, 0, 0, 0]], dtype=uint8),\n",
       " 'res': array([[0. , 0. , 0. , 0. , 0. ],\n",
       "        [0. , 0. , 0. , 0. , 0. ],\n",
       "        [0. , 0. , 0. , 0. , 0. ],\n",
       "        [0. , 1. , 0.1, 0. , 0. ],\n",
       "        [1. , 1. , 0.9, 0. , 0. ]]),\n",
       " 'cost': array([[0.00000000e+00, 0.00000000e+00, 0.00000000e+00, 0.00000000e+00,\n",
       "         5.00000000e+01],\n",
       "        [0.00000000e+00, 0.00000000e+00, 0.00000000e+00, 7.75027168e+00,\n",
       "         4.58193259e+01],\n",
       "        [0.00000000e+00, 0.00000000e+00, 1.46091882e+01, 1.10650532e+01,\n",
       "         1.14799717e+01],\n",
       "        [0.00000000e+00, 1.06581410e-15, 1.33444053e+01, 1.32319493e+01,\n",
       "         7.69728257e+00],\n",
       "        [1.06581410e-15, 3.55271368e-16, 1.49674332e+00, 1.31829514e+01,\n",
       "         9.85682292e+00]]),\n",
       " 'evals': array([[   0. ,    0. ,    0. ,    0. ,    5. ],\n",
       "        [   0. ,    0. ,    0. ,   66.1,    8.8],\n",
       "        [   0. ,    0. ,   18. ,   33.4,   40.6],\n",
       "        [   0. ,  984. ,  143.7,   21.3,   49.9],\n",
       "        [ 984. , 1178. , 1053.1,   47.1,   52.8]])}"
      ]
     },
     "execution_count": 34,
     "metadata": {},
     "output_type": "execute_result"
    }
   ],
   "source": [
    "data"
   ]
  },
  {
   "cell_type": "markdown",
   "metadata": {},
   "source": [
    "## CMA + tuned ackley"
   ]
  },
  {
   "cell_type": "code",
   "execution_count": 35,
   "metadata": {},
   "outputs": [
    {
     "name": "stderr",
     "output_type": "stream",
     "text": [
      "/Users/huajian/Non-convex/library/optimiser.py:166: RuntimeWarning:\n",
      "\n",
      "invalid value encountered in sqrt\n",
      "\n",
      "/Users/huajian/miniconda3/envs/ada/lib/python3.7/site-packages/numpy/core/fromnumeric.py:83: RuntimeWarning:\n",
      "\n",
      "invalid value encountered in reduce\n",
      "\n",
      "/Users/huajian/Non-convex/library/optimiser.py:58: RuntimeWarning:\n",
      "\n",
      "invalid value encountered in less\n",
      "\n",
      "/Users/huajian/Non-convex/library/optimiser.py:61: RuntimeWarning:\n",
      "\n",
      "invalid value encountered in less\n",
      "\n"
     ]
    },
    {
     "name": "stdout",
     "output_type": "stream",
     "text": [
      "diverge, raise LinAlgError!\n",
      "avg probility of converge:  0.4666666666666667\n",
      "avg func value:  4.039800380234636\n",
      "avg evals per exp:  460.5200000000001\n",
      "\n",
      "\n",
      "CPU times: user 4.66 s, sys: 39.1 ms, total: 4.7 s\n",
      "Wall time: 4.78 s\n"
     ]
    }
   ],
   "source": [
    "cma = cma_es()\n",
    "%time data = compare_efficiency_tunned_ackley(cma, seed=SEED)"
   ]
  },
  {
   "cell_type": "code",
   "execution_count": 36,
   "metadata": {},
   "outputs": [
    {
     "data": {
      "text/plain": [
       "6.920014477017735e-05"
      ]
     },
     "execution_count": 36,
     "metadata": {},
     "output_type": "execute_result"
    }
   ],
   "source": [
    "4.78 / 460.5 / 150"
   ]
  },
  {
   "cell_type": "code",
   "execution_count": 9,
   "metadata": {},
   "outputs": [
    {
     "data": {
      "text/plain": [
       "{'x': array([[ 0.,  0.,  0., 15.],\n",
       "        [ 0.,  0., 10., 15.],\n",
       "        [ 0.,  5., 10., 15.],\n",
       "        [ 0.,  5., 10., 15.]]),\n",
       " 'y': array([[ 0.,  0.,  0., 15.],\n",
       "        [ 0.,  0., 10., 10.],\n",
       "        [ 0.,  5.,  5.,  5.],\n",
       "        [ 0.,  0.,  0.,  0.]]),\n",
       " 'mask': array([[1, 1, 1, 0],\n",
       "        [1, 1, 0, 0],\n",
       "        [1, 0, 0, 0],\n",
       "        [0, 0, 0, 0]], dtype=uint8),\n",
       " 'res': array([[0. , 0. , 0. , 0.3],\n",
       "        [0. , 0. , 0. , 0.1],\n",
       "        [0. , 0.7, 0.4, 0.2],\n",
       "        [1. , 1. , 0.6, 0. ]]),\n",
       " 'cost': array([[0.00000000e+00, 0.00000000e+00, 0.00000000e+00, 4.67788320e+00],\n",
       "        [0.00000000e+00, 0.00000000e+00, 5.37878028e+00, 5.01785999e+00],\n",
       "        [0.00000000e+00, 1.63145800e+00, 3.51508469e+00, 9.01399769e+00],\n",
       "        [4.36048074e-06, 5.85806498e-06, 2.20453001e+00, 4.81041004e+00]]),\n",
       " 'evals': array([[  0. ,   0. ,   0. , 535.8],\n",
       "        [  0. ,   0. , 293.4, 510. ],\n",
       "        [  0. , 451.8, 390. , 799.2],\n",
       "        [403.2, 438.6, 450. , 504. ]])}"
      ]
     },
     "execution_count": 9,
     "metadata": {},
     "output_type": "execute_result"
    }
   ],
   "source": [
    "data"
   ]
  },
  {
   "cell_type": "markdown",
   "metadata": {},
   "source": [
    "## line search-CMA + tuned Ackley"
   ]
  },
  {
   "cell_type": "code",
   "execution_count": 44,
   "metadata": {},
   "outputs": [
    {
     "name": "stdout",
     "output_type": "stream",
     "text": [
      "diverge, raise LinAlgError!\n",
      "avg probility of converge:  0.62\n",
      "avg func value:  3.572309504005057\n",
      "avg evals per exp:  26086.960000000003\n",
      "\n",
      "\n",
      "CPU times: user 1min 18s, sys: 519 ms, total: 1min 19s\n",
      "Wall time: 1min 20s\n"
     ]
    }
   ],
   "source": [
    "ls = line_search()\n",
    "cma = setup_compsite_cma(ls)\n",
    "%time data_ls = compare_efficiency_tunned_ackley(cma, seed=SEED)"
   ]
  },
  {
   "cell_type": "code",
   "execution_count": 38,
   "metadata": {},
   "outputs": [
    {
     "data": {
      "text/plain": [
       "1.9621693744604034e-05"
      ]
     },
     "execution_count": 38,
     "metadata": {},
     "output_type": "execute_result"
    }
   ],
   "source": [
    "75 / 150 / 25482"
   ]
  },
  {
   "cell_type": "code",
   "execution_count": 45,
   "metadata": {},
   "outputs": [
    {
     "data": {
      "text/plain": [
       "{'x': array([[ 0.,  0.,  0.,  0., 16.],\n",
       "        [ 0.,  0.,  0., 12., 16.],\n",
       "        [ 0.,  0.,  8., 12., 16.],\n",
       "        [ 0.,  4.,  8., 12., 16.],\n",
       "        [ 0.,  4.,  8., 12., 16.]]),\n",
       " 'y': array([[ 0.,  0.,  0.,  0., 16.],\n",
       "        [ 0.,  0.,  0., 12., 12.],\n",
       "        [ 0.,  0.,  8.,  8.,  8.],\n",
       "        [ 0.,  4.,  4.,  4.,  4.],\n",
       "        [ 0.,  0.,  0.,  0.,  0.]]),\n",
       " 'mask': array([[1, 1, 1, 1, 0],\n",
       "        [1, 1, 1, 0, 0],\n",
       "        [1, 1, 0, 0, 0],\n",
       "        [1, 0, 0, 0, 0],\n",
       "        [0, 0, 0, 0, 0]], dtype=uint8),\n",
       " 'res': array([[0. , 0. , 0. , 0. , 0.2],\n",
       "        [0. , 0. , 0. , 0.4, 0.5],\n",
       "        [0. , 0. , 1. , 0.1, 0.3],\n",
       "        [0. , 1. , 0.9, 0.6, 0.4],\n",
       "        [1. , 1. , 1. , 0.7, 0.2]]),\n",
       " 'cost': array([[ 0.        ,  0.        ,  0.        ,  0.        ,  3.64475747],\n",
       "        [ 0.        ,  0.        ,  0.        ,  2.71598595,  2.26332163],\n",
       "        [ 0.        ,  0.        ,  0.        ,  8.69740601,  3.26242175],\n",
       "        [ 0.        ,  0.        ,  0.45266433,  6.29479158,  7.20012006],\n",
       "        [ 0.        ,  0.        ,  0.        ,  5.92877152, 13.12440226]]),\n",
       " 'evals': array([[    0. ,     0. ,     0. ,     0. , 10715.7],\n",
       "        [    0. ,     0. ,     0. , 17364.5, 29278.3],\n",
       "        [    0. ,     0. , 34395.7, 24465.4, 11994.1],\n",
       "        [    0. , 28423.7, 32350.1, 39935.2, 23570.2],\n",
       "        [14330. , 17348.9, 31097.2, 29825.9, 46209.5]])}"
      ]
     },
     "execution_count": 45,
     "metadata": {},
     "output_type": "execute_result"
    }
   ],
   "source": [
    "data_ls"
   ]
  },
  {
   "cell_type": "markdown",
   "metadata": {},
   "source": [
    "## adam-CMA + tuned Ackley"
   ]
  },
  {
   "cell_type": "code",
   "execution_count": 39,
   "metadata": {},
   "outputs": [
    {
     "name": "stdout",
     "output_type": "stream",
     "text": [
      "avg probility of converge:  0.5399999999999999\n",
      "avg func value:  2.8546604586432265\n",
      "avg evals per exp:  14541.12\n",
      "\n",
      "\n",
      "CPU times: user 2min 6s, sys: 615 ms, total: 2min 7s\n",
      "Wall time: 2min 8s\n"
     ]
    }
   ],
   "source": [
    "ad = adam()\n",
    "cma = setup_compsite_cma(ad)\n",
    "%time data = compare_efficiency_tunned_ackley(cma, seed=SEED)"
   ]
  },
  {
   "cell_type": "code",
   "execution_count": 40,
   "metadata": {},
   "outputs": [
    {
     "data": {
      "text/plain": [
       "5.8684638837310596e-05"
      ]
     },
     "execution_count": 40,
     "metadata": {},
     "output_type": "execute_result"
    }
   ],
   "source": [
    "128 / 150 / 14541 "
   ]
  },
  {
   "cell_type": "code",
   "execution_count": 42,
   "metadata": {},
   "outputs": [
    {
     "data": {
      "text/plain": [
       "{'x': array([[ 0.,  0.,  0.,  0., 16.],\n",
       "        [ 0.,  0.,  0., 12., 16.],\n",
       "        [ 0.,  0.,  8., 12., 16.],\n",
       "        [ 0.,  4.,  8., 12., 16.],\n",
       "        [ 0.,  4.,  8., 12., 16.]]),\n",
       " 'y': array([[ 0.,  0.,  0.,  0., 16.],\n",
       "        [ 0.,  0.,  0., 12., 12.],\n",
       "        [ 0.,  0.,  8.,  8.,  8.],\n",
       "        [ 0.,  4.,  4.,  4.,  4.],\n",
       "        [ 0.,  0.,  0.,  0.,  0.]]),\n",
       " 'mask': array([[1, 1, 1, 1, 0],\n",
       "        [1, 1, 1, 0, 0],\n",
       "        [1, 1, 0, 0, 0],\n",
       "        [1, 0, 0, 0, 0],\n",
       "        [0, 0, 0, 0, 0]], dtype=uint8),\n",
       " 'res': array([[0. , 0. , 0. , 0. , 0.5],\n",
       "        [0. , 0. , 0. , 0.3, 0.4],\n",
       "        [0. , 0. , 0.4, 0.5, 0. ],\n",
       "        [0. , 1. , 1. , 0.4, 0.1],\n",
       "        [1. , 1. , 0.9, 0.4, 0.2]]),\n",
       " 'cost': array([[ 0.        ,  0.        ,  0.        ,  0.        , 11.48285301],\n",
       "        [ 0.        ,  0.        ,  0.        ,  3.42885823,  2.84012799],\n",
       "        [ 0.        ,  0.        ,  2.8628073 ,  2.45936091,  4.73647529],\n",
       "        [ 0.        ,  0.01649462,  0.01527494,  2.79359517,  4.44422456],\n",
       "        [ 0.017395  ,  0.01519209,  0.49083629,  3.1029896 ,  4.11342189]]),\n",
       " 'evals': array([[    0. ,     0. ,     0. ,     0. , 14246.6],\n",
       "        [    0. ,     0. ,     0. , 12631.2, 16437.3],\n",
       "        [    0. ,     0. , 14255.7, 15795.3,  7992.2],\n",
       "        [    0. , 18828.6, 20140.4, 13115.2, 10463.9],\n",
       "        [13333. , 16983.4, 18589.4, 13380.5, 11924.1]])}"
      ]
     },
     "execution_count": 42,
     "metadata": {},
     "output_type": "execute_result"
    }
   ],
   "source": [
    "data"
   ]
  },
  {
   "cell_type": "markdown",
   "metadata": {},
   "source": [
    "## summary on tuned ackley\n",
    "| --      | adam | line search | original CMA | line search - CMA | adam-CMA | no optimisation |\n",
    "| --      | --   |          -- | --           | --                |       -- |              -- |\n",
    "| #experiments | <td colspan=3>150 times of optimisation</td> \n",
    "|total time          |  0.8 s  | 0.9 s      |  4.7 s       |  75 s         |     128 s      |   0.012 s     |\n",
    "|evalutaions per exp | 0.12 k evals| 0.31 k evals| 0.46 k evals| 26.1 k evals | 14.5 k evals|   1 evals     |  \n",
    "|*performance*       |     --  | --           |          -- |            -- | --            | --            |\n",
    "|cost                | 15.1   |  13.3         |   4.0       |  3.6          |   2.9     |      18.35    |\n",
    "|probability         |  20%    |     27%      |    47%      |     62%       |    54%    |        0      | \n",
    " \n"
   ]
  },
  {
   "cell_type": "markdown",
   "metadata": {},
   "source": [
    "# 4.egg holder function"
   ]
  },
  {
   "cell_type": "code",
   "execution_count": 4,
   "metadata": {},
   "outputs": [],
   "source": [
    "def compare_efficiency_eggholder(optimizer, seed):\n",
    "    np.random.seed(seed)\n",
    "\n",
    "    # init multiple experiments\n",
    "    mexps = multiple_experiment()\n",
    "\n",
    "    # init and setup one experiment\n",
    "    exp = single_experiment()\n",
    "    # One experiment: setup objective function\n",
    "    egg = eggholder()\n",
    "    exp.set_objective(egg)\n",
    "    exp.set_optimizer(optimizer)\n",
    "\n",
    "    # Multiple experiment: setup one expreiment\n",
    "    mexps.set_single_exp(exp)\n",
    "    # Multiple experiments: setup sample zone of multiple experiments\n",
    "    zoneParas = {'origin': np.array([-550,-550]),\n",
    "             'edge': np.array([1100, 1100]),\n",
    "             'step': 220,\n",
    "             'size': 10,\n",
    "             'sym': False}\n",
    "    mexps.set_sample_zone(zoneParas)\n",
    "\n",
    "    data = mexps.do()\n",
    "    \n",
    "    print(\"avg probility of converge: \", data['res'].mean())\n",
    "    print(\"avg func value: \", data['cost'].mean())\n",
    "    print(\"avg evals per exp: \", data['evals'].mean())\n",
    "    print(\"\\n\")\n",
    "    return data"
   ]
  },
  {
   "cell_type": "markdown",
   "metadata": {},
   "source": [
    "## 1) no optimisation"
   ]
  },
  {
   "cell_type": "code",
   "execution_count": 50,
   "metadata": {},
   "outputs": [
    {
     "name": "stdout",
     "output_type": "stream",
     "text": [
      "avg probility of converge:  0.0\n",
      "avg func value:  940.7661800687855\n",
      "avg evals per exp:  1.0\n",
      "\n",
      "\n",
      "CPU times: user 18.1 ms, sys: 4.54 ms, total: 22.6 ms\n",
      "Wall time: 19.4 ms\n"
     ]
    }
   ],
   "source": [
    "no = do_nothing()\n",
    "%time data_no = compare_efficiency_eggholder(no, seed=SEED) "
   ]
  },
  {
   "cell_type": "code",
   "execution_count": 51,
   "metadata": {},
   "outputs": [
    {
     "data": {
      "text/plain": [
       "0.00012933333333333332"
      ]
     },
     "execution_count": 51,
     "metadata": {},
     "output_type": "execute_result"
    }
   ],
   "source": [
    "0.0194 / 150"
   ]
  },
  {
   "cell_type": "markdown",
   "metadata": {},
   "source": [
    "## 2) adam + eggholder"
   ]
  },
  {
   "cell_type": "code",
   "execution_count": 53,
   "metadata": {},
   "outputs": [
    {
     "name": "stdout",
     "output_type": "stream",
     "text": [
      "avg probility of converge:  0.0\n",
      "avg func value:  715.2890093030913\n",
      "avg evals per exp:  1567.9119999999998\n",
      "\n",
      "\n",
      "CPU times: user 15.5 s, sys: 114 ms, total: 15.6 s\n",
      "Wall time: 15.6 s\n"
     ]
    }
   ],
   "source": [
    "ad = adam()\n",
    "%time data_ad = compare_efficiency_eggholder(ad, seed=SEED)"
   ]
  },
  {
   "cell_type": "code",
   "execution_count": 55,
   "metadata": {},
   "outputs": [
    {
     "data": {
      "text/plain": [
       "6.63265306122449e-05"
      ]
     },
     "execution_count": 55,
     "metadata": {},
     "output_type": "execute_result"
    }
   ],
   "source": [
    "15.6 / 150 / 1568"
   ]
  },
  {
   "cell_type": "markdown",
   "metadata": {},
   "source": [
    "## 3) line search + eggholder"
   ]
  },
  {
   "cell_type": "code",
   "execution_count": 56,
   "metadata": {},
   "outputs": [
    {
     "name": "stdout",
     "output_type": "stream",
     "text": [
      "avg probility of converge:  0.0\n",
      "avg func value:  463.62860656254315\n",
      "avg evals per exp:  236.65200000000002\n",
      "\n",
      "\n",
      "CPU times: user 1.3 s, sys: 7.14 ms, total: 1.31 s\n",
      "Wall time: 1.31 s\n"
     ]
    }
   ],
   "source": [
    "ls = line_search()\n",
    "%time data_ls = compare_efficiency_eggholder(ls, seed=SEED)"
   ]
  },
  {
   "cell_type": "code",
   "execution_count": 59,
   "metadata": {},
   "outputs": [
    {
     "data": {
      "text/plain": [
       "3.684950773558369e-05"
      ]
     },
     "execution_count": 59,
     "metadata": {},
     "output_type": "execute_result"
    }
   ],
   "source": [
    "1.31 / 150 / 237"
   ]
  },
  {
   "cell_type": "markdown",
   "metadata": {},
   "source": [
    "## 4) CMA + eggholder "
   ]
  },
  {
   "cell_type": "code",
   "execution_count": 50,
   "metadata": {},
   "outputs": [
    {
     "name": "stdout",
     "output_type": "stream",
     "text": [
      "avg probility of converge:  0.0\n",
      "avg func value:  436.2934001737606\n",
      "avg evals per exp:  267.216\n",
      "\n",
      "\n",
      "CPU times: user 4.7 s, sys: 37.9 ms, total: 4.74 s\n",
      "Wall time: 4.86 s\n"
     ]
    }
   ],
   "source": [
    "cma = setup_compsite_cma(do_nothing())\n",
    "%time data_cma = compare_efficiency_eggholder(cma, seed=SEED)"
   ]
  },
  {
   "cell_type": "code",
   "execution_count": 10,
   "metadata": {},
   "outputs": [
    {
     "data": {
      "text/plain": [
       "0.00010822179732313576"
      ]
     },
     "execution_count": 10,
     "metadata": {},
     "output_type": "execute_result"
    }
   ],
   "source": [
    "8.49/ 150 / 523"
   ]
  },
  {
   "cell_type": "markdown",
   "metadata": {},
   "source": [
    "## 5) line-search-CMA + eggholder"
   ]
  },
  {
   "cell_type": "code",
   "execution_count": 46,
   "metadata": {},
   "outputs": [],
   "source": [
    "def setup_compsite_cma(inner_opt):\n",
    "    # One experiment: setup optimizer\n",
    "    cma = cma_es()\n",
    "    optmizerParas = {\n",
    "             'x0': np.zeros((2,)),\n",
    "             'std': np.ones((2,)) * 30, \n",
    "             'tol': 1e-1, \n",
    "             'adjust_func': inner_opt, \n",
    "             'record': False, \n",
    "             'verbose': False}\n",
    "    cma.set_parameters(optmizerParas)\n",
    "    return cma\n",
    "    "
   ]
  },
  {
   "cell_type": "code",
   "execution_count": null,
   "metadata": {},
   "outputs": [],
   "source": [
    "# large cma variance, small line search setpsize, loose stopping condition\n",
    "ls = line_search(alpha=0.1, beta=0.1)\n",
    "cma = setup_compsite_cma(ls)\n",
    "%time data_ls_cma = compare_efficiency_eggholder(cma, seed=SEED)"
   ]
  },
  {
   "cell_type": "code",
   "execution_count": 25,
   "metadata": {},
   "outputs": [
    {
     "data": {
      "text/plain": [
       "4.128149556961092e-05"
      ]
     },
     "execution_count": 25,
     "metadata": {},
     "output_type": "execute_result"
    }
   ],
   "source": [
    "280 / 45218 / 150"
   ]
  },
  {
   "cell_type": "code",
   "execution_count": 24,
   "metadata": {},
   "outputs": [
    {
     "data": {
      "text/plain": [
       "{'x': array([[-550., -330., -110.,  110.,  330.],\n",
       "        [-550., -330., -110.,  110.,  330.],\n",
       "        [-550., -330., -110.,  110.,  330.],\n",
       "        [-550., -330., -110.,  110.,  330.],\n",
       "        [-550., -330., -110.,  110.,  330.]]),\n",
       " 'y': array([[ 330.,  330.,  330.,  330.,  330.],\n",
       "        [ 110.,  110.,  110.,  110.,  110.],\n",
       "        [-110., -110., -110., -110., -110.],\n",
       "        [-330., -330., -330., -330., -330.],\n",
       "        [-550., -550., -550., -550., -550.]]),\n",
       " 'mask': array([[0, 0, 0, 0, 0],\n",
       "        [0, 0, 0, 0, 0],\n",
       "        [0, 0, 0, 0, 0],\n",
       "        [0, 0, 0, 0, 0],\n",
       "        [0, 0, 0, 0, 0]], dtype=uint8),\n",
       " 'res': array([[0. , 0. , 0.3, 0.7, 0.9],\n",
       "        [0.1, 0. , 0.2, 0.2, 0. ],\n",
       "        [0. , 0. , 0.4, 0.1, 0.2],\n",
       "        [0. , 0.2, 0. , 0. , 0. ],\n",
       "        [0. , 0. , 0. , 0. , 0.1]]),\n",
       " 'cost': array([[ 81.60895545, 224.29653502, 265.69732137,  69.51083011,\n",
       "           8.75917247],\n",
       "        [524.94693656, 467.20570722, 349.18561231, 264.30542582,\n",
       "         341.23702067],\n",
       "        [519.7421098 , 459.64179191, 352.90743967, 491.46136034,\n",
       "         658.27431823],\n",
       "        [301.80862933, 232.93211664, 573.03099571, 390.50552885,\n",
       "         437.63044387],\n",
       "        [371.31280126, 204.47319519, 384.03929961, 259.15513926,\n",
       "         282.45016771]]),\n",
       " 'evals': array([[33125.7, 39916.8, 53799.1, 59791.8, 57009.5],\n",
       "        [41758. , 35276.7, 48549.8, 49921.2, 40250.1],\n",
       "        [45178.5, 54603.7, 60469.3, 45092.5, 40898.4],\n",
       "        [40910.3, 54047.8, 44011.4, 41237.2, 42854.4],\n",
       "        [38524.1, 42228.9, 38068.7, 39989.6, 42936.7]])}"
      ]
     },
     "execution_count": 24,
     "metadata": {},
     "output_type": "execute_result"
    }
   ],
   "source": [
    "data_ls_cma"
   ]
  },
  {
   "cell_type": "markdown",
   "metadata": {},
   "source": [
    "## 6) adam-line-search + eggholder"
   ]
  },
  {
   "cell_type": "code",
   "execution_count": 47,
   "metadata": {},
   "outputs": [
    {
     "name": "stdout",
     "output_type": "stream",
     "text": [
      "avg probility of converge:  0.012000000000000002\n",
      "avg func value:  428.42091861806017\n",
      "avg evals per exp:  266.952\n",
      "\n",
      "\n",
      "CPU times: user 7.92 s, sys: 47.7 ms, total: 7.96 s\n",
      "Wall time: 8.11 s\n"
     ]
    }
   ],
   "source": [
    "ad = adam()\n",
    "optmizerParas = {'x0': np.zeros((2,)),\n",
    "         'alpha': 0.00001,\n",
    "         'beta_1': 0.9, \n",
    "         'beta_2': 0.999, \n",
    "         'epsilon': 1e-8, \n",
    "         'max_iter': 1000,\n",
    "         'tol': 1e-1,              \n",
    "         'verbose': False,\n",
    "         'record': False}\n",
    "ad.set_parameters(optmizerParas)\n",
    "cma = setup_compsite_cma(ad)\n",
    "%time data_ad_cma = compare_efficiency_eggholder(cma, seed=SEED)"
   ]
  },
  {
   "cell_type": "code",
   "execution_count": 48,
   "metadata": {},
   "outputs": [
    {
     "data": {
      "text/plain": [
       "0.00020249687890137326"
      ]
     },
     "execution_count": 48,
     "metadata": {},
     "output_type": "execute_result"
    }
   ],
   "source": [
    "8.11 / 267 / 150"
   ]
  },
  {
   "cell_type": "code",
   "execution_count": 49,
   "metadata": {},
   "outputs": [
    {
     "data": {
      "text/plain": [
       "{'x': array([[-550., -330., -110.,  110.,  330.],\n",
       "        [-550., -330., -110.,  110.,  330.],\n",
       "        [-550., -330., -110.,  110.,  330.],\n",
       "        [-550., -330., -110.,  110.,  330.],\n",
       "        [-550., -330., -110.,  110.,  330.]]),\n",
       " 'y': array([[ 330.,  330.,  330.,  330.,  330.],\n",
       "        [ 110.,  110.,  110.,  110.,  110.],\n",
       "        [-110., -110., -110., -110., -110.],\n",
       "        [-330., -330., -330., -330., -330.],\n",
       "        [-550., -550., -550., -550., -550.]]),\n",
       " 'mask': array([[0, 0, 0, 0, 0],\n",
       "        [0, 0, 0, 0, 0],\n",
       "        [0, 0, 0, 0, 0],\n",
       "        [0, 0, 0, 0, 0],\n",
       "        [0, 0, 0, 0, 0]], dtype=uint8),\n",
       " 'res': array([[0. , 0. , 0. , 0. , 0.2],\n",
       "        [0. , 0. , 0. , 0. , 0. ],\n",
       "        [0. , 0. , 0. , 0. , 0. ],\n",
       "        [0.1, 0. , 0. , 0. , 0. ],\n",
       "        [0. , 0. , 0. , 0. , 0. ]]),\n",
       " 'cost': array([[ 81.44659943, 313.65849596, 403.05874333, 194.35281901,\n",
       "          77.80828416],\n",
       "        [331.46092763, 468.73147787, 573.6505016 , 405.66539574,\n",
       "         356.71017388],\n",
       "        [424.28195455, 620.10806013, 758.47891604, 627.74573879,\n",
       "         591.89614925],\n",
       "        [312.33849935, 573.17955767, 693.99503718, 522.05195516,\n",
       "         439.82550958],\n",
       "        [378.07071911, 336.07981176, 490.85177043, 376.60231425,\n",
       "         358.47355359]]),\n",
       " 'evals': array([[178.8, 181.8, 213.6, 300.6, 385.8],\n",
       "        [218.4, 148.8, 183.6, 349.8, 255.6],\n",
       "        [250.8, 216.6, 205.2, 241.8, 531. ],\n",
       "        [327. , 429. , 209.4, 217.8, 237. ],\n",
       "        [525. , 201. , 235.2, 181.8, 248.4]])}"
      ]
     },
     "execution_count": 49,
     "metadata": {},
     "output_type": "execute_result"
    }
   ],
   "source": [
    "data_ad_cma"
   ]
  },
  {
   "cell_type": "markdown",
   "metadata": {},
   "source": [
    "## summary on egg holder\n",
    "| --      | adam | line search | original CMA | line search - CMA | adam-CMA | no optimisation |\n",
    "| --      | --   |          -- | --           | --                |       -- |              -- |\n",
    "| #experiments | <td colspan=3>150 times of optimisation</td> \n",
    "|total time          |  15.6 s  | 1.3 s       |  4.9 s       |  280 s       |     8.1 s      |   0.019 s     |\n",
    "|evalutaions per exp | 1.6 k evals| 0.24 k evals| 0.267 k evals| 45 k evals |  0.28 k evals|   1 evals     |  \n",
    "|*performance*       |     --  | --           |          -- |            -- | --            | --            |\n",
    "|cost                | 715     |      464     |   436       |  341          |   428     |      940.7    |\n",
    "|probability         |  0      |     0        |    0      |     13.6%       |    1.2%    |        0      | \n",
    " \n",
    "\n"
   ]
  },
  {
   "cell_type": "code",
   "execution_count": null,
   "metadata": {},
   "outputs": [],
   "source": []
  },
  {
   "cell_type": "code",
   "execution_count": null,
   "metadata": {},
   "outputs": [],
   "source": []
  }
 ],
 "metadata": {
  "kernelspec": {
   "display_name": "Python [conda env:miniconda3-ada] *",
   "language": "python",
   "name": "conda-env-miniconda3-ada-py"
  },
  "language_info": {
   "codemirror_mode": {
    "name": "ipython",
    "version": 3
   },
   "file_extension": ".py",
   "mimetype": "text/x-python",
   "name": "python",
   "nbconvert_exporter": "python",
   "pygments_lexer": "ipython3",
   "version": "3.7.4"
  }
 },
 "nbformat": 4,
 "nbformat_minor": 4
}
