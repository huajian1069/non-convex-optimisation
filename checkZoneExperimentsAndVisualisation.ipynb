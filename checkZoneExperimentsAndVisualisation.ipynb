{
 "cells": [
  {
   "cell_type": "code",
   "execution_count": 3,
   "metadata": {},
   "outputs": [],
   "source": [
    "from library.objective_function import *\n",
    "from library.optimiser import *\n",
    "from library.post_analysis import *\n",
    "from library.experiments import *\n",
    "%matplotlib notebook\n",
    "SEED = 1231"
   ]
  },
  {
   "cell_type": "code",
   "execution_count": null,
   "metadata": {},
   "outputs": [],
   "source": [
    "np.random.seed(SEED)\n",
    "# 1 optimiser\n",
    "inner_opt = line_search()\n",
    "innerOptParas = {\n",
    "    'x0': None,\n",
    "    'alpha': 1,\n",
    "    'beta': 0.1, \n",
    "    'max_iter': 100,\n",
    "    'tol': 1e-2,              \n",
    "    'verbose': False,\n",
    "    'record': False\n",
    "}\n",
    "inner_opt.set_parameters(innerOptParas)\n",
    "\n",
    "opt = cma_es()\n",
    "optParas ={'x0': np.zeros((2,)),\n",
    "           'std': np.ones((2,)) * 3, \n",
    "           'tol': 1e-3, \n",
    "           'adjust_func': inner_opt, \n",
    "           'record': False, \n",
    "           'verbose': False}\n",
    "opt.set_parameters(optParas)\n",
    "\n",
    "# 2 objective function\n",
    "obj = eggholder()\n",
    "\n",
    "# 3 setup sample zone of multiple experiments\n",
    "zoneParas = {'origin': np.array([-550,-550]),\n",
    "             'edge': np.array([1100, 1100]),\n",
    "             'step': 550,\n",
    "             'size': 10,\n",
    "             'sym': False}\n",
    "\n",
    "data = do_multiple_exps(obj, opt, zoneParas)"
   ]
  },
  {
   "cell_type": "code",
   "execution_count": null,
   "metadata": {},
   "outputs": [],
   "source": []
  }
 ],
 "metadata": {
  "kernelspec": {
   "display_name": "Python [conda env:miniconda3-ada] *",
   "language": "python",
   "name": "conda-env-miniconda3-ada-py"
  },
  "language_info": {
   "codemirror_mode": {
    "name": "ipython",
    "version": 3
   },
   "file_extension": ".py",
   "mimetype": "text/x-python",
   "name": "python",
   "nbconvert_exporter": "python",
   "pygments_lexer": "ipython3",
   "version": "3.7.4"
  }
 },
 "nbformat": 4,
 "nbformat_minor": 4
}
