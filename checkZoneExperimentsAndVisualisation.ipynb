{
 "cells": [
  {
   "cell_type": "code",
   "execution_count": 1,
   "metadata": {},
   "outputs": [],
   "source": [
    "from library.objective_function import *\n",
    "from library.optimiser import *\n",
    "from library.post_analysis import *\n",
    "from library.experiments import *\n",
    "%matplotlib notebook\n",
    "SEED = 1231"
   ]
  },
  {
   "cell_type": "code",
   "execution_count": 2,
   "metadata": {},
   "outputs": [
    {
     "name": "stderr",
     "output_type": "stream",
     "text": [
      "/Users/huajian/Non-convex/library/objective_function.py:176: RuntimeWarning:\n",
      "\n",
      "divide by zero encountered in double_scalars\n",
      "\n",
      "/Users/huajian/Non-convex/library/objective_function.py:176: RuntimeWarning:\n",
      "\n",
      "invalid value encountered in double_scalars\n",
      "\n"
     ]
    },
    {
     "name": "stdout",
     "output_type": "stream",
     "text": [
      "cost: 330.7446182005433, prob: 0.0\n",
      "complete: 2 / 4 \n",
      "cost: 270.62116424046513, prob: 0.1\n",
      "complete: 4 / 4 \n",
      "avg probility of convergence:  0.025\n",
      "avg cost:  312.83334313370943\n",
      "avg evals per exp:  30259.8\n",
      "total time: 29.79641604423523,  time per eval:6.154290519979319e-05\n",
      "\n"
     ]
    }
   ],
   "source": [
    "np.random.seed(SEED)\n",
    "# 1 optimiser\n",
    "inner_opt = line_search()\n",
    "innerOptParas = {\n",
    "    'x0': None,\n",
    "    'alpha': 1,\n",
    "    'beta': 0.1, \n",
    "    'max_iter': 100,\n",
    "    'tol': 1e-2,              \n",
    "    'verbose': False,\n",
    "    'record': False\n",
    "}\n",
    "inner_opt.set_parameters(innerOptParas)\n",
    "\n",
    "opt = cma_es()\n",
    "optParas ={'x0': np.zeros((2,)),\n",
    "           'std': np.ones((2,)) * 3, \n",
    "           'tol': 1e-3, \n",
    "           'adjust_func': inner_opt, \n",
    "           'record': False, \n",
    "           'verbose': False}\n",
    "opt.set_parameters(optParas)\n",
    "\n",
    "# 2 objective function\n",
    "obj = eggholder()\n",
    "\n",
    "# 3 setup sample zone of multiple experiments\n",
    "zoneParas = {'origin': np.array([-550,-550]),\n",
    "             'edge': np.array([1100, 1100]),\n",
    "             'step': 550,\n",
    "             'size': 10,\n",
    "             'sym': False}\n",
    "\n",
    "data = do_multiple_exps(obj, opt, zoneParas)"
   ]
  },
  {
   "cell_type": "code",
   "execution_count": null,
   "metadata": {},
   "outputs": [],
   "source": []
  }
 ],
 "metadata": {
  "kernelspec": {
   "display_name": "Python 3",
   "language": "python",
   "name": "python3"
  },
  "language_info": {
   "codemirror_mode": {
    "name": "ipython",
    "version": 3
   },
   "file_extension": ".py",
   "mimetype": "text/x-python",
   "name": "python",
   "nbconvert_exporter": "python",
   "pygments_lexer": "ipython3",
   "version": "3.7.7"
  }
 },
 "nbformat": 4,
 "nbformat_minor": 4
}
