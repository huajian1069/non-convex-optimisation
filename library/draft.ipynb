{
 "cells": [
  {
   "cell_type": "code",
   "execution_count": 11,
   "metadata": {},
   "outputs": [],
   "source": [
    "import matplotlib.pyplot as plt\n",
    "import numpy as np\n",
    "import matplotlib.animation as animation\n",
    "from matplotlib.patches import Ellipse\n",
    "from matplotlib import patches\n",
    "import seaborn as sns\n",
    "%matplotlib inline"
   ]
  },
  {
   "cell_type": "code",
   "execution_count": 2,
   "metadata": {},
   "outputs": [],
   "source": [
    "from objective_function import *\n",
    "from optimiser import *"
   ]
  },
  {
   "cell_type": "code",
   "execution_count": 489,
   "metadata": {},
   "outputs": [],
   "source": [
    "class adam(optimizer):\n",
    "    def __init__(self):\n",
    "        self.alpha = 0.01\n",
    "        self.beta_1 = 0.9\n",
    "        self.beta_2 = 0.999\n",
    "        self.epsilon = 1e-8\n",
    "        self.max_iter = 10000\n",
    "        self.tol = 1e-2\n",
    "        \n",
    "    def set_parameters(self, paras):\n",
    "        self.x0 = paras['x0']\n",
    "        self.alpha = paras['alpha']\n",
    "        self.beta_1 = paras['beta_1']\n",
    "        self.beta_2 = paras['beta_2']\n",
    "        self.epsilon = paras['epsilon']\n",
    "        self.max_iter = paras['max_iter']\n",
    "        self.tol = paras['tol']\n",
    "        \n",
    "    def optimise(self, obj):\n",
    "        m_t = 0 \n",
    "        v_t = 0 \n",
    "        t = 0\n",
    "        x = self.x0\n",
    "        while t < self.max_iter:\t\t\t\t\t#till it gets converged\n",
    "            t+=1\n",
    "            g_t = obj.dfunc(x)\t\t#computes the gradient of the stochastic function\n",
    "            m_t = self.beta_1*m_t + (1-self.beta_1)*g_t\t#updates the moving averages of the gradient\n",
    "            v_t = self.beta_2*v_t + (1-self.beta_2)*(g_t*g_t)\t#updates the moving averages of the squared gradient\n",
    "            m_cap = m_t/(1-(self.beta_1**t))\t\t#calculates the bias-corrected estimates\n",
    "            v_cap = v_t/(1-(self.beta_2**t))\t\t#calculates the bias-corrected estimates\n",
    "            x_prev = x\t\t\t\t\t\t\t\t\n",
    "            x = x - (self.alpha*m_cap)/(np.sqrt(v_cap)+self.epsilon)\t#updates the parameters\n",
    "            if(np.linalg.norm(x-x_prev) < 1e-5):\t\t#checks if it is converged or not\n",
    "                break\n",
    "        return x, t\n",
    "        "
   ]
  },
  {
   "cell_type": "code",
   "execution_count": 482,
   "metadata": {},
   "outputs": [],
   "source": [
    "class line_search(adjust_optimizer):\n",
    "    def __init__(self, alpha=1, beta=0.1):\n",
    "        self.alpha = alpha\n",
    "        self.beta = beta\n",
    "        self.max_iter = 100\n",
    "        self.tol = 1e-2\n",
    "    def set_parameters(self, paras):\n",
    "        self.x0 = None if 'x0' not in paras.keys() else paras['x0']\n",
    "        self.alpha = paras['alpha']\n",
    "        self.beta = paras['beta']\n",
    "        self.max_iter = paras['max_iter']\n",
    "        self.tol = paras['tol']\n",
    "    def optimise(self, obj):\n",
    "        '''\n",
    "        @param x0: initial point position\n",
    "        @param alpha: initial step size\n",
    "        @param beta: control the armijo condition\n",
    "        @return x: point position after moving to local minimum\n",
    "        '''\n",
    "        x = self.x0.copy().reshape(2,)\n",
    "        alpha_ = self.alpha\n",
    "        tao = 0.5\n",
    "        fx = obj.func(x)\n",
    "        p = - obj.dfunc(x)\n",
    "        fnx = obj.func(x + alpha_ * p)\n",
    "        eval_cnt = 4\n",
    "        for k in range(self.max_iter):\n",
    "            while fnx > fx + alpha_ * self.beta * (-p @ p):\n",
    "                alpha_ *= tao\n",
    "                fnx = obj.func(x + alpha_ * p)\n",
    "                eval_cnt += 1\n",
    "            x += alpha_ * p\n",
    "            fx = fnx\n",
    "            p = -obj.dfunc(x)\n",
    "            fnx = obj.func(x + alpha_ * p)\n",
    "            eval_cnt += 2\n",
    "            if np.linalg.norm(p) < self.tol:\n",
    "                break\n",
    "        return x, eval_cnt"
   ]
  },
  {
   "cell_type": "code",
   "execution_count": 490,
   "metadata": {},
   "outputs": [
    {
     "name": "stdout",
     "output_type": "stream",
     "text": [
      "CPU times: user 8.27 ms, sys: 1.29 ms, total: 9.56 ms\n",
      "Wall time: 8.4 ms\n"
     ]
    },
    {
     "data": {
      "text/plain": [
       "(array([69.00004112, 81.99992652]), 153)"
      ]
     },
     "execution_count": 490,
     "metadata": {},
     "output_type": "execute_result"
    }
   ],
   "source": [
    "ad = adam()\n",
    "x0 = np.array([69.193, 82.221])\n",
    "paras = {'x0':x0, 'alpha':0.01, 'beta_1':0.9, 'beta_2':0.999, 'epsilon':1e-8, 'max_iter':100000, 'tol':1e-2}\n",
    "ad.set_parameters(paras)\n",
    "%time ad.optimise(ak)"
   ]
  },
  {
   "cell_type": "code",
   "execution_count": 484,
   "metadata": {},
   "outputs": [
    {
     "name": "stdout",
     "output_type": "stream",
     "text": [
      "CPU times: user 1.45 ms, sys: 237 µs, total: 1.69 ms\n",
      "Wall time: 1.52 ms\n"
     ]
    },
    {
     "data": {
      "text/plain": [
       "(array([69.00011095, 82.00007568]), 41)"
      ]
     },
     "execution_count": 484,
     "metadata": {},
     "output_type": "execute_result"
    }
   ],
   "source": [
    "line = line_search()\n",
    "x0 = np.array([69.193, 82.221])\n",
    "paras = {'x0':x0, 'alpha':1, 'beta':0.1, 'max_iter':100, 'tol':1e-2}\n",
    "line.set_parameters(paras)\n",
    "%time line.optimise(ak)"
   ]
  },
  {
   "cell_type": "code",
   "execution_count": 488,
   "metadata": {},
   "outputs": [
    {
     "name": "stdout",
     "output_type": "stream",
     "text": [
      "CPU times: user 240 µs, sys: 38 µs, total: 278 µs\n",
      "Wall time: 247 µs\n"
     ]
    },
    {
     "data": {
      "text/plain": [
       "(array([68.95310193, 81.96908965]), 8)"
      ]
     },
     "execution_count": 488,
     "metadata": {},
     "output_type": "execute_result"
    }
   ],
   "source": [
    "l1 = line_search_1step()\n",
    "paras = {'x0':x0, 'alpha':1, 'beta':0.1, 'max_iter':100, 'tol':1e-2}\n",
    "l1.set_parameters(paras)\n",
    "%time l1.optimise(ak)"
   ]
  },
  {
   "cell_type": "code",
   "execution_count": null,
   "metadata": {},
   "outputs": [],
   "source": []
  },
  {
   "cell_type": "code",
   "execution_count": 3,
   "metadata": {},
   "outputs": [],
   "source": [
    "class post_analysis_multi():\n",
    "    def __init__(self, points, res):\n",
    "        self.points = points\n",
    "        self.res = res\n",
    "        self.num = self.res.shape[0]\n",
    "    def plot_prob_vs_radius(self, *args):\n",
    "        def count_global_min(res, points):        \n",
    "            distance = np.linalg.norm(points, axis=1)\n",
    "            idx = np.argsort(distance)\n",
    "            dis_ascending = distance[idx]\n",
    "            res_ascending = res[idx]\n",
    "            prob = np.zeros((self.num, ))\n",
    "            for i in range(self.num):\n",
    "                prob[i] = np.sum(res_ascending[:i+1] == 1) / (i + 1) \n",
    "            return dis_ascending, prob\n",
    "        argc = len(args)\n",
    "        assert argc%2 == 0\n",
    "        pair_cnt = int(argc / 2)\n",
    "        dis_ascendings = np.zeros((self.num, pair_cnt + 1))\n",
    "        probs = np.zeros((self.num, pair_cnt + 1))\n",
    "        dis_ascendings[:,0], probs[:,0] = count_global_min(self.res, self.points)\n",
    "        for i in range(pair_cnt):\n",
    "            dis_ascendings[:,i+1], probs[:,i+1] = count_global_min(args[i*2], args[i*2+1])\n",
    "        fig = plt.figure(figsize=(8,4))\n",
    "        ax = fig.add_subplot(1, 1, 1)\n",
    "        ax.set_xlim(0, np.max(dis_ascendings))\n",
    "        ax.set_ylim(0, 2)\n",
    "        ax.set_xlabel('distance from origin', fontsize=13)\n",
    "        ax.set_ylabel('prob of global minminum', fontsize=13)\n",
    "        for i in range(pair_cnt+1):\n",
    "            ax.plot(dis_ascendings[:,i], probs[:,i])\n",
    "        plt.show()\n",
    "\n",
    "    def plot_cloud_point(self):\n",
    "        fig = plt.figure(figsize=(7,7))\n",
    "        '''\n",
    "        # one quadrant\n",
    "        x1 = np.hstack((self.points[:,0], self.points[:,1]))\n",
    "        y1 = np.hstack((self.points[:,1], self.points[:,0]))\n",
    "        res1 = np.hstack((self.res, self.res))\n",
    "        # two qudrant\n",
    "        x2 = np.hstack((x1, -x1))\n",
    "        y2 = np.hstack((y1, y1))\n",
    "        res2 = np.hstack((res1, res1))\n",
    "        # four qudrant\n",
    "        x = np.hstack((x2, -x2))\n",
    "        y = np.hstack((y2, -y2))\n",
    "        hue = np.hstack((res2, res2))\n",
    "        '''\n",
    "        x = self.points[:,0]\n",
    "        y = self.points[:,1]\n",
    "        hue = self.res\n",
    "        p = sns.scatterplot(x=x, y=y, color=\"r\", hue=hue, hue_norm=(0, 1), legend=False)"
   ]
  },
  {
   "cell_type": "code",
   "execution_count": null,
   "metadata": {},
   "outputs": [],
   "source": [
    "np.random.seed(134)\n",
    "# setup objective function\n",
    "ak = ackley()\n",
    "# setup adjust function optimizer\n",
    "default = do_nothing()\n",
    "ro = round_off()\n",
    "# setup optmizer\n",
    "paras = {}\n",
    "paras['std'] = np.ones((2,)) * 3\n",
    "paras['tol'] = 1e-5\n",
    "paras['adjust_func'] = ro\n",
    "paras['multi_runs'] = True\n",
    "cma = cma_es()\n",
    "\n",
    "# boil down to one expreiment\n",
    "exp = single_experiment()\n",
    "exp.set_objective(ak)\n",
    "\n",
    "\n",
    "num = points.shape[0]\n",
    "res = np.zeros((num, ))\n",
    "for i in range(num):\n",
    "    paras['mean0'] = points[i].reshape(2,1)\n",
    "    cma.set_parameters(paras)\n",
    "    exp.set_optimizer(cma)\n",
    "    status = exp.do()\n",
    "    if(status == 'global minimum'):\n",
    "        res[i] = 1\n",
    "    else:\n",
    "        res[i] = 0"
   ]
  },
  {
   "cell_type": "code",
   "execution_count": null,
   "metadata": {},
   "outputs": [],
   "source": [
    "class multiple_experiment:\n",
    "    def __init__(self):\n",
    "        self.single_exp = single_experiment()\n",
    "    def set_objective(self, objective_func):\n",
    "        self.single_exp.set_objective(objective_func)\n",
    "    def set_optimizer(self, optimizer):\n",
    "        self.single_exp.set_optimizer(optimizer)\n",
    "    def do(self, points):\n",
    "        num = points.shape[0]\n",
    "        res = np.zeros((num, ))\n",
    "        for i in range(num):\n",
    "            paras['mean0'] = points[i].reshape(2,1)\n",
    "            cma.set_parameters(paras)\n",
    "            exp.set_optimizer(cma)\n",
    "    \n",
    "        optimal, optimum, statistics = self.optimizer.optimise(self.objective_func)\n",
    "        if np.linalg.norm(optimal - self.objective_func.get_optimal()) < 1e-1 \\\n",
    "        or np.linalg.norm(optimum - self.objective_func.get_optimum()) < 1e-1:\n",
    "            statistics['status'] = 'global minimum'\n",
    "        elif statistics['status'] != 'diverge':\n",
    "            statistics['status'] = 'local minimum'\n",
    "            print(\"dist_val\", np.linalg.norm(optimum - self.objective_func.get_optimum()))\n",
    "        print(statistics['status'])\n",
    "        if self.optimizer.record == True:\n",
    "            return statistics['status']\n",
    "        else:\n",
    "            self.analyser = post_analysis(statistics, self.objective_func)"
   ]
  },
  {
   "cell_type": "code",
   "execution_count": 4,
   "metadata": {},
   "outputs": [],
   "source": [
    "class single_experiment:\n",
    "    def set_objective(self, objective_func):\n",
    "        self.objective_func = objective_func\n",
    "\n",
    "    def set_optimizer(self, optimizer):\n",
    "        self.optimizer = optimizer\n",
    "\n",
    "    def do(self):\n",
    "        optimal, optimum, statistics = self.optimizer.optimise(self.objective_func)\n",
    "        if np.linalg.norm(optimal - self.objective_func.get_optimal()) < 1e-1 \\\n",
    "        or np.linalg.norm(optimum - self.objective_func.get_optimum()) < 1e-1:\n",
    "            statistics['status'] = 'global minimum'\n",
    "        elif statistics['status'] != 'diverge':\n",
    "            statistics['status'] = 'local minimum'\n",
    "            #print(\"dist_val\", np.linalg.norm(optimum - self.objective_func.get_optimum()))\n",
    "        print(statistics['status'])\n",
    "        if self.optimizer.record == True:\n",
    "            return statistics['status']\n",
    "        else:\n",
    "            self.analyser = post_analysis(statistics, self.objective_func)"
   ]
  },
  {
   "cell_type": "code",
   "execution_count": 4,
   "metadata": {},
   "outputs": [],
   "source": [
    "def sample_from_square(edge, center, num):\n",
    "    points = np.zeros((num, 2))\n",
    "    for i in range(num):\n",
    "        rx = (np.random.rand() - 0.5) * edge[0] + center[0] \n",
    "        ry = (np.random.rand() - 0.5) * edge[1] + center[1]\n",
    "        if rx < ry:\n",
    "            points[i, :] = np.array([ry, rx]) \n",
    "        else:\n",
    "            points[i, :] = np.array([rx, ry])\n",
    "    return points"
   ]
  },
  {
   "cell_type": "code",
   "execution_count": 14,
   "metadata": {},
   "outputs": [
    {
     "data": {
      "text/plain": [
       "array([[0.54695869, 0.16044165],\n",
       "       [0.62946516, 0.49239507]])"
      ]
     },
     "execution_count": 14,
     "metadata": {},
     "output_type": "execute_result"
    }
   ],
   "source": [
    "np.one"
   ]
  },
  {
   "cell_type": "code",
   "execution_count": 60,
   "metadata": {},
   "outputs": [],
   "source": []
  },
  {
   "cell_type": "code",
   "execution_count": 5,
   "metadata": {
    "scrolled": true
   },
   "outputs": [
    {
     "name": "stdout",
     "output_type": "stream",
     "text": [
      "global minimum\n",
      "global minimum\n",
      "global minimum\n",
      "global minimum\n",
      "global minimum\n",
      "global minimum\n",
      "global minimum\n",
      "global minimum\n",
      "global minimum\n",
      "global minimum\n",
      "global minimum\n",
      "global minimum\n",
      "global minimum\n",
      "global minimum\n",
      "global minimum\n",
      "global minimum\n",
      "global minimum\n",
      "global minimum\n",
      "global minimum\n",
      "global minimum\n",
      "global minimum\n",
      "global minimum\n"
     ]
    },
    {
     "name": "stderr",
     "output_type": "stream",
     "text": [
      "/Users/huajian/Non-convex/library/optimiser.py:189: RuntimeWarning:\n",
      "\n",
      "invalid value encountered in sqrt\n",
      "\n",
      "/Users/huajian/miniconda3/envs/ada/lib/python3.7/site-packages/numpy/core/fromnumeric.py:83: RuntimeWarning:\n",
      "\n",
      "invalid value encountered in reduce\n",
      "\n",
      "/Users/huajian/Non-convex/library/optimiser.py:84: RuntimeWarning:\n",
      "\n",
      "invalid value encountered in less\n",
      "\n",
      "/Users/huajian/Non-convex/library/optimiser.py:87: RuntimeWarning:\n",
      "\n",
      "invalid value encountered in less\n",
      "\n"
     ]
    },
    {
     "name": "stdout",
     "output_type": "stream",
     "text": [
      "diverge, raise LinAlgError!\n",
      "diverge\n",
      "local minimum\n",
      "global minimum\n",
      "global minimum\n",
      "global minimum\n",
      "diverge, raise LinAlgError!\n",
      "diverge\n",
      "global minimum\n",
      "global minimum\n",
      "global minimum\n",
      "global minimum\n",
      "global minimum\n",
      "global minimum\n",
      "global minimum\n",
      "local minimum\n",
      "global minimum\n",
      "global minimum\n",
      "global minimum\n",
      "global minimum\n",
      "global minimum\n",
      "global minimum\n",
      "global minimum\n",
      "global minimum\n",
      "global minimum\n",
      "global minimum\n",
      "global minimum\n",
      "global minimum\n",
      "global minimum\n",
      "global minimum\n",
      "global minimum\n",
      "global minimum\n",
      "global minimum\n",
      "global minimum\n",
      "global minimum\n",
      "global minimum\n",
      "local minimum\n",
      "global minimum\n",
      "diverge, raise LinAlgError!\n",
      "diverge\n",
      "diverge, raise LinAlgError!\n",
      "diverge\n",
      "global minimum\n",
      "global minimum\n",
      "global minimum\n",
      "global minimum\n",
      "global minimum\n",
      "global minimum\n",
      "global minimum\n",
      "global minimum\n",
      "global minimum\n",
      "global minimum\n",
      "global minimum\n",
      "global minimum\n",
      "global minimum\n",
      "global minimum\n",
      "global minimum\n",
      "diverge, raise LinAlgError!\n",
      "diverge\n",
      "global minimum\n",
      "global minimum\n",
      "global minimum\n",
      "global minimum\n",
      "global minimum\n",
      "global minimum\n",
      "global minimum\n",
      "global minimum\n",
      "global minimum\n",
      "global minimum\n",
      "global minimum\n",
      "global minimum\n",
      "global minimum\n",
      "global minimum\n",
      "global minimum\n",
      "global minimum\n",
      "local minimum\n",
      "global minimum\n",
      "global minimum\n",
      "global minimum\n",
      "global minimum\n",
      "global minimum\n",
      "global minimum\n",
      "global minimum\n",
      "global minimum\n",
      "global minimum\n",
      "global minimum\n",
      "global minimum\n",
      "global minimum\n",
      "global minimum\n",
      "global minimum\n",
      "global minimum\n",
      "global minimum\n",
      "local minimum\n",
      "global minimum\n",
      "global minimum\n",
      "global minimum\n",
      "local minimum\n",
      "local minimum\n",
      "global minimum\n",
      "global minimum\n",
      "diverge, raise LinAlgError!\n",
      "diverge\n",
      "global minimum\n",
      "diverge, raise LinAlgError!\n",
      "diverge\n",
      "global minimum\n",
      "global minimum\n",
      "global minimum\n",
      "global minimum\n",
      "global minimum\n",
      "global minimum\n",
      "global minimum\n",
      "global minimum\n",
      "global minimum\n",
      "global minimum\n",
      "global minimum\n",
      "global minimum\n",
      "global minimum\n",
      "global minimum\n",
      "global minimum\n",
      "global minimum\n",
      "global minimum\n",
      "global minimum\n",
      "global minimum\n",
      "global minimum\n",
      "global minimum\n",
      "global minimum\n",
      "global minimum\n",
      "global minimum\n",
      "global minimum\n",
      "global minimum\n",
      "global minimum\n",
      "diverge, raise LinAlgError!\n",
      "diverge\n",
      "global minimum\n",
      "global minimum\n",
      "global minimum\n",
      "global minimum\n",
      "local minimum\n",
      "global minimum\n",
      "global minimum\n",
      "global minimum\n",
      "global minimum\n",
      "global minimum\n",
      "global minimum\n",
      "global minimum\n",
      "global minimum\n",
      "global minimum\n",
      "global minimum\n",
      "global minimum\n",
      "diverge, raise LinAlgError!\n",
      "diverge\n",
      "global minimum\n",
      "global minimum\n",
      "global minimum\n",
      "local minimum\n",
      "global minimum\n",
      "global minimum\n",
      "global minimum\n",
      "global minimum\n",
      "global minimum\n",
      "global minimum\n",
      "local minimum\n",
      "global minimum\n",
      "diverge, raise LinAlgError!\n",
      "diverge\n",
      "global minimum\n",
      "global minimum\n"
     ]
    }
   ],
   "source": [
    "#parameter of optimisation\n",
    "np.random.seed(134)\n",
    "# setup objective function\n",
    "bk = bukin()\n",
    "# setup adjust function optimizer\n",
    "line = line_search(alpha=1e-5, beta=2e-5)\n",
    "#default = do_nothing()\n",
    "# setup optmizer\n",
    "paras = {}\n",
    "paras['std'] = np.ones((2,)) * 0.003\n",
    "paras['tol'] = 1e-5\n",
    "paras['adjust_func'] = line\n",
    "paras['record'] = True\n",
    "paras['verbose'] = False\n",
    "cma = cma_es()\n",
    "\n",
    "# boil down to one expreiment\n",
    "exp = single_experiment()\n",
    "exp.set_objective(bk)\n",
    "\n",
    "\n",
    "# parameters of sample area\n",
    "edge1 = 90\n",
    "edge2 = 90\n",
    "scale = 30\n",
    "size = 5\n",
    "num1 = int(2 * edge1 / scale)\n",
    "num2 = int(2 * edge2 / scale)\n",
    "# initlise matrix to record results\n",
    "avg_res = np.zeros((num2, num1))\n",
    "mask = np.ones_like(avg_res, dtype=np.uint8)\n",
    "position_x = np.zeros_like(avg_res)\n",
    "position_y = np.zeros_like(avg_res)\n",
    "\n",
    "for i, x in enumerate(np.arange(-edge1, edge1, scale)):\n",
    "    for j, y in enumerate(np.arange(-edge2, edge2, scale)):\n",
    "        points = np.random.rand(size, 2) * scale + np.array([x, y]) \n",
    "        mask[num2-1-j, i] = 0\n",
    "        position_x[num2-1-j, i] = x\n",
    "        position_y[num2-1-j, i] = y\n",
    "        \n",
    "        # calculate the probility of getting global minimum \n",
    "        res = np.zeros((size, ))\n",
    "        for k in range(size):\n",
    "            paras['mean0'] = points[k].reshape(2,1)\n",
    "            cma.set_parameters(paras)\n",
    "            exp.set_optimizer(cma)\n",
    "            status = exp.do()\n",
    "            if(status == 'global minimum'):\n",
    "                res[k] = 1\n",
    "            else:\n",
    "                res[k] = 0\n",
    "        avg_res[num2-1-j, i] = np.mean(res)"
   ]
  },
  {
   "cell_type": "code",
   "execution_count": 12,
   "metadata": {},
   "outputs": [
    {
     "data": {
      "image/png": "[encoded data removed]",
      "text/plain": [
       "<Figure size 720x720 with 2 Axes>"
      ]
     },
     "metadata": {
      "needs_background": "light"
     },
     "output_type": "display_data"
    }
   ],
   "source": [
    "plot_scatter(position_x, position_y, avg_res)\n",
    "#plt.savefig('scatter_roundOff.png')\n",
    "#plt.show()"
   ]
  },
  {
   "cell_type": "code",
   "execution_count": 13,
   "metadata": {},
   "outputs": [
    {
     "data": {
      "image/png": "[encoded data removed]",
      "text/plain": [
       "<Figure size 936x936 with 2 Axes>"
      ]
     },
     "metadata": {},
     "output_type": "display_data"
    }
   ],
   "source": [
    "plot_hotmap(avg_res, mask)\n",
    "#plt.savefig('hotmap_roundOff.png')"
   ]
  },
  {
   "cell_type": "code",
   "execution_count": 14,
   "metadata": {},
   "outputs": [
    {
     "data": {
      "text/plain": [
       "array([[0.8, 0.4, 1. , 0.6, 0.8, 0.6],\n",
       "       [0.6, 1. , 1. , 0.6, 1. , 1. ],\n",
       "       [1. , 1. , 0.8, 0.8, 1. , 0.8],\n",
       "       [1. , 1. , 1. , 1. , 1. , 0.8],\n",
       "       [1. , 0.8, 1. , 1. , 1. , 1. ],\n",
       "       [1. , 1. , 1. , 0.8, 1. , 0.8]])"
      ]
     },
     "execution_count": 14,
     "metadata": {},
     "output_type": "execute_result"
    }
   ],
   "source": [
    "avg_res"
   ]
  },
  {
   "cell_type": "code",
   "execution_count": 183,
   "metadata": {},
   "outputs": [
    {
     "data": {
      "text/plain": [
       "array([[0. , 0. , 0. , 0. , 0. , 0. , 0. , 0. , 0. , 0.2],\n",
       "       [0. , 0. , 0. , 0. , 0. , 0. , 0. , 0. , 0.2, 0.2],\n",
       "       [0. , 0. , 0. , 0. , 0. , 0. , 0. , 0. , 0. , 0.4],\n",
       "       [0. , 0. , 0. , 0. , 0. , 0. , 0.1, 0.1, 0.2, 0. ],\n",
       "       [0. , 0. , 0. , 0. , 0. , 0.2, 0. , 0. , 0.1, 0.2],\n",
       "       [0. , 0. , 0. , 0. , 0.1, 0.1, 0.1, 0. , 0. , 0. ],\n",
       "       [0. , 0. , 0. , 1. , 0.3, 0.2, 0.1, 0. , 0. , 0. ],\n",
       "       [0. , 0. , 1. , 1. , 1. , 0.2, 0. , 0.1, 0. , 0. ],\n",
       "       [0. , 1. , 1. , 0.9, 1. , 0.4, 0. , 0. , 0.1, 0.2],\n",
       "       [0.9, 1. , 1. , 1. , 1. , 0.3, 0.1, 0.2, 0. , 0.1]])"
      ]
     },
     "execution_count": 183,
     "metadata": {},
     "output_type": "execute_result"
    }
   ],
   "source": [
    "avg_res"
   ]
  },
  {
   "cell_type": "code",
   "execution_count": 7,
   "metadata": {},
   "outputs": [],
   "source": [
    "def plot_scatter(x, y, res):\n",
    "    fig = plt.figure(figsize=(10,10))\n",
    "    sc = plt.scatter(x.ravel(), y.ravel(), c=res.ravel(), marker='o', vmin=0, vmax=1, s=35, cmap='YlGnBu')\n",
    "    plt.colorbar(sc)"
   ]
  },
  {
   "cell_type": "code",
   "execution_count": 8,
   "metadata": {},
   "outputs": [],
   "source": [
    "def plot_hotmap(data, mask):\n",
    "    with sns.axes_style(\"white\"):\n",
    "        fig = plt.figure(figsize=(13, 13))\n",
    "        ax = sns.heatmap(data, mask=mask, vmin=0, vmax=1, square=True,  cmap=\"YlGnBu\")\n",
    "        ax.set_xticklabels(np.arange(-edge1, edge1, scale))\n",
    "        ax.set_yticklabels(np.arange(edge2, -edge2, -scale) - scale)"
   ]
  },
  {
   "cell_type": "code",
   "execution_count": null,
   "metadata": {},
   "outputs": [],
   "source": []
  },
  {
   "cell_type": "markdown",
   "metadata": {},
   "source": [
    "# generate periodic points in triangle area\n",
    "corrdinate = np.arange(0, edge, scale)\n",
    "x,y = np.meshgrid(corrdinate, corrdinate)\n",
    "starting_point = np.array(list(zip(x.ravel(),y.ravel())))\n",
    "triangle = starting_point[starting_point[:,0] >= starting_point[:,1]]"
   ]
  },
  {
   "cell_type": "code",
   "execution_count": null,
   "metadata": {},
   "outputs": [],
   "source": []
  },
  {
   "cell_type": "code",
   "execution_count": null,
   "metadata": {},
   "outputs": [],
   "source": [
    "np.random.seed(134)\n",
    "# setup objective function\n",
    "ak = ackley()\n",
    "# setup adjust function optimizer\n",
    "default = do_nothing()\n",
    "ro = round_off()\n",
    "# setup optmizer\n",
    "paras = {}\n",
    "paras['std'] = np.ones((2,)) * 3\n",
    "paras['tol'] = 1e-5\n",
    "paras['adjust_func'] = ro\n",
    "paras['multi_runs'] = True\n",
    "cma = cma_es()\n",
    "\n",
    "# boil down to one expreiment\n",
    "exp1 = single_experiment()\n",
    "exp1.set_objective(ak)\n",
    "\n",
    "num = 300\n",
    "points1 = sample_from_square([400,400], [200,200], num)\n",
    "res1 = np.zeros((num, ))\n",
    "\n",
    "for i in range(num):\n",
    "    paras['mean0'] = points1[i,:].reshape(2,1)\n",
    "    cma.set_parameters(paras)\n",
    "    exp1.set_optimise(cma)\n",
    "    status = exp1.do()\n",
    "    if(status == 'global minimum'):\n",
    "        res1[i] = 1\n",
    "    else:\n",
    "        res1[i] = 0"
   ]
  },
  {
   "cell_type": "code",
   "execution_count": null,
   "metadata": {},
   "outputs": [],
   "source": [
    "pa2 = post_analysis_multi(points2, res2)\n",
    "pa2.plot_cloud_point()"
   ]
  },
  {
   "cell_type": "code",
   "execution_count": null,
   "metadata": {},
   "outputs": [],
   "source": [
    "pa2 = post_analysis_multi(points, res)\n",
    "pa2.plot_prob_vs_radius()"
   ]
  },
  {
   "cell_type": "code",
   "execution_count": null,
   "metadata": {},
   "outputs": [],
   "source": [
    "np.random.seed(134)\n",
    "# setup objective function\n",
    "ak = ackley()\n",
    "# setup adjust function optimizer\n",
    "default = do_nothing()\n",
    "# setup optmizer\n",
    "paras = {}\n",
    "paras['mean0'] = np.array([[629.193], [822.221]])\n",
    "paras['std'] = np.ones((2,)) * 3\n",
    "paras['tol'] = 1e-5\n",
    "paras['adjust_func'] = default\n",
    "\n",
    "cma = cma_es()\n",
    "cma.set_parameters(paras)\n",
    "\n",
    "# boil down to one expreiment\n",
    "exp1 = single_experiment()\n",
    "exp1.set_objective(ak)\n",
    "exp1.set_optimise(cma)\n",
    "exp1.do()"
   ]
  },
  {
   "cell_type": "code",
   "execution_count": null,
   "metadata": {},
   "outputs": [],
   "source": [
    "#exp1.analyser.print_mean_variance()"
   ]
  },
  {
   "cell_type": "code",
   "execution_count": null,
   "metadata": {},
   "outputs": [],
   "source": [
    "np.random.seed(34)\n",
    "# setup objective function\n",
    "ak = ackley()\n",
    "# setup adjust function optimizer\n",
    "line = line_search(alpha=2, beta=0.1)\n",
    "\n",
    "# setup optmizer\n",
    "paras = {}\n",
    "paras['mean0'] = np.array([[629.193], [822.221]])\n",
    "paras['std'] = np.ones((2,)) * 3\n",
    "paras['tol'] = 1e-5\n",
    "paras['adjust_func'] = line\n",
    "\n",
    "cma2 = cma_es()\n",
    "cma2.set_parameters(paras)\n",
    "\n",
    "# boil down to one expreiment\n",
    "exp2 = single_experiment()\n",
    "exp2.set_objective(ak)\n",
    "exp2.set_optimise(cma2)\n",
    "exp2.do()"
   ]
  },
  {
   "cell_type": "code",
   "execution_count": null,
   "metadata": {},
   "outputs": [],
   "source": [
    "exp2.analyser.plot_distance()"
   ]
  },
  {
   "cell_type": "code",
   "execution_count": null,
   "metadata": {},
   "outputs": [],
   "source": [
    "np.random.seed(134)\n",
    "# setup objective function\n",
    "ak = ackley()\n",
    "# setup adjust function optimizer\n",
    "ro = round_off()\n",
    "\n",
    "# setup optmizer\n",
    "paras = {}\n",
    "paras['mean0'] = np.array([[629.193], [822.221]])\n",
    "paras['std'] = np.ones((2,)) * 3\n",
    "paras['tol'] = 1e-5\n",
    "paras['adjust_func'] = ro\n",
    "\n",
    "cma3 = cma_es()\n",
    "cma3.set_parameters(paras)\n",
    "\n",
    "# boil down to one expreiment\n",
    "exp3 = single_experiment()\n",
    "exp3.set_objective(ak)\n",
    "exp3.set_optimise(cma3)\n",
    "exp3.do()"
   ]
  },
  {
   "cell_type": "code",
   "execution_count": null,
   "metadata": {},
   "outputs": [],
   "source": [
    "np.random.seed(134)\n",
    "# setup objective function\n",
    "ak = ackley()\n",
    "# setup adjust function optimizer\n",
    "l1 = line_search_1step(alpha=1, beta=0.1)\n",
    "\n",
    "# setup optmizer\n",
    "paras = {}\n",
    "paras['mean0'] = np.array([[629.193], [822.221]])\n",
    "paras['std'] = np.ones((2,)) * 3\n",
    "paras['tol'] = 1e-5\n",
    "paras['adjust_func'] = l1\n",
    "\n",
    "cma4 = cma_es()\n",
    "cma4.set_parameters(paras)\n",
    "\n",
    "# boil down to one expreiment\n",
    "exp4 = single_experiment()\n",
    "exp4.set_objective(ak)\n",
    "exp4.set_optimise(cma4)\n",
    "exp4.do()"
   ]
  },
  {
   "cell_type": "code",
   "execution_count": null,
   "metadata": {},
   "outputs": [],
   "source": [
    "exp1.analyser.print_points_before_and_after_adjust()"
   ]
  },
  {
   "cell_type": "code",
   "execution_count": null,
   "metadata": {},
   "outputs": [],
   "source": [
    "exp1.analyser.print_evaluations_per_iteration()"
   ]
  },
  {
   "cell_type": "code",
   "execution_count": null,
   "metadata": {},
   "outputs": [],
   "source": [
    "exp1.analyser.print_mean_variance()"
   ]
  },
  {
   "cell_type": "code",
   "execution_count": null,
   "metadata": {},
   "outputs": [],
   "source": [
    "exp1.analyser.plot_distance()"
   ]
  },
  {
   "cell_type": "code",
   "execution_count": null,
   "metadata": {},
   "outputs": [],
   "source": [
    "ana = post_analysis(statistics, ak)"
   ]
  },
  {
   "cell_type": "code",
   "execution_count": null,
   "metadata": {},
   "outputs": [],
   "source": [
    "ana.plot_distance()"
   ]
  },
  {
   "cell_type": "code",
   "execution_count": null,
   "metadata": {},
   "outputs": [],
   "source": [
    "ana.animate_moving_cluster()"
   ]
  },
  {
   "cell_type": "code",
   "execution_count": null,
   "metadata": {},
   "outputs": [],
   "source": [
    "ana.animate_scatterplot_distance()"
   ]
  },
  {
   "cell_type": "code",
   "execution_count": null,
   "metadata": {},
   "outputs": [],
   "source": [
    "ana.plot_moving_cluster()"
   ]
  }
 ],
 "metadata": {
  "kernelspec": {
   "display_name": "Python [conda env:miniconda3-ada] *",
   "language": "python",
   "name": "conda-env-miniconda3-ada-py"
  },
  "language_info": {
   "codemirror_mode": {
    "name": "ipython",
    "version": 3
   },
   "file_extension": ".py",
   "mimetype": "text/x-python",
   "name": "python",
   "nbconvert_exporter": "python",
   "pygments_lexer": "ipython3",
   "version": "3.7.4"
  }
 },
 "nbformat": 4,
 "nbformat_minor": 4
}
