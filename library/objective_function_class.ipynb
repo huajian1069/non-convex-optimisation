{
 "cells": [
  {
   "cell_type": "code",
   "execution_count": null,
   "metadata": {},
   "outputs": [],
   "source": [
    "import numpy as np\n",
    "from abc import ABC, abstractmethod\n",
    "from objective_function import *\n",
    "import seaborn as sns\n",
    "import plotly.graph_objs as go\n",
    "import plotly.express as px\n",
    "import matplotlib.pyplot as plt\n",
    "%matplotlib notebook"
   ]
  },
  {
   "cell_type": "code",
   "execution_count": null,
   "metadata": {},
   "outputs": [],
   "source": [
    "class objective_func(ABC):\n",
    "    @abstractmethod\n",
    "    def func(self, x):\n",
    "        pass\n",
    "    @abstractmethod\n",
    "    def dfunc(self, x):\n",
    "        pass\n",
    "    @abstractmethod\n",
    "    def get_optimal(self):\n",
    "        pass\n",
    "    @abstractmethod\n",
    "    def get_optimum(self):\n",
    "        pass\n",
    "    def visualise1d(self, lim, n):\n",
    "        ''' \n",
    "            lim: the visualisation scope [-lim, lim] in each dimension\n",
    "            n: the number of points used to interpolate between [-lim, lim]\n",
    "        '''\n",
    "        xs = np.linspace(-lim, lim, n)\n",
    "        fs = []\n",
    "        for x in xs:\n",
    "            fs.append(self.func(x))\n",
    "        ax = plt.plot(xs, fs)\n",
    "        return ax\n",
    "    def visualise2d(self, lim, n):\n",
    "        x, y = np.linspace(-lim, lim, n), np.linspace(-lim, lim, n)\n",
    "        xx, yy = np.meshgrid(x, y)\n",
    "        zz = np.zeros(xx.shape)\n",
    "        for j in range(n):\n",
    "            for i in range(n):\n",
    "                zz[j, i] = self.func(np.array([x[i], y[j]]))\n",
    "        fig = plt.figure(figsize=(7,7))\n",
    "        ax = fig.add_subplot(111)\n",
    "        sc = ax.scatter(x=xx.ravel(), y=yy.ravel(), c=zz.ravel(), cmap='YlGnBu')\n",
    "        ax.set_title(\"function value f(x1, x2)\")\n",
    "        ax.set_xlabel(\"x1 axis\")\n",
    "        ax.set_ylabel(\"x2 axis\")\n",
    "        ax.scatter(x=[self.optimal[0]], y=[self.optimal[1]], c='red', marker='x')\n",
    "        plt.colorbar(sc)\n",
    "        fig.show()\n",
    "        return ax\n",
    "    def visualise3d(self, lim, n):\n",
    "        x, y = np.linspace(-lim, lim, n), np.linspace(-lim, lim, n)\n",
    "        z = []\n",
    "        for i in y:\n",
    "            z_line = []\n",
    "            for j in x:\n",
    "                z_line.append(self.func(np.array([j,i])))\n",
    "            z.append(z_line)\n",
    "        fig = go.Figure(data=[go.Surface(z=z, x=x, y=y),  \\\n",
    "                              go.Scatter3d(x=[self.optimal[0]], y=[self.optimal[1]], z=[self.optimum])])\n",
    "        fig.update_layout(autosize=False,\n",
    "                          scene_camera_eye=dict(x=1.87, y=0.88, z=-0.64),\n",
    "                          width=500, height=500,\n",
    "                          margin=dict(l=65, r=50, b=65, t=90))\n",
    "        fig.show()\n",
    "    def visulise_gradient(self, lim, n):\n",
    "        x, y = np.linspace(-lim, lim, n), np.linspace(-lim, lim, n)\n",
    "        xx, yy = np.meshgrid(x, y)\n",
    "        zz = np.zeros((n, n, 2))\n",
    "        for j in range(len(y)):\n",
    "            for i in range(len(x)):\n",
    "                zz[j, i, :] = self.dfunc(np.array([x[i], y[j]]))\n",
    "        fig = plt.figure(figsize=(8,8))\n",
    "        ax = fig.add_subplot(111)\n",
    "        ax.quiver(xx,yy,zz[:,:,0],zz[:,:,1])\n",
    "        ax.scatter(x=[self.optimal[0]], y=[self.optimal[1]], c='red', marker='x')\n",
    "        fig.show()\n",
    "        return ax\n",
    "    def visualise2d_section(self, pos, dire):\n",
    "        ''' \n",
    "            pos: the position of cross-section\n",
    "            dire: along this direction/dimension to get cross-section\n",
    "        '''\n",
    "        fig = plt.figure(figsize=(4,4))\n",
    "        xs = np.linspace(-self.lim, self.lim, 301)\n",
    "        fs = []\n",
    "        if dire == 'x':\n",
    "            for x in xs:\n",
    "                fs.append(self.func(np.array([x, pos])))\n",
    "        else:\n",
    "            for x in xs:\n",
    "                fs.append(self.func(np.array([pos, x])))\n",
    "        ax = plt.plot(xs, fs)\n",
    "        if(isinstance(self, (ackley, tuned_ackley))):\n",
    "            plt.ylim((0,25))\n",
    "            plt.xlim((-25,25))\n",
    "        fig.show()\n",
    "        return ax\n",
    "    def visualize2d_section_gradient(self, pos, dire):\n",
    "        fig = plt.figure(figsize=(4,4))\n",
    "        xs = np.linspace(-self.lim, self.lim, 300)\n",
    "        dfs = []\n",
    "        if dire == 'x':\n",
    "            for x in xs:\n",
    "                dfs.append(self.dfunc(np.array([x, pos])))\n",
    "        else:\n",
    "            for x in xs:\n",
    "                dfs.append(self.dfunc(np.array([pos, x])))\n",
    "        dfs = np.array(dfs)\n",
    "        plt.plot(xs, dfs[:,0])\n",
    "        plt.plot(xs, dfs[:,1])\n",
    "        fig.show()"
   ]
  },
  {
   "cell_type": "markdown",
   "metadata": {},
   "source": [
    "### Ackley function\n",
    "\\begin{equation*}\n",
    "f(x) = -20 \\exp \\left( -\\frac{1}{5}\\sqrt{ \\frac{1}{d} \\sum_{i=1}^{d} x_i^2 }\\right) -\n",
    "\\exp\\left( \\frac{1}{d} \\sum_{i=1}^{d} \\cos\\left(2\\pi x_i \\right) \\right) + 20 + e, \\\\\n",
    "f'(x) = \\left(... , g\\left(x_j\\right), ...\\right)^d, \\\\\n",
    "g(x_j) = 4\\frac{x_j}{d\\sqrt{ \\frac{1}{2} \\sum_{i=1}^{2} x_i^2 } } \n",
    "\\exp \\left( -\\frac{1}{5}\\sqrt{ \\frac{1}{d} \\sum_{i=1}^{d} x_i^2 }\\right) +\n",
    "\\frac{2\\pi}{d} \\sin(2\\pi x_j) \\exp\\left( \\frac{1}{d} \\sum_{i=1}^{d} \\cos\\left(2\\pi x_i \\right) \\right),\\\\\n",
    "f^*(x^*)=0, x^*=(0)^d\n",
    "\\end{equation*}"
   ]
  },
  {
   "cell_type": "code",
   "execution_count": null,
   "metadata": {},
   "outputs": [],
   "source": [
    "class ackley(objective_func):\n",
    "    def __init__(self, dim=2):\n",
    "        self.optimum = 0\n",
    "        self.lim = 25\n",
    "        self.dim = dim\n",
    "        self.optimal = np.zeros((self.dim, ))\n",
    "    def func(self, x):\n",
    "        '''\n",
    "        the period of local minimum along each axis is 1, integer coordinate (1,1), (2,3)... \n",
    "        x and y is interchangeable\n",
    "        global minimum is 0 with arguments x=y=0\n",
    "        local minimums far away from orgin are 20\n",
    "        supremum is 20 + e - 1/e = 22.35\n",
    "        symmetric along x=0, y=0, y=x lines\n",
    "        disappearing global gradient when far away from optimal\n",
    "        '''\n",
    "        arg1 = -0.2 * np.sqrt(np.power(x, 2).mean())\n",
    "        arg2 = np.cos(2*np.pi*x).mean()\n",
    "        return -20. * np.exp(arg1) - np.exp(arg2) + 20. + np.e\n",
    "    def dfunc(self, x):\n",
    "        if np.linalg.norm(x) == 0:\n",
    "            return x\n",
    "        arg1 = -0.2 * np.sqrt(np.power(x, 2).mean())\n",
    "        arg2 = np.cos(2*np.pi*x).mean()\n",
    "        g = lambda xx: -0.8 * xx / arg1 * np.exp(arg1) / self.dim + 2 * np.pi * np.sin(2 * np.pi * xx) * np.exp(arg2) / self.dim\n",
    "        return g(x)\n",
    "    def get_optimal(self):\n",
    "        return self.optimal\n",
    "    def get_optimum(self):\n",
    "        return self.optimum\n",
    "a = ackley()\n",
    "print(\"check func value: expected:\", a.get_optimum(), \", actual:\", a.func(a.get_optimal()))\n",
    "print(\"check gradient: expected:[0,0], actual:\",a.dfunc(a.get_optimal()))"
   ]
  },
  {
   "cell_type": "code",
   "execution_count": null,
   "metadata": {},
   "outputs": [],
   "source": [
    "a.visualise1d(lim=15, n=300)"
   ]
  },
  {
   "cell_type": "code",
   "execution_count": null,
   "metadata": {},
   "outputs": [],
   "source": [
    "a.visualise2d_section(50.0, 'x')"
   ]
  },
  {
   "cell_type": "code",
   "execution_count": null,
   "metadata": {},
   "outputs": [],
   "source": [
    "a.visualise2d_section(25, 'x')"
   ]
  },
  {
   "cell_type": "code",
   "execution_count": null,
   "metadata": {},
   "outputs": [],
   "source": [
    "a.visualise2d_section(0, 'x')\n",
    "plt.title(\"original ackley, f(x1,0) cross section\")\n",
    "plt.xlabel(\"x1 axis\")\n",
    "plt.ylabel(\"function value\")"
   ]
  },
  {
   "cell_type": "code",
   "execution_count": null,
   "metadata": {},
   "outputs": [],
   "source": [
    "a.visualise2d(lim=5, n=100)\n",
    "plt.plot([0, 0], [-5, 5],  c='grey', lw=1, ls='-.')\n",
    "plt.plot([-5, 5], [0, 0],  c='grey', lw=1, ls='-.')\n",
    "plt.plot([-5, 5], [-5, 5], c='grey', lw=1, ls='-.')\n",
    "plt.plot([-5, 5], [5, -5],  c='grey', lw=1, ls='-.')"
   ]
  },
  {
   "cell_type": "code",
   "execution_count": null,
   "metadata": {},
   "outputs": [],
   "source": [
    "a.visualise3d(lim=2, n=50)"
   ]
  },
  {
   "cell_type": "code",
   "execution_count": null,
   "metadata": {},
   "outputs": [],
   "source": [
    "a.visulise_gradient(lim=2, n=50)"
   ]
  },
  {
   "cell_type": "markdown",
   "metadata": {},
   "source": [
    "### bukin function\n",
    "\\begin{equation*}\n",
    "f(x) = 100 \\sqrt{\\left|x_2 - 0.01x_1^2\\right|} + 0.01\\left|x_1 + 10\\right| \\\\\n",
    "f'(x) = \\left(-x_1\\frac{1}{\\sqrt{\\left|x_2 - 0.01x_1^2\\right|}} sgn(x_2 - 0.01x_1^2) + 0.01 sgn(x_1+10), \\;\\;\n",
    "\\frac{50}{\\sqrt{\\left|x_2 - 0.01x_1^2\\right|}} sgn(x_2 - 0.01x_1^2) \\right) \\\\\n",
    "f^*(x^*) = 0, x^*=(-10, 1)\n",
    "\\end{equation*}"
   ]
  },
  {
   "cell_type": "code",
   "execution_count": null,
   "metadata": {},
   "outputs": [],
   "source": [
    "class bukin(objective_func):\n",
    "    '''\n",
    "    non-disappearing gradient\n",
    "    large gradient and uncontinuous gradient around ridge/local optimal\n",
    "    optimum: 0\n",
    "    optimal: (-10, 1)\n",
    "    '''\n",
    "    def __init__(self):\n",
    "        self.optimal = np.array([-10, 1])\n",
    "        self.optimum = 0\n",
    "        self.lim = 15\n",
    "    def func(self, x):\n",
    "        return 100 * np.sqrt(np.abs(x[1] - 0.01 * x[0]**2)) + 0.01 * np.abs(x[0] + 10)\n",
    "    def dfunc(self, x):\n",
    "        arg1 = x[1] - 0.01 * x[0]**2\n",
    "        arg2 = 50 / np.sqrt(np.abs(arg1)) * np.sign(arg1) if arg1 != 0 else 0\n",
    "        return np.array([- 0.02 * x[0] * arg2 + 0.01 * np.sign(x[0] + 10), arg2])\n",
    "    def get_optimal(self):\n",
    "        return self.optimal\n",
    "    def get_optimum(self):\n",
    "        return self.optimum\n",
    "b = bukin()\n",
    "print(\"check func value: expected:\", b.get_optimum(), \", actual:\", b.func(b.get_optimal()))\n",
    "print(\"check gradient: expected:[0,0], actual:\", b.dfunc(b.get_optimal()))"
   ]
  },
  {
   "cell_type": "code",
   "execution_count": null,
   "metadata": {},
   "outputs": [],
   "source": [
    "b.visualise2d(lim=15, n=100)\n",
    "plt.xlabel(\"x1 axis\")\n",
    "plt.ylabel(\"x2 axis\")\n",
    "plt.title(\"function value of bukin\")"
   ]
  },
  {
   "cell_type": "code",
   "execution_count": null,
   "metadata": {},
   "outputs": [],
   "source": [
    "b.visualise2d_section(-10, 'y')"
   ]
  },
  {
   "cell_type": "code",
   "execution_count": null,
   "metadata": {},
   "outputs": [],
   "source": [
    "b.visualise2d_section(1, 'x')"
   ]
  },
  {
   "cell_type": "code",
   "execution_count": null,
   "metadata": {},
   "outputs": [],
   "source": [
    "b.visualise2d_section(0, 'x')"
   ]
  },
  {
   "cell_type": "code",
   "execution_count": null,
   "metadata": {},
   "outputs": [],
   "source": [
    "b.visualise3d(lim=15, n=30)"
   ]
  },
  {
   "cell_type": "code",
   "execution_count": null,
   "metadata": {},
   "outputs": [],
   "source": [
    "b.visulise_gradient(lim=15, n=50)"
   ]
  },
  {
   "cell_type": "code",
   "execution_count": null,
   "metadata": {},
   "outputs": [],
   "source": [
    "b.dfunc(np.array([100,1.1]))"
   ]
  },
  {
   "cell_type": "markdown",
   "metadata": {},
   "source": [
    "### eggholder function\n",
    "\n",
    "\\begin{equation*}\n",
    "f(x) = -\\left( x_2 + 47 \\right) \\sin\\left( \\sqrt{\\left|\\frac{x_1}{2} + (x_2 + 47)\\right|} \\right) -\n",
    "x_1\\sin\\left( \\sqrt{\\left|x_1 - \\left(x_2 + 47\\right)\\right|} \\right) + 959.6407, \\\\\n",
    "|x_1|, |x_2| \\leq 512 \\\\\n",
    "f'(x) = \\left(-\\sin \\left( \\sqrt{\\left| x'_2 \\right|} \\right) - \\frac{1}{2}(x_2 + 47)g(x'_1) - x_1 g(x'_2)     ,\\;\\; -\\sin \\left( \\sqrt{\\left| x'_1 \\right|} \\right) - (x_2 + 47)g(x'_1) + x_1 g(x'_2)   \\right)\\\\\n",
    "g(x'_j) = \\cos\\left( \\sqrt{\\left|x'_j\\right|} \\right) \\frac{1}{2\\sqrt{\\left|x'_j\\right|}} sgn(x'_j)  \\\\\n",
    "x'_1 = \\frac{x_1}{2} + (x_2 + 47), \\\\\n",
    "x'_2 = x_1 - (x_2 + 47)\\\\\n",
    "f^*(x^*)=0, x^*=(512, 404.2319)\n",
    "\\end{equation*}\n",
    "\n",
    "\n",
    "\n"
   ]
  },
  {
   "cell_type": "code",
   "execution_count": null,
   "metadata": {},
   "outputs": [],
   "source": [
    "class eggholder(objective_func):\n",
    "    # evaluated domain: \n",
    "    def __init__(self):\n",
    "        self.optimal = np.array([522, 413])\n",
    "        self.optimum = 0\n",
    "        self.lim = 550\n",
    "    def func(self, x):\n",
    "        if np.abs(x[0]) > self.lim or np.abs(x[1]) > self.lim:\n",
    "            return 2e3\n",
    "        arg1 = x[0]/2 + (x[1] + 47) \n",
    "        arg2 = x[0]   - (x[1] + 47)\n",
    "        f = lambda xx: np.sin(np.sqrt(np.abs(xx)))\n",
    "        return -(x[1] + 47) * f(arg1) - x[0] * f(arg2) + 976.873\n",
    "    def dfunc(self, x):\n",
    "        if np.abs(x[0]) > self.lim or np.abs(x[1]) > self.lim:\n",
    "            return np.array([0, 0])\n",
    "        arg1 = x[0]/2 + (x[1] + 47) \n",
    "        arg2 = x[0]   - (x[1] + 47)\n",
    "        g = lambda xx: np.cos(np.sqrt(np.abs(xx)))/np.sqrt(np.abs(xx))/2*np.sign(xx)\n",
    "        f1 = (x[1] + 47) * g(arg1)\n",
    "        f2 = x[0] * g(arg2)\n",
    "        return np.array([-f1/2 - np.sin(np.sqrt(np.abs(arg2))) - f2, \\\n",
    "                         -f1   - np.sin(np.sqrt(np.abs(arg1))) + f2])\n",
    "    def get_optimal(self):\n",
    "        return self.optimal\n",
    "    def get_optimum(self):\n",
    "        return self.optimum\n",
    "e = eggholder()\n",
    "e.get_optimal()\n",
    "print(\"check func value: expected:\", e.get_optimum(), \", actual:\", e.func(e.get_optimal()))\n",
    "print(\"check gradient: expected:[0,0], actual:\", e.dfunc(e.get_optimal()))"
   ]
  },
  {
   "cell_type": "code",
   "execution_count": null,
   "metadata": {},
   "outputs": [],
   "source": [
    "e.visualise2d(lim=550, n=100)"
   ]
  },
  {
   "cell_type": "code",
   "execution_count": null,
   "metadata": {},
   "outputs": [],
   "source": [
    "e.visualise2d_section(e.get_optimal()[1], 'x')"
   ]
  },
  {
   "cell_type": "code",
   "execution_count": null,
   "metadata": {},
   "outputs": [],
   "source": [
    "e.visualise2d_section(e.get_optimal()[0], 'y')"
   ]
  },
  {
   "cell_type": "code",
   "execution_count": null,
   "metadata": {},
   "outputs": [],
   "source": [
    "e.visualise3d(lim=600, n=100)"
   ]
  },
  {
   "cell_type": "code",
   "execution_count": null,
   "metadata": {},
   "outputs": [],
   "source": [
    "e.visulise_gradient(lim=550, n=50)"
   ]
  },
  {
   "cell_type": "code",
   "execution_count": null,
   "metadata": {},
   "outputs": [],
   "source": [
    "e.visulise_gradient(lim=550, n=50)"
   ]
  },
  {
   "cell_type": "markdown",
   "metadata": {},
   "source": [
    "### tuned Ackley function\n",
    "\\begin{equation*}\n",
    "f(x) = -20 \\exp\\left(-\\frac{1}{5} \\sqrt{\\frac{1}{d}\\sum_{i=1}^d x_i^2}\\right) - \\frac{1}{10}\\left(-\\frac{1}{5} \\sqrt{\\frac{1}{d}\\sum_{i=1}^d x_i^2}\\right)^4  \\exp\\left( \\frac{1}{2d}\\sum_{i=1}^d \\cos\\left( \\pi x_i\\right)\\right) + 20\\\\\n",
    "f'(x) = \\left( g\\left(x_1\\right), \\;\\; g\\left(x_2\\right)\\right), \\\\\n",
    "g(x_j) = 4\\frac{x_j}{d\\sqrt{ \\frac{1}{d} \\sum_{i=1}^{d} x_i^2 } } \\exp \\left( -\\frac{1}{5}\\sqrt{ \\frac{1}{d} \\sum_{i=1}^{d} x_i^2 }\\right) \\\\+ \\frac{\\pi}{20d}\\left(-\\frac{1}{5} \\sqrt{\\frac{1}{d}\\sum_{i=1}^d x_i^2}\\right)^4 \\sin(\\pi x_j) \\exp\\left( \\frac{1}{2d} \\sum_{i=1}^{d} \\cos\\left(\\pi x_i \\right) \\right)\\\\-\\frac{4}{6250d^2}\\exp\\left( \\frac{1}{2d} \\sum_{i=1}^{d} \\cos\\left(\\pi x_i \\right) \\right) \\left(\\sum_{i=1}^{d} x_i^2\\right) x_j \\\\\n",
    "f^*(x^*) = e, x^*=(0,0)\n",
    "\\end{equation*}\n"
   ]
  },
  {
   "cell_type": "code",
   "execution_count": null,
   "metadata": {},
   "outputs": [],
   "source": [
    "class tuned_ackley(objective_func):\n",
    "    # evaluated domain: circle with radius 19\n",
    "    def __init__(self, lim=22, dim=2):\n",
    "        self.optimum = 0\n",
    "        self.lim = lim\n",
    "        self.dim = dim\n",
    "        self.optimal = np.zeros((self.dim, ))\n",
    "    def func(self, x):\n",
    "        '''\n",
    "        the period of local minimum along each axis is 1, integer coordinate (1,1), (2,3)... \n",
    "        x and y is interchangeable\n",
    "        global minimum is 0 with arguments x=y=0\n",
    "        symmetric along x=0, y=0, y=x lines\n",
    "        disappearing global gradient when far away from optimal\n",
    "        '''\n",
    "        if np.linalg.norm(x) > self.lim:\n",
    "            return 5e1\n",
    "        arg1 = -0.2 * np.sqrt(np.power(x, 2).mean())\n",
    "        arg2 = 0.5 * np.cos(np.pi*x).mean()\n",
    "        return -20. * np.exp(arg1) - 0.1 * arg1**4 * np.exp(arg2) + 20.\n",
    "    def dfunc(self, x):\n",
    "        if np.linalg.norm(x) == 0:\n",
    "            return x\n",
    "        elif np.linalg.norm(x) > self.lim:\n",
    "            return np.zeros((self.dim, ))\n",
    "        arg1 = -0.2 * np.sqrt(np.power(x, 2).mean())\n",
    "        arg2 = 0.5 * np.cos(np.pi*x).mean()\n",
    "        g = lambda xx: -0.8 * xx / arg1 * np.exp(arg1) / self.dim + np.pi/20 * arg1**4 * np.sin(np.pi * xx) * np.exp(arg2) / self.dim \\\n",
    "                         - 4 * xx/6250 * np.exp(arg2) * np.power(x, 2).sum() / self.dim**2\n",
    "        return g(x)\n",
    "    def get_optimal(self):\n",
    "        return self.optimal\n",
    "    def get_optimum(self):\n",
    "        return self.optimum\n",
    "    def visualise2d_section(self, pos, dire):\n",
    "        super().visualise2d_section(pos, dire)\n",
    "        '''   plt.plot([-25, 25], [15.67, 15.67], label='y=15.67')\n",
    "        plt.plot([-25, 25], [3.63, 3.66], label='y=3.66')\n",
    "        plt.plot([12.96, 12.96], [0, 50], label='x=12.96')\n",
    "        plt.plot([22, 22], [0, 50], label='x=22')\n",
    "  '''\n",
    "        plt.plot([22, 22], [3.26, 25], c='#1f77b4')\n",
    "        plt.plot([-22, -22], [3.26, 25], c='#1f77b4')\n",
    "        \n",
    "at = tuned_ackley()\n",
    "print(\"check func value at optimal is\", at.get_optimum(), \"(optimuam): \", at.func(at.get_optimal()))\n",
    "print(\"check gradient is (0,0): \",at.dfunc(at.get_optimal()))"
   ]
  },
  {
   "cell_type": "code",
   "execution_count": null,
   "metadata": {},
   "outputs": [],
   "source": [
    "at.func(np.array([22,0]))"
   ]
  },
  {
   "cell_type": "code",
   "execution_count": null,
   "metadata": {},
   "outputs": [],
   "source": [
    "at.func(np.zeros(10,))"
   ]
  },
  {
   "cell_type": "code",
   "execution_count": null,
   "metadata": {},
   "outputs": [],
   "source": [
    "at.visualise2d_section(0, 'x')\n",
    "plt.title(\"tuned ackley, f(x1,0) cross section\")\n",
    "plt.xlabel(\"x1 axis\")\n",
    "plt.ylabel(\"function value\")"
   ]
  },
  {
   "cell_type": "code",
   "execution_count": null,
   "metadata": {},
   "outputs": [],
   "source": [
    "at.visualize2d_section_gradient(0, 'x')"
   ]
  },
  {
   "cell_type": "code",
   "execution_count": null,
   "metadata": {},
   "outputs": [],
   "source": [
    "at.visualise3d(lim=25, n=150)"
   ]
  },
  {
   "cell_type": "code",
   "execution_count": null,
   "metadata": {},
   "outputs": [],
   "source": [
    "at.visualise2d(lim=25, n=150)"
   ]
  },
  {
   "cell_type": "code",
   "execution_count": null,
   "metadata": {},
   "outputs": [],
   "source": [
    "at.visulise_gradient(lim=25, n=51)"
   ]
  },
  {
   "cell_type": "code",
   "execution_count": null,
   "metadata": {},
   "outputs": [],
   "source": []
  }
 ],
 "metadata": {
  "kernelspec": {
   "display_name": "Python 2",
   "language": "python",
   "name": "python2"
  },
  "language_info": {
   "codemirror_mode": {
    "name": "ipython",
    "version": 3
   },
   "file_extension": ".py",
   "mimetype": "text/x-python",
   "name": "python",
   "nbconvert_exporter": "python",
   "pygments_lexer": "ipython3",
   "version": "3.7.7"
  }
 },
 "nbformat": 4,
 "nbformat_minor": 4
}
