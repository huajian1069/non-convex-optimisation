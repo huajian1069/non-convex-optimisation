{
 "cells": [
  {
   "cell_type": "code",
   "execution_count": 3,
   "metadata": {},
   "outputs": [],
   "source": [
    "from library.objective_function import *\n",
    "from library.optimiser import *\n",
    "from library.post_analysis import *\n",
    "from library.experiments import *\n",
    "%matplotlib inline\n",
    "SEED = 1231"
   ]
  },
  {
   "cell_type": "code",
   "execution_count": 4,
   "metadata": {},
   "outputs": [],
   "source": [
    "def do_multiple_exps(obj, opt, zoneParas):\n",
    "    np.random.seed(SEED)\n",
    "    \n",
    "    # init multiple experiments\n",
    "    mexps = multiple_experiment()\n",
    "\n",
    "    # init one experiment\n",
    "    exp = single_experiment()\n",
    "    \n",
    "    # One experiment: setup objective function and optimiser\n",
    "    exp.set_objective(obj)\n",
    "    exp.set_optimizer(opt)\n",
    "\n",
    "    # Multiple experiment: setup one expreiment\n",
    "    mexps.set_single_exp(exp)\n",
    "    # Multiple experiment: setup sample zone    \n",
    "    mexps.set_sample_zone(zoneParas)\n",
    "    \n",
    "    data = mexps.do()\n",
    "    \n",
    "    return data"
   ]
  },
  {
   "cell_type": "code",
   "execution_count": 7,
   "metadata": {},
   "outputs": [
    {
     "name": "stderr",
     "output_type": "stream",
     "text": [
      "/Users/huajian/Non-convex/library/objective_function.py:176: RuntimeWarning:\n",
      "\n",
      "divide by zero encountered in double_scalars\n",
      "\n",
      "/Users/huajian/Non-convex/library/objective_function.py:176: RuntimeWarning:\n",
      "\n",
      "invalid value encountered in double_scalars\n",
      "\n"
     ]
    },
    {
     "name": "stdout",
     "output_type": "stream",
     "text": [
      "cost: 330.7446182005433, prob: 0.0\n",
      "complete: 2 / 4 \n",
      "cost: 270.62116424046513, prob: 0.1\n",
      "complete: 4 / 4 \n",
      "avg probility of convergence:  0.025\n",
      "avg cost:  312.83334313370943\n",
      "avg evals per exp:  30259.8\n",
      "total time: 29.350615978240967,  time per eval:6.0622128984331045e-05\n",
      "\n"
     ]
    }
   ],
   "source": [
    "# 1 optimiser\n",
    "inner_opt = line_search()\n",
    "innerOptParas = {\n",
    "    'x0': None,\n",
    "    'alpha': 1,\n",
    "    'beta': 0.1, \n",
    "    'max_iter': 100,\n",
    "    'tol': 1e-2,              \n",
    "    'verbose': False,\n",
    "    'record': False\n",
    "}\n",
    "inner_opt.set_parameters(innerOptParas)\n",
    "\n",
    "opt = cma_es()\n",
    "optParas ={'x0': np.zeros((2,)),\n",
    "           'std': np.ones((2,)) * 3, \n",
    "           'tol': 1e-3, \n",
    "           'adjust_func': inner_opt, \n",
    "           'record': False, \n",
    "           'verbose': False}\n",
    "opt.set_parameters(optParas)\n",
    "\n",
    "# 2 objective function\n",
    "obj = eggholder()\n",
    "\n",
    "# 3 setup sample zone of multiple experiments\n",
    "zoneParas = {'origin': np.array([-550,-550]),\n",
    "             'edge': np.array([1100, 1100]),\n",
    "             'step': 550,\n",
    "             'size': 10,\n",
    "             'sym': False}\n",
    "\n",
    "data = do_multiple_exps(obj, opt, zoneParas)"
   ]
  },
  {
   "cell_type": "code",
   "execution_count": null,
   "metadata": {},
   "outputs": [],
   "source": []
  }
 ],
 "metadata": {
  "kernelspec": {
   "display_name": "Python [conda env:miniconda3-ada] *",
   "language": "python",
   "name": "conda-env-miniconda3-ada-py"
  },
  "language_info": {
   "codemirror_mode": {
    "name": "ipython",
    "version": 3
   },
   "file_extension": ".py",
   "mimetype": "text/x-python",
   "name": "python",
   "nbconvert_exporter": "python",
   "pygments_lexer": "ipython3",
   "version": "3.7.4"
  }
 },
 "nbformat": 4,
 "nbformat_minor": 4
}
