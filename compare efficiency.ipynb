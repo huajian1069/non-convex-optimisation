{
 "cells": [
  {
   "cell_type": "code",
   "execution_count": 2,
   "metadata": {},
   "outputs": [],
   "source": [
    "from library.objective_function import *\n",
    "from library.optimiser import *\n",
    "from library.post_analysis import *\n",
    "from library.experiments import *\n",
    "%matplotlib inline"
   ]
  },
  {
   "cell_type": "markdown",
   "metadata": {},
   "source": [
    "**naming of objective function**\n",
    "ackley -> ak \n",
    "\n",
    "tuned ackley -> tak\n",
    "\n",
    "bukin -> bk\n",
    "\n",
    "egg holder -> eh\n",
    "\n",
    "**naming of optimizer**\n",
    "\n",
    "original CMA -> no\n",
    "\n",
    "line search CMA-> ls\n",
    "\n",
    "round off CMA-> ro\n",
    "\n",
    "**naming of experiments**\n",
    "\n",
    "experiments -> exps + objective function + optimizer + [hyperparameter]"
   ]
  },
  {
   "cell_type": "markdown",
   "metadata": {},
   "source": [
    "## orginal CMA + original Ackley"
   ]
  },
  {
   "cell_type": "code",
   "execution_count": 2,
   "metadata": {},
   "outputs": [
    {
     "name": "stdout",
     "output_type": "stream",
     "text": [
      "CPU times: user 13.9 s, sys: 101 ms, total: 14 s\n",
      "Wall time: 14.2 s\n"
     ]
    }
   ],
   "source": [
    "np.random.seed(23191)\n",
    "\n",
    "# init multiple experiments\n",
    "exps_ak_no = multiple_experiment()\n",
    "\n",
    "# init and setup one experiment\n",
    "exp = single_experiment()\n",
    "\n",
    "# One experiment: setup objective function\n",
    "ak = ackley()\n",
    "exp.set_objective(ak)\n",
    "\n",
    "# One experiment: setup optimizer\n",
    "cma = cma_es()\n",
    "optmizerParas = {'x0': np.zeros((2,)),\n",
    "         'std': np.ones((2,)) * 3, \n",
    "         'tol': 1e-5, \n",
    "         'adjust_func': do_nothing(), \n",
    "         'record': False, \n",
    "         'verbose': False}\n",
    "cma.set_parameters(optmizerParas)\n",
    "exp.set_optimizer(cma)\n",
    "\n",
    "# Multiple experiment: setup one expreiment\n",
    "exps_ak_no.set_single_exp(exp)\n",
    "\n",
    "\n",
    "# Multiple experiments: setup sample zone of multiple experiments\n",
    "zoneParas = {'origin': np.array([0,0]),\n",
    "             'edge': np.array([500, 500]),\n",
    "             'step': 100,\n",
    "             'size': 10,\n",
    "             'sym': True}\n",
    "exps_ak_no.set_sample_zone(zoneParas)\n",
    "\n",
    "%time data_exps_ak_no = exps_ak_no.do()"
   ]
  },
  {
   "cell_type": "code",
   "execution_count": 77,
   "metadata": {
    "scrolled": true
   },
   "outputs": [
    {
     "data": {
      "text/plain": [
       "15.0"
      ]
     },
     "execution_count": 77,
     "metadata": {},
     "output_type": "execute_result"
    }
   ],
   "source": [
    "num = zoneParas['edge'][0] / zoneParas['step']\n",
    "num = (num + 1) * num / 2\n",
    "num"
   ]
  },
  {
   "cell_type": "code",
   "execution_count": 19,
   "metadata": {},
   "outputs": [
    {
     "data": {
      "text/plain": [
       "0.02666666666666667"
      ]
     },
     "execution_count": 19,
     "metadata": {},
     "output_type": "execute_result"
    }
   ],
   "source": [
    "data_exps_ak_no['res'].sum() / num"
   ]
  },
  {
   "cell_type": "code",
   "execution_count": 22,
   "metadata": {},
   "outputs": [
    {
     "data": {
      "text/plain": [
       "1459.48"
      ]
     },
     "execution_count": 22,
     "metadata": {},
     "output_type": "execute_result"
    }
   ],
   "source": [
    "data_exps_ak_no['evals'].sum() / num"
   ]
  },
  {
   "cell_type": "markdown",
   "metadata": {},
   "source": [
    "## line-search CMA + original Ackley"
   ]
  },
  {
   "cell_type": "code",
   "execution_count": 23,
   "metadata": {},
   "outputs": [
    {
     "name": "stderr",
     "output_type": "stream",
     "text": [
      "/Users/huajian/Non-convex/library/optimiser.py:199: RuntimeWarning:\n",
      "\n",
      "invalid value encountered in sqrt\n",
      "\n",
      "/Users/huajian/miniconda3/envs/ada/lib/python3.7/site-packages/numpy/core/fromnumeric.py:83: RuntimeWarning:\n",
      "\n",
      "invalid value encountered in reduce\n",
      "\n",
      "/Users/huajian/Non-convex/library/optimiser.py:90: RuntimeWarning:\n",
      "\n",
      "invalid value encountered in less\n",
      "\n",
      "/Users/huajian/Non-convex/library/optimiser.py:93: RuntimeWarning:\n",
      "\n",
      "invalid value encountered in less\n",
      "\n"
     ]
    },
    {
     "name": "stdout",
     "output_type": "stream",
     "text": [
      "diverge, raise LinAlgError!\n",
      "CPU times: user 2min 59s, sys: 231 ms, total: 3min\n",
      "Wall time: 3min\n"
     ]
    }
   ],
   "source": [
    "np.random.seed(23191)\n",
    "\n",
    "# init multiple experiments\n",
    "exps_ak_ls = multiple_experiment()\n",
    "\n",
    "# init and setup one experiment\n",
    "exp = single_experiment()\n",
    "\n",
    "# One experiment: setup objective function\n",
    "ak = ackley()\n",
    "exp.set_objective(ak)\n",
    "\n",
    "# One experiment: setup optimizer\n",
    "cma = cma_es()\n",
    "optmizerParas = {'x0': np.zeros((2,)),\n",
    "         'std': np.ones((2,)) * 3, \n",
    "         'tol': 1e-5, \n",
    "         'adjust_func': line_search(), \n",
    "         'record': False, \n",
    "         'verbose': False}\n",
    "cma.set_parameters(optmizerParas)\n",
    "exp.set_optimizer(cma)\n",
    "\n",
    "# Multiple experiment: setup one expreiment\n",
    "exps_ak_ls.set_single_exp(exp)\n",
    "\n",
    "\n",
    "# Multiple experiments: setup sample zone of multiple experiments\n",
    "zoneParas = {'origin': np.array([0,0]),\n",
    "             'edge': np.array([500, 500]),\n",
    "             'step': 100,\n",
    "             'size': 10,\n",
    "             'sym': True}\n",
    "exps_ak_ls.set_sample_zone(zoneParas)\n",
    "\n",
    "%time data_ak_ls = exps_ak_ls.do()"
   ]
  },
  {
   "cell_type": "code",
   "execution_count": 27,
   "metadata": {},
   "outputs": [
    {
     "data": {
      "text/plain": [
       "0.4133333333333333"
      ]
     },
     "execution_count": 27,
     "metadata": {},
     "output_type": "execute_result"
    }
   ],
   "source": [
    "data_ak_ls['res'].sum() / num"
   ]
  },
  {
   "cell_type": "code",
   "execution_count": 29,
   "metadata": {},
   "outputs": [
    {
     "data": {
      "text/plain": [
       "70947.87333333334"
      ]
     },
     "execution_count": 29,
     "metadata": {},
     "output_type": "execute_result"
    }
   ],
   "source": [
    "data_ak_ls['evals'].sum() / num"
   ]
  },
  {
   "cell_type": "code",
   "execution_count": null,
   "metadata": {},
   "outputs": [],
   "source": []
  },
  {
   "cell_type": "markdown",
   "metadata": {},
   "source": [
    "## adam + original Ackley"
   ]
  },
  {
   "cell_type": "code",
   "execution_count": 53,
   "metadata": {},
   "outputs": [
    {
     "name": "stdout",
     "output_type": "stream",
     "text": [
      "CPU times: user 441 ms, sys: 72.8 ms, total: 514 ms\n",
      "Wall time: 491 ms\n"
     ]
    }
   ],
   "source": [
    "np.random.seed(23191)\n",
    "\n",
    "# init multiple experiments\n",
    "exps_ak_ad = multiple_experiment()\n",
    "\n",
    "# init and setup one experiment\n",
    "exp = single_experiment()\n",
    "\n",
    "# One experiment: setup objective function\n",
    "ak = ackley()\n",
    "exp.set_objective(ak)\n",
    "\n",
    "# One experiment: setup optimizer\n",
    "ad = adam()\n",
    "optmizerParas = {'x0': np.zeros((2,)),\n",
    "         'alpha': 1,\n",
    "         'beta_1': 0.9, \n",
    "         'beta_2': 0.999, \n",
    "         'epsilon': 1e-8, \n",
    "         'max_iter': 1000,\n",
    "         'tol': 1e-2,              \n",
    "         'verbose': False,\n",
    "         'record': False}\n",
    "ad.set_parameters(optmizerParas)\n",
    "exp.set_optimizer(ad)\n",
    "\n",
    "# Multiple experiment: setup one expreiment\n",
    "exps_ak_ad.set_single_exp(exp)\n",
    "\n",
    "\n",
    "# Multiple experiments: setup sample zone of multiple experiments\n",
    "zoneParas = {'origin': np.array([0,0]),\n",
    "             'edge': np.array([500, 500]),\n",
    "             'step': 100,\n",
    "             'size': 10,\n",
    "             'sym': True}\n",
    "exps_ak_ad.set_sample_zone(zoneParas)\n",
    "\n",
    "%time data_ak_ad = exps_ak_ad.do()"
   ]
  },
  {
   "cell_type": "code",
   "execution_count": 55,
   "metadata": {},
   "outputs": [
    {
     "data": {
      "text/plain": [
       "62.82"
      ]
     },
     "execution_count": 55,
     "metadata": {},
     "output_type": "execute_result"
    }
   ],
   "source": [
    "num = 15\n",
    "data_ak_ad['evals'].sum() / num"
   ]
  },
  {
   "cell_type": "code",
   "execution_count": 80,
   "metadata": {},
   "outputs": [
    {
     "data": {
      "text/plain": [
       "0.0"
      ]
     },
     "execution_count": 80,
     "metadata": {},
     "output_type": "execute_result"
    }
   ],
   "source": [
    "data_ak_ad['res'].sum() / num"
   ]
  },
  {
   "cell_type": "markdown",
   "metadata": {},
   "source": [
    "## summary on original ackley\n",
    "| -- |original CMA | line search - CMA(medium step size) | adam |\n",
    "| -- | -- | -- | -- | \n",
    "| #experiments| 150 experiments | 150 experiments | 150 experiments |\n",
    "| total time| 13.1 s | 180 s | 0.5 s |\n",
    "| evalutaions per exp | 1.46 k evals |  7.1 k evals |  0.063 k evals |\n",
    "| -- | -- | -- | --|\n",
    "| probability |  0.03  | 0.41 | 0 |"
   ]
  },
  {
   "cell_type": "markdown",
   "metadata": {},
   "source": [
    "## adm + bukin func"
   ]
  },
  {
   "cell_type": "code",
   "execution_count": null,
   "metadata": {},
   "outputs": [],
   "source": [
    "np.random.seed(23191)\n",
    "\n",
    "# init multiple experiments\n",
    "exps_bk_ad = multiple_experiment()\n",
    "\n",
    "# init and setup one experiment\n",
    "exp = single_experiment()\n",
    "\n",
    "# One experiment: setup objective function\n",
    "bk = bukin()\n",
    "exp.set_objective(bk)\n",
    "\n",
    "# One experiment: setup optimizer\n",
    "ad = adam()\n",
    "optmizerParas = {'x0': np.zeros((2,)),\n",
    "         'alpha': 0.01,\n",
    "         'beta_1': 0.9, \n",
    "         'beta_2': 0.999, \n",
    "         'epsilon': 1e-8, \n",
    "         'max_iter': 1000,\n",
    "         'tol': 1e-2,              \n",
    "         'verbose': False,\n",
    "         'record': False}\n",
    "ad.set_parameters(optmizerParas)\n",
    "exp.set_optimizer(ad)\n",
    "\n",
    "# Multiple experiment: setup one expreiment\n",
    "exps_bk_ad.set_single_exp(exp)\n",
    "\n",
    "\n",
    "# Multiple experiments: setup sample zone of multiple experiments\n",
    "zoneParas = {'origin': np.array([0,0]),\n",
    "             'edge': np.array([50, 500]),\n",
    "             'step': 100,\n",
    "             'size': 10,\n",
    "             'sym': True}\n",
    "exps_bk_ad.set_sample_zone(zoneParas)\n",
    "\n",
    "%time data_bk_ad = exps_bk_ad.do()"
   ]
  },
  {
   "cell_type": "code",
   "execution_count": null,
   "metadata": {},
   "outputs": [],
   "source": []
  },
  {
   "cell_type": "markdown",
   "metadata": {},
   "source": [
    "## find the best setp size of Adam"
   ]
  },
  {
   "cell_type": "code",
   "execution_count": 52,
   "metadata": {},
   "outputs": [
    {
     "name": "stdout",
     "output_type": "stream",
     "text": [
      "\n",
      "Result:  local minimum\n",
      "found minimum: 20.258668885856377, minimum position: [137.05088811   2.08809206], evals: 1000\n",
      "Cost:  20.258668885856377\n"
     ]
    }
   ],
   "source": [
    "# init and setup one experiment\n",
    "exp = single_experiment()\n",
    "\n",
    "# One experiment: setup objective function\n",
    "ak = ackley()\n",
    "exp.set_objective(ak)\n",
    "\n",
    "# One experiment: setup optimizer\n",
    "ad = adam()\n",
    "optmizerParas = {'x0': np.array([133.963,23.2323]),\n",
    "         'alpha': 2e0,\n",
    "         'beta_1': 0.9, \n",
    "         'beta_2': 0.999, \n",
    "         'epsilon': 1e-8, \n",
    "         'max_iter': 1000,\n",
    "         'tol': 1e-5,              \n",
    "         'verbose': True,\n",
    "         'record': True}\n",
    "ad.set_parameters(optmizerParas)\n",
    "exp.set_optimizer(ad)\n",
    "exp.do()"
   ]
  },
  {
   "cell_type": "code",
   "execution_count": 72,
   "metadata": {},
   "outputs": [
    {
     "name": "stdout",
     "output_type": "stream",
     "text": [
      "\n",
      "Result:  local minimum\n",
      "Cost_val 20.003733434069357\n",
      "\n",
      "Result:  local minimum\n",
      "Cost_val 20.02543578963327\n",
      "\n",
      "Result:  local minimum\n",
      "Cost_val 20.00040829469172\n",
      "\n",
      "Result:  local minimum\n",
      "Cost_val 20.000003981849826\n",
      "\n",
      "Result:  local minimum\n",
      "Cost_val 19.999999938249736\n",
      "\n",
      "Result:  local minimum\n",
      "Cost_val 19.999999897814142\n",
      "\n",
      "Result:  local minimum\n",
      "Cost_val 19.999999897409833\n",
      "\n",
      "Result:  local minimum\n",
      "Cost_val 19.999999897405793\n",
      "\n",
      "Result:  local minimum\n",
      "Cost_val 19.999999897405754\n",
      "\n",
      "Result:  local minimum\n",
      "Cost_val 19.999999897405754\n"
     ]
    }
   ],
   "source": [
    "for i in range(0, 10):\n",
    "    # One experiment: setup optimizer\n",
    "    ad = adam()\n",
    "    optmizerParas = {'x0': np.array([133,23]),\n",
    "             'alpha': np.power(0.1, i),\n",
    "             'beta_1': 0.9, \n",
    "             'beta_2': 0.999, \n",
    "             'epsilon': 1e-8, \n",
    "             'max_iter': 1000,\n",
    "             'tol': 1e-2,              \n",
    "             'verbose': True,\n",
    "             'record': True}\n",
    "    ad.set_parameters(optmizerParas)\n",
    "    exp.set_optimizer(ad)\n",
    "    exp.do()"
   ]
  },
  {
   "cell_type": "code",
   "execution_count": null,
   "metadata": {},
   "outputs": [],
   "source": []
  },
  {
   "cell_type": "code",
   "execution_count": 71,
   "metadata": {},
   "outputs": [
    {
     "name": "stdout",
     "output_type": "stream",
     "text": [
      "\n",
      "Result:  local minimum\n",
      "Cost_val 20.003733434069357\n",
      "\n",
      "Result:  local minimum\n",
      "Cost_val 20.117767201513793\n",
      "\n",
      "Result:  local minimum\n",
      "Cost_val 20.756142458199538\n",
      "\n",
      "Result:  local minimum\n",
      "Cost_val 21.957637571413972\n",
      "\n",
      "Result:  local minimum\n",
      "Cost_val 21.82917204691484\n",
      "\n",
      "Result:  local minimum\n",
      "Cost_val 21.068612259536778\n",
      "\n",
      "Result:  local minimum\n",
      "Cost_val 21.75169247669363\n",
      "\n",
      "Result:  local minimum\n",
      "Cost_val 21.242426070444008\n",
      "\n",
      "Result:  local minimum\n",
      "Cost_val 21.64601113809763\n",
      "\n",
      "Result:  local minimum\n",
      "Cost_val 21.391802740896953\n"
     ]
    }
   ],
   "source": [
    "for i in range(0, 10):\n",
    "    # One experiment: setup optimizer\n",
    "    ad = adam()\n",
    "    optmizerParas = {'x0': np.array([133,23]),\n",
    "             'alpha': np.power(10, i),\n",
    "             'beta_1': 0.9, \n",
    "             'beta_2': 0.999, \n",
    "             'epsilon': 1e-8, \n",
    "             'max_iter': 1000,\n",
    "             'tol': 1e-2,              \n",
    "             'verbose': True,\n",
    "             'record': True}\n",
    "    ad.set_parameters(optmizerParas)\n",
    "    exp.set_optimizer(ad)\n",
    "    exp.do()"
   ]
  }
 ],
 "metadata": {
  "kernelspec": {
   "display_name": "Python [conda env:miniconda3-ada] *",
   "language": "python",
   "name": "conda-env-miniconda3-ada-py"
  },
  "language_info": {
   "codemirror_mode": {
    "name": "ipython",
    "version": 3
   },
   "file_extension": ".py",
   "mimetype": "text/x-python",
   "name": "python",
   "nbconvert_exporter": "python",
   "pygments_lexer": "ipython3",
   "version": "3.7.4"
  }
 },
 "nbformat": 4,
 "nbformat_minor": 4
}
