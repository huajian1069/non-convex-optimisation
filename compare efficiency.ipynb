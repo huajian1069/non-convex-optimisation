{
 "cells": [
  {
   "cell_type": "code",
   "execution_count": 1,
   "metadata": {},
   "outputs": [],
   "source": [
    "from library.objective_function import *\n",
    "from library.optimiser import *\n",
    "from library.post_analysis import *\n",
    "from library.experiments import *\n",
    "%matplotlib inline\n",
    "SEED = 23191"
   ]
  },
  {
   "cell_type": "markdown",
   "metadata": {},
   "source": [
    "**naming of objective function**\n",
    "ackley -> ak \n",
    "\n",
    "tuned ackley -> tak\n",
    "\n",
    "bukin -> bk\n",
    "\n",
    "egg holder -> eh\n",
    "\n",
    "**naming of optimizer**\n",
    "\n",
    "original CMA -> no\n",
    "\n",
    "line search CMA-> ls\n",
    "\n",
    "round off CMA-> ro\n",
    "\n",
    "**naming of experiments**\n",
    "\n",
    "experiments -> exps + objective function + optimizer + [hyperparameter]"
   ]
  },
  {
   "cell_type": "code",
   "execution_count": 3,
   "metadata": {},
   "outputs": [],
   "source": [
    "def setup_compsite_cma(inner_opt):\n",
    "    # One experiment: setup optimizer\n",
    "    cma = cma_es()\n",
    "    optmizerParas = {\n",
    "             'x0': np.zeros((2,)),\n",
    "             'std': np.ones((2,)) * 3, \n",
    "             'tol': 1e-5, \n",
    "             'adjust_func': inner_opt, \n",
    "             'record': False, \n",
    "             'verbose': False}\n",
    "    cma.set_parameters(optmizerParas)\n",
    "    return cma\n",
    "    \n",
    "def conmpare_efficency_ackley(optimizer, seed):\n",
    "    np.random.seed(seed)\n",
    "\n",
    "    # init multiple experiments\n",
    "    mexps = multiple_experiment()\n",
    "\n",
    "    # init and setup one experiment\n",
    "    exp = single_experiment()\n",
    "    # One experiment: setup objective function\n",
    "    ak = ackley()\n",
    "    exp.set_objective(ak)\n",
    "    exp.set_optimizer(optimizer)\n",
    "\n",
    "    # Multiple experiment: setup one expreiment\n",
    "    mexps.set_single_exp(exp)\n",
    "    # Multiple experiments: setup sample zone of multiple experiments\n",
    "    zoneParas = {'origin': np.array([0,0]),\n",
    "             'edge': np.array([500, 500]),\n",
    "             'step': 100,\n",
    "             'size': 10,\n",
    "             'sym': True}\n",
    "    mexps.set_sample_zone(zoneParas)\n",
    "\n",
    "    data = mexps.do()\n",
    "    \n",
    "    num = zoneParas['edge'][0] / zoneParas['step']\n",
    "    num = (num + 1) * num / 2\n",
    "    print(\"avg probility of converge: \", data['res'].sum() / num)\n",
    "    print(\"avg func value: \", data['cost'].sum() / num)\n",
    "    print(\"avg evals per exp: \", data['evals'].sum() / num)\n",
    "    print(\"\\n\")"
   ]
  },
  {
   "cell_type": "code",
   "execution_count": 29,
   "metadata": {},
   "outputs": [
    {
     "name": "stdout",
     "output_type": "stream",
     "text": [
      "avg probility of converge:  0.02666666666666667\n",
      "avg func value:  19.831645846483443\n",
      "avg evals per exp:  1480.4799999999998\n",
      "\n",
      "\n",
      "CPU times: user 14.2 s, sys: 134 ms, total: 14.3 s\n",
      "Wall time: 14.5 s\n",
      "avg probility of converge:  0.013333333333333334\n",
      "avg func value:  20.065190191781713\n",
      "avg evals per exp:  1470.84\n",
      "\n",
      "\n",
      "CPU times: user 14 s, sys: 117 ms, total: 14.1 s\n",
      "Wall time: 14.3 s\n",
      "diverge, raise LinAlgError!\n",
      "avg probility of converge:  0.02\n",
      "avg func value:  19.91107105638078\n",
      "avg evals per exp:  1493.9200000000003\n",
      "\n",
      "\n",
      "CPU times: user 14.8 s, sys: 158 ms, total: 15 s\n",
      "Wall time: 15.1 s\n",
      "avg probility of converge:  0.03333333333333333\n",
      "avg func value:  19.675662087266524\n",
      "avg evals per exp:  1446.6000000000001\n",
      "\n",
      "\n",
      "CPU times: user 13 s, sys: 70.3 ms, total: 13.1 s\n",
      "Wall time: 13.2 s\n",
      "avg probility of converge:  0.02666666666666667\n",
      "avg func value:  19.74227867506498\n",
      "avg evals per exp:  1387.2\n",
      "\n",
      "\n",
      "CPU times: user 12 s, sys: 34.5 ms, total: 12 s\n",
      "Wall time: 12.1 s\n",
      "avg probility of converge:  0.02666666666666667\n",
      "avg func value:  19.75953080870234\n",
      "avg evals per exp:  1375.16\n",
      "\n",
      "\n",
      "CPU times: user 12.2 s, sys: 59 ms, total: 12.2 s\n",
      "Wall time: 12.3 s\n",
      "avg probility of converge:  0.02666666666666667\n",
      "avg func value:  19.795296502290793\n",
      "avg evals per exp:  1478.24\n",
      "\n",
      "\n",
      "CPU times: user 12.7 s, sys: 27.5 ms, total: 12.7 s\n",
      "Wall time: 12.7 s\n"
     ]
    }
   ],
   "source": [
    "inner_optimizer = do_nothing()\n",
    "composite_optimizer = setup_compsite_cma(inner_optimizer)\n",
    "for i in [1291, 3, 100, 29383, 3322, 902, 222]:\n",
    "    %time conmpare_efficency_ackley(composite_optimizer, i)"
   ]
  },
  {
   "cell_type": "markdown",
   "metadata": {},
   "source": [
    "# 1. orginal Ackley function"
   ]
  },
  {
   "cell_type": "markdown",
   "metadata": {},
   "source": [
    "## orginal CMA + original Ackley"
   ]
  },
  {
   "cell_type": "code",
   "execution_count": 33,
   "metadata": {},
   "outputs": [
    {
     "name": "stdout",
     "output_type": "stream",
     "text": [
      "avg probility of converge:  0.02666666666666667\n",
      "avg func value:  19.821937003313206\n",
      "avg evals per exp:  1459.48\n",
      "\n",
      "\n",
      "CPU times: user 12.6 s, sys: 22.9 ms, total: 12.6 s\n",
      "Wall time: 12.6 s\n"
     ]
    }
   ],
   "source": [
    "inner_optimizer = do_nothing()\n",
    "composite_optimizer = setup_compsite_cma(inner_optimizer)\n",
    "%time conmpare_efficency_ackley(composite_optimizer, seed=SEED)"
   ]
  },
  {
   "cell_type": "code",
   "execution_count": 39,
   "metadata": {},
   "outputs": [
    {
     "data": {
      "text/plain": [
       "5.7573680603152835e-05"
      ]
     },
     "execution_count": 39,
     "metadata": {},
     "output_type": "execute_result"
    }
   ],
   "source": [
    "# time per evalutations (s)\n",
    "12.6 / 150 / 1459"
   ]
  },
  {
   "cell_type": "code",
   "execution_count": null,
   "metadata": {},
   "outputs": [],
   "source": []
  },
  {
   "cell_type": "code",
   "execution_count": null,
   "metadata": {},
   "outputs": [],
   "source": []
  },
  {
   "cell_type": "markdown",
   "metadata": {},
   "source": [
    "## line-search-CMA + original Ackley"
   ]
  },
  {
   "cell_type": "code",
   "execution_count": 36,
   "metadata": {},
   "outputs": [
    {
     "name": "stdout",
     "output_type": "stream",
     "text": [
      "diverge, raise LinAlgError!\n",
      "avg probility of converge:  0.5066666666666666\n",
      "avg func value:  9.760844008835326\n",
      "avg evals per exp:  913.0\n",
      "\n",
      "\n",
      "CPU times: user 8.36 s, sys: 28.3 ms, total: 8.39 s\n",
      "Wall time: 8.46 s\n"
     ]
    }
   ],
   "source": [
    "inner_optimizer = round_off()\n",
    "composite_optimizer = setup_compsite_cma(inner_optimizer)\n",
    "%time conmpare_efficency_ackley(composite_optimizer, seed=SEED)"
   ]
  },
  {
   "cell_type": "code",
   "execution_count": 37,
   "metadata": {},
   "outputs": [
    {
     "data": {
      "text/plain": [
       "6.177437020810515e-05"
      ]
     },
     "execution_count": 37,
     "metadata": {},
     "output_type": "execute_result"
    }
   ],
   "source": [
    "8.46 / 913 / 150"
   ]
  },
  {
   "cell_type": "code",
   "execution_count": null,
   "metadata": {},
   "outputs": [],
   "source": []
  },
  {
   "cell_type": "code",
   "execution_count": 39,
   "metadata": {},
   "outputs": [
    {
     "name": "stdout",
     "output_type": "stream",
     "text": [
      "diverge, raise LinAlgError!\n",
      "avg probility of converge:  0.4133333333333333\n",
      "avg func value:  11.733333588932046\n",
      "avg evals per exp:  70947.87333333334\n",
      "\n",
      "\n",
      "CPU times: user 3min 19s, sys: 1.17 s, total: 3min 20s\n",
      "Wall time: 3min 28s\n"
     ]
    }
   ],
   "source": [
    "inner_optimizer = line_search()\n",
    "composite_optimizer = setup_compsite_cma(inner_optimizer)\n",
    "%time conmpare_efficency_ackley(composite_optimizer, seed=SEED)"
   ]
  },
  {
   "cell_type": "code",
   "execution_count": 40,
   "metadata": {},
   "outputs": [
    {
     "data": {
      "text/plain": [
       "2.1424443598742724e-05"
      ]
     },
     "execution_count": 40,
     "metadata": {},
     "output_type": "execute_result"
    }
   ],
   "source": [
    "228 / 70947 / 150"
   ]
  },
  {
   "cell_type": "code",
   "execution_count": null,
   "metadata": {},
   "outputs": [],
   "source": []
  },
  {
   "cell_type": "code",
   "execution_count": null,
   "metadata": {},
   "outputs": [],
   "source": []
  },
  {
   "cell_type": "markdown",
   "metadata": {},
   "source": [
    "## adam + original Ackley"
   ]
  },
  {
   "cell_type": "code",
   "execution_count": 28,
   "metadata": {},
   "outputs": [
    {
     "name": "stdout",
     "output_type": "stream",
     "text": [
      "avg probility of converge:  0.0\n",
      "avg func value:  19.97863068456147\n",
      "avg evals per exp:  160.38000000000002\n",
      "\n",
      "\n",
      "CPU times: user 1.05 s, sys: 10.1 ms, total: 1.06 s\n",
      "Wall time: 1.06 s\n"
     ]
    }
   ],
   "source": [
    "ad = adam()\n",
    "ad.set_parameters(optmizerParas)\n",
    "%time conmpare_efficency_ackley(ad, seed=SEED)"
   ]
  },
  {
   "cell_type": "code",
   "execution_count": 29,
   "metadata": {},
   "outputs": [
    {
     "data": {
      "text/plain": [
       "4.416666666666667e-05"
      ]
     },
     "execution_count": 29,
     "metadata": {},
     "output_type": "execute_result"
    }
   ],
   "source": [
    "1.06 / 150 / 160"
   ]
  },
  {
   "cell_type": "markdown",
   "metadata": {},
   "source": [
    "## line search + original Ackley"
   ]
  },
  {
   "cell_type": "code",
   "execution_count": 30,
   "metadata": {},
   "outputs": [
    {
     "name": "stdout",
     "output_type": "stream",
     "text": [
      "avg probility of converge:  0.0\n",
      "avg func value:  19.9743627591425\n",
      "avg evals per exp:  39.89333333333334\n",
      "\n",
      "\n",
      "CPU times: user 119 ms, sys: 3.68 ms, total: 123 ms\n",
      "Wall time: 121 ms\n"
     ]
    }
   ],
   "source": [
    "ls = line_search()\n",
    "%time conmpare_efficency_ackley(ls, seed=SEED)"
   ]
  },
  {
   "cell_type": "code",
   "execution_count": 31,
   "metadata": {},
   "outputs": [
    {
     "data": {
      "text/plain": [
       "2.0166666666666664e-05"
      ]
     },
     "execution_count": 31,
     "metadata": {},
     "output_type": "execute_result"
    }
   ],
   "source": [
    "0.121 / 40 / 150"
   ]
  },
  {
   "cell_type": "markdown",
   "metadata": {},
   "source": [
    "## summary on original ackley\n",
    "| -- |original CMA | line search - CMA(medium step size) | adam | line search\n",
    "| -- | -- | -- | -- | -- |\n",
    "| #experiments| 150 experiments | 150 experiments | 150 experiments | 150 experiments |\n",
    "| total time| 13.1 s | 180 s | 0.5 s | 0.3 s\n",
    "| evalutaions per exp | 1.46 k evals |  7.1 k evals |  0.063 k evals | 0.12 k evals\n",
    "| *performance* | -- | -- | -- | -- |\n",
    "| probability |  0.03  | 0.41 | 0 | 0 |"
   ]
  },
  {
   "cell_type": "code",
   "execution_count": null,
   "metadata": {},
   "outputs": [],
   "source": []
  },
  {
   "cell_type": "code",
   "execution_count": null,
   "metadata": {},
   "outputs": [],
   "source": []
  },
  {
   "cell_type": "markdown",
   "metadata": {},
   "source": [
    "# 2. Bukin function"
   ]
  },
  {
   "cell_type": "code",
   "execution_count": 33,
   "metadata": {},
   "outputs": [],
   "source": [
    "def compare_efficency_bukin(optimizer, seed):\n",
    "    np.random.seed(seed)\n",
    "\n",
    "    # init multiple experiments\n",
    "    mexps = multiple_experiment()\n",
    "\n",
    "    # init and setup one experiment\n",
    "    exp = single_experiment()\n",
    "    # One experiment: setup objective function\n",
    "    bk = bukin()\n",
    "    exp.set_objective(bk)\n",
    "    exp.set_optimizer(optimizer)\n",
    "\n",
    "    # Multiple experiment: setup one expreiment\n",
    "    mexps.set_single_exp(exp)\n",
    "    # Multiple experiments: setup sample zone of multiple experiments\n",
    "    zoneParas = {'origin': np.array([-15,-15]),\n",
    "             'edge': np.array([30, 30]),\n",
    "             'step': 10,\n",
    "             'size': 10,\n",
    "             'sym': False}\n",
    "    mexps.set_sample_zone(zoneParas)\n",
    "\n",
    "    data = mexps.do()\n",
    "    \n",
    "    print(\"avg probility of converge: \", data['res'].mean())\n",
    "    print(\"avg func value: \", data['cost'].mean())\n",
    "    print(\"avg evals per exp: \", data['evals'].mean())\n",
    "    print(\"\\n\")\n",
    "    return data"
   ]
  },
  {
   "cell_type": "markdown",
   "metadata": {},
   "source": [
    "## adam + bukin func"
   ]
  },
  {
   "cell_type": "code",
   "execution_count": 35,
   "metadata": {},
   "outputs": [
    {
     "name": "stdout",
     "output_type": "stream",
     "text": [
      "avg probility of converge:  0.0\n",
      "avg func value:  11.362796385278592\n",
      "avg evals per exp:  7224.9\n",
      "\n",
      "\n",
      "CPU times: user 21 s, sys: 210 ms, total: 21.2 s\n",
      "Wall time: 21.7 s\n"
     ]
    }
   ],
   "source": [
    "ad = adam()\n",
    "%time data = compare_efficency_bukin(ad, seed=SEED)"
   ]
  },
  {
   "cell_type": "code",
   "execution_count": 36,
   "metadata": {},
   "outputs": [
    {
     "data": {
      "text/plain": [
       "3.3376399655469424e-05"
      ]
     },
     "execution_count": 36,
     "metadata": {},
     "output_type": "execute_result"
    }
   ],
   "source": [
    "21.7 / 90 / 7224"
   ]
  },
  {
   "cell_type": "code",
   "execution_count": null,
   "metadata": {},
   "outputs": [],
   "source": [
    "np.random.seed(23191)\n",
    "\n",
    "# init multiple experiments\n",
    "exps_bk_ad = multiple_experiment()\n",
    "\n",
    "# init and setup one experiment\n",
    "exp = single_experiment()\n",
    "\n",
    "# One experiment: setup objective function\n",
    "bk = bukin()\n",
    "exp.set_objective(bk)\n",
    "\n",
    "# One experiment: setup optimizer\n",
    "ad = adam()\n",
    "optmizerParas = {'x0': np.zeros((2,)),\n",
    "         'alpha': 0.01,\n",
    "         'beta_1': 0.9, \n",
    "         'beta_2': 0.999, \n",
    "         'epsilon': 1e-8, \n",
    "         'max_iter': 1000,\n",
    "         'tol': 1e-2,              \n",
    "         'verbose': False,\n",
    "         'record': False}\n",
    "ad.set_parameters(optmizerParas)\n",
    "exp.set_optimizer(ad)\n",
    "\n",
    "# Multiple experiment: setup one expreiment\n",
    "exps_bk_ad.set_single_exp(exp)\n",
    "\n",
    "\n",
    "# Multiple experiments: setup sample zone of multiple experiments\n",
    "zoneParas = {'origin': np.array([-15, -5]),\n",
    "             'edge': np.array([30, 10]),\n",
    "             'step': 10,\n",
    "             'size': 10,\n",
    "             'sym': False}\n",
    "exps_bk_ad.set_sample_zone(zoneParas)\n",
    "\n",
    "%time data_bk_ad = exps_bk_ad.do()"
   ]
  },
  {
   "cell_type": "markdown",
   "metadata": {},
   "source": [
    "## original cma + bukin"
   ]
  },
  {
   "cell_type": "code",
   "execution_count": 44,
   "metadata": {},
   "outputs": [
    {
     "name": "stdout",
     "output_type": "stream",
     "text": [
      "avg probility of converge:  0.0\n",
      "avg func value:  50.832558637424135\n",
      "avg evals per exp:  998.0\n",
      "\n",
      "\n",
      "CPU times: user 2.89 s, sys: 34.9 ms, total: 2.92 s\n",
      "Wall time: 2.97 s\n"
     ]
    }
   ],
   "source": [
    "np.random.seed(23191)\n",
    "\n",
    "# init multiple experiments\n",
    "exps3 = multiple_experiment()\n",
    "\n",
    "# init and setup one experiment\n",
    "exp = single_experiment()\n",
    "\n",
    "# One experiment: setup objective function\n",
    "bk = bukin()\n",
    "exp.set_objective(bk)\n",
    "\n",
    "# One experiment: setup optimizer\n",
    "cma = cma_es()\n",
    "paras = {'x0': np.zeros((2,)),\n",
    "         'std': np.ones((2,)) * 0.003, \n",
    "         'tol': 1e-5, \n",
    "         'adjust_func': do_nothing(), \n",
    "         'record': False, \n",
    "         'verbose': False}\n",
    "cma.set_parameters(paras)\n",
    "exp.set_optimizer(cma)\n",
    "\n",
    "# Multiple experiment: setup one expreiment\n",
    "exps3.set_single_exp(exp)\n",
    "\n",
    "\n",
    "# Multiple experiments: setup sample zone of multiple experiments\n",
    "expsParas = {'origin': np.array([-15, -5]),\n",
    "             'edge': np.array([30, 10]),\n",
    "             'step': 10,\n",
    "             'size': 10,\n",
    "             'sym': False}\n",
    "exps3.set_sample_zone(expsParas)\n",
    "\n",
    "%time data3 = exps3.do()"
   ]
  },
  {
   "cell_type": "markdown",
   "metadata": {},
   "source": [
    "## line-search-cma + bukin"
   ]
  },
  {
   "cell_type": "code",
   "execution_count": null,
   "metadata": {},
   "outputs": [],
   "source": [
    "np.random.seed(2311)\n",
    "\n",
    "# init multiple experiments\n",
    "exps3 = multiple_experiment()\n",
    "\n",
    "# init and setup one experiment\n",
    "exp = single_experiment()\n",
    "\n",
    "# One experiment: setup objective function\n",
    "bk = bukin()\n",
    "exp.set_objective(bk)\n",
    "\n",
    "# One experiment: setup optimizer\n",
    "cma = cma_es()\n",
    "paras = {'x0': np.zeros((2,)),\n",
    "         'std': np.ones((2,)) * 0.003, \n",
    "         'tol': 1e-5, \n",
    "         'adjust_func': line_search(alpha=1e-5, beta=2e-5), \n",
    "         'record': False, \n",
    "         'verbose': False}\n",
    "cma.set_parameters(paras)\n",
    "exp.set_optimizer(cma)\n",
    "\n",
    "# Multiple experiment: setup one expreiment\n",
    "exps3.set_single_exp(exp)\n",
    "\n",
    "\n",
    "# Multiple experiments: setup sample zone of multiple experiments\n",
    "expsParas = {'origin': np.array([-15, -5]),\n",
    "             'edge': np.array([30, 10]),\n",
    "             'step': 10,\n",
    "             'size': 10,\n",
    "             'sym': False}\n",
    "exps3.set_sample_zone(expsParas)\n",
    "\n",
    "%time data3 = exps3.do()"
   ]
  },
  {
   "cell_type": "markdown",
   "metadata": {},
   "source": [
    "## summary of bukin\n",
    "| -- | line search (very small step size) - CMA | original CMA | adam |\n",
    "| -- | -- | --| -- |\n",
    "| #experiments| 30 experiments | 30 experiments | 30 experiments |\n",
    "| total time| 111 s | 4.5 s | 0.7 s |\n",
    "| evalutaions per exp | 299 k evals |  2.3 k evals | 1 k evals |\n",
    "| prob | 0.83 | 0 | 0 |"
   ]
  },
  {
   "cell_type": "markdown",
   "metadata": {},
   "source": [
    "# 3. Tuned Ackley"
   ]
  },
  {
   "cell_type": "markdown",
   "metadata": {},
   "source": [
    "## original cma + tuned ackley"
   ]
  },
  {
   "cell_type": "code",
   "execution_count": null,
   "metadata": {},
   "outputs": [],
   "source": [
    "np.random.seed(2311)\n",
    "\n",
    "# init multiple experiments\n",
    "exps5 = multiple_experiment()\n",
    "\n",
    "# init and setup one experiment\n",
    "exp = single_experiment()\n",
    "\n",
    "# One experiment: setup objective function\n",
    "tak = tuned_ackley()\n",
    "exp.set_objective(tak)\n",
    "\n",
    "# One experiment: setup optimizer\n",
    "cma = cma_es()\n",
    "paras = {'mean0': np.zeros((2,)),\n",
    "         'std': np.ones((2,)) * 3, \n",
    "         'tol': 1e-5, \n",
    "         'adjust_func': do_nothing(), \n",
    "         'record': False, \n",
    "         'verbose': False}\n",
    "cma.set_parameters(paras)\n",
    "exp.set_optimizer(cma)\n",
    "\n",
    "# Multiple experiment: setup one expreiment\n",
    "exps5.set_single_exp(exp)\n",
    "\n",
    "\n",
    "# Multiple experiments: setup sample zone of multiple experiments\n",
    "expsParas = {'origin': np.array([0, 0]),\n",
    "             'edge': np.array([20, 20]),\n",
    "             'step': 5,\n",
    "             'size': 10,\n",
    "             'sym': True}\n",
    "exps5.set_sample_zone(expsParas)\n",
    "\n",
    "%time data5 = exps5.do()"
   ]
  },
  {
   "cell_type": "markdown",
   "metadata": {},
   "source": [
    "## line-searc"
   ]
  },
  {
   "cell_type": "code",
   "execution_count": null,
   "metadata": {},
   "outputs": [],
   "source": [
    "np.random.seed(2311)\n",
    "\n",
    "# init multiple experiments\n",
    "exps6 = multiple_experiment()\n",
    "\n",
    "# init and setup one experiment\n",
    "exp = single_experiment()\n",
    "\n",
    "# One experiment: setup objective function\n",
    "tak = tuned_ackley()\n",
    "exp.set_objective(tak)\n",
    "\n",
    "# One experiment: setup optimizer\n",
    "cma = cma_es()\n",
    "paras = {'mean0': np.zeros((2,)),\n",
    "         'std': np.ones((2,)) * 3, \n",
    "         'tol': 1e-5, \n",
    "         'adjust_func': line_search(), \n",
    "         'record': False, \n",
    "         'verbose': True}\n",
    "cma.set_parameters(paras)\n",
    "exp.set_optimizer(cma)\n",
    "\n",
    "# Multiple experiment: setup one expreiment\n",
    "exps6.set_single_exp(exp)\n",
    "\n",
    "\n",
    "# Multiple experiments: setup sample zone of multiple experiments\n",
    "expsParas = {'origin': np.array([0, 0]),\n",
    "             'edge': np.array([20, 20]),\n",
    "             'step': 5,\n",
    "             'size': 10,\n",
    "             'sym': True}\n",
    "exps6.set_sample_zone(expsParas)\n",
    "\n",
    "%time data6 = exps6.do()"
   ]
  }
 ],
 "metadata": {
  "kernelspec": {
   "display_name": "Python [conda env:miniconda3-ada] *",
   "language": "python",
   "name": "conda-env-miniconda3-ada-py"
  },
  "language_info": {
   "codemirror_mode": {
    "name": "ipython",
    "version": 3
   },
   "file_extension": ".py",
   "mimetype": "text/x-python",
   "name": "python",
   "nbconvert_exporter": "python",
   "pygments_lexer": "ipython3",
   "version": "3.7.4"
  }
 },
 "nbformat": 4,
 "nbformat_minor": 4
}
