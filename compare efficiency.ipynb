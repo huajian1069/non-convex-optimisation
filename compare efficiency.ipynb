{
 "cells": [
  {
   "cell_type": "code",
   "execution_count": 1,
   "metadata": {},
   "outputs": [],
   "source": [
    "from library.objective_function import *\n",
    "from library.optimiser import *\n",
    "from library.post_analysis import *\n",
    "from library.experiments import *\n",
    "%matplotlib inline\n",
    "SEED = 23191"
   ]
  },
  {
   "cell_type": "markdown",
   "metadata": {},
   "source": [
    "**naming of objective function**\n",
    "ackley -> ak \n",
    "\n",
    "tuned ackley -> tak\n",
    "\n",
    "bukin -> bk\n",
    "\n",
    "egg holder -> eh\n",
    "\n",
    "**naming of optimizer**\n",
    "\n",
    "original CMA -> no\n",
    "\n",
    "line search CMA-> ls\n",
    "\n",
    "round off CMA-> ro\n",
    "\n",
    "**naming of experiments**\n",
    "\n",
    "experiments -> exps + objective function + optimizer + [hyperparameter]"
   ]
  },
  {
   "cell_type": "code",
   "execution_count": 4,
   "metadata": {},
   "outputs": [],
   "source": [
    "def setup_compsite_cma(inner_opt):\n",
    "    # One experiment: setup optimizer\n",
    "    cma = cma_es()\n",
    "    optmizerParas = {\n",
    "             'x0': np.zeros((2,)),\n",
    "             'std': np.ones((2,)) * 3, \n",
    "             'tol': 1e-5, \n",
    "             'adjust_func': inner_opt, \n",
    "             'record': False, \n",
    "             'verbose': True}\n",
    "    cma.set_parameters(optmizerParas)\n",
    "    return cma\n",
    "    \n",
    "def compare_efficency_ackley(optimizer, seed):\n",
    "    np.random.seed(seed)\n",
    "\n",
    "    # init multiple experiments\n",
    "    mexps = multiple_experiment()\n",
    "\n",
    "    # init and setup one experiment\n",
    "    exp = single_experiment()\n",
    "    # One experiment: setup objective function\n",
    "    ak = ackley()\n",
    "    exp.set_objective(ak)\n",
    "    exp.set_optimizer(optimizer)\n",
    "\n",
    "    # Multiple experiment: setup one expreiment\n",
    "    mexps.set_single_exp(exp)\n",
    "    # Multiple experiments: setup sample zone of multiple experiments\n",
    "    zoneParas = {'origin': np.array([0,0]),\n",
    "             'edge': np.array([500, 500]),\n",
    "             'step': 100,\n",
    "             'size': 10,\n",
    "             'sym': True}\n",
    "    mexps.set_sample_zone(zoneParas)\n",
    "\n",
    "    data = mexps.do()\n",
    "    \n",
    "    num = zoneParas['edge'][0] / zoneParas['step']\n",
    "    num = (num + 1) * num / 2\n",
    "    print(\"avg probility of converge: \", data['res'].sum() / num)\n",
    "    print(\"avg func value: \", data['cost'].sum() / num)\n",
    "    print(\"avg evals per exp: \", data['evals'].sum() / num)\n",
    "    print(\"\\n\")"
   ]
  },
  {
   "cell_type": "code",
   "execution_count": 29,
   "metadata": {},
   "outputs": [
    {
     "name": "stdout",
     "output_type": "stream",
     "text": [
      "avg probility of converge:  0.02666666666666667\n",
      "avg func value:  19.831645846483443\n",
      "avg evals per exp:  1480.4799999999998\n",
      "\n",
      "\n",
      "CPU times: user 14.2 s, sys: 134 ms, total: 14.3 s\n",
      "Wall time: 14.5 s\n",
      "avg probility of converge:  0.013333333333333334\n",
      "avg func value:  20.065190191781713\n",
      "avg evals per exp:  1470.84\n",
      "\n",
      "\n",
      "CPU times: user 14 s, sys: 117 ms, total: 14.1 s\n",
      "Wall time: 14.3 s\n",
      "diverge, raise LinAlgError!\n",
      "avg probility of converge:  0.02\n",
      "avg func value:  19.91107105638078\n",
      "avg evals per exp:  1493.9200000000003\n",
      "\n",
      "\n",
      "CPU times: user 14.8 s, sys: 158 ms, total: 15 s\n",
      "Wall time: 15.1 s\n",
      "avg probility of converge:  0.03333333333333333\n",
      "avg func value:  19.675662087266524\n",
      "avg evals per exp:  1446.6000000000001\n",
      "\n",
      "\n",
      "CPU times: user 13 s, sys: 70.3 ms, total: 13.1 s\n",
      "Wall time: 13.2 s\n",
      "avg probility of converge:  0.02666666666666667\n",
      "avg func value:  19.74227867506498\n",
      "avg evals per exp:  1387.2\n",
      "\n",
      "\n",
      "CPU times: user 12 s, sys: 34.5 ms, total: 12 s\n",
      "Wall time: 12.1 s\n",
      "avg probility of converge:  0.02666666666666667\n",
      "avg func value:  19.75953080870234\n",
      "avg evals per exp:  1375.16\n",
      "\n",
      "\n",
      "CPU times: user 12.2 s, sys: 59 ms, total: 12.2 s\n",
      "Wall time: 12.3 s\n",
      "avg probility of converge:  0.02666666666666667\n",
      "avg func value:  19.795296502290793\n",
      "avg evals per exp:  1478.24\n",
      "\n",
      "\n",
      "CPU times: user 12.7 s, sys: 27.5 ms, total: 12.7 s\n",
      "Wall time: 12.7 s\n"
     ]
    }
   ],
   "source": [
    "inner_optimizer = do_nothing()\n",
    "composite_optimizer = setup_compsite_cma(inner_optimizer)\n",
    "for i in [1291, 3, 100, 29383, 3322, 902, 222]:\n",
    "    %time conmpare_efficency_ackley(composite_optimizer, i)"
   ]
  },
  {
   "cell_type": "markdown",
   "metadata": {},
   "source": [
    "# 1. orginal Ackley function"
   ]
  },
  {
   "cell_type": "markdown",
   "metadata": {},
   "source": [
    "## no optimisation\n"
   ]
  },
  {
   "cell_type": "code",
   "execution_count": 42,
   "metadata": {},
   "outputs": [
    {
     "name": "stdout",
     "output_type": "stream",
     "text": [
      "avg probility of converge:  0.0\n",
      "avg func value:  21.553441979953742\n",
      "avg evals per exp:  1.0\n",
      "\n",
      "\n",
      "CPU times: user 9.52 ms, sys: 2.19 ms, total: 11.7 ms\n",
      "Wall time: 9.59 ms\n"
     ]
    }
   ],
   "source": [
    "no = do_nothing()\n",
    "%time compare_efficency_ackley(no, seed=SEED)"
   ]
  },
  {
   "cell_type": "markdown",
   "metadata": {},
   "source": [
    "## orginal CMA + original Ackley"
   ]
  },
  {
   "cell_type": "code",
   "execution_count": 33,
   "metadata": {},
   "outputs": [
    {
     "name": "stdout",
     "output_type": "stream",
     "text": [
      "avg probility of converge:  0.02666666666666667\n",
      "avg func value:  19.821937003313206\n",
      "avg evals per exp:  1459.48\n",
      "\n",
      "\n",
      "CPU times: user 12.6 s, sys: 22.9 ms, total: 12.6 s\n",
      "Wall time: 12.6 s\n"
     ]
    }
   ],
   "source": [
    "inner_optimizer = do_nothing()\n",
    "composite_optimizer = setup_compsite_cma(inner_optimizer)\n",
    "%time conmpare_efficency_ackley(composite_optimizer, seed=SEED)"
   ]
  },
  {
   "cell_type": "code",
   "execution_count": 39,
   "metadata": {},
   "outputs": [
    {
     "data": {
      "text/plain": [
       "5.7573680603152835e-05"
      ]
     },
     "execution_count": 39,
     "metadata": {},
     "output_type": "execute_result"
    }
   ],
   "source": [
    "# time per evalutations (s)\n",
    "12.6 / 150 / 1459"
   ]
  },
  {
   "cell_type": "markdown",
   "metadata": {},
   "source": [
    "## adam-CMA + original Ackley"
   ]
  },
  {
   "cell_type": "code",
   "execution_count": 9,
   "metadata": {},
   "outputs": [
    {
     "name": "stdout",
     "output_type": "stream",
     "text": [
      "*******starting optimisation from intitial mean:  [62.31808046 75.84826838]\n",
      "eigenvalue of variance = [0.01415398 0.01235012]\n",
      "total iterations = 400, total evaluatios = 240000\n",
      "found minimum position = [-0.00201629 -0.00231589], found minimum = 0.008936117098848673\n",
      "\n",
      "Result:  global minimum\n",
      "found minimum: 0.008936117098848673, minimum position: [-0.00201629 -0.00231589], evals: 240000\n",
      "*******starting optimisation from intitial mean:  [50.71988059 46.0777404 ]\n",
      "eigenvalue of variance = [0.00168769 0.00099999]\n",
      "total iterations = 400, total evaluatios = 240000\n",
      "found minimum position = [-0.00070705 -0.00486304], found minimum = 0.014542306915523273\n",
      "\n",
      "Result:  global minimum\n",
      "found minimum: 0.014542306915523273, minimum position: [-0.00070705 -0.00486304], evals: 240000\n",
      "*******starting optimisation from intitial mean:  [71.70104317 57.71956938]\n",
      "eigenvalue of variance = [0.00299286 0.0022693 ]\n",
      "total iterations = 400, total evaluatios = 239986\n",
      "found minimum position = [0.00010315 0.00597458], found minimum = 0.01785168679849436\n",
      "\n",
      "Result:  global minimum\n",
      "found minimum: 0.01785168679849436, minimum position: [0.00010315 0.00597458], evals: 239986\n",
      "*******starting optimisation from intitial mean:  [62.5493589  18.49383235]\n",
      "eigenvalue of variance = [0.00042043 0.00081556]\n",
      "total iterations = 400, total evaluatios = 239989\n",
      "found minimum position = [-0.00507749  0.00466268], found minimum = 0.020763040671259336\n",
      "\n",
      "Result:  global minimum\n",
      "found minimum: 0.020763040671259336, minimum position: [-0.00507749  0.00466268], evals: 239989\n",
      "*******starting optimisation from intitial mean:  [11.85124246 98.44479683]\n",
      "eigenvalue of variance = [0.0053644  0.00515808]\n",
      "total iterations = 400, total evaluatios = 239914\n",
      "found minimum position = [ 0.00430452 -0.002699  ], found minimum = 0.015057638094202463\n",
      "\n",
      "Result:  global minimum\n",
      "found minimum: 0.015057638094202463, minimum position: [ 0.00430452 -0.002699  ], evals: 239914\n",
      "*******starting optimisation from intitial mean:  [ 6.88143351 93.71023394]\n",
      "eigenvalue of variance = [0.03384176 0.04496966]\n",
      "total iterations = 400, total evaluatios = 240000\n",
      "found minimum position = [0.00013879 0.00488346], found minimum = 0.01445350477336449\n",
      "\n",
      "Result:  global minimum\n",
      "found minimum: 0.01445350477336449, minimum position: [0.00013879 0.00488346], evals: 240000\n",
      "*******starting optimisation from intitial mean:  [73.34331483 24.11572264]\n",
      "eigenvalue of variance = [0.00048945 0.00082042]\n",
      "total iterations = 400, total evaluatios = 240000\n",
      "found minimum position = [-0.00134567  0.00412188], found minimum = 0.012764572523764617\n",
      "\n",
      "Result:  global minimum\n",
      "found minimum: 0.012764572523764617, minimum position: [-0.00134567  0.00412188], evals: 240000\n",
      "*******starting optimisation from intitial mean:  [19.82486935 45.9159147 ]\n",
      "eigenvalue of variance = [0.02635242 0.01860781]\n",
      "total iterations = 400, total evaluatios = 240000\n",
      "found minimum position = [0.00041786 0.00639485], found minimum = 0.01921916072371177\n",
      "\n",
      "Result:  global minimum\n",
      "found minimum: 0.01921916072371177, minimum position: [0.00041786 0.00639485], evals: 240000\n",
      "*******starting optimisation from intitial mean:  [18.09335934 62.20498658]\n",
      "eigenvalue of variance = [0.01070337 0.00599033]\n",
      "total iterations = 400, total evaluatios = 239934\n",
      "found minimum position = [-0.00011416 -0.00519769], found minimum = 0.015424416460544155\n",
      "\n",
      "Result:  global minimum\n",
      "found minimum: 0.015424416460544155, minimum position: [-0.00011416 -0.00519769], evals: 239934\n",
      "*******starting optimisation from intitial mean:  [12.05690243  5.43480017]\n",
      "eigenvalue of variance = [0.00114248 0.00080804]\n",
      "total iterations = 400, total evaluatios = 240000\n",
      "found minimum position = [-0.00214954 -0.00548085], found minimum = 0.01757449022096269\n",
      "\n",
      "Result:  global minimum\n",
      "found minimum: 0.01757449022096269, minimum position: [-0.00214954 -0.00548085], evals: 240000\n",
      "*******starting optimisation from intitial mean:  [151.01600638  35.81840121]\n",
      "eigenvalue of variance = [0.65250505 4.46638958]\n",
      "total iterations = 48, total evaluatios = 28800\n",
      "found minimum position = [150.00019006  15.99980182], found minimum = 20.0000020119578\n",
      "\n",
      "Result:  local minimum\n",
      "found minimum: 20.0000020119578, minimum position: [150.00019006  15.99980182], evals: 28800\n",
      "*******starting optimisation from intitial mean:  [126.84502648  72.94320837]\n",
      "eigenvalue of variance = [3.13789640e-05 1.09769232e-02]\n",
      "total iterations = 400, total evaluatios = 239967\n",
      "found minimum position = [-9.11482200e+06 -1.20197716e+08], found minimum = 20.00000418645317\n",
      "\n",
      "Result:  local minimum\n",
      "found minimum: 20.00000418645317, minimum position: [-9.11482200e+06 -1.20197716e+08], evals: 239967\n",
      "*******starting optimisation from intitial mean:  [107.89486321  54.85790052]\n",
      "eigenvalue of variance = [0.0027176  0.00375412]\n",
      "total iterations = 400, total evaluatios = 239954\n",
      "found minimum position = [0.00302436 0.00447066], found minimum = 0.016042185445194423\n",
      "\n",
      "Result:  global minimum\n",
      "found minimum: 0.016042185445194423, minimum position: [0.00302436 0.00447066], evals: 239954\n",
      "*******starting optimisation from intitial mean:  [195.8014185  92.8308143]\n",
      "eigenvalue of variance = [0.99242711 2.93782206]\n",
      "total iterations = 83, total evaluatios = 49800\n",
      "found minimum position = [205.00000642  89.00023841], found minimum = 20.0000015259815\n",
      "\n",
      "Result:  local minimum\n",
      "found minimum: 20.0000015259815, minimum position: [205.00000642  89.00023841], evals: 49800\n",
      "*******starting optimisation from intitial mean:  [138.38409398  37.55856581]\n",
      "eigenvalue of variance = [0.00186811 0.00101906]\n",
      "total iterations = 400, total evaluatios = 239937\n",
      "found minimum position = [0.00025617 0.00463653], found minimum = 0.013708169468170883\n",
      "\n",
      "Result:  global minimum\n",
      "found minimum: 0.013708169468170883, minimum position: [0.00025617 0.00463653], evals: 239937\n",
      "*******starting optimisation from intitial mean:  [116.88529816  59.19481883]\n",
      "eigenvalue of variance = [0.00235916 0.00357461]\n",
      "total iterations = 400, total evaluatios = 240000\n",
      "found minimum position = [-0.00081493 -0.00519295], found minimum = 0.01560324408581737\n",
      "\n",
      "Result:  global minimum\n",
      "found minimum: 0.01560324408581737, minimum position: [-0.00081493 -0.00519295], evals: 240000\n",
      "*******starting optimisation from intitial mean:  [121.80510852  81.00451577]\n",
      "eigenvalue of variance = [0.00026538 0.01784788]\n",
      "total iterations = 400, total evaluatios = 239963\n",
      "found minimum position = [-7.07878800e+06 -3.95300163e+08], found minimum = 20.000001771670274\n",
      "\n",
      "Result:  local minimum\n",
      "found minimum: 20.000001771670274, minimum position: [-7.07878800e+06 -3.95300163e+08], evals: 239963\n",
      "*******starting optimisation from intitial mean:  [113.48440016  57.42678909]\n",
      "eigenvalue of variance = [0.06536343 0.28536708]\n",
      "total iterations = 109, total evaluatios = 65400\n",
      "found minimum position = [136.99981507  73.00016367], found minimum = 20.000001630394248\n",
      "\n",
      "Result:  local minimum\n",
      "found minimum: 20.000001630394248, minimum position: [136.99981507  73.00016367], evals: 65400\n",
      "*******starting optimisation from intitial mean:  [187.32929143  36.00948256]\n",
      "eigenvalue of variance = [1.07741711e-02 7.06663519e-06]\n",
      "total iterations = 400, total evaluatios = 239990\n",
      "found minimum position = [202994.9999329     226.00028227], found minimum = 20.000002258351994\n",
      "\n",
      "Result:  local minimum\n",
      "found minimum: 20.000002258351994, minimum position: [202994.9999329     226.00028227], evals: 239990\n",
      "*******starting optimisation from intitial mean:  [101.51552632  76.15928843]\n",
      "eigenvalue of variance = [0.00666326 0.00577489]\n",
      "total iterations = 400, total evaluatios = 240000\n",
      "found minimum position = [-2.58031483e-05  3.22574104e-03], found minimum = 0.009401138448801749\n",
      "\n",
      "Result:  global minimum\n",
      "found minimum: 0.009401138448801749, minimum position: [-2.58031483e-05  3.22574104e-03], evals: 240000\n",
      "*******starting optimisation from intitial mean:  [170.27494892 127.89732014]\n",
      "eigenvalue of variance = [6.60284674 2.57252729]\n",
      "total iterations = 32, total evaluatios = 19200\n",
      "found minimum position = [162.99979197 123.00006035], found minimum = 20.000001258766847\n",
      "\n",
      "Result:  local minimum\n",
      "found minimum: 20.000001258766847, minimum position: [162.99979197 123.00006035], evals: 19200\n",
      "*******starting optimisation from intitial mean:  [196.70776993 127.37770779]\n"
     ]
    },
    {
     "name": "stdout",
     "output_type": "stream",
     "text": [
      "eigenvalue of variance = [0.00882702 0.00010008]\n",
      "total iterations = 400, total evaluatios = 239963\n",
      "found minimum position = [1867022.00020724  314700.999665  ], found minimum = 20.000004163046906\n",
      "\n",
      "Result:  local minimum\n",
      "found minimum: 20.000004163046906, minimum position: [1867022.00020724  314700.999665  ], evals: 239963\n",
      "*******starting optimisation from intitial mean:  [181.09159663 130.43987676]\n",
      "eigenvalue of variance = [0.45098025 4.62409895]\n",
      "total iterations = 40, total evaluatios = 23963\n",
      "found minimum position = [174.00006112 132.00032987], found minimum = 20.000003019444932\n",
      "\n",
      "Result:  local minimum\n",
      "found minimum: 20.000003019444932, minimum position: [174.00006112 132.00032987], evals: 23963\n",
      "*******starting optimisation from intitial mean:  [199.03600867 173.34868647]\n",
      "eigenvalue of variance = [0.02822145 3.8369606 ]\n",
      "total iterations = 90, total evaluatios = 54000\n",
      "found minimum position = [200.00003547 153.00006107], found minimum = 20.00000013380432\n",
      "\n",
      "Result:  local minimum\n",
      "found minimum: 20.00000013380432, minimum position: [200.00003547 153.00006107], evals: 54000\n",
      "*******starting optimisation from intitial mean:  [132.25773186 104.63728689]\n",
      "eigenvalue of variance = [2.53263809 0.00392144]\n",
      "total iterations = 146, total evaluatios = 87555\n",
      "found minimum position = [149.00012624 105.99961817], found minimum = 20.000004338885244\n",
      "\n",
      "Result:  local minimum\n",
      "found minimum: 20.000004338885244, minimum position: [149.00012624 105.99961817], evals: 87555\n",
      "*******starting optimisation from intitial mean:  [169.20738265 107.07075771]\n",
      "eigenvalue of variance = [3.12725808 2.61183041]\n",
      "total iterations = 22, total evaluatios = 13200\n",
      "found minimum position = [166.99994941 106.99998741], found minimum = 20.000000072902395\n",
      "\n",
      "Result:  local minimum\n",
      "found minimum: 20.000000072902395, minimum position: [166.99994941 106.99998741], evals: 13200\n",
      "*******starting optimisation from intitial mean:  [167.36637554 157.90450006]\n",
      "eigenvalue of variance = [3.62346198 1.80563935]\n",
      "total iterations = 25, total evaluatios = 15000\n",
      "found minimum position = [172.99990604 158.00023314], found minimum = 20.000001695057414\n",
      "\n",
      "Result:  local minimum\n",
      "found minimum: 20.000001695057414, minimum position: [172.99990604 158.00023314], evals: 15000\n",
      "*******starting optimisation from intitial mean:  [151.51231771 102.99097292]\n",
      "eigenvalue of variance = [0.00671818 0.00849277]\n",
      "total iterations = 400, total evaluatios = 239997\n",
      "found minimum position = [-2.26957775e-03 -3.26468239e-05], found minimum = 0.006557184270150618\n",
      "\n",
      "Result:  global minimum\n",
      "found minimum: 0.006557184270150618, minimum position: [-2.26957775e-03 -3.26468239e-05], evals: 239997\n",
      "*******starting optimisation from intitial mean:  [145.03326117 112.8152211 ]\n",
      "eigenvalue of variance = [0.00057702 0.00040228]\n",
      "total iterations = 400, total evaluatios = 239947\n",
      "found minimum position = [-0.00703468  0.0001137 ], found minimum = 0.021217236339648782\n",
      "\n",
      "Result:  global minimum\n",
      "found minimum: 0.021217236339648782, minimum position: [-0.00703468  0.0001137 ], evals: 239947\n",
      "*******starting optimisation from intitial mean:  [109.20612795 179.85045607]\n",
      "eigenvalue of variance = [3.29732328 1.68483803]\n",
      "total iterations = 33, total evaluatios = 19800\n",
      "found minimum position = [107.99995657 172.00013493], found minimum = 20.000000539012422\n",
      "\n",
      "Result:  local minimum\n",
      "found minimum: 20.000000539012422, minimum position: [107.99995657 172.00013493], evals: 19800\n",
      "*******starting optimisation from intitial mean:  [268.09407331  67.57728722]\n",
      "eigenvalue of variance = [1.56402257e-02 2.21666257e-05]\n",
      "total iterations = 400, total evaluatios = 239974\n",
      "found minimum position = [-7.42072972e+10  2.48813540e+07], found minimum = 20.000010337228805\n",
      "\n",
      "Result:  local minimum\n",
      "found minimum: 20.000010337228805, minimum position: [-7.42072972e+10  2.48813540e+07], evals: 239974\n",
      "*******starting optimisation from intitial mean:  [216.80379196  97.74376607]\n",
      "eigenvalue of variance = [0.03059671 0.00034146]\n",
      "total iterations = 306, total evaluatios = 183586\n",
      "found minimum position = [241.00001818 108.0003889 ], found minimum = 20.00000406646372\n",
      "\n",
      "Result:  local minimum\n",
      "found minimum: 20.00000406646372, minimum position: [241.00001818 108.0003889 ], evals: 183586\n",
      "*******starting optimisation from intitial mean:  [231.01418501  23.18662399]\n",
      "eigenvalue of variance = [0.00617171 0.00965312]\n",
      "total iterations = 400, total evaluatios = 239990\n",
      "found minimum position = [0.00351049 0.00263785], found minimum = 0.012933285424324925\n",
      "\n",
      "Result:  global minimum\n",
      "found minimum: 0.012933285424324925, minimum position: [0.00351049 0.00263785], evals: 239990\n",
      "*******starting optimisation from intitial mean:  [277.52704774  97.68469996]\n",
      "eigenvalue of variance = [0.01852744 0.01265525]\n",
      "total iterations = 400, total evaluatios = 240000\n",
      "found minimum position = [-0.0005781  -0.00494841], found minimum = 0.014752213920627089\n",
      "\n",
      "Result:  global minimum\n",
      "found minimum: 0.014752213920627089, minimum position: [-0.0005781  -0.00494841], evals: 240000\n",
      "*******starting optimisation from intitial mean:  [219.27797247  75.27321741]\n",
      "eigenvalue of variance = [6.28897782e-05 1.36719091e-02]\n",
      "total iterations = 400, total evaluatios = 239966\n",
      "found minimum position = [-7.90932200e+06 -6.29774848e+08], found minimum = 20.0000003811823\n",
      "\n",
      "Result:  local minimum\n",
      "found minimum: 20.0000003811823, minimum position: [-7.90932200e+06 -6.29774848e+08], evals: 239966\n",
      "*******starting optimisation from intitial mean:  [225.7606727   64.92331978]\n",
      "eigenvalue of variance = [0.00014094 0.00673186]\n",
      "total iterations = 400, total evaluatios = 239964\n",
      "found minimum position = [-5.36763139e+08 -1.29653592e+10], found minimum = 20.000001811577068\n",
      "\n",
      "Result:  local minimum\n",
      "found minimum: 20.000001811577068, minimum position: [-5.36763139e+08 -1.29653592e+10], evals: 239964\n",
      "*******starting optimisation from intitial mean:  [263.48391928  57.75485371]\n",
      "eigenvalue of variance = [0.68927137 0.83123018]\n",
      "total iterations = 94, total evaluatios = 56400\n",
      "found minimum position = [252.99989789  23.99985753], found minimum = 20.000000824286335\n",
      "\n",
      "Result:  local minimum\n",
      "found minimum: 20.000000824286335, minimum position: [252.99989789  23.99985753], evals: 56400\n",
      "*******starting optimisation from intitial mean:  [205.2150741   30.39613802]\n",
      "eigenvalue of variance = [5.44109982 0.24660005]\n",
      "total iterations = 68, total evaluatios = 40787\n",
      "found minimum position = [196.99981565  41.00012578], found minimum = 20.000001336129568\n",
      "\n",
      "Result:  local minimum\n",
      "found minimum: 20.000001336129568, minimum position: [196.99981565  41.00012578], evals: 40787\n",
      "*******starting optimisation from intitial mean:  [200.10376799  70.5221593 ]\n",
      "eigenvalue of variance = [0.11258176 2.79546353]\n",
      "total iterations = 88, total evaluatios = 52800\n",
      "found minimum position = [198.00000153  61.00000015], found minimum = 20.00000000005932\n",
      "\n",
      "Result:  local minimum\n",
      "found minimum: 20.00000000005932, minimum position: [198.00000153  61.00000015], evals: 52800\n",
      "*******starting optimisation from intitial mean:  [224.67463845  53.48403241]\n",
      "eigenvalue of variance = [0.04007592 8.6743818 ]\n",
      "total iterations = 76, total evaluatios = 45600\n",
      "found minimum position = [220.00009948  52.00010705], found minimum = 20.0000005729442\n",
      "\n",
      "Result:  local minimum\n",
      "found minimum: 20.0000005729442, minimum position: [220.00009948  52.00010705], evals: 45600\n",
      "*******starting optimisation from intitial mean:  [273.75056034 127.69777338]\n",
      "eigenvalue of variance = [7.45163692e-02 1.87339726e-05]\n",
      "total iterations = 400, total evaluatios = 240000\n",
      "found minimum position = [-3.17636600e+06  2.49900025e+03], found minimum = 20.000003518103764\n",
      "\n",
      "Result:  local minimum\n",
      "found minimum: 20.000003518103764, minimum position: [-3.17636600e+06  2.49900025e+03], evals: 240000\n",
      "*******starting optimisation from intitial mean:  [278.46181084 136.28106723]\n",
      "eigenvalue of variance = [1.01057143 2.63482271]\n",
      "total iterations = 50, total evaluatios = 30000\n",
      "found minimum position = [276.00030633 144.00022835], found minimum = 20.00000391647735\n",
      "\n",
      "Result:  local minimum\n",
      "found minimum: 20.00000391647735, minimum position: [276.00030633 144.00022835], evals: 30000\n",
      "*******starting optimisation from intitial mean:  [227.29044445 153.48924675]\n",
      "eigenvalue of variance = [0.00022312 0.00685434]\n",
      "total iterations = 400, total evaluatios = 239952\n",
      "found minimum position = [  77775.99996419 2981940.00019306], found minimum = 20.00000103439625\n",
      "\n",
      "Result:  local minimum\n",
      "found minimum: 20.00000103439625, minimum position: [  77775.99996419 2981940.00019306], evals: 239952\n",
      "*******starting optimisation from intitial mean:  [253.85121567 140.13971732]\n"
     ]
    },
    {
     "name": "stdout",
     "output_type": "stream",
     "text": [
      "eigenvalue of variance = [0.76309923 6.02063038]\n",
      "total iterations = 32, total evaluatios = 19195\n",
      "found minimum position = [250.99984016 139.00026503], found minimum = 20.000002569875242\n",
      "\n",
      "Result:  local minimum\n",
      "found minimum: 20.000002569875242, minimum position: [250.99984016 139.00026503], evals: 19195\n",
      "*******starting optimisation from intitial mean:  [202.74864615 151.66765793]\n",
      "eigenvalue of variance = [0.79276048 0.28122801]\n",
      "total iterations = 99, total evaluatios = 59362\n",
      "found minimum position = [208.00014228 162.99983989], found minimum = 20.000001230813126\n",
      "\n",
      "Result:  local minimum\n",
      "found minimum: 20.000001230813126, minimum position: [208.00014228 162.99983989], evals: 59362\n",
      "*******starting optimisation from intitial mean:  [270.7054224  163.64179216]\n",
      "eigenvalue of variance = [0.00188501 0.00055781]\n",
      "total iterations = 400, total evaluatios = 239982\n",
      "found minimum position = [-1933.00038891  -818.00027592], found minimum = 20.000006100327372\n",
      "\n",
      "Result:  local minimum\n",
      "found minimum: 20.000006100327372, minimum position: [-1933.00038891  -818.00027592], evals: 239982\n",
      "*******starting optimisation from intitial mean:  [282.10729664 113.83760735]\n",
      "eigenvalue of variance = [1.52631372 2.94660238]\n",
      "total iterations = 41, total evaluatios = 24599\n",
      "found minimum position = [280.99977607 106.00018434], found minimum = 20.000002256959885\n",
      "\n",
      "Result:  local minimum\n",
      "found minimum: 20.000002256959885, minimum position: [280.99977607 106.00018434], evals: 24599\n",
      "*******starting optimisation from intitial mean:  [243.34083549 133.90372107]\n",
      "eigenvalue of variance = [3.10524183 1.45536121]\n",
      "total iterations = 26, total evaluatios = 15600\n",
      "found minimum position = [245.00031128 134.99986511], found minimum = 20.00000308774326\n",
      "\n",
      "Result:  local minimum\n",
      "found minimum: 20.00000308774326, minimum position: [245.00031128 134.99986511], evals: 15600\n",
      "*******starting optimisation from intitial mean:  [227.93600614 127.5526481 ]\n",
      "eigenvalue of variance = [6.34828214e-05 1.90558997e-03]\n",
      "total iterations = 400, total evaluatios = 239973\n",
      "found minimum position = [-158656.00032427  182977.99975354], found minimum = 20.000004450719704\n",
      "\n",
      "Result:  local minimum\n",
      "found minimum: 20.000004450719704, minimum position: [-158656.00032427  182977.99975354], evals: 239973\n",
      "*******starting optimisation from intitial mean:  [276.73459799 156.58351317]\n",
      "eigenvalue of variance = [0.34983119 3.64507875]\n",
      "total iterations = 34, total evaluatios = 20400\n",
      "found minimum position = [278.99988748 156.99988216], found minimum = 20.000000712235586\n",
      "\n",
      "Result:  local minimum\n",
      "found minimum: 20.000000712235586, minimum position: [278.99988748 156.99988216], evals: 20400\n",
      "*******starting optimisation from intitial mean:  [274.36302918 211.76894534]\n",
      "eigenvalue of variance = [0.00468089 0.00026512]\n",
      "total iterations = 400, total evaluatios = 239987\n",
      "found minimum position = [256156.00017955 -17718.99976794], found minimum = 20.00000230960907\n",
      "\n",
      "Result:  local minimum\n",
      "found minimum: 20.00000230960907, minimum position: [256156.00017955 -17718.99976794], evals: 239987\n",
      "*******starting optimisation from intitial mean:  [268.29680082 248.81007632]\n",
      "eigenvalue of variance = [1.230015   0.39229908]\n",
      "total iterations = 76, total evaluatios = 45592\n",
      "found minimum position = [241.99999726 238.99986447], found minimum = 20.00000049302912\n",
      "\n",
      "Result:  local minimum\n",
      "found minimum: 20.00000049302912, minimum position: [241.99999726 238.99986447], evals: 45592\n",
      "*******starting optimisation from intitial mean:  [252.93220125 241.64333486]\n",
      "eigenvalue of variance = [0.03547322 0.00028401]\n",
      "total iterations = 400, total evaluatios = 239966\n",
      "found minimum position = [4129304.99992953 2594951.99994877], found minimum = 20.000000203656565\n",
      "\n",
      "Result:  local minimum\n",
      "found minimum: 20.000000203656565, minimum position: [4129304.99992953 2594951.99994877], evals: 239966\n",
      "*******starting optimisation from intitial mean:  [273.69473548 269.54304085]\n",
      "eigenvalue of variance = [0.82521807 0.06234402]\n",
      "total iterations = 132, total evaluatios = 79191\n",
      "found minimum position = [204.99992596 268.99965172], found minimum = 20.000003401264326\n",
      "\n",
      "Result:  local minimum\n",
      "found minimum: 20.000003401264326, minimum position: [204.99992596 268.99965172], evals: 79191\n",
      "*******starting optimisation from intitial mean:  [222.34520524 228.10553159]\n",
      "eigenvalue of variance = [2.73512736e-06 3.98983919e-02]\n",
      "total iterations = 400, total evaluatios = 239591\n",
      "found minimum position = [1.00559248e+10 6.97837944e+12], found minimum = 20.000004415828254\n",
      "\n",
      "Result:  local minimum\n",
      "found minimum: 20.000004415828254, minimum position: [1.00559248e+10 6.97837944e+12], evals: 239591\n",
      "*******starting optimisation from intitial mean:  [214.27704222 249.85309785]\n",
      "eigenvalue of variance = [0.00020818 0.00099329]\n",
      "total iterations = 400, total evaluatios = 239579\n",
      "found minimum position = [ 4.19574743e+11 -9.02647465e+10], found minimum = 20.00000138429893\n",
      "\n",
      "Result:  local minimum\n",
      "found minimum: 20.00000138429893, minimum position: [ 4.19574743e+11 -9.02647465e+10], evals: 239579\n",
      "*******starting optimisation from intitial mean:  [250.38640686 219.39281772]\n",
      "eigenvalue of variance = [1.59421309 2.60140463]\n",
      "total iterations = 39, total evaluatios = 23395\n",
      "found minimum position = [253.00002991 209.99990356], found minimum = 20.00000027351024\n",
      "\n",
      "Result:  local minimum\n",
      "found minimum: 20.00000027351024, minimum position: [253.00002991 209.99990356], evals: 23395\n",
      "*******starting optimisation from intitial mean:  [275.71237554 259.00365608]\n",
      "eigenvalue of variance = [0.00010994 0.00535346]\n",
      "total iterations = 400, total evaluatios = 239957\n",
      "found minimum position = [  -70137.99920445 -2332857.99977446], found minimum = 20.00001834447957\n",
      "\n",
      "Result:  local minimum\n",
      "found minimum: 20.00001834447957, minimum position: [  -70137.99920445 -2332857.99977446], evals: 239957\n",
      "*******starting optimisation from intitial mean:  [203.93682586 208.35964367]\n",
      "eigenvalue of variance = [0.32359858 6.68085617]\n",
      "total iterations = 58, total evaluatios = 34800\n",
      "found minimum position = [201.99991904 185.99985662], found minimum = 20.000000727403986\n",
      "\n",
      "Result:  local minimum\n",
      "found minimum: 20.000000727403986, minimum position: [201.99991904 185.99985662], evals: 34800\n",
      "*******starting optimisation from intitial mean:  [298.53827085 263.48750344]\n",
      "eigenvalue of variance = [0.22668863 0.11424529]\n",
      "total iterations = 134, total evaluatios = 80361\n",
      "found minimum position = [441.99991233 192.00032334], found minimum = 20.00000301106901\n",
      "\n",
      "Result:  local minimum\n",
      "found minimum: 20.00000301106901, minimum position: [441.99991233 192.00032334], evals: 80361\n",
      "*******starting optimisation from intitial mean:  [325.85515107  34.85753095]\n",
      "eigenvalue of variance = [0.00408516 0.00288501]\n",
      "total iterations = 400, total evaluatios = 240000\n",
      "found minimum position = [0.00529078 0.00010727], found minimum = 0.015713185529758977\n",
      "\n",
      "Result:  global minimum\n",
      "found minimum: 0.015713185529758977, minimum position: [0.00529078 0.00010727], evals: 240000\n",
      "*******starting optimisation from intitial mean:  [378.14093983  35.15251544]\n",
      "eigenvalue of variance = [0.14152604 0.0033072 ]\n",
      "total iterations = 210, total evaluatios = 126000\n",
      "found minimum position = [370.99993223  40.00009042], found minimum = 20.00000034253475\n",
      "\n",
      "Result:  local minimum\n",
      "found minimum: 20.00000034253475, minimum position: [370.99993223  40.00009042], evals: 126000\n",
      "*******starting optimisation from intitial mean:  [380.05321373  29.09237043]\n",
      "eigenvalue of variance = [0.00652717 0.00560047]\n",
      "total iterations = 400, total evaluatios = 239923\n",
      "found minimum position = [-4.96268531e-03  2.21496387e-05], found minimum = 0.014692423898651885\n",
      "\n",
      "Result:  global minimum\n",
      "found minimum: 0.014692423898651885, minimum position: [-4.96268531e-03  2.21496387e-05], evals: 239923\n",
      "*******starting optimisation from intitial mean:  [363.14852267  59.91373773]\n",
      "eigenvalue of variance = [0.04243703 0.00166222]\n",
      "total iterations = 400, total evaluatios = 239979\n",
      "found minimum position = [-2.91723151e+08 -5.81796200e+06], found minimum = 20.000001195585206\n",
      "\n",
      "Result:  local minimum\n",
      "found minimum: 20.000001195585206, minimum position: [-2.91723151e+08 -5.81796200e+06], evals: 239979\n",
      "*******starting optimisation from intitial mean:  [384.55352335  66.15591164]\n"
     ]
    },
    {
     "name": "stdout",
     "output_type": "stream",
     "text": [
      "eigenvalue of variance = [3.90677117e-06 5.62494880e-03]\n",
      "total iterations = 400, total evaluatios = 239968\n",
      "found minimum position = [-5.86147000e+05  1.53391858e+09], found minimum = 20.000008077024045\n",
      "\n",
      "Result:  local minimum\n",
      "found minimum: 20.000008077024045, minimum position: [-5.86147000e+05  1.53391858e+09], evals: 239968\n",
      "*******starting optimisation from intitial mean:  [394.52089768  28.08019899]\n",
      "eigenvalue of variance = [2.55221129 1.66013382]\n",
      "total iterations = 25, total evaluatios = 15000\n",
      "found minimum position = [397.99985108  30.99990409], found minimum = 20.000000841767804\n",
      "\n",
      "Result:  local minimum\n",
      "found minimum: 20.000000841767804, minimum position: [397.99985108  30.99990409], evals: 15000\n",
      "*******starting optimisation from intitial mean:  [315.02831003  69.71978617]\n",
      "eigenvalue of variance = [9.11949110e-06 8.70803855e-03]\n",
      "total iterations = 339, total evaluatios = 203321\n",
      "found minimum position = [40524.00005706 37677.00003461], found minimum = 20.000000119493336\n",
      "\n",
      "Result:  local minimum\n",
      "found minimum: 20.000000119493336, minimum position: [40524.00005706 37677.00003461], evals: 203321\n",
      "*******starting optimisation from intitial mean:  [352.81170509  47.03676095]\n",
      "eigenvalue of variance = [0.00079583 0.00062425]\n",
      "total iterations = 400, total evaluatios = 239945\n",
      "found minimum position = [ 0.00182779 -0.00308805], found minimum = 0.010492482362057576\n",
      "\n",
      "Result:  global minimum\n",
      "found minimum: 0.010492482362057576, minimum position: [ 0.00182779 -0.00308805], evals: 239945\n",
      "*******starting optimisation from intitial mean:  [310.08436986  84.43696346]\n",
      "eigenvalue of variance = [0.0002068  0.00306141]\n",
      "total iterations = 400, total evaluatios = 239959\n",
      "found minimum position = [ 4.84269780e+07 -1.87620398e+09], found minimum = 20.000002363319997\n",
      "\n",
      "Result:  local minimum\n",
      "found minimum: 20.000002363319997, minimum position: [ 4.84269780e+07 -1.87620398e+09], evals: 239959\n",
      "*******starting optimisation from intitial mean:  [342.49967093  13.66510672]\n",
      "eigenvalue of variance = [0.04244289 0.00028689]\n",
      "total iterations = 400, total evaluatios = 239974\n",
      "found minimum position = [-2.10752356e+11  8.53567885e+08], found minimum = 20.000002705780727\n",
      "\n",
      "Result:  local minimum\n",
      "found minimum: 20.000002705780727, minimum position: [-2.10752356e+11  8.53567885e+08], evals: 239974\n",
      "*******starting optimisation from intitial mean:  [355.20910329 128.29793584]\n",
      "eigenvalue of variance = [0.96228561 3.81077755]\n",
      "total iterations = 30, total evaluatios = 18000\n",
      "found minimum position = [352.99976271 129.99975739], found minimum = 20.000003089770797\n",
      "\n",
      "Result:  local minimum\n",
      "found minimum: 20.000003089770797, minimum position: [352.99976271 129.99975739], evals: 18000\n",
      "*******starting optimisation from intitial mean:  [389.56800742 131.08550961]\n",
      "eigenvalue of variance = [0.34481279 2.22515132]\n",
      "total iterations = 62, total evaluatios = 37186\n",
      "found minimum position = [371.99992915 125.9999123 ], found minimum = 20.000000341012672\n",
      "\n",
      "Result:  local minimum\n",
      "found minimum: 20.000000341012672, minimum position: [371.99992915 125.9999123 ], evals: 37186\n",
      "*******starting optimisation from intitial mean:  [396.9681122  121.91836424]\n",
      "eigenvalue of variance = [0.00117486 0.00064928]\n",
      "total iterations = 400, total evaluatios = 239944\n",
      "found minimum position = [934.00003363 -84.00034775], found minimum = 20.000003274769192\n",
      "\n",
      "Result:  local minimum\n",
      "found minimum: 20.000003274769192, minimum position: [934.00003363 -84.00034775], evals: 239944\n",
      "*******starting optimisation from intitial mean:  [364.12058051 163.68661439]\n",
      "eigenvalue of variance = [0.00320485 0.00032594]\n",
      "total iterations = 400, total evaluatios = 239979\n",
      "found minimum position = [74409.00028637 -3047.99996924], found minimum = 20.00000222559885\n",
      "\n",
      "Result:  local minimum\n",
      "found minimum: 20.00000222559885, minimum position: [74409.00028637 -3047.99996924], evals: 239979\n",
      "*******starting optimisation from intitial mean:  [389.44166869 120.67952209]\n",
      "eigenvalue of variance = [0.00205172 0.00251421]\n",
      "total iterations = 400, total evaluatios = 240000\n",
      "found minimum position = [ 0.00525398 -0.00087707], found minimum = 0.015821507953110103\n",
      "\n",
      "Result:  global minimum\n",
      "found minimum: 0.015821507953110103, minimum position: [ 0.00525398 -0.00087707], evals: 240000\n",
      "*******starting optimisation from intitial mean:  [311.23600456 112.47416575]\n",
      "eigenvalue of variance = [0.0090237  0.00431878]\n",
      "total iterations = 400, total evaluatios = 239984\n",
      "found minimum position = [0.00485974 0.0001424 ], found minimum = 0.014380609025064661\n",
      "\n",
      "Result:  global minimum\n",
      "found minimum: 0.014380609025064661, minimum position: [0.00485974 0.0001424 ], evals: 239984\n",
      "*******starting optimisation from intitial mean:  [321.09065299 105.5575941 ]\n",
      "eigenvalue of variance = [5.07080753 2.15345917]\n",
      "total iterations = 31, total evaluatios = 18600\n",
      "found minimum position = [320.00027557 103.00001164], found minimum = 20.000002040994826\n",
      "\n",
      "Result:  local minimum\n",
      "found minimum: 20.000002040994826, minimum position: [320.00027557 103.00001164], evals: 18600\n",
      "*******starting optimisation from intitial mean:  [398.52338435 154.85275683]\n",
      "eigenvalue of variance = [0.01714302 0.00012442]\n",
      "total iterations = 400, total evaluatios = 239975\n",
      "found minimum position = [ 3.12769037e+09 -5.77782080e+07], found minimum = 20.000003223143167\n",
      "\n",
      "Result:  local minimum\n",
      "found minimum: 20.000003223143167, minimum position: [ 3.12769037e+09 -5.77782080e+07], evals: 239975\n",
      "*******starting optimisation from intitial mean:  [351.19212656 125.34137656]\n",
      "eigenvalue of variance = [2.26402542 0.12332345]\n",
      "total iterations = 73, total evaluatios = 43783\n",
      "found minimum position = [393.00003111 110.99980772], found minimum = 20.000001017833135\n",
      "\n",
      "Result:  local minimum\n",
      "found minimum: 20.000001017833135, minimum position: [393.00003111 110.99980772], evals: 43783\n",
      "*******starting optimisation from intitial mean:  [325.27703239 113.49042119]\n",
      "eigenvalue of variance = [0.00039273 0.30454833]\n",
      "total iterations = 293, total evaluatios = 175756\n",
      "found minimum position = [  367.00034002 -1539.00022447], found minimum = 20.000004453401004\n",
      "\n",
      "Result:  local minimum\n",
      "found minimum: 20.000004453401004, minimum position: [  367.00034002 -1539.00022447], evals: 175756\n",
      "*******starting optimisation from intitial mean:  [319.88368258 299.03022351]\n",
      "eigenvalue of variance = [3.01937245 1.85838296]\n",
      "total iterations = 24, total evaluatios = 14400\n",
      "found minimum position = [317.00035242 295.99977822], found minimum = 20.000004651540287\n",
      "\n",
      "Result:  local minimum\n",
      "found minimum: 20.000004651540287, minimum position: [317.00035242 295.99977822], evals: 14400\n",
      "*******starting optimisation from intitial mean:  [351.76076041 288.24495991]\n",
      "eigenvalue of variance = [2.42631364 0.74817902]\n",
      "total iterations = 41, total evaluatios = 24600\n",
      "found minimum position = [353.0002667  283.99991115], found minimum = 20.000002120072267\n",
      "\n",
      "Result:  local minimum\n",
      "found minimum: 20.000002120072267, minimum position: [353.0002667  283.99991115], evals: 24600\n",
      "*******starting optimisation from intitial mean:  [377.06708914 285.38852426]\n",
      "eigenvalue of variance = [0.00016224 0.01795205]\n",
      "total iterations = 400, total evaluatios = 239980\n",
      "found minimum position = [  4374.99985962 109018.0003539 ], found minimum = 20.000003888937485\n",
      "\n",
      "Result:  local minimum\n",
      "found minimum: 20.000003888937485, minimum position: [  4374.99985962 109018.0003539 ], evals: 239980\n",
      "*******starting optimisation from intitial mean:  [388.37371168 210.07054985]\n",
      "eigenvalue of variance = [2.91805117 0.33260552]\n",
      "total iterations = 70, total evaluatios = 41994\n",
      "found minimum position = [385.00017664 207.00022438], found minimum = 20.000002187820467\n",
      "\n",
      "Result:  local minimum\n",
      "found minimum: 20.000002187820467, minimum position: [385.00017664 207.00022438], evals: 41994\n",
      "*******starting optimisation from intitial mean:  [372.30879653 231.11522687]\n",
      "eigenvalue of variance = [1.28559304e-02 8.35050886e-05]\n",
      "total iterations = 400, total evaluatios = 239949\n",
      "found minimum position = [ 1.35093007e+09 -3.15433400e+06], found minimum = 20.000002103533014\n",
      "\n",
      "Result:  local minimum\n",
      "found minimum: 20.000002103533014, minimum position: [ 1.35093007e+09 -3.15433400e+06], evals: 239949\n",
      "*******starting optimisation from intitial mean:  [340.89125687 260.87416108]\n"
     ]
    },
    {
     "name": "stdout",
     "output_type": "stream",
     "text": [
      "eigenvalue of variance = [0.00462215 0.00629044]\n",
      "total iterations = 400, total evaluatios = 239968\n",
      "found minimum position = [-0.00600755 -0.0006608 ], found minimum = 0.01806676030326715\n",
      "\n",
      "Result:  global minimum\n",
      "found minimum: 0.01806676030326715, minimum position: [-0.00600755 -0.0006608 ], evals: 239968\n",
      "*******starting optimisation from intitial mean:  [382.42092174 250.50495498]\n",
      "eigenvalue of variance = [3.41954317e-05 4.80320821e-02]\n",
      "total iterations = 400, total evaluatios = 240000\n",
      "found minimum position = [  23402.99983131 3231988.99974135], found minimum = 20.000002558322997\n",
      "\n",
      "Result:  local minimum\n",
      "found minimum: 20.000002558322997, minimum position: [  23402.99983131 3231988.99974135], evals: 240000\n",
      "*******starting optimisation from intitial mean:  [307.9167885  247.56851182]\n",
      "eigenvalue of variance = [0.00121835 0.01456168]\n",
      "total iterations = 400, total evaluatios = 239928\n",
      "found minimum position = [ 1.66916190e+07 -2.80972898e+08], found minimum = 20.000000133572723\n",
      "\n",
      "Result:  local minimum\n",
      "found minimum: 20.000000133572723, minimum position: [ 1.66916190e+07 -2.80972898e+08], evals: 239928\n",
      "*******starting optimisation from intitial mean:  [373.72306513 254.76996526]\n",
      "eigenvalue of variance = [4.88312443e-02 6.16688480e-05]\n",
      "total iterations = 400, total evaluatios = 240000\n",
      "found minimum position = [ 1.01049300e+06 -7.36999848e+02], found minimum = 20.000000984769773\n",
      "\n",
      "Result:  local minimum\n",
      "found minimum: 20.000000984769773, minimum position: [ 1.01049300e+06 -7.36999848e+02], evals: 240000\n",
      "*******starting optimisation from intitial mean:  [330.86423541 249.90419872]\n",
      "eigenvalue of variance = [2.20077885 1.13443454]\n",
      "total iterations = 31, total evaluatios = 18600\n",
      "found minimum position = [331.00015449 252.99979074], found minimum = 20.00000181516013\n",
      "\n",
      "Result:  local minimum\n",
      "found minimum: 20.00000181516013, minimum position: [331.00015449 252.99979074], evals: 18600\n",
      "*******starting optimisation from intitial mean:  [353.4568126  341.32804928]\n",
      "eigenvalue of variance = [0.00018238 0.00912349]\n",
      "total iterations = 400, total evaluatios = 239986\n",
      "found minimum position = [   26286.99994031 -4955091.00016452], found minimum = 20.000000821786763\n",
      "\n",
      "Result:  local minimum\n",
      "found minimum: 20.000000821786763, minimum position: [   26286.99994031 -4955091.00016452], evals: 239986\n",
      "*******starting optimisation from intitial mean:  [384.53441052 307.01285847]\n",
      "eigenvalue of variance = [0.00228461 1.24277874]\n",
      "total iterations = 166, total evaluatios = 99573\n",
      "found minimum position = [382.9997348  351.00024955], found minimum = 20.000003557507203\n",
      "\n",
      "Result:  local minimum\n",
      "found minimum: 20.000003557507203, minimum position: [382.9997348  351.00024955], evals: 99573\n",
      "*******starting optimisation from intitial mean:  [376.61056541 389.12024662]\n",
      "eigenvalue of variance = [3.33384299 1.14689659]\n",
      "total iterations = 40, total evaluatios = 24000\n",
      "found minimum position = [384.99976097 394.000197  ], found minimum = 20.00000257409786\n",
      "\n",
      "Result:  local minimum\n",
      "found minimum: 20.00000257409786, minimum position: [384.99976097 394.000197  ], evals: 24000\n",
      "*******starting optimisation from intitial mean:  [394.14063241 320.57435025]\n",
      "eigenvalue of variance = [5.76302080e-05 1.57849267e-02]\n",
      "total iterations = 400, total evaluatios = 239558\n",
      "found minimum position = [ 9.61631603e+09 -5.15577984e+12], found minimum = 20.00000270353684\n",
      "\n",
      "Result:  local minimum\n",
      "found minimum: 20.00000270353684, minimum position: [ 9.61631603e+09 -5.15577984e+12], evals: 239558\n",
      "*******starting optimisation from intitial mean:  [319.2013034  398.55501609]\n",
      "eigenvalue of variance = [0.00292011 0.00011994]\n",
      "total iterations = 400, total evaluatios = 239992\n",
      "found minimum position = [72474.99998066   228.99961934], found minimum = 20.000003897474024\n",
      "\n",
      "Result:  local minimum\n",
      "found minimum: 20.000003897474024, minimum position: [72474.99998066   228.99961934], evals: 239992\n",
      "*******starting optimisation from intitial mean:  [372.72666528 394.18357694]\n",
      "eigenvalue of variance = [0.0042071  0.00243999]\n",
      "total iterations = 400, total evaluatios = 239992\n",
      "found minimum position = [-1934645.0000216   -969069.99979578], found minimum = 20.00000113142299\n",
      "\n",
      "Result:  local minimum\n",
      "found minimum: 20.00000113142299, minimum position: [-1934645.0000216   -969069.99979578], evals: 239992\n",
      "*******starting optimisation from intitial mean:  [360.02593032 313.56430153]\n",
      "eigenvalue of variance = [0.01153764 0.0086383 ]\n",
      "total iterations = 400, total evaluatios = 239997\n",
      "found minimum position = [-0.00348341  0.0021477 ], found minimum = 0.012020601386894203\n",
      "\n",
      "Result:  global minimum\n",
      "found minimum: 0.012020601386894203, minimum position: [-0.00348341  0.0021477 ], evals: 239997\n",
      "*******starting optimisation from intitial mean:  [378.30628738 335.76707411]\n",
      "eigenvalue of variance = [3.63249665 1.43489897]\n",
      "total iterations = 26, total evaluatios = 15600\n",
      "found minimum position = [382.99973038 333.99999004], found minimum = 20.00000195289111\n",
      "\n",
      "Result:  local minimum\n",
      "found minimum: 20.00000195289111, minimum position: [382.99973038 333.99999004], evals: 15600\n",
      "*******starting optimisation from intitial mean:  [347.91348072 327.46729051]\n",
      "eigenvalue of variance = [8.89032094e-05 1.75673200e-02]\n",
      "total iterations = 400, total evaluatios = 239935\n",
      "found minimum position = [  1752773.0003554  -88177561.00093268], found minimum = 20.000026726039938\n",
      "\n",
      "Result:  local minimum\n",
      "found minimum: 20.000026726039938, minimum position: [  1752773.0003554  -88177561.00093268], evals: 239935\n",
      "*******starting optimisation from intitial mean:  [384.74961504 322.56190062]\n",
      "eigenvalue of variance = [0.07054737 2.33686456]\n",
      "total iterations = 135, total evaluatios = 80975\n",
      "found minimum position = [441.99971514 340.00006935], found minimum = 20.00000230611027\n",
      "\n",
      "Result:  local minimum\n",
      "found minimum: 20.00000230611027, minimum position: [441.99971514 340.00006935], evals: 80975\n",
      "*******starting optimisation from intitial mean:  [492.52473681  75.41905719]\n",
      "eigenvalue of variance = [1.01451352 0.51916158]\n",
      "total iterations = 81, total evaluatios = 48588\n",
      "found minimum position = [501.00001715  73.00032428], found minimum = 20.000002829008498\n",
      "\n",
      "Result:  local minimum\n",
      "found minimum: 20.000002829008498, minimum position: [501.00001715  73.00032428], evals: 48588\n",
      "*******starting optimisation from intitial mean:  [432.55376833  93.97399181]\n",
      "eigenvalue of variance = [1.06593852 1.8403159 ]\n",
      "total iterations = 41, total evaluatios = 24600\n",
      "found minimum position = [426.99997799  89.00006244], found minimum = 20.000000117596862\n",
      "\n",
      "Result:  local minimum\n",
      "found minimum: 20.000000117596862, minimum position: [426.99997799  89.00006244], evals: 24600\n",
      "*******starting optimisation from intitial mean:  [421.57841701  44.5758487 ]\n",
      "eigenvalue of variance = [0.00040066 0.0027552 ]\n",
      "total iterations = 400, total evaluatios = 239980\n",
      "found minimum position = [-1.71841750e+07  2.23729153e+08], found minimum = 20.00000316770432\n",
      "\n",
      "Result:  local minimum\n",
      "found minimum: 20.00000316770432, minimum position: [-1.71841750e+07  2.23729153e+08], evals: 239980\n",
      "*******starting optimisation from intitial mean:  [463.14609416  93.60226779]\n",
      "eigenvalue of variance = [2.08800758e-02 2.48443145e-05]\n",
      "total iterations = 400, total evaluatios = 239995\n",
      "found minimum position = [-3345986.99968236   -86862.00014639], found minimum = 20.00000328178057\n",
      "\n",
      "Result:  local minimum\n",
      "found minimum: 20.00000328178057, minimum position: [-3345986.99968236   -86862.00014639], evals: 239995\n",
      "*******starting optimisation from intitial mean:  [440.90897872  29.24577398]\n",
      "eigenvalue of variance = [3.92411059 1.63667508]\n",
      "total iterations = 28, total evaluatios = 16800\n",
      "found minimum position = [446.00015644  25.99971428], found minimum = 20.000002846727856\n",
      "\n",
      "Result:  local minimum\n",
      "found minimum: 20.000002846727856, minimum position: [446.00015644  25.99971428], evals: 16800\n",
      "*******starting optimisation from intitial mean:  [441.94020032  58.94827711]\n",
      "eigenvalue of variance = [1.36819855 2.14106653]\n",
      "total iterations = 41, total evaluatios = 24600\n",
      "found minimum position = [444.99995914  58.00008772], found minimum = 20.000000251213443\n",
      "\n",
      "Result:  local minimum\n",
      "found minimum: 20.000000251213443, minimum position: [444.99995914  58.00008772], evals: 24600\n",
      "*******starting optimisation from intitial mean:  [446.03264419  13.22957068]\n"
     ]
    },
    {
     "name": "stdout",
     "output_type": "stream",
     "text": [
      "eigenvalue of variance = [4.07982505 0.07733339]\n",
      "total iterations = 83, total evaluatios = 49794\n",
      "found minimum position = [473.00008766  17.0002021 ], found minimum = 20.000001301938408\n",
      "\n",
      "Result:  local minimum\n",
      "found minimum: 20.000001301938408, minimum position: [473.00008766  17.0002021 ], evals: 49794\n",
      "*******starting optimisation from intitial mean:  [439.37982806  29.1108775 ]\n",
      "eigenvalue of variance = [0.0014113  0.00160731]\n",
      "total iterations = 400, total evaluatios = 240000\n",
      "found minimum position = [ 0.00053099 -0.00561974], found minimum = 0.016814083726366835\n",
      "\n",
      "Result:  global minimum\n",
      "found minimum: 0.016814083726366835, minimum position: [ 0.00053099 -0.00561974], evals: 240000\n",
      "*******starting optimisation from intitial mean:  [479.12468732  10.08489938]\n",
      "eigenvalue of variance = [3.33060408 1.28054508]\n",
      "total iterations = 27, total evaluatios = 16200\n",
      "found minimum position = [481.00024435  14.0001756 ], found minimum = 20.00000242903307\n",
      "\n",
      "Result:  local minimum\n",
      "found minimum: 20.00000242903307, minimum position: [481.00024435  14.0001756 ], evals: 16200\n",
      "*******starting optimisation from intitial mean:  [420.10885469  67.17620714]\n",
      "eigenvalue of variance = [4.60165558 0.68437695]\n",
      "total iterations = 57, total evaluatios = 34185\n",
      "found minimum position = [421.00011743  66.00020816], found minimum = 20.000001532390428\n",
      "\n",
      "Result:  local minimum\n",
      "found minimum: 20.000001532390428, minimum position: [421.00011743  66.00020816], evals: 34185\n",
      "*******starting optimisation from intitial mean:  [455.16754    152.39872719]\n",
      "eigenvalue of variance = [3.63283762 0.85710052]\n",
      "total iterations = 51, total evaluatios = 30600\n",
      "found minimum position = [463.00003415 151.00013981], found minimum = 20.000000555708805\n",
      "\n",
      "Result:  local minimum\n",
      "found minimum: 20.000000555708805, minimum position: [463.00003415 151.00013981], evals: 30600\n",
      "*******starting optimisation from intitial mean:  [453.89989066 135.45731225]\n",
      "eigenvalue of variance = [0.01959242 0.00111353]\n",
      "total iterations = 400, total evaluatios = 239961\n",
      "found minimum position = [-286064.99980871   -9299.99992395], found minimum = 20.00000113685199\n",
      "\n",
      "Result:  local minimum\n",
      "found minimum: 20.00000113685199, minimum position: [-286064.99980871   -9299.99992395], evals: 239961\n",
      "*******starting optimisation from intitial mean:  [460.91059864 111.8217277 ]\n",
      "eigenvalue of variance = [7.15167663e-03 2.47107378e-05]\n",
      "total iterations = 400, total evaluatios = 239972\n",
      "found minimum position = [-4116763.00028601    16065.00030216], found minimum = 20.00000464407876\n",
      "\n",
      "Result:  local minimum\n",
      "found minimum: 20.00000464407876, minimum position: [-4116763.00028601    16065.00030216], evals: 239972\n",
      "*******starting optimisation from intitial mean:  [469.11982633 128.27467954]\n",
      "eigenvalue of variance = [0.02540412 0.00014474]\n",
      "total iterations = 400, total evaluatios = 239979\n",
      "found minimum position = [-165224.00018565   14871.00048168], found minimum = 20.00000714913529\n",
      "\n",
      "Result:  local minimum\n",
      "found minimum: 20.00000714913529, minimum position: [-165224.00018565   14871.00048168], evals: 239979\n",
      "*******starting optimisation from intitial mean:  [452.82800515 105.8474502 ]\n",
      "eigenvalue of variance = [1.64965931 0.37075286]\n",
      "total iterations = 47, total evaluatios = 28176\n",
      "found minimum position = [458.00013963 103.99975149], found minimum = 20.00000217985018\n",
      "\n",
      "Result:  local minimum\n",
      "found minimum: 20.00000217985018, minimum position: [458.00013963 103.99975149], evals: 28176\n",
      "*******starting optimisation from intitial mean:  [481.71382315 152.40303752]\n",
      "eigenvalue of variance = [0.000412   0.00047652]\n",
      "total iterations = 400, total evaluatios = 240000\n",
      "found minimum position = [-0.0043618  -0.00101048], found minimum = 0.013197477416995174\n",
      "\n",
      "Result:  global minimum\n",
      "found minimum: 0.013197477416995174, minimum position: [-0.0043618  -0.00101048], evals: 240000\n",
      "*******starting optimisation from intitial mean:  [487.63300985 192.4138378 ]\n",
      "eigenvalue of variance = [0.32622819 0.01800085]\n",
      "total iterations = 131, total evaluatios = 78600\n",
      "found minimum position = [606.99986535 187.99991692], found minimum = 20.000000671589003\n",
      "\n",
      "Result:  local minimum\n",
      "found minimum: 20.000000671589003, minimum position: [606.99986535 187.99991692], evals: 78600\n",
      "*******starting optimisation from intitial mean:  [495.65087612 111.65791813]\n",
      "eigenvalue of variance = [0.52505858 0.17141997]\n",
      "total iterations = 88, total evaluatios = 52792\n",
      "found minimum position = [487.00032742 110.9999107 ], found minimum = 20.00000308999927\n",
      "\n",
      "Result:  local minimum\n",
      "found minimum: 20.00000308999927, minimum position: [487.00032742 110.9999107 ], evals: 52792\n",
      "*******starting optimisation from intitial mean:  [419.85799414 188.01423336]\n",
      "eigenvalue of variance = [6.81342707 0.02214119]\n",
      "total iterations = 79, total evaluatios = 47400\n",
      "found minimum position = [373.00016785 187.00030854], found minimum = 20.00000330982731\n",
      "\n",
      "Result:  local minimum\n",
      "found minimum: 20.00000330982731, minimum position: [373.00016785 187.00030854], evals: 47400\n",
      "*******starting optimisation from intitial mean:  [417.66815421 176.75291973]\n",
      "eigenvalue of variance = [0.39822882 3.40448447]\n",
      "total iterations = 55, total evaluatios = 32965\n",
      "found minimum position = [421.99980666 173.00016297], found minimum = 20.00000171543552\n",
      "\n",
      "Result:  local minimum\n",
      "found minimum: 20.00000171543552, minimum position: [421.99980666 173.00016297], evals: 32965\n",
      "*******starting optimisation from intitial mean:  [411.47194543 248.00427677]\n",
      "eigenvalue of variance = [0.00011538 0.00258317]\n",
      "total iterations = 400, total evaluatios = 239987\n",
      "found minimum position = [4.00292736e+10 1.21953229e+12], found minimum = 20.000001666132743\n",
      "\n",
      "Result:  local minimum\n",
      "found minimum: 20.000001666132743, minimum position: [4.00292736e+10 1.21953229e+12], evals: 239987\n",
      "*******starting optimisation from intitial mean:  [438.44798041 292.98101848]\n",
      "eigenvalue of variance = [0.00150549 0.00543507]\n",
      "total iterations = 400, total evaluatios = 239957\n",
      "found minimum position = [628.00018642 422.0002608 ], found minimum = 20.00000275718791\n",
      "\n",
      "Result:  local minimum\n",
      "found minimum: 20.00000275718791, minimum position: [628.00018642 422.0002608 ], evals: 239957\n",
      "*******starting optimisation from intitial mean:  [476.17020487 227.79030597]\n",
      "eigenvalue of variance = [1.72633830e-05 1.47898728e-02]\n",
      "total iterations = 400, total evaluatios = 239946\n",
      "found minimum position = [4.08656630e+07 1.16654355e+11], found minimum = 20.00000201827692\n",
      "\n",
      "Result:  local minimum\n",
      "found minimum: 20.00000201827692, minimum position: [4.08656630e+07 1.16654355e+11], evals: 239946\n",
      "*******starting optimisation from intitial mean:  [451.58497323 230.21303194]\n",
      "eigenvalue of variance = [4.4008371  3.20764725]\n",
      "total iterations = 35, total evaluatios = 21000\n",
      "found minimum position = [450.00012818 231.00025641], found minimum = 20.000002204682225\n",
      "\n",
      "Result:  local minimum\n",
      "found minimum: 20.000002204682225, minimum position: [450.00012818 231.00025641], evals: 21000\n",
      "*******starting optimisation from intitial mean:  [499.69366599 205.12655525]\n",
      "eigenvalue of variance = [5.40591906 1.71121288]\n",
      "total iterations = 39, total evaluatios = 23400\n",
      "found minimum position = [490.9999588  196.99975921], found minimum = 20.00000160105388\n",
      "\n",
      "Result:  local minimum\n",
      "found minimum: 20.00000160105388, minimum position: [490.9999588  196.99975921], evals: 23400\n",
      "*******starting optimisation from intitial mean:  [427.04643155 266.01781953]\n",
      "eigenvalue of variance = [6.07336122e-05 8.71704410e-03]\n",
      "total iterations = 400, total evaluatios = 239990\n",
      "found minimum position = [ 2.12704635e+08 -2.03508415e+10], found minimum = 20.000005006526926\n",
      "\n",
      "Result:  local minimum\n",
      "found minimum: 20.000005006526926, minimum position: [ 2.12704635e+08 -2.03508415e+10], evals: 239990\n",
      "*******starting optimisation from intitial mean:  [476.62946291 226.15859059]\n",
      "eigenvalue of variance = [0.00078366 0.04875015]\n",
      "total iterations = 400, total evaluatios = 239728\n",
      "found minimum position = [ 4.17419279e+10 -2.07323751e+12], found minimum = 20.00000281534162\n",
      "\n",
      "Result:  local minimum\n",
      "found minimum: 20.00000281534162, minimum position: [ 4.17419279e+10 -2.07323751e+12], evals: 239728\n",
      "*******starting optimisation from intitial mean:  [446.89056927 235.36267975]\n",
      "eigenvalue of variance = [0.04920824 0.00174166]\n",
      "total iterations = 400, total evaluatios = 239917\n",
      "found minimum position = [2.16111216e+09 3.20758681e+08], found minimum = 20.00000399072643\n",
      "\n",
      "Result:  local minimum\n",
      "found minimum: 20.00000399072643, minimum position: [2.16111216e+09 3.20758681e+08], evals: 239917\n",
      "*******starting optimisation from intitial mean:  [425.46579167 226.19593498]\n"
     ]
    },
    {
     "name": "stdout",
     "output_type": "stream",
     "text": [
      "eigenvalue of variance = [3.89391842e-05 2.17216657e-03]\n",
      "total iterations = 378, total evaluatios = 226799\n",
      "found minimum position = [371.00032397 204.0000841 ], found minimum = 20.00000300547818\n",
      "\n",
      "Result:  local minimum\n",
      "found minimum: 20.00000300547818, minimum position: [371.00032397 204.0000841 ], evals: 226799\n",
      "*******starting optimisation from intitial mean:  [455.27326415 239.19263311]\n",
      "eigenvalue of variance = [0.17816588 0.00094987]\n",
      "total iterations = 400, total evaluatios = 239962\n",
      "found minimum position = [ 8.18431878e+11 -1.04659067e+10], found minimum = 20.000000104333452\n",
      "\n",
      "Result:  local minimum\n",
      "found minimum: 20.000000104333452, minimum position: [ 8.18431878e+11 -1.04659067e+10], evals: 239962\n",
      "*******starting optimisation from intitial mean:  [463.23157444 339.56512327]\n",
      "eigenvalue of variance = [4.71200992e-05 3.97052051e-03]\n",
      "total iterations = 400, total evaluatios = 239951\n",
      "found minimum position = [  18350.00028156 3351890.00019455], found minimum = 20.000003142215764\n",
      "\n",
      "Result:  local minimum\n",
      "found minimum: 20.000003142215764, minimum position: [  18350.00028156 3351890.00019455], evals: 239951\n",
      "*******starting optimisation from intitial mean:  [405.30413556 336.11495391]\n",
      "eigenvalue of variance = [0.04471232 4.19083749]\n",
      "total iterations = 65, total evaluatios = 39000\n",
      "found minimum position = [412.00026204 360.99999147], found minimum = 20.000001844114617\n",
      "\n",
      "Result:  local minimum\n",
      "found minimum: 20.000001844114617, minimum position: [412.00026204 360.99999147], evals: 39000\n",
      "*******starting optimisation from intitial mean:  [431.95625712 318.7573641 ]\n",
      "eigenvalue of variance = [0.00014625 0.00814967]\n",
      "total iterations = 400, total evaluatios = 239957\n",
      "found minimum position = [-1.10536400e+06 -1.08767021e+08], found minimum = 20.000005966267256\n",
      "\n",
      "Result:  local minimum\n",
      "found minimum: 20.000005966267256, minimum position: [-1.10536400e+06 -1.08767021e+08], evals: 239957\n",
      "*******starting optimisation from intitial mean:  [409.80086628 369.33973405]\n",
      "eigenvalue of variance = [0.00029456 0.13059147]\n",
      "total iterations = 229, total evaluatios = 137382\n",
      "found minimum position = [453.99990199 401.00015794], found minimum = 20.0000009269262\n",
      "\n",
      "Result:  local minimum\n",
      "found minimum: 20.0000009269262, minimum position: [453.99990199 401.00015794], evals: 137382\n",
      "*******starting optimisation from intitial mean:  [450.26157695 339.77533269]\n",
      "eigenvalue of variance = [5.93679865e-01 4.16426811e-05]\n",
      "total iterations = 400, total evaluatios = 239918\n",
      "found minimum position = [-6.30941941e+11 -1.84364140e+07], found minimum = 20.000006462860583\n",
      "\n",
      "Result:  local minimum\n",
      "found minimum: 20.000006462860583, minimum position: [-6.30941941e+11 -1.84364140e+07], evals: 239918\n",
      "*******starting optimisation from intitial mean:  [460.63277881 346.52098192]\n",
      "eigenvalue of variance = [0.00214042 0.00291851]\n",
      "total iterations = 400, total evaluatios = 239951\n",
      "found minimum position = [5.21117750e-05 5.26718922e-03], found minimum = 0.015637252115709988\n",
      "\n",
      "Result:  global minimum\n",
      "found minimum: 0.015637252115709988, minimum position: [5.21117750e-05 5.26718922e-03], evals: 239951\n",
      "*******starting optimisation from intitial mean:  [441.91071727 372.93093962]\n",
      "eigenvalue of variance = [0.18435566 3.45714079]\n",
      "total iterations = 64, total evaluatios = 38400\n",
      "found minimum position = [441.99968541 373.99977762], found minimum = 20.000003981829863\n",
      "\n",
      "Result:  local minimum\n",
      "found minimum: 20.000003981829863, minimum position: [441.99968541 373.99977762], evals: 38400\n",
      "*******starting optimisation from intitial mean:  [428.99809591 345.07054839]\n",
      "eigenvalue of variance = [4.9994939  0.11312036]\n",
      "total iterations = 95, total evaluatios = 57000\n",
      "found minimum position = [416.00045045 340.99982906], found minimum = 20.00000622761961\n",
      "\n",
      "Result:  local minimum\n",
      "found minimum: 20.00000622761961, minimum position: [416.00045045 340.99982906], evals: 57000\n",
      "*******starting optimisation from intitial mean:  [494.61547374 338.47547843]\n",
      "eigenvalue of variance = [1.66735474 0.74770907]\n",
      "total iterations = 54, total evaluatios = 32400\n",
      "found minimum position = [490.99982726 341.00019718], found minimum = 20.000001843653067\n",
      "\n",
      "Result:  local minimum\n",
      "found minimum: 20.000001843653067, minimum position: [490.99982726 341.00019718], evals: 32400\n",
      "*******starting optimisation from intitial mean:  [421.85269458 329.58003767]\n",
      "eigenvalue of variance = [0.29125115 2.82698699]\n",
      "total iterations = 104, total evaluatios = 62400\n",
      "found minimum position = [406.99979131 324.99990538], found minimum = 20.000001408644195\n",
      "\n",
      "Result:  local minimum\n",
      "found minimum: 20.000001408644195, minimum position: [406.99979131 324.99990538], evals: 62400\n",
      "*******starting optimisation from intitial mean:  [478.77177709 490.52217734]\n",
      "eigenvalue of variance = [0.00063107 0.02419615]\n",
      "total iterations = 400, total evaluatios = 239956\n",
      "found minimum position = [-1.00903421e+08  7.81174450e+10], found minimum = 20.000002503988405\n",
      "\n",
      "Result:  local minimum\n",
      "found minimum: 20.000002503988405, minimum position: [-1.00903421e+08  7.81174450e+10], evals: 239956\n",
      "*******starting optimisation from intitial mean:  [499.37702105 479.44312478]\n",
      "eigenvalue of variance = [8.05269280e-03 7.95963789e-05]\n",
      "total iterations = 400, total evaluatios = 239911\n",
      "found minimum position = [-120840.00003529  161469.99979563], found minimum = 20.000001153894765\n",
      "\n",
      "Result:  local minimum\n",
      "found minimum: 20.000001153894765, minimum position: [-120840.00003529  161469.99979563], evals: 239911\n",
      "*******starting optimisation from intitial mean:  [451.5502104  472.91129881]\n",
      "eigenvalue of variance = [0.00382999 0.05502646]\n",
      "total iterations = 400, total evaluatios = 239080\n",
      "found minimum position = [4.15296901e+11 2.55193737e+12], found minimum = 20.00001672523172\n",
      "\n",
      "Result:  local minimum\n",
      "found minimum: 20.00001672523172, minimum position: [4.15296901e+11 2.55193737e+12], evals: 239080\n",
      "*******starting optimisation from intitial mean:  [452.20262856 429.22033355]\n",
      "eigenvalue of variance = [0.00663668 0.00131066]\n",
      "total iterations = 400, total evaluatios = 239926\n",
      "found minimum position = [ 858591.00008068 -174094.00058056], found minimum = 20.000009217063468\n",
      "\n",
      "Result:  local minimum\n",
      "found minimum: 20.000009217063468, minimum position: [ 858591.00008068 -174094.00058056], evals: 239926\n",
      "*******starting optimisation from intitial mean:  [473.12556507 414.04168348]\n",
      "eigenvalue of variance = [4.26752161 3.01241141]\n",
      "total iterations = 23, total evaluatios = 13800\n",
      "found minimum position = [472.99981959 413.99998216], found minimum = 20.000000881748146\n",
      "\n",
      "Result:  local minimum\n",
      "found minimum: 20.000000881748146, minimum position: [472.99981959 413.99998216], evals: 13800\n",
      "*******starting optimisation from intitial mean:  [494.12196534 431.76126704]\n",
      "eigenvalue of variance = [0.00011012 0.05856669]\n",
      "total iterations = 400, total evaluatios = 239922\n",
      "found minimum position = [2.93340674e+08 1.83994674e+11], found minimum = 20.00000564169726\n",
      "\n",
      "Result:  local minimum\n",
      "found minimum: 20.00000564169726, minimum position: [2.93340674e+08 1.83994674e+11], evals: 239922\n",
      "*******starting optimisation from intitial mean:  [440.10667278 486.67473149]\n",
      "eigenvalue of variance = [0.06183096 0.00011456]\n",
      "total iterations = 400, total evaluatios = 239961\n",
      "found minimum position = [5.62285985e+10 2.41682403e+08], found minimum = 20.000001926593598\n",
      "\n",
      "Result:  local minimum\n",
      "found minimum: 20.000001926593598, minimum position: [5.62285985e+10 2.41682403e+08], evals: 239961\n",
      "*******starting optimisation from intitial mean:  [420.64553064 422.72911877]\n",
      "eigenvalue of variance = [3.35665913e-05 6.75221306e-02]\n",
      "total iterations = 400, total evaluatios = 239939\n",
      "found minimum position = [3.48200012e+03 8.77435020e+07], found minimum = 20.0000011367839\n",
      "\n",
      "Result:  local minimum\n",
      "found minimum: 20.0000011367839, minimum position: [3.48200012e+03 8.77435020e+07], evals: 239939\n",
      "*******starting optimisation from intitial mean:  [469.52178129 468.01552421]\n",
      "eigenvalue of variance = [6.92990457e-06 3.12876197e-02]\n",
      "total iterations = 400, total evaluatios = 239953\n",
      "found minimum position = [-2.64842070e+07 -4.54909694e+11], found minimum = 20.000001132606027\n",
      "\n",
      "Result:  local minimum\n",
      "found minimum: 20.000001132606027, minimum position: [-2.64842070e+07 -4.54909694e+11], evals: 239953\n",
      "*******starting optimisation from intitial mean:  [400.75610033 450.52227132]\n"
     ]
    },
    {
     "name": "stdout",
     "output_type": "stream",
     "text": [
      "eigenvalue of variance = [1.59927566 3.61622838]\n",
      "total iterations = 36, total evaluatios = 21600\n",
      "found minimum position = [399.99980432 453.00022664], found minimum = 20.000002405411013\n",
      "\n",
      "Result:  local minimum\n",
      "found minimum: 20.000002405411013, minimum position: [399.99980432 453.00022664], evals: 21600\n",
      "avg probility of converge:  0.18666666666666668\n",
      "avg func value:  16.26942661792125\n",
      "avg evals per exp:  156395.94000000003\n",
      "\n",
      "\n",
      "CPU times: user 13min 38s, sys: 6.7 s, total: 13min 45s\n",
      "Wall time: 13min 48s\n"
     ]
    }
   ],
   "source": [
    "inner_optimizer = adam()\n",
    "optmizerParas = {'x0': np.zeros((2,)),\n",
    "         'alpha': 0.1,\n",
    "         'beta_1': 0.9, \n",
    "         'beta_2': 0.999, \n",
    "         'epsilon': 1e-8, \n",
    "         'max_iter': 100,\n",
    "         'tol': 1e-2,              \n",
    "         'verbose': False,\n",
    "         'record': False}\n",
    "inner_optimizer.set_parameters(optmizerParas)\n",
    "composite_optimizer = setup_compsite_cma(inner_optimizer)\n",
    "%time compare_efficency_ackley(composite_optimizer, seed=SEED)"
   ]
  },
  {
   "cell_type": "markdown",
   "metadata": {},
   "source": [
    "## line-search-CMA + original Ackley"
   ]
  },
  {
   "cell_type": "code",
   "execution_count": 36,
   "metadata": {},
   "outputs": [
    {
     "name": "stdout",
     "output_type": "stream",
     "text": [
      "diverge, raise LinAlgError!\n",
      "avg probility of converge:  0.5066666666666666\n",
      "avg func value:  9.760844008835326\n",
      "avg evals per exp:  913.0\n",
      "\n",
      "\n",
      "CPU times: user 8.36 s, sys: 28.3 ms, total: 8.39 s\n",
      "Wall time: 8.46 s\n"
     ]
    }
   ],
   "source": [
    "inner_optimizer = round_off()\n",
    "composite_optimizer = setup_compsite_cma(inner_optimizer)\n",
    "%time conmpare_efficency_ackley(composite_optimizer, seed=SEED)"
   ]
  },
  {
   "cell_type": "code",
   "execution_count": 37,
   "metadata": {},
   "outputs": [
    {
     "data": {
      "text/plain": [
       "6.177437020810515e-05"
      ]
     },
     "execution_count": 37,
     "metadata": {},
     "output_type": "execute_result"
    }
   ],
   "source": [
    "8.46 / 913 / 150"
   ]
  },
  {
   "cell_type": "code",
   "execution_count": null,
   "metadata": {},
   "outputs": [],
   "source": []
  },
  {
   "cell_type": "code",
   "execution_count": 39,
   "metadata": {},
   "outputs": [
    {
     "name": "stdout",
     "output_type": "stream",
     "text": [
      "diverge, raise LinAlgError!\n",
      "avg probility of converge:  0.4133333333333333\n",
      "avg func value:  11.733333588932046\n",
      "avg evals per exp:  70947.87333333334\n",
      "\n",
      "\n",
      "CPU times: user 3min 19s, sys: 1.17 s, total: 3min 20s\n",
      "Wall time: 3min 28s\n"
     ]
    }
   ],
   "source": [
    "inner_optimizer = line_search()\n",
    "composite_optimizer = setup_compsite_cma(inner_optimizer)\n",
    "%time conmpare_efficency_ackley(composite_optimizer, seed=SEED)"
   ]
  },
  {
   "cell_type": "code",
   "execution_count": 40,
   "metadata": {},
   "outputs": [
    {
     "data": {
      "text/plain": [
       "2.1424443598742724e-05"
      ]
     },
     "execution_count": 40,
     "metadata": {},
     "output_type": "execute_result"
    }
   ],
   "source": [
    "228 / 70947 / 150"
   ]
  },
  {
   "cell_type": "code",
   "execution_count": null,
   "metadata": {},
   "outputs": [],
   "source": []
  },
  {
   "cell_type": "code",
   "execution_count": null,
   "metadata": {},
   "outputs": [],
   "source": []
  },
  {
   "cell_type": "markdown",
   "metadata": {},
   "source": [
    "## adam + original Ackley"
   ]
  },
  {
   "cell_type": "code",
   "execution_count": 44,
   "metadata": {},
   "outputs": [
    {
     "name": "stdout",
     "output_type": "stream",
     "text": [
      "avg probility of converge:  0.0\n",
      "avg func value:  19.97863731361894\n",
      "avg evals per exp:  144.18666666666664\n",
      "\n",
      "\n",
      "CPU times: user 890 ms, sys: 12.2 ms, total: 902 ms\n",
      "Wall time: 901 ms\n"
     ]
    }
   ],
   "source": [
    "ad = adam()\n",
    "%time compare_efficency_ackley(ad, seed=SEED)"
   ]
  },
  {
   "cell_type": "code",
   "execution_count": 45,
   "metadata": {},
   "outputs": [
    {
     "data": {
      "text/plain": [
       "4.171296296296297e-05"
      ]
     },
     "execution_count": 45,
     "metadata": {},
     "output_type": "execute_result"
    }
   ],
   "source": [
    "0.901 / 150 / 144"
   ]
  },
  {
   "cell_type": "markdown",
   "metadata": {},
   "source": [
    "## line search + original Ackley"
   ]
  },
  {
   "cell_type": "code",
   "execution_count": 30,
   "metadata": {},
   "outputs": [
    {
     "name": "stdout",
     "output_type": "stream",
     "text": [
      "avg probility of converge:  0.0\n",
      "avg func value:  19.9743627591425\n",
      "avg evals per exp:  39.89333333333334\n",
      "\n",
      "\n",
      "CPU times: user 119 ms, sys: 3.68 ms, total: 123 ms\n",
      "Wall time: 121 ms\n"
     ]
    }
   ],
   "source": [
    "ls = line_search()\n",
    "%time conmpare_efficency_ackley(ls, seed=SEED)"
   ]
  },
  {
   "cell_type": "code",
   "execution_count": 31,
   "metadata": {},
   "outputs": [
    {
     "data": {
      "text/plain": [
       "2.0166666666666664e-05"
      ]
     },
     "execution_count": 31,
     "metadata": {},
     "output_type": "execute_result"
    }
   ],
   "source": [
    "0.121 / 40 / 150"
   ]
  },
  {
   "cell_type": "markdown",
   "metadata": {},
   "source": [
    "## summary on original ackley\n",
    "| --      | adam | line search | original CMA | line search - CMA | adam-CMA | no optimisation |\n",
    "| --      | --   |          -- | --           | --                |       -- |              -- |\n",
    "| #experiments | <td colspan=3>150 times of optimisation</td> \n",
    "|total time          |  0.9 s | 0.12 s      | 12.6s       |  199 s        |     818 s   |   0.01 s      |\n",
    "|evalutaions per exp | 0.14 k | 39.9 k evals|1.46 k evals |  70.9 k evals |156.4 k evals| 0.001 k evals |  \n",
    "|*performance*       |     -- | --          |          -- |            -- | --          | --            |\n",
    "|cost                | 19.98  |  19.98      |   19.82     | 11.73         |     16.27   |      21.55    |\n",
    "|probability         | 0      |     0       |    3%.      |     41%       |       19%   |        0      | \n"
   ]
  },
  {
   "cell_type": "markdown",
   "metadata": {},
   "source": [
    "# 2. Bukin function"
   ]
  },
  {
   "cell_type": "code",
   "execution_count": 10,
   "metadata": {},
   "outputs": [],
   "source": [
    "def compare_efficency_bukin(optimizer, seed):\n",
    "    np.random.seed(seed)\n",
    "\n",
    "    # init multiple experiments\n",
    "    mexps = multiple_experiment()\n",
    "\n",
    "    # init and setup one experiment\n",
    "    exp = single_experiment()\n",
    "    # One experiment: setup objective function\n",
    "    bk = bukin()\n",
    "    exp.set_objective(bk)\n",
    "    exp.set_optimizer(optimizer)\n",
    "\n",
    "    # Multiple experiment: setup one expreiment\n",
    "    mexps.set_single_exp(exp)\n",
    "    # Multiple experiments: setup sample zone of multiple experiments\n",
    "    zoneParas = {'origin': np.array([-15,-15]),\n",
    "             'edge': np.array([30, 30]),\n",
    "             'step': 10,\n",
    "             'size': 10,\n",
    "             'sym': False}\n",
    "    mexps.set_sample_zone(zoneParas)\n",
    "\n",
    "    data = mexps.do()\n",
    "    \n",
    "    print(\"avg probility of converge: \", data['res'].mean())\n",
    "    print(\"avg func value: \", data['cost'].mean())\n",
    "    print(\"avg evals per exp: \", data['evals'].mean())\n",
    "    print(\"\\n\")\n",
    "    return data"
   ]
  },
  {
   "cell_type": "markdown",
   "metadata": {},
   "source": [
    "## no optimisation"
   ]
  },
  {
   "cell_type": "code",
   "execution_count": 4,
   "metadata": {},
   "outputs": [
    {
     "name": "stdout",
     "output_type": "stream",
     "text": [
      "avg probility of converge:  0.0\n",
      "avg func value:  260.01946408646216\n",
      "avg evals per exp:  1.0\n",
      "\n",
      "\n",
      "CPU times: user 6.27 ms, sys: 2.04 ms, total: 8.31 ms\n",
      "Wall time: 6.55 ms\n"
     ]
    }
   ],
   "source": [
    "dn = do_nothing(verbose=False)\n",
    "%time data = compare_efficency_bukin(dn, seed=SEED)"
   ]
  },
  {
   "cell_type": "code",
   "execution_count": 5,
   "metadata": {},
   "outputs": [
    {
     "data": {
      "text/plain": [
       "0.0007277777777777778"
      ]
     },
     "execution_count": 5,
     "metadata": {},
     "output_type": "execute_result"
    }
   ],
   "source": [
    "0.0655 / 90 "
   ]
  },
  {
   "cell_type": "markdown",
   "metadata": {},
   "source": [
    "## adam + bukin func"
   ]
  },
  {
   "cell_type": "code",
   "execution_count": 35,
   "metadata": {},
   "outputs": [
    {
     "name": "stdout",
     "output_type": "stream",
     "text": [
      "avg probility of converge:  0.0\n",
      "avg func value:  11.362796385278592\n",
      "avg evals per exp:  7224.9\n",
      "\n",
      "\n",
      "CPU times: user 21 s, sys: 210 ms, total: 21.2 s\n",
      "Wall time: 21.7 s\n"
     ]
    }
   ],
   "source": [
    "ad = adam()\n",
    "%time data = compare_efficency_bukin(ad, seed=SEED)"
   ]
  },
  {
   "cell_type": "code",
   "execution_count": 36,
   "metadata": {},
   "outputs": [
    {
     "data": {
      "text/plain": [
       "3.3376399655469424e-05"
      ]
     },
     "execution_count": 36,
     "metadata": {},
     "output_type": "execute_result"
    }
   ],
   "source": [
    "21.7 / 90 / 7224"
   ]
  },
  {
   "cell_type": "markdown",
   "metadata": {},
   "source": [
    "## line search + bukin"
   ]
  },
  {
   "cell_type": "code",
   "execution_count": 12,
   "metadata": {},
   "outputs": [
    {
     "name": "stdout",
     "output_type": "stream",
     "text": [
      "avg probility of converge:  0.4555555555555555\n",
      "avg func value:  0.12478531793284657\n",
      "avg evals per exp:  2088.988888888889\n",
      "\n",
      "\n",
      "CPU times: user 1.96 s, sys: 13.2 ms, total: 1.98 s\n",
      "Wall time: 2 s\n"
     ]
    }
   ],
   "source": [
    "ls = line_search()\n",
    "optmizerParas = {'x0': np.zeros((2,)),\n",
    "         'alpha': 1,\n",
    "         'beta': 0.1, \n",
    "         'max_iter': 1000,\n",
    "         'tol': 1e-2,              \n",
    "         'verbose': False,\n",
    "         'record': False}\n",
    "ls.set_parameters(optmizerParas)\n",
    "\n",
    "%time data_ls_bk = compare_efficency_bukin(ls, seed=SEED)"
   ]
  },
  {
   "cell_type": "code",
   "execution_count": 39,
   "metadata": {},
   "outputs": [
    {
     "data": {
      "text/plain": [
       "{'x': array([[-15.,  -5.,   5.],\n",
       "        [-15.,  -5.,   5.],\n",
       "        [-15.,  -5.,   5.]]),\n",
       " 'y': array([[  5.,   5.,   5.],\n",
       "        [ -5.,  -5.,  -5.],\n",
       "        [-15., -15., -15.]]),\n",
       " 'mask': array([[0, 0, 0],\n",
       "        [0, 0, 0],\n",
       "        [0, 0, 0]], dtype=uint8),\n",
       " 'res': array([[1. , 0.6, 0. ],\n",
       "        [1. , 0.3, 0. ],\n",
       "        [1. , 0.2, 0. ]]),\n",
       " 'cost': array([[0.04252106, 0.10433405, 0.24025312],\n",
       "        [0.02799697, 0.11619172, 0.20358712],\n",
       "        [0.02977672, 0.12432748, 0.23407963]]),\n",
       " 'evals': array([[2088.7, 2093.5, 2084.5],\n",
       "        [2087.2, 2095.1, 2086.3],\n",
       "        [2087.7, 2092.9, 2085. ]])}"
      ]
     },
     "execution_count": 39,
     "metadata": {},
     "output_type": "execute_result"
    }
   ],
   "source": [
    "data_ls_bk"
   ]
  },
  {
   "cell_type": "code",
   "execution_count": 31,
   "metadata": {},
   "outputs": [
    {
     "data": {
      "text/plain": [
       "9.573958831977022e-06"
      ]
     },
     "execution_count": 31,
     "metadata": {},
     "output_type": "execute_result"
    }
   ],
   "source": [
    "1.8 / 2089 / 90"
   ]
  },
  {
   "cell_type": "markdown",
   "metadata": {},
   "source": [
    "## original cma + bukin"
   ]
  },
  {
   "cell_type": "code",
   "execution_count": 3,
   "metadata": {},
   "outputs": [
    {
     "name": "stdout",
     "output_type": "stream",
     "text": [
      "diverge, concentrate in low dimension manifold\n",
      "diverge, concentrate in low dimension manifold\n",
      "diverge, concentrate in low dimension manifold\n",
      "diverge, concentrate in low dimension manifold\n",
      "diverge, concentrate in low dimension manifold\n",
      "diverge, concentrate in low dimension manifold\n",
      "avg probility of converge:  0.0\n",
      "avg func value:  0.9873887672079006\n",
      "avg evals per exp:  2389.3999999999996\n",
      "\n",
      "\n",
      "CPU times: user 12.5 s, sys: 67.1 ms, total: 12.6 s\n",
      "Wall time: 12.7 s\n"
     ]
    }
   ],
   "source": [
    "cma = cma_es()\n",
    "paras = {'x0': np.zeros((2,)),\n",
    "         'std': np.ones((2,)) * 0.003, \n",
    "         'tol': 1e-5, \n",
    "         'adjust_func': do_nothing(), \n",
    "         'record': False, \n",
    "         'verbose': False}\n",
    "cma.set_parameters(paras)\n",
    "%time data = compare_efficency_bukin(cma, seed=SEED)"
   ]
  },
  {
   "cell_type": "code",
   "execution_count": 4,
   "metadata": {},
   "outputs": [
    {
     "data": {
      "text/plain": [
       "{'x': array([[-15.,  -5.,   5.],\n",
       "        [-15.,  -5.,   5.],\n",
       "        [-15.,  -5.,   5.]]),\n",
       " 'y': array([[  5.,   5.,   5.],\n",
       "        [ -5.,  -5.,  -5.],\n",
       "        [-15., -15., -15.]]),\n",
       " 'mask': array([[0, 0, 0],\n",
       "        [0, 0, 0],\n",
       "        [0, 0, 0]], dtype=uint8),\n",
       " 'res': array([[0., 0., 0.],\n",
       "        [0., 0., 0.],\n",
       "        [0., 0., 0.]]),\n",
       " 'cost': array([[0.42778181, 0.25823846, 3.38802278],\n",
       "        [1.12686907, 0.26793981, 0.87462486],\n",
       "        [0.8038382 , 1.57245936, 0.16672455]]),\n",
       " 'evals': array([[2398.8, 2397.6, 2385.6],\n",
       "        [2399.4, 2400. , 2400. ],\n",
       "        [2332.2, 2400. , 2391. ]])}"
      ]
     },
     "execution_count": 4,
     "metadata": {},
     "output_type": "execute_result"
    }
   ],
   "source": [
    "data"
   ]
  },
  {
   "cell_type": "code",
   "execution_count": 5,
   "metadata": {},
   "outputs": [
    {
     "data": {
      "text/plain": [
       "5.90670201385982e-05"
      ]
     },
     "execution_count": 5,
     "metadata": {},
     "output_type": "execute_result"
    }
   ],
   "source": [
    "12.7 / 90 / 2389"
   ]
  },
  {
   "cell_type": "markdown",
   "metadata": {},
   "source": [
    "## line-search-cma + bukin"
   ]
  },
  {
   "cell_type": "code",
   "execution_count": null,
   "metadata": {},
   "outputs": [],
   "source": [
    "cma = cma_es()\n",
    "paras = {'x0': np.zeros((2,)),\n",
    "         'std': np.ones((2,)) * 0.003, \n",
    "         'tol': 1e-5, \n",
    "         'adjust_func': line_search(alpha=1e-5, beta=2e-5), \n",
    "         'record': False, \n",
    "         'verbose': True}\n",
    "cma.set_parameters(paras)\n",
    "%time data = compare_efficency_bukin(cma, seed=SEED)"
   ]
  },
  {
   "cell_type": "code",
   "execution_count": 6,
   "metadata": {
    "scrolled": true
   },
   "outputs": [
    {
     "data": {
      "text/plain": [
       "{'x': array([[-15.,  -5.,   5.],\n",
       "        [-15.,  -5.,   5.],\n",
       "        [-15.,  -5.,   5.]]),\n",
       " 'y': array([[  5.,   5.,   5.],\n",
       "        [ -5.,  -5.,  -5.],\n",
       "        [-15., -15., -15.]]),\n",
       " 'mask': array([[0, 0, 0],\n",
       "        [0, 0, 0],\n",
       "        [0, 0, 0]], dtype=uint8),\n",
       " 'res': array([[1. , 0.9, 1. ],\n",
       "        [1. , 0.9, 1. ],\n",
       "        [1. , 1. , 0.9]]),\n",
       " 'cost': array([[3.27603230e-06, 2.61121374e+00, 2.27950007e-04],\n",
       "        [2.51539799e-06, 9.63918122e+01, 2.42287062e-06],\n",
       "        [3.09460454e-06, 9.44530163e-07, 1.93736556e+00]]),\n",
       " 'evals': array([[265629.5, 218364. , 283121.4],\n",
       "        [236491.8, 262611.5, 317096.7],\n",
       "        [212104.4, 215871.8, 383664.2]])}"
      ]
     },
     "execution_count": 6,
     "metadata": {},
     "output_type": "execute_result"
    }
   ],
   "source": [
    "data"
   ]
  },
  {
   "cell_type": "code",
   "execution_count": null,
   "metadata": {},
   "outputs": [],
   "source": [
    "## one case of diverge"
   ]
  },
  {
   "cell_type": "markdown",
   "metadata": {},
   "source": [
    "*******starting optimisation from intitial mean:  [-2.07243989 -0.3797777 ]\n",
    "\n",
    "diverge, raise LinAlgError!\n",
    "\n",
    "eigenvalue of variance = [       nan 0.00019923]\n",
    "\n",
    "total iterations = 75, total evaluatios = 99531\n",
    "\n",
    "found minimum position = [-203.29567204  320.75917861], found minimum = 963.8691504042331\n",
    "\n",
    "Result:  diverge\n",
    "\n",
    "found minimum: 963.8691504042331, minimum position: [-203.29567204  320.75917861], evals: 99531"
   ]
  },
  {
   "cell_type": "code",
   "execution_count": null,
   "metadata": {},
   "outputs": [],
   "source": [
    "## one case of not converge"
   ]
  },
  {
   "cell_type": "markdown",
   "metadata": {},
   "source": [
    "*******starting optimisation from intitial mean:  [ 5.26336317 -8.49785954]\n",
    "\n",
    "eigenvalue of variance = [5.14172784e-12 9.15848313e-11]\n",
    "\n",
    "total iterations = 400, total evaluatios = 539221\n",
    "\n",
    "found minimum position = [-12.49672561   1.52424477], found minimum = 19.37354450370227\n",
    "\n",
    "Result:  local minimum\n",
    "\n",
    "found minimum: 19.37354450370227, minimum position: [-12.49672561   1.52424477], evals: 539221\n"
   ]
  },
  {
   "cell_type": "code",
   "execution_count": 11,
   "metadata": {},
   "outputs": [
    {
     "data": {
      "text/plain": [
       "4.0033907020675074e-05"
      ]
     },
     "execution_count": 11,
     "metadata": {},
     "output_type": "execute_result"
    }
   ],
   "source": [
    "data['cost'][data['cost'] < 1 ].mean()"
   ]
  },
  {
   "cell_type": "code",
   "execution_count": 7,
   "metadata": {},
   "outputs": [
    {
     "data": {
      "text/plain": [
       "1.1691247514566042e-05"
      ]
     },
     "execution_count": 7,
     "metadata": {},
     "output_type": "execute_result"
    }
   ],
   "source": [
    "280 / 90 / 266106"
   ]
  },
  {
   "cell_type": "markdown",
   "metadata": {},
   "source": [
    "## adam CMA + bukin"
   ]
  },
  {
   "cell_type": "code",
   "execution_count": 35,
   "metadata": {},
   "outputs": [
    {
     "name": "stdout",
     "output_type": "stream",
     "text": [
      "avg probility of converge:  0.0\n",
      "avg func value:  1.4041556031468763\n",
      "avg evals per exp:  22648.088888888888\n",
      "\n",
      "\n",
      "CPU times: user 1min, sys: 236 ms, total: 1min\n",
      "Wall time: 1min 1s\n"
     ]
    }
   ],
   "source": [
    "ad = adam()\n",
    "optmizerParas = {'x0': np.zeros((2,)),\n",
    "         'alpha': 0.0001,\n",
    "         'beta_1': 0.9, \n",
    "         'beta_2': 0.999, \n",
    "         'epsilon': 1e-8, \n",
    "         'max_iter': 10,\n",
    "         'tol': 1e-2,              \n",
    "         'verbose': False,\n",
    "         'record': False}\n",
    "ad.set_parameters(optmizerParas)\n",
    "cma = cma_es()\n",
    "paras = {'x0': np.zeros((2,)),\n",
    "         'std': np.ones((2,)) * 0.003, \n",
    "         'tol': 1e-5, \n",
    "         'adjust_func': ad, \n",
    "         'record': False, \n",
    "         'verbose': False}\n",
    "cma.set_parameters(paras)\n",
    "%time data = compare_efficency_bukin(cma, seed=SEED + 11212)"
   ]
  },
  {
   "cell_type": "code",
   "execution_count": 29,
   "metadata": {},
   "outputs": [
    {
     "data": {
      "text/plain": [
       "3.1788605771618734e-05"
      ]
     },
     "execution_count": 29,
     "metadata": {},
     "output_type": "execute_result"
    }
   ],
   "source": [
    "64 / 90 / 22370"
   ]
  },
  {
   "cell_type": "markdown",
   "metadata": {},
   "source": [
    "## summary of bukin\n",
    "| -- | Adam | line search(large max_iter)  | CMA | line-search CMA | Adam CMA | no optimisation\n",
    "| -- | -- | -- | -- | -- | -- | -- |\n",
    "| #experiments| 90 experiments | 90 experiments | 90 experiments | 90 experiments | 90 experiments | 90 experiments |\n",
    "| total time | 21.7 s | 1.8 s | 12.7 s | 263 s | 64 s | 0.007 s |\n",
    "| evalutaions per exp | 7.2 k evals |  2.1 k evals | 2.4 k evals | 266 k evals  | 22.4 k evals | 1 evals\n",
    "| cost | 11.36 | 0.12 | 0.99 | 11.22 (4e-5) | 0.89 | 260 |\n",
    "| prob | 0 | 46% | 0 | 97% | 0 | 0 | "
   ]
  },
  {
   "cell_type": "markdown",
   "metadata": {},
   "source": [
    "# 3. Tuned Ackley"
   ]
  },
  {
   "cell_type": "markdown",
   "metadata": {},
   "source": [
    "## original cma + tuned ackley"
   ]
  },
  {
   "cell_type": "code",
   "execution_count": null,
   "metadata": {},
   "outputs": [],
   "source": [
    "np.random.seed(2311)\n",
    "\n",
    "# init multiple experiments\n",
    "exps5 = multiple_experiment()\n",
    "\n",
    "# init and setup one experiment\n",
    "exp = single_experiment()\n",
    "\n",
    "# One experiment: setup objective function\n",
    "tak = tuned_ackley()\n",
    "exp.set_objective(tak)\n",
    "\n",
    "# One experiment: setup optimizer\n",
    "cma = cma_es()\n",
    "paras = {'mean0': np.zeros((2,)),\n",
    "         'std': np.ones((2,)) * 3, \n",
    "         'tol': 1e-5, \n",
    "         'adjust_func': do_nothing(), \n",
    "         'record': False, \n",
    "         'verbose': False}\n",
    "cma.set_parameters(paras)\n",
    "exp.set_optimizer(cma)\n",
    "\n",
    "# Multiple experiment: setup one expreiment\n",
    "exps5.set_single_exp(exp)\n",
    "\n",
    "\n",
    "# Multiple experiments: setup sample zone of multiple experiments\n",
    "expsParas = {'origin': np.array([0, 0]),\n",
    "             'edge': np.array([20, 20]),\n",
    "             'step': 5,\n",
    "             'size': 10,\n",
    "             'sym': True}\n",
    "exps5.set_sample_zone(expsParas)\n",
    "\n",
    "%time data5 = exps5.do()"
   ]
  },
  {
   "cell_type": "markdown",
   "metadata": {},
   "source": [
    "## line-search-cma + tuned Ackley"
   ]
  },
  {
   "cell_type": "code",
   "execution_count": null,
   "metadata": {},
   "outputs": [],
   "source": [
    "np.random.seed(2311)\n",
    "\n",
    "# init multiple experiments\n",
    "exps6 = multiple_experiment()\n",
    "\n",
    "# init and setup one experiment\n",
    "exp = single_experiment()\n",
    "\n",
    "# One experiment: setup objective function\n",
    "tak = tuned_ackley()\n",
    "exp.set_objective(tak)\n",
    "\n",
    "# One experiment: setup optimizer\n",
    "cma = cma_es()\n",
    "paras = {'mean0': np.zeros((2,)),\n",
    "         'std': np.ones((2,)) * 3, \n",
    "         'tol': 1e-5, \n",
    "         'adjust_func': line_search(), \n",
    "         'record': False, \n",
    "         'verbose': True}\n",
    "cma.set_parameters(paras)\n",
    "exp.set_optimizer(cma)\n",
    "\n",
    "# Multiple experiment: setup one expreiment\n",
    "exps6.set_single_exp(exp)\n",
    "\n",
    "\n",
    "# Multiple experiments: setup sample zone of multiple experiments\n",
    "expsParas = {'origin': np.array([0, 0]),\n",
    "             'edge': np.array([20, 20]),\n",
    "             'step': 5,\n",
    "             'size': 10,\n",
    "             'sym': True}\n",
    "exps6.set_sample_zone(expsParas)\n",
    "\n",
    "%time data6 = exps6.do()"
   ]
  }
 ],
 "metadata": {
  "kernelspec": {
   "display_name": "Python [conda env:miniconda3-ada] *",
   "language": "python",
   "name": "conda-env-miniconda3-ada-py"
  },
  "language_info": {
   "codemirror_mode": {
    "name": "ipython",
    "version": 3
   },
   "file_extension": ".py",
   "mimetype": "text/x-python",
   "name": "python",
   "nbconvert_exporter": "python",
   "pygments_lexer": "ipython3",
   "version": "3.7.4"
  }
 },
 "nbformat": 4,
 "nbformat_minor": 4
}
