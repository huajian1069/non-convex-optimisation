{
 "cells": [
  {
   "cell_type": "code",
   "execution_count": 2,
   "metadata": {},
   "outputs": [],
   "source": [
    "from library.objective_function import *\n",
    "from library.optimiser import *\n",
    "from library.post_analysis import *\n",
    "from library.experiments import *\n",
    "%matplotlib inline"
   ]
  },
  {
   "cell_type": "markdown",
   "metadata": {},
   "source": [
    "**naming of objective function**\n",
    "ackley -> ak \n",
    "\n",
    "tuned ackley -> tak\n",
    "\n",
    "bukin -> bk\n",
    "\n",
    "egg holder -> eh\n",
    "\n",
    "**naming of optimizer**\n",
    "\n",
    "original CMA -> no\n",
    "\n",
    "line search CMA-> ls\n",
    "\n",
    "round off CMA-> ro\n",
    "\n",
    "**naming of experiments**\n",
    "\n",
    "experiments -> exps + objective function + optimizer + [hyperparameter]"
   ]
  },
  {
   "cell_type": "code",
   "execution_count": 13,
   "metadata": {},
   "outputs": [
    {
     "name": "stdout",
     "output_type": "stream",
     "text": [
      "CPU times: user 12.9 s, sys: 60.2 ms, total: 13 s\n",
      "Wall time: 13.1 s\n"
     ]
    }
   ],
   "source": [
    "np.random.seed(23191)\n",
    "\n",
    "# init multiple experiments\n",
    "exps_ak_no = multiple_experiment()\n",
    "\n",
    "# init and setup one experiment\n",
    "exp = single_experiment()\n",
    "\n",
    "# One experiment: setup objective function\n",
    "ak = ackley()\n",
    "exp.set_objective(ak)\n",
    "\n",
    "# One experiment: setup optimizer\n",
    "cma = cma_es()\n",
    "optmizerParas = {'mean0': np.zeros((2,)),\n",
    "         'std': np.ones((2,)) * 3, \n",
    "         'tol': 1e-5, \n",
    "         'adjust_func': do_nothing(), \n",
    "         'record': False, \n",
    "         'verbose': False}\n",
    "cma.set_parameters(optmizerParas)\n",
    "exp.set_optimizer(cma)\n",
    "\n",
    "# Multiple experiment: setup one expreiment\n",
    "exps_ak_no.set_single_exp(exp)\n",
    "\n",
    "\n",
    "# Multiple experiments: setup sample zone of multiple experiments\n",
    "zoneParas = {'origin': np.array([0,0]),\n",
    "             'edge': np.array([500, 500]),\n",
    "             'step': 100,\n",
    "             'size': 10,\n",
    "             'sym': True}\n",
    "exps_ak_no.set_sample_zone(zoneParas)\n",
    "\n",
    "%time data_exps_ak_no = exps_ak_no.do()"
   ]
  },
  {
   "cell_type": "code",
   "execution_count": 14,
   "metadata": {},
   "outputs": [
    {
     "data": {
      "text/plain": [
       "{'x': array([[  0.,   0.,   0.,   0., 400.],\n",
       "        [  0.,   0.,   0., 300., 400.],\n",
       "        [  0.,   0., 200., 300., 400.],\n",
       "        [  0., 100., 200., 300., 400.],\n",
       "        [  0., 100., 200., 300., 400.]]),\n",
       " 'y': array([[  0.,   0.,   0.,   0., 400.],\n",
       "        [  0.,   0.,   0., 300., 300.],\n",
       "        [  0.,   0., 200., 200., 200.],\n",
       "        [  0., 100., 100., 100., 100.],\n",
       "        [  0.,   0.,   0.,   0.,   0.]]),\n",
       " 'mask': array([[1, 1, 1, 1, 0],\n",
       "        [1, 1, 1, 0, 0],\n",
       "        [1, 1, 0, 0, 0],\n",
       "        [1, 0, 0, 0, 0],\n",
       "        [0, 0, 0, 0, 0]], dtype=uint8),\n",
       " 'res': array([[0. , 0. , 0. , 0. , 0. ],\n",
       "        [0. , 0. , 0. , 0. , 0. ],\n",
       "        [0. , 0. , 0. , 0. , 0. ],\n",
       "        [0. , 0. , 0. , 0. , 0. ],\n",
       "        [0.4, 0. , 0. , 0. , 0. ]]),\n",
       " 'cost': array([[ 0.        ,  0.        ,  0.        ,  0.        , 20.19709028],\n",
       "        [ 0.        ,  0.        ,  0.        , 20.45217829, 20.39491645],\n",
       "        [ 0.        ,  0.        , 20.33508777, 20.32379526, 20.36223582],\n",
       "        [ 0.        , 20.44659775, 20.3280172 , 20.71136114, 20.49248777],\n",
       "        [12.1061696 , 20.43314129, 20.36260909, 20.1646453 , 20.21872203]]),\n",
       " 'evals': array([[   0. ,    0. ,    0. ,    0. , 1249.8],\n",
       "        [   0. ,    0. ,    0. , 1929. , 1192.2],\n",
       "        [   0. ,    0. , 1494.6, 1479. , 1303.8],\n",
       "        [   0. , 1762.2, 1805.4, 2182.2, 1427.4],\n",
       "        [ 741.6, 1398.6, 1281. ,  912. , 1733.4]])}"
      ]
     },
     "execution_count": 14,
     "metadata": {},
     "output_type": "execute_result"
    }
   ],
   "source": [
    "data_exps_ak_no"
   ]
  },
  {
   "cell_type": "code",
   "execution_count": 17,
   "metadata": {},
   "outputs": [
    {
     "data": {
      "text/plain": [
       "15.0"
      ]
     },
     "execution_count": 17,
     "metadata": {},
     "output_type": "execute_result"
    }
   ],
   "source": [
    "num = zoneParas['edge'][0] / zoneParas['step']\n",
    "num = (num + 1) * num / 2\n",
    "num"
   ]
  },
  {
   "cell_type": "code",
   "execution_count": 19,
   "metadata": {},
   "outputs": [
    {
     "data": {
      "text/plain": [
       "0.02666666666666667"
      ]
     },
     "execution_count": 19,
     "metadata": {},
     "output_type": "execute_result"
    }
   ],
   "source": [
    "data_exps_ak_no['res'].sum() / num"
   ]
  },
  {
   "cell_type": "code",
   "execution_count": 20,
   "metadata": {},
   "outputs": [
    {
     "data": {
      "text/plain": [
       "19.821937003313206"
      ]
     },
     "execution_count": 20,
     "metadata": {},
     "output_type": "execute_result"
    }
   ],
   "source": [
    "data_exps_ak_no['cost'].sum() / num"
   ]
  },
  {
   "cell_type": "code",
   "execution_count": 22,
   "metadata": {},
   "outputs": [
    {
     "data": {
      "text/plain": [
       "1459.48"
      ]
     },
     "execution_count": 22,
     "metadata": {},
     "output_type": "execute_result"
    }
   ],
   "source": [
    "data_exps_ak_no['evals'].sum() / num"
   ]
  },
  {
   "cell_type": "code",
   "execution_count": null,
   "metadata": {},
   "outputs": [],
   "source": []
  }
 ],
 "metadata": {
  "kernelspec": {
   "display_name": "Python [conda env:miniconda3-ada] *",
   "language": "python",
   "name": "conda-env-miniconda3-ada-py"
  },
  "language_info": {
   "codemirror_mode": {
    "name": "ipython",
    "version": 3
   },
   "file_extension": ".py",
   "mimetype": "text/x-python",
   "name": "python",
   "nbconvert_exporter": "python",
   "pygments_lexer": "ipython3",
   "version": "3.7.4"
  }
 },
 "nbformat": 4,
 "nbformat_minor": 4
}
