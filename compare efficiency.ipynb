{
 "cells": [
  {
   "cell_type": "code",
   "execution_count": 1,
   "metadata": {},
   "outputs": [],
   "source": [
    "from library.objective_function import *\n",
    "from library.optimiser import *\n",
    "from library.post_analysis import *\n",
    "from library.experiments import *\n",
    "%matplotlib inline"
   ]
  },
  {
   "cell_type": "markdown",
   "metadata": {},
   "source": [
    "**naming of objective function**\n",
    "ackley -> ak \n",
    "\n",
    "tuned ackley -> tak\n",
    "\n",
    "bukin -> bk\n",
    "\n",
    "egg holder -> eh\n",
    "\n",
    "**naming of optimizer**\n",
    "\n",
    "original CMA -> no\n",
    "\n",
    "line search CMA-> ls\n",
    "\n",
    "round off CMA-> ro\n",
    "\n",
    "**naming of experiments**\n",
    "\n",
    "experiments -> exps + objective function + optimizer + [hyperparameter]"
   ]
  },
  {
   "cell_type": "code",
   "execution_count": 2,
   "metadata": {},
   "outputs": [
    {
     "name": "stdout",
     "output_type": "stream",
     "text": [
      "CPU times: user 13.9 s, sys: 101 ms, total: 14 s\n",
      "Wall time: 14.2 s\n"
     ]
    }
   ],
   "source": [
    "np.random.seed(23191)\n",
    "\n",
    "# init multiple experiments\n",
    "exps_ak_no = multiple_experiment()\n",
    "\n",
    "# init and setup one experiment\n",
    "exp = single_experiment()\n",
    "\n",
    "# One experiment: setup objective function\n",
    "ak = ackley()\n",
    "exp.set_objective(ak)\n",
    "\n",
    "# One experiment: setup optimizer\n",
    "cma = cma_es()\n",
    "optmizerParas = {'x0': np.zeros((2,)),\n",
    "         'std': np.ones((2,)) * 3, \n",
    "         'tol': 1e-5, \n",
    "         'adjust_func': do_nothing(), \n",
    "         'record': False, \n",
    "         'verbose': False}\n",
    "cma.set_parameters(optmizerParas)\n",
    "exp.set_optimizer(cma)\n",
    "\n",
    "# Multiple experiment: setup one expreiment\n",
    "exps_ak_no.set_single_exp(exp)\n",
    "\n",
    "\n",
    "# Multiple experiments: setup sample zone of multiple experiments\n",
    "zoneParas = {'origin': np.array([0,0]),\n",
    "             'edge': np.array([500, 500]),\n",
    "             'step': 100,\n",
    "             'size': 10,\n",
    "             'sym': True}\n",
    "exps_ak_no.set_sample_zone(zoneParas)\n",
    "\n",
    "%time data_exps_ak_no = exps_ak_no.do()"
   ]
  },
  {
   "cell_type": "code",
   "execution_count": 77,
   "metadata": {},
   "outputs": [
    {
     "data": {
      "text/plain": [
       "15.0"
      ]
     },
     "execution_count": 77,
     "metadata": {},
     "output_type": "execute_result"
    }
   ],
   "source": [
    "num = zoneParas['edge'][0] / zoneParas['step']\n",
    "num = (num + 1) * num / 2\n",
    "num"
   ]
  },
  {
   "cell_type": "code",
   "execution_count": 34,
   "metadata": {},
   "outputs": [
    {
     "data": {
      "text/plain": [
       "19.821937003313206"
      ]
     },
     "execution_count": 34,
     "metadata": {},
     "output_type": "execute_result"
    }
   ],
   "source": [
    "data_exps_ak_no['cost'].sum() / num"
   ]
  },
  {
   "cell_type": "code",
   "execution_count": 19,
   "metadata": {},
   "outputs": [
    {
     "data": {
      "text/plain": [
       "0.02666666666666667"
      ]
     },
     "execution_count": 19,
     "metadata": {},
     "output_type": "execute_result"
    }
   ],
   "source": [
    "data_exps_ak_no['res'].sum() / num"
   ]
  },
  {
   "cell_type": "code",
   "execution_count": 22,
   "metadata": {},
   "outputs": [
    {
     "data": {
      "text/plain": [
       "1459.48"
      ]
     },
     "execution_count": 22,
     "metadata": {},
     "output_type": "execute_result"
    }
   ],
   "source": [
    "data_exps_ak_no['evals'].sum() / num"
   ]
  },
  {
   "cell_type": "code",
   "execution_count": null,
   "metadata": {},
   "outputs": [],
   "source": []
  },
  {
   "cell_type": "code",
   "execution_count": 23,
   "metadata": {},
   "outputs": [
    {
     "name": "stderr",
     "output_type": "stream",
     "text": [
      "/Users/huajian/Non-convex/library/optimiser.py:199: RuntimeWarning:\n",
      "\n",
      "invalid value encountered in sqrt\n",
      "\n",
      "/Users/huajian/miniconda3/envs/ada/lib/python3.7/site-packages/numpy/core/fromnumeric.py:83: RuntimeWarning:\n",
      "\n",
      "invalid value encountered in reduce\n",
      "\n",
      "/Users/huajian/Non-convex/library/optimiser.py:90: RuntimeWarning:\n",
      "\n",
      "invalid value encountered in less\n",
      "\n",
      "/Users/huajian/Non-convex/library/optimiser.py:93: RuntimeWarning:\n",
      "\n",
      "invalid value encountered in less\n",
      "\n"
     ]
    },
    {
     "name": "stdout",
     "output_type": "stream",
     "text": [
      "diverge, raise LinAlgError!\n",
      "CPU times: user 2min 59s, sys: 231 ms, total: 3min\n",
      "Wall time: 3min\n"
     ]
    }
   ],
   "source": [
    "np.random.seed(23191)\n",
    "\n",
    "# init multiple experiments\n",
    "exps_ak_ls = multiple_experiment()\n",
    "\n",
    "# init and setup one experiment\n",
    "exp = single_experiment()\n",
    "\n",
    "# One experiment: setup objective function\n",
    "ak = ackley()\n",
    "exp.set_objective(ak)\n",
    "\n",
    "# One experiment: setup optimizer\n",
    "cma = cma_es()\n",
    "optmizerParas = {'x0': np.zeros((2,)),\n",
    "         'std': np.ones((2,)) * 3, \n",
    "         'tol': 1e-5, \n",
    "         'adjust_func': line_search(), \n",
    "         'record': False, \n",
    "         'verbose': False}\n",
    "cma.set_parameters(optmizerParas)\n",
    "exp.set_optimizer(cma)\n",
    "\n",
    "# Multiple experiment: setup one expreiment\n",
    "exps_ak_ls.set_single_exp(exp)\n",
    "\n",
    "\n",
    "# Multiple experiments: setup sample zone of multiple experiments\n",
    "zoneParas = {'origin': np.array([0,0]),\n",
    "             'edge': np.array([500, 500]),\n",
    "             'step': 100,\n",
    "             'size': 10,\n",
    "             'sym': True}\n",
    "exps_ak_ls.set_sample_zone(zoneParas)\n",
    "\n",
    "%time data_ak_ls = exps_ak_ls.do()"
   ]
  },
  {
   "cell_type": "code",
   "execution_count": 27,
   "metadata": {},
   "outputs": [
    {
     "data": {
      "text/plain": [
       "0.4133333333333333"
      ]
     },
     "execution_count": 27,
     "metadata": {},
     "output_type": "execute_result"
    }
   ],
   "source": [
    "data_ak_ls['res'].sum() / num"
   ]
  },
  {
   "cell_type": "code",
   "execution_count": 35,
   "metadata": {},
   "outputs": [
    {
     "data": {
      "text/plain": [
       "11.733333588932046"
      ]
     },
     "execution_count": 35,
     "metadata": {},
     "output_type": "execute_result"
    }
   ],
   "source": [
    "data_ak_ls['cost'].sum() / num"
   ]
  },
  {
   "cell_type": "code",
   "execution_count": 29,
   "metadata": {},
   "outputs": [
    {
     "data": {
      "text/plain": [
       "70947.87333333334"
      ]
     },
     "execution_count": 29,
     "metadata": {},
     "output_type": "execute_result"
    }
   ],
   "source": [
    "data_ak_ls['evals'].sum() / num"
   ]
  },
  {
   "cell_type": "code",
   "execution_count": null,
   "metadata": {},
   "outputs": [],
   "source": []
  },
  {
   "cell_type": "code",
   "execution_count": 30,
   "metadata": {},
   "outputs": [
    {
     "name": "stdout",
     "output_type": "stream",
     "text": [
      "diverge, raise LinAlgError!\n",
      "CPU times: user 9.01 s, sys: 69.8 ms, total: 9.08 s\n",
      "Wall time: 9.23 s\n"
     ]
    }
   ],
   "source": [
    "np.random.seed(23191)\n",
    "\n",
    "# init multiple experiments\n",
    "exps_ak_ro = multiple_experiment()\n",
    "\n",
    "# init and setup one experiment\n",
    "exp = single_experiment()\n",
    "\n",
    "# One experiment: setup objective function\n",
    "ak = ackley()\n",
    "exp.set_objective(ak)\n",
    "\n",
    "# One experiment: setup optimizer\n",
    "cma = cma_es()\n",
    "optmizerParas = {'x0': np.zeros((2,)),\n",
    "         'std': np.ones((2,)) * 3, \n",
    "         'tol': 1e-5, \n",
    "         'adjust_func': round_off(), \n",
    "         'record': False, \n",
    "         'verbose': False}\n",
    "cma.set_parameters(optmizerParas)\n",
    "exp.set_optimizer(cma)\n",
    "\n",
    "# Multiple experiment: setup one expreiment\n",
    "exps_ak_ro.set_single_exp(exp)\n",
    "\n",
    "\n",
    "# Multiple experiments: setup sample zone of multiple experiments\n",
    "zoneParas = {'origin': np.array([0,0]),\n",
    "             'edge': np.array([500, 500]),\n",
    "             'step': 100,\n",
    "             'size': 10,\n",
    "             'sym': True}\n",
    "exps_ak_ro.set_sample_zone(zoneParas)\n",
    "\n",
    "%time data_ak_ro = exps_ak_ro.do()"
   ]
  },
  {
   "cell_type": "code",
   "execution_count": 31,
   "metadata": {},
   "outputs": [
    {
     "data": {
      "text/plain": [
       "0.5066666666666666"
      ]
     },
     "execution_count": 31,
     "metadata": {},
     "output_type": "execute_result"
    }
   ],
   "source": [
    "data_ak_ro['res'].sum()/num"
   ]
  },
  {
   "cell_type": "code",
   "execution_count": 37,
   "metadata": {},
   "outputs": [
    {
     "data": {
      "text/plain": [
       "9.760844008835326"
      ]
     },
     "execution_count": 37,
     "metadata": {},
     "output_type": "execute_result"
    }
   ],
   "source": [
    "data_ak_ro['cost'].sum() / num"
   ]
  },
  {
   "cell_type": "code",
   "execution_count": 32,
   "metadata": {},
   "outputs": [
    {
     "data": {
      "text/plain": [
       "913.0"
      ]
     },
     "execution_count": 32,
     "metadata": {},
     "output_type": "execute_result"
    }
   ],
   "source": [
    "data_ak_ro['evals'].sum()/num"
   ]
  },
  {
   "cell_type": "code",
   "execution_count": null,
   "metadata": {},
   "outputs": [],
   "source": []
  },
  {
   "cell_type": "code",
   "execution_count": 69,
   "metadata": {},
   "outputs": [],
   "source": [
    "class adam(optimizer):\n",
    "    def __init__(self):\n",
    "        self.alpha = 0.01\n",
    "        self.beta_1 = 0.9\n",
    "        self.beta_2 = 0.999\n",
    "        self.epsilon = 1e-8\n",
    "        self.max_iter = 10000\n",
    "        self.tol = 1e-2\n",
    "        \n",
    "    def set_parameters(self, paras):\n",
    "        self.paras = paras\n",
    "        self.x0 = paras['x0']\n",
    "        self.alpha = paras['alpha']\n",
    "        self.beta_1 = paras['beta_1']\n",
    "        self.beta_2 = paras['beta_2']\n",
    "        self.epsilon = paras['epsilon']\n",
    "        self.max_iter = paras['max_iter']\n",
    "        self.tol = paras['tol']\n",
    "        self.verbose = True if 'verbose' not in paras.keys() else paras['verbose']\n",
    "        self.record = True if 'record' not in paras.keys() else paras['record']\n",
    "        \n",
    "    def optimise(self, obj):\n",
    "        m_t = 0 \n",
    "        v_t = 0 \n",
    "        eval_cnt = 1\n",
    "        x = self.x0\n",
    "        stats = {}\n",
    "        stats['status'] = None\n",
    "        while eval_cnt < self.max_iter:\t\t\t\t\t#till it gets converged\n",
    "            eval_cnt+=1\n",
    "            g_t = obj.dfunc(x)\t\t#computes the gradient of the stochastic function\n",
    "            m_t = self.beta_1*m_t + (1-self.beta_1)*g_t\t#updates the moving averages of the gradient\n",
    "            v_t = self.beta_2*v_t + (1-self.beta_2)*(g_t*g_t)\t#updates the moving averages of the squared gradient\n",
    "            m_cap = m_t/(1-(self.beta_1**eval_cnt))\t\t#calculates the bias-corrected estimates\n",
    "            v_cap = v_t/(1-(self.beta_2**eval_cnt))\t\t#calculates the bias-corrected estimates\n",
    "            x_prev = x\t\t\t\t\t\t\t\t\n",
    "            x = x - (self.alpha*m_cap)/(np.sqrt(v_cap)+self.epsilon)\t#updates the parameters\n",
    "            if(np.linalg.norm(x-x_prev) < self.tol):\t\t#checks if it is converged or not\n",
    "                break\n",
    "        stats['evals'] = eval_cnt\n",
    "        return x, obj.func(x), stats"
   ]
  },
  {
   "cell_type": "code",
   "execution_count": 70,
   "metadata": {},
   "outputs": [
    {
     "name": "stdout",
     "output_type": "stream",
     "text": [
      "\n",
      "Result:  local minimum\n",
      "Cost_val 19.999999897405754\n"
     ]
    }
   ],
   "source": [
    "# init and setup one experiment\n",
    "exp = single_experiment()\n",
    "\n",
    "# One experiment: setup objective function\n",
    "ak = ackley()\n",
    "exp.set_objective(ak)\n",
    "\n",
    "# One experiment: setup optimizer\n",
    "ad = adam()\n",
    "optmizerParas = {'x0': np.array([133,23]),\n",
    "         'alpha': 1e-9,\n",
    "         'beta_1': 0.9, \n",
    "         'beta_2': 0.999, \n",
    "         'epsilon': 1e-8, \n",
    "         'max_iter': 1000,\n",
    "         'tol': 1e-2,              \n",
    "         'verbose': True,\n",
    "         'record': True}\n",
    "ad.set_parameters(optmizerParas)\n",
    "exp.set_optimizer(ad)\n",
    "exp.do()"
   ]
  },
  {
   "cell_type": "code",
   "execution_count": 72,
   "metadata": {},
   "outputs": [
    {
     "name": "stdout",
     "output_type": "stream",
     "text": [
      "\n",
      "Result:  local minimum\n",
      "Cost_val 20.003733434069357\n",
      "\n",
      "Result:  local minimum\n",
      "Cost_val 20.02543578963327\n",
      "\n",
      "Result:  local minimum\n",
      "Cost_val 20.00040829469172\n",
      "\n",
      "Result:  local minimum\n",
      "Cost_val 20.000003981849826\n",
      "\n",
      "Result:  local minimum\n",
      "Cost_val 19.999999938249736\n",
      "\n",
      "Result:  local minimum\n",
      "Cost_val 19.999999897814142\n",
      "\n",
      "Result:  local minimum\n",
      "Cost_val 19.999999897409833\n",
      "\n",
      "Result:  local minimum\n",
      "Cost_val 19.999999897405793\n",
      "\n",
      "Result:  local minimum\n",
      "Cost_val 19.999999897405754\n",
      "\n",
      "Result:  local minimum\n",
      "Cost_val 19.999999897405754\n"
     ]
    }
   ],
   "source": [
    "for i in range(0, 10):\n",
    "    # One experiment: setup optimizer\n",
    "    ad = adam()\n",
    "    optmizerParas = {'x0': np.array([133,23]),\n",
    "             'alpha': np.power(0.1, i),\n",
    "             'beta_1': 0.9, \n",
    "             'beta_2': 0.999, \n",
    "             'epsilon': 1e-8, \n",
    "             'max_iter': 1000,\n",
    "             'tol': 1e-2,              \n",
    "             'verbose': True,\n",
    "             'record': True}\n",
    "    ad.set_parameters(optmizerParas)\n",
    "    exp.set_optimizer(ad)\n",
    "    exp.do()"
   ]
  },
  {
   "cell_type": "code",
   "execution_count": 71,
   "metadata": {},
   "outputs": [
    {
     "name": "stdout",
     "output_type": "stream",
     "text": [
      "\n",
      "Result:  local minimum\n",
      "Cost_val 20.003733434069357\n",
      "\n",
      "Result:  local minimum\n",
      "Cost_val 20.117767201513793\n",
      "\n",
      "Result:  local minimum\n",
      "Cost_val 20.756142458199538\n",
      "\n",
      "Result:  local minimum\n",
      "Cost_val 21.957637571413972\n",
      "\n",
      "Result:  local minimum\n",
      "Cost_val 21.82917204691484\n",
      "\n",
      "Result:  local minimum\n",
      "Cost_val 21.068612259536778\n",
      "\n",
      "Result:  local minimum\n",
      "Cost_val 21.75169247669363\n",
      "\n",
      "Result:  local minimum\n",
      "Cost_val 21.242426070444008\n",
      "\n",
      "Result:  local minimum\n",
      "Cost_val 21.64601113809763\n",
      "\n",
      "Result:  local minimum\n",
      "Cost_val 21.391802740896953\n"
     ]
    }
   ],
   "source": [
    "for i in range(0, 10):\n",
    "    # One experiment: setup optimizer\n",
    "    ad = adam()\n",
    "    optmizerParas = {'x0': np.array([133,23]),\n",
    "             'alpha': np.power(10, i),\n",
    "             'beta_1': 0.9, \n",
    "             'beta_2': 0.999, \n",
    "             'epsilon': 1e-8, \n",
    "             'max_iter': 1000,\n",
    "             'tol': 1e-2,              \n",
    "             'verbose': True,\n",
    "             'record': True}\n",
    "    ad.set_parameters(optmizerParas)\n",
    "    exp.set_optimizer(ad)\n",
    "    exp.do()"
   ]
  },
  {
   "cell_type": "code",
   "execution_count": 74,
   "metadata": {},
   "outputs": [
    {
     "name": "stdout",
     "output_type": "stream",
     "text": [
      "local minimum 20.0110953961625 55\n",
      "local minimum 20.514667559280095 14\n",
      "local minimum 20.000414284557664 95\n",
      "local minimum 20.003206498782788 67\n",
      "local minimum 20.006390847617105 63\n",
      "local minimum 20.011808969011227 55\n",
      "local minimum 20.009031037873445 66\n",
      "local minimum 19.99502618859768 83\n",
      "local minimum 19.99904015779952 79\n",
      "local minimum 13.476770476754979 40\n",
      "local minimum 20.002746070969057 86\n",
      "local minimum 20.074724063754452 54\n",
      "local minimum 20.081584566788944 46\n",
      "local minimum 20.273072809866946 42\n",
      "local minimum 20.00013935774327 94\n",
      "local minimum 20.22466949620407 24\n",
      "local minimum 20.00148438802354 77\n",
      "local minimum 20.00553803319028 64\n",
      "local minimum 20.00527183813181 58\n",
      "local minimum 20.006863000115562 65\n",
      "local minimum 20.322586480390306 32\n",
      "local minimum 20.003687918962495 98\n",
      "local minimum 20.002808435367456 79\n",
      "local minimum 20.006724768665137 59\n",
      "local minimum 20.019481926026742 44\n",
      "local minimum 20.003192567193004 72\n",
      "local minimum 20.00260841416656 73\n",
      "local minimum 20.001761968823004 85\n",
      "local minimum 20.00699193832022 50\n",
      "local minimum 20.00668783860859 72\n",
      "local minimum 20.004860594105402 56\n",
      "local minimum 21.080127311487942 15\n",
      "local minimum 20.00612367555593 65\n",
      "local minimum 20.002756788638848 75\n",
      "local minimum 20.00466334265399 66\n",
      "local minimum 20.001327975880745 75\n",
      "local minimum 20.00478576488314 60\n",
      "local minimum 20.017804786532 52\n",
      "local minimum 20.071486904908614 42\n",
      "local minimum 20.00343919996271 78\n",
      "local minimum 20.001504414909412 63\n",
      "local minimum 20.0137592410892 65\n",
      "local minimum 20.0192733578577 50\n",
      "local minimum 20.001946776498517 70\n",
      "local minimum 20.003293004444824 79\n",
      "local minimum 20.00738734458094 69\n",
      "local minimum 20.013453951039526 70\n",
      "local minimum 20.005870264493492 68\n",
      "local minimum 20.001531816224254 66\n",
      "local minimum 20.002794394329804 76\n",
      "local minimum 20.00696125504647 69\n",
      "local minimum 20.001538227996708 101\n",
      "local minimum 20.00223951065853 66\n",
      "local minimum 20.123737382414628 44\n",
      "local minimum 20.002954368250403 79\n",
      "local minimum 20.009376673486415 58\n",
      "local minimum 20.001601580608536 95\n",
      "local minimum 20.00549972186784 74\n",
      "local minimum 20.89395130183358 26\n",
      "local minimum 20.002695913415554 69\n",
      "local minimum 20.00253673920695 79\n",
      "local minimum 20.013794862595603 74\n",
      "local minimum 20.00541517416891 55\n",
      "local minimum 20.00276799655961 69\n",
      "local minimum 20.003599333051 79\n",
      "local minimum 20.002984847091344 77\n",
      "local minimum 20.028220706367012 53\n",
      "local minimum 20.016357153612685 41\n",
      "local minimum 20.003025551456115 95\n",
      "local minimum 20.004295033082535 77\n",
      "local minimum 20.002342650670908 90\n",
      "local minimum 20.020222518008776 60\n",
      "local minimum 20.001310730253564 73\n",
      "local minimum 20.001576329537496 81\n",
      "local minimum 20.08538854539432 29\n",
      "local minimum 20.003295070805123 70\n",
      "local minimum 20.00468846361969 59\n",
      "local minimum 20.003618854147657 66\n",
      "local minimum 20.014163983216406 56\n",
      "local minimum 20.0126440544248 55\n",
      "local minimum 20.00298633876161 69\n",
      "local minimum 20.013520977109888 36\n",
      "local minimum 20.005560741303633 82\n",
      "local minimum 20.004235254375455 69\n",
      "local minimum 20.0070659532818 68\n",
      "local minimum 20.004266250850073 64\n",
      "local minimum 20.00444024545357 100\n",
      "local minimum 20.006108566309813 64\n",
      "local minimum 20.00601355196125 80\n",
      "local minimum 20.034364529049476 52\n",
      "local minimum 20.002453382311213 63\n",
      "local minimum 20.052780827559495 39\n",
      "local minimum 20.002919170335872 66\n",
      "local minimum 20.006123044596553 56\n",
      "local minimum 20.003234903621046 70\n",
      "local minimum 20.08073300623761 53\n",
      "local minimum 20.020469660000604 65\n",
      "local minimum 20.374172024029708 26\n",
      "local minimum 20.05640232280928 57\n",
      "local minimum 20.009134087238078 58\n",
      "local minimum 20.009651064260325 70\n",
      "local minimum 20.002262360429814 73\n",
      "local minimum 20.00186288092541 88\n",
      "local minimum 20.003889719892637 63\n",
      "local minimum 20.002025984099465 85\n",
      "local minimum 20.007598439812206 81\n",
      "local minimum 20.00435522886242 79\n",
      "local minimum 20.047178681174092 48\n",
      "local minimum 20.015340550058013 84\n",
      "local minimum 20.001752145800843 87\n",
      "local minimum 20.016230905218478 50\n",
      "local minimum 20.00121650084578 68\n",
      "local minimum 20.002428961516248 68\n",
      "local minimum 20.004352371615077 78\n",
      "local minimum 20.000277215662145 74\n",
      "local minimum 20.06987930901644 33\n",
      "local minimum 20.240167095445848 26\n",
      "local minimum 20.015252920441572 60\n",
      "local minimum 20.012180001300234 55\n",
      "local minimum 20.00283243072556 73\n",
      "local minimum 20.076017599729262 45\n",
      "local minimum 20.005851855981113 64\n",
      "local minimum 20.048177803803267 58\n",
      "local minimum 21.74059634853869 16\n",
      "local minimum 20.012297752176316 67\n",
      "local minimum 20.00516439543742 77\n",
      "local minimum 20.299483889051626 24\n",
      "local minimum 20.004045653478343 73\n",
      "local minimum 20.00594793372619 65\n",
      "local minimum 20.0070806366844 64\n",
      "local minimum 20.00215153844839 84\n",
      "local minimum 20.009612287900993 51\n",
      "local minimum 20.001534360927728 76\n",
      "local minimum 20.00610743858364 71\n",
      "local minimum 20.01420739537817 47\n",
      "local minimum 20.006260253440313 60\n",
      "local minimum 20.006049416448473 72\n",
      "local minimum 20.006852103199385 63\n",
      "local minimum 20.142391476129394 29\n",
      "local minimum 20.14315433652731 35\n",
      "local minimum 20.000178746305476 61\n",
      "local minimum 20.01095510151876 61\n",
      "local minimum 20.000695713229632 65\n",
      "local minimum 20.0168309066303 67\n",
      "local minimum 20.05475611150794 36\n",
      "local minimum 20.08590442543655 38\n",
      "local minimum 20.0066878707844 66\n",
      "local minimum 20.01381830516356 60\n",
      "local minimum 21.699820353059074 17\n",
      "local minimum 20.00665842324268 61\n",
      "CPU times: user 487 ms, sys: 83.3 ms, total: 571 ms\n",
      "Wall time: 512 ms\n"
     ]
    }
   ],
   "source": [
    "np.random.seed(23191)\n",
    "\n",
    "# init multiple experiments\n",
    "exps_ak_ad = multiple_experiment()\n",
    "\n",
    "# init and setup one experiment\n",
    "exp = single_experiment()\n",
    "\n",
    "# One experiment: setup objective function\n",
    "ak = ackley()\n",
    "exp.set_objective(ak)\n",
    "\n",
    "# One experiment: setup optimizer\n",
    "ad = adam()\n",
    "optmizerParas = {'x0': np.zeros((2,)),\n",
    "         'alpha': 1,\n",
    "         'beta_1': 0.9, \n",
    "         'beta_2': 0.999, \n",
    "         'epsilon': 1e-8, \n",
    "         'max_iter': 1000,\n",
    "         'tol': 1e-2,              \n",
    "         'verbose': False,\n",
    "         'record': False}\n",
    "ad.set_parameters(optmizerParas)\n",
    "exp.set_optimizer(ad)\n",
    "\n",
    "# Multiple experiment: setup one expreiment\n",
    "exps_ak_ad.set_single_exp(exp)\n",
    "\n",
    "\n",
    "# Multiple experiments: setup sample zone of multiple experiments\n",
    "zoneParas = {'origin': np.array([0,0]),\n",
    "             'edge': np.array([500, 500]),\n",
    "             'step': 100,\n",
    "             'size': 10,\n",
    "             'sym': True}\n",
    "exps_ak_ad.set_sample_zone(zoneParas)\n",
    "\n",
    "%time data_ak_ad = exps_ak_ad.do()"
   ]
  },
  {
   "cell_type": "code",
   "execution_count": 75,
   "metadata": {},
   "outputs": [
    {
     "data": {
      "text/plain": [
       "{'x': array([[  0.,   0.,   0.,   0., 400.],\n",
       "        [  0.,   0.,   0., 300., 400.],\n",
       "        [  0.,   0., 200., 300., 400.],\n",
       "        [  0., 100., 200., 300., 400.],\n",
       "        [  0., 100., 200., 300., 400.]]),\n",
       " 'y': array([[  0.,   0.,   0.,   0., 400.],\n",
       "        [  0.,   0.,   0., 300., 300.],\n",
       "        [  0.,   0., 200., 200., 200.],\n",
       "        [  0., 100., 100., 100., 100.],\n",
       "        [  0.,   0.,   0.,   0.,   0.]]),\n",
       " 'mask': array([[1, 1, 1, 1, 0],\n",
       "        [1, 1, 1, 0, 0],\n",
       "        [1, 1, 0, 0, 0],\n",
       "        [1, 0, 0, 0, 0],\n",
       "        [0, 0, 0, 0, 0]], dtype=uint8),\n",
       " 'res': array([[0., 0., 0., 0., 0.],\n",
       "        [0., 0., 0., 0., 0.],\n",
       "        [0., 0., 0., 0., 0.],\n",
       "        [0., 0., 0., 0., 0.],\n",
       "        [0., 0., 0., 0., 0.]]),\n",
       " 'cost': array([[ 0.        ,  0.        ,  0.        ,  0.        , 20.1896306 ],\n",
       "        [ 0.        ,  0.        ,  0.        , 20.06084224, 20.03383206],\n",
       "        [ 0.        ,  0.        , 20.10505559, 20.00885624, 20.22046639],\n",
       "        [ 0.        , 20.03765323, 20.00708146, 20.01492512, 20.03648177],\n",
       "        [19.40274514, 20.06760936, 20.11973763, 20.00829974, 20.00959171]]),\n",
       " 'evals': array([[ 0. ,  0. ,  0. ,  0. , 53.2],\n",
       "        [ 0. ,  0. ,  0. , 55.3, 58.8],\n",
       "        [ 0. ,  0. , 68.1, 68.4, 55.3],\n",
       "        [ 0. , 66.4, 67.6, 63.9, 58.5],\n",
       "        [61.7, 61. , 58.4, 69.9, 75.8]])}"
      ]
     },
     "execution_count": 75,
     "metadata": {},
     "output_type": "execute_result"
    }
   ],
   "source": [
    "data_ak_ad"
   ]
  },
  {
   "cell_type": "code",
   "execution_count": 79,
   "metadata": {},
   "outputs": [
    {
     "data": {
      "text/plain": [
       "62.82"
      ]
     },
     "execution_count": 79,
     "metadata": {},
     "output_type": "execute_result"
    }
   ],
   "source": [
    "data_ak_ad['evals'].sum() / num"
   ]
  },
  {
   "cell_type": "code",
   "execution_count": 80,
   "metadata": {},
   "outputs": [
    {
     "data": {
      "text/plain": [
       "0.0"
      ]
     },
     "execution_count": 80,
     "metadata": {},
     "output_type": "execute_result"
    }
   ],
   "source": [
    "data_ak_ad['res'].sum() / num"
   ]
  },
  {
   "cell_type": "code",
   "execution_count": 81,
   "metadata": {},
   "outputs": [
    {
     "data": {
      "text/plain": [
       "20.021520551849616"
      ]
     },
     "execution_count": 81,
     "metadata": {},
     "output_type": "execute_result"
    }
   ],
   "source": [
    "data_ak_ad['cost'].sum() / num"
   ]
  },
  {
   "cell_type": "markdown",
   "metadata": {},
   "source": [
    "## summary on original ackley\n",
    "| -- |original CMA | line search (default(medium) step size) - CMA  | round off - CMA| adam |\n",
    "| -- | -- | --| -- | --|\n",
    "| #experiments| 150 experiments | 150 experiments | 150 experiments | 150 experiments |\n",
    "| total time| 13.1 s | 180 s |  9.23 s | 0.5 s |\n",
    "| evalutaions per exp | 1.46 k evals |  7.1 k evals | 0.91 k evals |  0.063 k evals |\n",
    "| *performance* | -- | -- | -- | --|\n",
    "| probability |  0.03  | 0.41 | 0.51 | 0 |"
   ]
  },
  {
   "cell_type": "code",
   "execution_count": 83,
   "metadata": {},
   "outputs": [
    {
     "name": "stdout",
     "output_type": "stream",
     "text": [
      "local minimum 336.50762505648925 1000\n",
      "local minimum 43.77392881237146 799\n",
      "local minimum 38.92956595375648 218\n",
      "local minimum 48.94529015572177 746\n",
      "local minimum 914.348430809745 1000\n",
      "local minimum 898.8253983330126 1000\n",
      "local minimum 49.14408274752482 984\n",
      "local minimum 516.1078303169555 1000\n",
      "local minimum 664.1163445549063 1000\n",
      "local minimum 16.245675833778737 267\n",
      "local minimum 1692.9758878048588 1000\n",
      "local minimum 982.9055766002984 1000\n",
      "local minimum 710.2947720210384 1000\n",
      "local minimum 881.0539285853567 1000\n",
      "local minimum 1439.6617962163755 1000\n",
      "local minimum 1210.9480059005966 1000\n",
      "local minimum 54.246030427187534 705\n",
      "local minimum 1693.3313675947625 1000\n",
      "local minimum 1050.7919809794603 1000\n",
      "local minimum 1644.1315234414833 1000\n",
      "local minimum 30.14033075245077 279\n",
      "local minimum 922.6489598147454 1000\n",
      "local minimum 1312.3393800919087 1000\n",
      "local minimum 1026.5825913956555 1000\n",
      "local minimum 694.690198950988 1000\n",
      "local minimum 1166.8370103249028 1000\n",
      "local minimum 321.9200891063691 1000\n",
      "local minimum 906.8491424837479 1000\n",
      "local minimum 1167.1085009550734 1000\n",
      "local minimum 329.0369579578895 1000\n",
      "local minimum 1746.7045824126476 1000\n",
      "local minimum 2172.1199317746054 1000\n",
      "local minimum 2156.987108269275 1000\n",
      "local minimum 2503.476045035461 1000\n",
      "local minimum 2055.653528028415 1000\n",
      "local minimum 2053.580493445329 1000\n",
      "local minimum 2745.3423686954156 1000\n",
      "local minimum 1933.3167866267293 1000\n",
      "local minimum 2223.518581528921 1000\n",
      "local minimum 2604.5792556570377 1000\n",
      "local minimum 2539.2010276908195 1000\n",
      "local minimum 2214.028507924959 1000\n",
      "local minimum 2518.877604994475 1000\n",
      "local minimum 1943.3317912943428 1000\n",
      "local minimum 2525.887388939278 1000\n",
      "local minimum 1934.5750803336332 1000\n",
      "local minimum 2101.6404857089287 1000\n",
      "local minimum 2185.3559614709457 1000\n",
      "local minimum 2262.214433014157 1000\n",
      "local minimum 1807.095008263602 1000\n",
      "local minimum 2442.2076835483144 1000\n",
      "local minimum 1724.6709405580405 1000\n",
      "local minimum 1278.5277815642585 1000\n",
      "local minimum 1602.399442110224 1000\n",
      "local minimum 1586.0197990438521 1000\n",
      "local minimum 1189.362546761363 1000\n",
      "local minimum 1417.8242563491892 1000\n",
      "local minimum 1687.9397258694648 1000\n",
      "local minimum 1707.1346196942739 1000\n",
      "local minimum 1444.7814327614035 1000\n",
      "local minimum 3339.394299415883 1000\n",
      "local minimum 3614.6606435409512 1000\n",
      "local minimum 3054.029133068317 1000\n",
      "local minimum 3386.8554929181128 1000\n",
      "local minimum 3785.9930889715665 1000\n",
      "local minimum 3158.6837089438236 1000\n",
      "local minimum 3450.034443824509 1000\n",
      "local minimum 3675.5922539252783 1000\n",
      "local minimum 2904.006162099909 1000\n",
      "local minimum 3650.846880304399 1000\n",
      "local minimum 3279.238284501273 1000\n",
      "local minimum 3345.9534486614207 1000\n",
      "local minimum 2794.577367685052 1000\n",
      "local minimum 3233.5126098217884 1000\n",
      "local minimum 2569.5959694647713 1000\n",
      "local minimum 2911.0201291904086 1000\n",
      "local minimum 3581.8977092392533 1000\n",
      "local minimum 3278.016198863392 1000\n",
      "local minimum 3415.4192302169326 1000\n",
      "local minimum 3149.5410450396926 1000\n",
      "local minimum 2711.324318958789 1000\n",
      "local minimum 3312.3149085085415 1000\n",
      "local minimum 3179.026045130067 1000\n",
      "local minimum 3496.767171475588 1000\n",
      "local minimum 3075.3511887193395 1000\n",
      "local minimum 3372.806244882376 1000\n",
      "local minimum 3027.1243769692464 1000\n",
      "local minimum 3088.7647066292016 1000\n",
      "local minimum 2410.1053412584088 1000\n",
      "local minimum 2641.2184944174764 1000\n",
      "local minimum 2378.201017804205 1000\n",
      "local minimum 2278.085514637186 1000\n",
      "local minimum 3134.1047840279243 1000\n",
      "local minimum 2980.918816633379 1000\n",
      "local minimum 2797.8347102398047 1000\n",
      "local minimum 2372.251729244219 1000\n",
      "local minimum 2916.943493151239 1000\n",
      "local minimum 3276.5986910610363 1000\n",
      "local minimum 2872.3574948344162 1000\n",
      "local minimum 2692.9234408447546 1000\n",
      "local minimum 4556.105678967954 1000\n",
      "local minimum 3813.8958173943897 1000\n",
      "local minimum 4583.699013947668 1000\n",
      "local minimum 3962.2304362214836 1000\n",
      "local minimum 4245.035022968278 1000\n",
      "local minimum 4845.202201730327 1000\n",
      "local minimum 3780.3957107117585 1000\n",
      "local minimum 4649.5043980446735 1000\n",
      "local minimum 4636.288407112225 1000\n",
      "local minimum 3979.1462533080294 1000\n",
      "local minimum 4065.7673513734535 1000\n",
      "local minimum 4125.413692981471 1000\n",
      "local minimum 4121.2180885306225 1000\n",
      "local minimum 3958.5489616533405 1000\n",
      "local minimum 4208.248392432706 1000\n",
      "local minimum 4548.30139726066 1000\n",
      "local minimum 3983.8437585898737 1000\n",
      "local minimum 4645.52213033859 1000\n",
      "local minimum 3867.242276653693 1000\n",
      "local minimum 4170.469890230552 1000\n",
      "local minimum 4179.450103445595 1000\n",
      "local minimum 4324.913594726856 1000\n",
      "local minimum 4058.5473819815056 1000\n",
      "local minimum 4588.851824290393 1000\n",
      "local minimum 3586.238606228857 1000\n",
      "local minimum 3679.8907533349166 1000\n",
      "local minimum 4144.948059409975 1000\n",
      "local minimum 4323.557382602679 1000\n",
      "local minimum 4542.620180742934 1000\n",
      "local minimum 3707.2532602438623 1000\n",
      "local minimum 3574.7959914069706 1000\n",
      "local minimum 4120.0515884692 1000\n",
      "local minimum 3885.026967229219 1000\n",
      "local minimum 3573.661973057954 1000\n",
      "local minimum 4500.642918177985 1000\n",
      "local minimum 4416.35303353448 1000\n",
      "local minimum 3872.2817943158598 1000\n",
      "local minimum 3675.070029404059 1000\n",
      "local minimum 4420.828417318407 1000\n",
      "local minimum 4003.7764434726623 1000\n",
      "local minimum 3808.9882425328074 1000\n",
      "local minimum 4214.973452132498 1000\n",
      "local minimum 3343.702070557773 1000\n",
      "local minimum 3406.169912933809 1000\n",
      "local minimum 4073.474445011443 1000\n",
      "local minimum 3358.1681661509547 1000\n",
      "local minimum 3958.6990479317483 1000\n",
      "local minimum 3561.232893666834 1000\n",
      "local minimum 4196.069565977072 1000\n",
      "local minimum 4082.547326526192 1000\n",
      "CPU times: user 5.23 s, sys: 993 ms, total: 6.22 s\n",
      "Wall time: 5.45 s\n"
     ]
    }
   ],
   "source": [
    "np.random.seed(23191)\n",
    "\n",
    "# init multiple experiments\n",
    "exps_bk_ad = multiple_experiment()\n",
    "\n",
    "# init and setup one experiment\n",
    "exp = single_experiment()\n",
    "\n",
    "# One experiment: setup objective function\n",
    "bk = bukin()\n",
    "exp.set_objective(bk)\n",
    "\n",
    "# One experiment: setup optimizer\n",
    "ad = adam()\n",
    "optmizerParas = {'x0': np.zeros((2,)),\n",
    "         'alpha': 0.01,\n",
    "         'beta_1': 0.9, \n",
    "         'beta_2': 0.999, \n",
    "         'epsilon': 1e-8, \n",
    "         'max_iter': 1000,\n",
    "         'tol': 1e-2,              \n",
    "         'verbose': False,\n",
    "         'record': False}\n",
    "ad.set_parameters(optmizerParas)\n",
    "exp.set_optimizer(ad)\n",
    "\n",
    "# Multiple experiment: setup one expreiment\n",
    "exps_bk_ad.set_single_exp(exp)\n",
    "\n",
    "\n",
    "# Multiple experiments: setup sample zone of multiple experiments\n",
    "zoneParas = {'origin': np.array([0,0]),\n",
    "             'edge': np.array([50, 500]),\n",
    "             'step': 100,\n",
    "             'size': 10,\n",
    "             'sym': True}\n",
    "exps_bk_ad.set_sample_zone(zoneParas)\n",
    "\n",
    "%time data_bk_ad = exps_bk_ad.do()"
   ]
  },
  {
   "cell_type": "code",
   "execution_count": null,
   "metadata": {},
   "outputs": [],
   "source": []
  }
 ],
 "metadata": {
  "kernelspec": {
   "display_name": "Python [conda env:miniconda3-ada] *",
   "language": "python",
   "name": "conda-env-miniconda3-ada-py"
  },
  "language_info": {
   "codemirror_mode": {
    "name": "ipython",
    "version": 3
   },
   "file_extension": ".py",
   "mimetype": "text/x-python",
   "name": "python",
   "nbconvert_exporter": "python",
   "pygments_lexer": "ipython3",
   "version": "3.7.4"
  }
 },
 "nbformat": 4,
 "nbformat_minor": 4
}
