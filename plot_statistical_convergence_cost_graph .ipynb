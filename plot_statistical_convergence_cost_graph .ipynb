{
 "cells": [
  {
   "cell_type": "code",
   "execution_count": 1,
   "metadata": {},
   "outputs": [],
   "source": [
    "from library.objective_function import *\n",
    "from library.optimiser import *\n",
    "from library.post_analysis import *\n",
    "from library.experiments import *\n",
    "%matplotlib inline\n",
    "SEED = 12237"
   ]
  },
  {
   "cell_type": "code",
   "execution_count": 3,
   "metadata": {},
   "outputs": [],
   "source": [
    "def do_multiple_exps(obj, opt, zoneParas):\n",
    "    np.random.seed(SEED)\n",
    "    \n",
    "    # init multiple experiments\n",
    "    mexps = multiple_experiment()\n",
    "\n",
    "    # init one experiment\n",
    "    exp = single_experiment()\n",
    "    \n",
    "    # One experiment: setup objective function and optimiser\n",
    "    exp.set_objective(obj)\n",
    "    exp.set_optimizer(opt)\n",
    "\n",
    "    # Multiple experiment: setup one expreiment\n",
    "    mexps.set_single_exp(exp)\n",
    "    # Multiple experiment: setup sample zone    \n",
    "    mexps.set_sample_zone(zoneParas)\n",
    "    \n",
    "    data = mexps.do()\n",
    "    \n",
    "    return data"
   ]
  },
  {
   "cell_type": "markdown",
   "metadata": {},
   "source": [
    "# Original Ackley"
   ]
  },
  {
   "cell_type": "markdown",
   "metadata": {},
   "source": [
    "## single experiment for checking"
   ]
  },
  {
   "cell_type": "code",
   "execution_count": 4,
   "metadata": {},
   "outputs": [
    {
     "name": "stdout",
     "output_type": "stream",
     "text": [
      "\n",
      "\n",
      "*******starting optimisation from intitial mean:  [140.743 152.21 ]\n",
      "eigenvalue of variance = [13.39551209 16.67930076]\n",
      "total iterations = 24, total evaluatios = 3095\n",
      "found minimum position = [ 1.48619337e-06 -2.01349147e-06], found minimum = 7.078538690752367e-06\n",
      "Result:  global minimum\n",
      "found minimum: 7.078538690752367e-06, minimum position: [ 1.48619337e-06 -2.01349147e-06], evals: 3095\n"
     ]
    }
   ],
   "source": [
    "# 1 optimiser\n",
    "np.random.seed(34)\n",
    "\n",
    "inner_opt = line_search()\n",
    "innerOptParas = {\n",
    "    'x0': None,\n",
    "    'alpha': 10,\n",
    "    'beta': 0.1, \n",
    "    'max_iter': 100,\n",
    "    'tol': 1e-2,              \n",
    "    'verbose': False,\n",
    "    'record': False\n",
    "}\n",
    "inner_opt.set_parameters(innerOptParas)\n",
    "\n",
    "opt = cma_es()\n",
    "optParas ={'x0': np.array([[140.743], [152.21]]),\n",
    "           'std': np.ones((2,)) * 30, \n",
    "           'tol': 1e-3, \n",
    "           'adjust_func': inner_opt, \n",
    "           'record': True, \n",
    "           'verbose': True}\n",
    "opt.set_parameters(optParas)\n",
    "\n",
    "# 2 objective function\n",
    "obj = ackley()\n",
    "\n",
    "# init one experiment\n",
    "exp = single_experiment()\n",
    "\n",
    "# One experiment: setup objective function and optimiser\n",
    "exp.set_objective(obj)\n",
    "exp.set_optimizer(opt)\n",
    "stats = exp.do()"
   ]
  },
  {
   "cell_type": "code",
   "execution_count": 6,
   "metadata": {},
   "outputs": [],
   "source": [
    "ana = post_analysis_single(stats)"
   ]
  },
  {
   "cell_type": "code",
   "execution_count": 7,
   "metadata": {},
   "outputs": [
    {
     "data": {
      "image/png": "[encoded data removed]",
      "text/plain": [
       "<Figure size 576x288 with 2 Axes>"
      ]
     },
     "metadata": {
      "needs_background": "light"
     },
     "output_type": "display_data"
    }
   ],
   "source": [
    "ana.plot_distance()"
   ]
  },
  {
   "cell_type": "markdown",
   "metadata": {},
   "source": [
    "## adam"
   ]
  },
  {
   "cell_type": "code",
   "execution_count": 24,
   "metadata": {},
   "outputs": [
    {
     "name": "stdout",
     "output_type": "stream",
     "text": [
      "cost: 19.0704105897832, prob: 0.0\n",
      "complete: 1 / 3 \n",
      "cost: 20.191668138104077, prob: 0.0\n",
      "complete: 3 / 3 \n",
      "avg probility of convergence:  0.0\n",
      "avg cost:  19.830442829449552\n",
      "avg evals per exp:  2000.0\n",
      "total time: 3.6314287185668945,  time per eval:0.00020174603992038301\n",
      "\n"
     ]
    }
   ],
   "source": [
    "# 1 optimiser\n",
    "opt = adam()\n",
    "optParas = {\n",
    "         'x0': None,\n",
    "         'alpha': 1.9,\n",
    "         'beta_1': 0.9, \n",
    "         'beta_2': 0.999, \n",
    "         'epsilon': 1e-11, \n",
    "         'max_iter': 2000,\n",
    "         'tol': 1e-6,              \n",
    "         'verbose': False,\n",
    "         'record': False }\n",
    "opt.set_parameters(optParas)\n",
    "\n",
    "# 2 objective function\n",
    "obj = ackley()\n",
    "\n",
    "# 3 setup sample zone of multiple experiments\n",
    "zoneParas = {'origin': np.array([0, 0]),\n",
    "             'edge': np.array([200, 200]),\n",
    "             'step': 10,\n",
    "             'size': 10,\n",
    "             'sym': True}\n",
    "\n",
    "data = do_multiple_exps(obj, opt, zoneParas)"
   ]
  },
  {
   "cell_type": "code",
   "execution_count": 12,
   "metadata": {},
   "outputs": [],
   "source": [
    "ana_ad_ak = post_analysis_zone(data)"
   ]
  },
  {
   "cell_type": "code",
   "execution_count": 13,
   "metadata": {},
   "outputs": [
    {
     "data": {
      "text/plain": [
       "Text(0.5, 1, 'cost of ackley, optimised by adam')"
      ]
     },
     "execution_count": 13,
     "metadata": {},
     "output_type": "execute_result"
    },
    {
     "data": {
      "image/png": "[encoded data removed]",
      "text/plain": [
       "<Figure size 936x936 with 2 Axes>"
      ]
     },
     "metadata": {
      "needs_background": "light"
     },
     "output_type": "display_data"
    }
   ],
   "source": [
    "ax = ana_ad_ak.plot_hotmap_cost(20)\n",
    "ax.set_title(\"cost of ackley, optimised by adam\", fontsize=25)"
   ]
  },
  {
   "cell_type": "markdown",
   "metadata": {},
   "source": [
    "## cma"
   ]
  },
  {
   "cell_type": "code",
   "execution_count": 3,
   "metadata": {},
   "outputs": [
    {
     "name": "stdout",
     "output_type": "stream",
     "text": [
      "cost: 4.0003501426055506, prob: 0.8\n",
      "complete: 1 / 210 \n",
      "cost: 4.343788253979852e-06, prob: 1.0\n",
      "complete: 3 / 210 \n",
      "cost: 2.0001762604000985, prob: 0.9\n",
      "complete: 6 / 210 \n",
      "cost: 2.486295727215309, prob: 0.8\n",
      "complete: 10 / 210 \n",
      "cost: 10.985654060469166, prob: 0.4\n",
      "complete: 15 / 210 \n",
      "cost: 7.816365295479633, prob: 0.6\n",
      "complete: 21 / 210 \n",
      "cost: 12.982004807905517, prob: 0.3\n",
      "complete: 28 / 210 \n"
     ]
    },
    {
     "name": "stderr",
     "output_type": "stream",
     "text": [
      "/Users/huajian/Non-convex/library/optimiser.py:168: RuntimeWarning:\n",
      "\n",
      "invalid value encountered in sqrt\n",
      "\n",
      "/Users/huajian/Non-convex/library/optimiser.py:60: RuntimeWarning:\n",
      "\n",
      "invalid value encountered in less\n",
      "\n",
      "/Users/huajian/Non-convex/library/optimiser.py:63: RuntimeWarning:\n",
      "\n",
      "invalid value encountered in less\n",
      "\n"
     ]
    },
    {
     "name": "stdout",
     "output_type": "stream",
     "text": [
      "diverge, raise LinAlgError!\n",
      "cost: 12.004361763412696, prob: 0.4\n",
      "complete: 36 / 210 \n",
      "cost: 15.860477376958801, prob: 0.2\n",
      "complete: 45 / 210 \n",
      "cost: 17.5749878935063, prob: 0.1\n",
      "complete: 55 / 210 \n",
      "cost: 19.853516797941275, prob: 0.0\n",
      "complete: 66 / 210 \n",
      "cost: 16.277005982759892, prob: 0.1\n",
      "complete: 78 / 210 \n",
      "cost: 20.001549429695658, prob: 0.0\n",
      "complete: 91 / 210 \n",
      "diverge, raise LinAlgError!\n",
      "cost: 15.981397836873233, prob: 0.2\n",
      "complete: 105 / 210 \n",
      "cost: 17.566169797885184, prob: 0.1\n",
      "complete: 120 / 210 \n",
      "diverge, raise LinAlgError!\n",
      "cost: 20.003329138511237, prob: 0.0\n",
      "complete: 136 / 210 \n",
      "cost: 19.36615942944865, prob: 0.0\n",
      "complete: 153 / 210 \n",
      "diverge, raise LinAlgError!\n",
      "diverge, raise LinAlgError!\n",
      "cost: 19.938243747638523, prob: 0.0\n",
      "complete: 171 / 210 \n",
      "cost: 17.988630392968158, prob: 0.1\n",
      "complete: 190 / 210 \n",
      "diverge, raise LinAlgError!\n",
      "diverge, raise LinAlgError!\n",
      "diverge, raise LinAlgError!\n",
      "cost: 20.003535221203897, prob: 0.0\n",
      "complete: 210 / 210 \n",
      "avg probility of convergence:  0.21714285714285714\n",
      "avg cost:  15.062507445894036\n",
      "avg evals per exp:  1766.5028571428572\n",
      "total time: 336.8816030025482,  time per eval:4.324385089981238e-06\n",
      "\n"
     ]
    }
   ],
   "source": [
    "# 1 optimiser\n",
    "opt = cma_es()\n",
    "optParas ={'x0': np.zeros((2,)),\n",
    "           'std': np.ones((2,)) * 30, \n",
    "           'tol': 1e-5, \n",
    "           'adjust_func': do_nothing(), \n",
    "           'record': False, \n",
    "           'verbose': False}\n",
    "opt.set_parameters(optParas)\n",
    "\n",
    "# 2 objective function\n",
    "obj = ackley()\n",
    "\n",
    "# 3 setup sample zone of multiple experiments\n",
    "zoneParas = {'origin': np.array([0, 0]),\n",
    "             'edge': np.array([200, 200]),\n",
    "             'step': 10,\n",
    "             'size': 10,\n",
    "             'sym': True}\n",
    "data = do_multiple_exps(obj, opt, zoneParas)"
   ]
  },
  {
   "cell_type": "code",
   "execution_count": 4,
   "metadata": {},
   "outputs": [],
   "source": [
    "ana_cma_ak = post_analysis_zone(data)"
   ]
  },
  {
   "cell_type": "code",
   "execution_count": 14,
   "metadata": {},
   "outputs": [
    {
     "data": {
      "text/plain": [
       "Text(0.5, 1, 'cost of ackley, optimised by cma')"
      ]
     },
     "execution_count": 14,
     "metadata": {},
     "output_type": "execute_result"
    },
    {
     "data": {
      "image/png": "[encoded data removed]",
      "text/plain": [
       "<Figure size 936x936 with 2 Axes>"
      ]
     },
     "metadata": {
      "needs_background": "light"
     },
     "output_type": "display_data"
    }
   ],
   "source": [
    "ax = ana_cma_ak.plot_hotmap_cost(20)\n",
    "ax.set_title(\"cost of ackley, optimised by cma\", fontsize=25)"
   ]
  },
  {
   "cell_type": "markdown",
   "metadata": {},
   "source": [
    "## cma line search"
   ]
  },
  {
   "cell_type": "code",
   "execution_count": 6,
   "metadata": {},
   "outputs": [
    {
     "name": "stdout",
     "output_type": "stream",
     "text": [
      "cost: 5.380235533625211e-06, prob: 1.0\n",
      "complete: 1 / 210 \n",
      "cost: 3.7347443858415374e-06, prob: 1.0\n",
      "complete: 3 / 210 \n",
      "cost: 4.298934346014249e-06, prob: 1.0\n",
      "complete: 6 / 210 \n",
      "cost: 4.561089876364832e-06, prob: 1.0\n",
      "complete: 10 / 210 \n",
      "cost: 4.391348062160461e-06, prob: 1.0\n",
      "complete: 15 / 210 \n",
      "cost: 5.8129946112650545e-06, prob: 1.0\n",
      "complete: 21 / 210 \n",
      "cost: 5.902845503502618e-06, prob: 1.0\n",
      "complete: 28 / 210 \n",
      "cost: 4.214060643636941e-06, prob: 1.0\n",
      "complete: 36 / 210 \n",
      "cost: 3.5896685603553634e-06, prob: 1.0\n",
      "complete: 45 / 210 \n",
      "cost: 5.693135876772004e-06, prob: 1.0\n",
      "complete: 55 / 210 \n",
      "cost: 5.610535871003464e-06, prob: 1.0\n",
      "complete: 66 / 210 \n",
      "cost: 3.7125817173411234e-06, prob: 1.0\n",
      "complete: 78 / 210 \n",
      "cost: 4.502196253586277e-06, prob: 1.0\n",
      "complete: 91 / 210 \n",
      "cost: 1.9795006245242956, prob: 0.9\n",
      "complete: 105 / 210 \n",
      "cost: 3.404496617154251e-06, prob: 1.0\n",
      "complete: 120 / 210 \n",
      "cost: 2.731670114375362e-06, prob: 1.0\n",
      "complete: 136 / 210 \n",
      "cost: 3.966176181524617e-06, prob: 1.0\n",
      "complete: 153 / 210 \n",
      "cost: 3.990305181414258, prob: 0.8\n",
      "complete: 171 / 210 \n",
      "cost: 2.000003143741325, prob: 0.9\n",
      "complete: 190 / 210 \n",
      "cost: 5.999931878625216, prob: 0.7\n",
      "complete: 210 / 210 \n",
      "avg probility of convergence:  0.9880952380952381\n",
      "avg cost:  0.23769028765644698\n",
      "avg evals per exp:  6372.739523809524\n",
      "total time: 497.14226508140564,  time per eval:1.7689515150098524e-06\n",
      "\n"
     ]
    }
   ],
   "source": [
    "# 1 optimiser\n",
    "np.random.seed(23191)\n",
    "inner_opt = line_search()\n",
    "innerOptParas = {\n",
    "    'x0': None,\n",
    "    'alpha': 10,\n",
    "    'beta': 0.1, \n",
    "    'max_iter': 100,\n",
    "    'tol': 1e-2,              \n",
    "    'verbose': False,\n",
    "    'record': False\n",
    "}\n",
    "inner_opt.set_parameters(innerOptParas)\n",
    "\n",
    "opt = cma_es()\n",
    "optParas ={'x0': np.zeros((2,)),\n",
    "           'std': np.ones((2,)) * 30, \n",
    "           'tol': 1e-5, \n",
    "           'adjust_func': inner_opt, \n",
    "           'record': False, \n",
    "           'verbose': False}\n",
    "opt.set_parameters(optParas)\n",
    "\n",
    "# 2 objective function\n",
    "obj = ackley()\n",
    "\n",
    "# 3 setup sample zone of multiple experiments\n",
    "zoneParas = {'origin': np.array([0, 0]),\n",
    "             'edge': np.array([200, 200]),\n",
    "             'step': 10,\n",
    "             'size': 10,\n",
    "             'sym': True}\n",
    "data = do_multiple_exps(obj, opt, zoneParas)"
   ]
  },
  {
   "cell_type": "code",
   "execution_count": 7,
   "metadata": {},
   "outputs": [],
   "source": [
    "ana_cmals_ak = post_analysis_zone(data)"
   ]
  },
  {
   "cell_type": "code",
   "execution_count": 15,
   "metadata": {},
   "outputs": [
    {
     "data": {
      "text/plain": [
       "Text(0.5, 1, 'cost of ackley, by cma with line search')"
      ]
     },
     "execution_count": 15,
     "metadata": {},
     "output_type": "execute_result"
    },
    {
     "data": {
      "image/png": "[encoded data removed]",
      "text/plain": [
       "<Figure size 936x936 with 2 Axes>"
      ]
     },
     "metadata": {
      "needs_background": "light"
     },
     "output_type": "display_data"
    }
   ],
   "source": [
    "ax = ana_cmals_ak.plot_hotmap_cost(20)\n",
    "ax.set_title(\"cost of ackley, by cma with line search\", fontsize=25)"
   ]
  },
  {
   "cell_type": "markdown",
   "metadata": {},
   "source": [
    "# bukin "
   ]
  },
  {
   "cell_type": "code",
   "execution_count": 205,
   "metadata": {},
   "outputs": [
    {
     "name": "stdout",
     "output_type": "stream",
     "text": [
      "cost: 13.722949413503148, prob: 0.0\n",
      "complete: 10 / 300 \n",
      "cost: 14.64676433171778, prob: 0.0\n",
      "complete: 20 / 300 \n",
      "cost: 15.879292445960768, prob: 0.2\n",
      "complete: 30 / 300 \n",
      "cost: 15.685409822598178, prob: 0.0\n",
      "complete: 40 / 300 \n",
      "cost: 16.136426772401745, prob: 0.0\n",
      "complete: 50 / 300 \n",
      "cost: 16.143902735969824, prob: 0.0\n",
      "complete: 60 / 300 \n",
      "cost: 16.214949731760115, prob: 0.0\n",
      "complete: 70 / 300 \n",
      "cost: 13.95337255894366, prob: 0.0\n",
      "complete: 80 / 300 \n",
      "cost: 14.961455745988243, prob: 0.0\n",
      "complete: 90 / 300 \n",
      "cost: 10.02927719248002, prob: 0.0\n",
      "complete: 100 / 300 \n",
      "cost: 10.715602949412352, prob: 0.0\n",
      "complete: 110 / 300 \n",
      "cost: 12.47368507981316, prob: 0.0\n",
      "complete: 120 / 300 \n",
      "cost: 9.493590591813911, prob: 0.0\n",
      "complete: 130 / 300 \n",
      "cost: 12.014810651037166, prob: 0.0\n",
      "complete: 140 / 300 \n",
      "cost: 13.156984543993985, prob: 0.0\n",
      "complete: 150 / 300 \n",
      "cost: 14.324128255506235, prob: 0.0\n",
      "complete: 160 / 300 \n",
      "cost: 17.291434256828637, prob: 0.0\n",
      "complete: 170 / 300 \n",
      "cost: 16.299287907322586, prob: 0.0\n",
      "complete: 180 / 300 \n",
      "cost: 16.917443346879868, prob: 0.0\n",
      "complete: 190 / 300 \n",
      "cost: 20.148782404451275, prob: 0.0\n",
      "complete: 200 / 300 \n",
      "cost: 18.47930249339704, prob: 0.0\n",
      "complete: 210 / 300 \n",
      "cost: 17.150929723502884, prob: 0.0\n",
      "complete: 220 / 300 \n",
      "cost: 18.111403858503298, prob: 0.0\n",
      "complete: 230 / 300 \n",
      "cost: 22.666036012424712, prob: 0.0\n",
      "complete: 240 / 300 \n",
      "cost: 22.857709607371255, prob: 0.0\n",
      "complete: 250 / 300 \n",
      "cost: 21.134836702819104, prob: 0.0\n",
      "complete: 260 / 300 \n",
      "cost: 24.62302036312591, prob: 0.0\n",
      "complete: 270 / 300 \n",
      "cost: 22.193811410660352, prob: 0.0\n",
      "complete: 280 / 300 \n",
      "cost: 22.66776779331582, prob: 0.0\n",
      "complete: 290 / 300 \n",
      "cost: 17.30909540889317, prob: 0.0\n",
      "complete: 300 / 300 \n",
      "avg probility of convergence:  0.004333333333333334\n",
      "avg cost:  14.644816728156657\n",
      "avg evals per exp:  253.21866666666668\n",
      "total time: 24.761470079421997,  time per eval:1.0865211832470661e-06\n",
      "\n"
     ]
    }
   ],
   "source": [
    "# 1 optimiser\n",
    "opt = adam()\n",
    "optParas = {\n",
    "         'x0': None,\n",
    "         'alpha': 1e-2,\n",
    "         'beta_1': 0.9, \n",
    "         'beta_2': 0.999, \n",
    "         'epsilon': 1e-11, \n",
    "         'max_iter': 2000,\n",
    "         'tol': 1e-3,              \n",
    "         'verbose': False,\n",
    "         'record': False }\n",
    "opt.set_parameters(optParas)\n",
    "\n",
    "# 2 objective function\n",
    "obj = bukin()\n",
    "\n",
    "# 3 setup sample zone of multiple experiments\n",
    "zoneParas = {'origin': np.array([-15, -5]),\n",
    "             'edge': np.array([30, 10]),\n",
    "             'step': 1,\n",
    "             'size': 10,\n",
    "             'sym': False}\n",
    "\n",
    "data = do_multiple_exps(obj, opt, zoneParas)"
   ]
  },
  {
   "cell_type": "code",
   "execution_count": 206,
   "metadata": {},
   "outputs": [
    {
     "data": {
      "text/plain": [
       "Text(0.5, 1, 'cost of bukin, optimised by adam')"
      ]
     },
     "execution_count": 206,
     "metadata": {},
     "output_type": "execute_result"
    },
    {
     "data": {
      "image/png": "[encoded data removed]",
      "text/plain": [
       "<Figure size 936x288 with 2 Axes>"
      ]
     },
     "metadata": {
      "needs_background": "light"
     },
     "output_type": "display_data"
    }
   ],
   "source": [
    "adam_quick_data = data\n",
    "ana_ad_quick_bk = post_analysis_zone(adam_quick_data)\n",
    "fig = plt.figure(figsize=(13, 4))\n",
    "ax = ana_ad_quick_bk.plot_hotmap_cost(30)\n",
    "ax.set_title(\"cost of bukin, optimised by adam\", fontsize=20)"
   ]
  },
  {
   "cell_type": "code",
   "execution_count": 173,
   "metadata": {},
   "outputs": [
    {
     "name": "stdout",
     "output_type": "stream",
     "text": [
      "cost: 14.00986387042326, prob: 0.0\n",
      "complete: 10 / 300 \n",
      "cost: 11.507794227328564, prob: 0.0\n",
      "complete: 20 / 300 \n",
      "cost: 10.213177052485417, prob: 0.3\n",
      "complete: 30 / 300 \n",
      "cost: 14.224090563395373, prob: 0.0\n",
      "complete: 40 / 300 \n",
      "cost: 15.960587840507785, prob: 0.0\n",
      "complete: 50 / 300 \n",
      "cost: 8.451629382360537, prob: 0.0\n",
      "complete: 60 / 300 \n",
      "cost: 12.3108475817919, prob: 0.0\n",
      "complete: 70 / 300 \n",
      "cost: 10.438761392422844, prob: 0.0\n",
      "complete: 80 / 300 \n",
      "cost: 11.152217260767369, prob: 0.0\n",
      "complete: 90 / 300 \n",
      "cost: 9.120692189222526, prob: 0.0\n",
      "complete: 100 / 300 \n",
      "cost: 11.372204464838486, prob: 0.0\n",
      "complete: 110 / 300 \n",
      "cost: 9.109706810482109, prob: 0.0\n",
      "complete: 120 / 300 \n",
      "cost: 8.987771968389875, prob: 0.0\n",
      "complete: 130 / 300 \n",
      "cost: 11.811069110117751, prob: 0.0\n",
      "complete: 140 / 300 \n",
      "cost: 12.133421218308353, prob: 0.0\n",
      "complete: 150 / 300 \n",
      "cost: 16.15410264418221, prob: 0.0\n",
      "complete: 160 / 300 \n",
      "cost: 20.968045743962442, prob: 0.0\n",
      "complete: 170 / 300 \n",
      "cost: 11.999287112914757, prob: 0.0\n",
      "complete: 180 / 300 \n",
      "cost: 17.523407699632976, prob: 0.0\n",
      "complete: 190 / 300 \n",
      "cost: 16.376145188072197, prob: 0.0\n",
      "complete: 200 / 300 \n",
      "cost: 8.307833865741125, prob: 0.0\n",
      "complete: 210 / 300 \n",
      "cost: 14.781376285672014, prob: 0.0\n",
      "complete: 220 / 300 \n",
      "cost: 8.311607387466653, prob: 0.0\n",
      "complete: 230 / 300 \n",
      "cost: 17.654200112218373, prob: 0.0\n",
      "complete: 240 / 300 \n",
      "cost: 21.844611806017706, prob: 0.0\n",
      "complete: 250 / 300 \n",
      "cost: 13.011584172465131, prob: 0.0\n",
      "complete: 260 / 300 \n",
      "cost: 9.462171706951175, prob: 0.0\n",
      "complete: 270 / 300 \n",
      "cost: 21.391156468372863, prob: 0.0\n",
      "complete: 280 / 300 \n",
      "cost: 16.701563306084466, prob: 0.0\n",
      "complete: 290 / 300 \n",
      "cost: 14.989908516174477, prob: 0.0\n",
      "complete: 300 / 300 \n",
      "avg probility of convergence:  0.005333333333333334\n",
      "avg cost:  12.639763186974166\n",
      "avg evals per exp:  2000.0\n",
      "total time: 176.4759328365326,  time per eval:9.804218490918477e-07\n",
      "\n"
     ]
    }
   ],
   "source": [
    "# 1 optimiser\n",
    "opt = adam()\n",
    "optParas = {\n",
    "         'x0': None,\n",
    "         'alpha': 0.01,\n",
    "         'beta_1': 0.9, \n",
    "         'beta_2': 0.999, \n",
    "         'epsilon': 1e-11, \n",
    "         'max_iter': 2000,\n",
    "         'tol': 1e-9,              \n",
    "         'verbose': False,\n",
    "         'record': False }\n",
    "opt.set_parameters(optParas)\n",
    "\n",
    "# 2 objective function\n",
    "obj = bukin()\n",
    "\n",
    "# 3 setup sample zone of multiple experiments\n",
    "zoneParas = {'origin': np.array([-15, -5]),\n",
    "             'edge': np.array([30, 10]),\n",
    "             'step': 1,\n",
    "             'size': 10,\n",
    "             'sym': False}\n",
    "\n",
    "data = do_multiple_exps(obj, opt, zoneParas)"
   ]
  },
  {
   "cell_type": "code",
   "execution_count": 174,
   "metadata": {},
   "outputs": [],
   "source": [
    "adam_data = data\n",
    "ana_ad_less_bk = post_analysis_zone(adam_data)"
   ]
  },
  {
   "cell_type": "code",
   "execution_count": 204,
   "metadata": {},
   "outputs": [
    {
     "data": {
      "text/plain": [
       "Text(0.5, 1, 'cost of bukin, optimised by adam')"
      ]
     },
     "execution_count": 204,
     "metadata": {},
     "output_type": "execute_result"
    },
    {
     "data": {
      "image/png": "[encoded data removed]",
      "text/plain": [
       "<Figure size 936x288 with 2 Axes>"
      ]
     },
     "metadata": {
      "needs_background": "light"
     },
     "output_type": "display_data"
    }
   ],
   "source": [
    "fig = plt.figure(figsize=(13, 4))\n",
    "ax = ana_ad_less_bk.plot_hotmap_cost(30)\n",
    "ax.set_title(\"cost of bukin, optimised by adam\", fontsize=20)"
   ]
  },
  {
   "cell_type": "markdown",
   "metadata": {},
   "source": [
    "## cma  + bukin"
   ]
  },
  {
   "cell_type": "code",
   "execution_count": 153,
   "metadata": {},
   "outputs": [
    {
     "name": "stdout",
     "output_type": "stream",
     "text": [
      "cost: 0.21868461276382128, prob: 0.0\n",
      "complete: 10 / 300 \n",
      "cost: 0.20063810873661306, prob: 0.0\n",
      "complete: 20 / 300 \n",
      "cost: 0.2104152229774204, prob: 0.0\n",
      "complete: 30 / 300 \n",
      "cost: 0.2067996764199836, prob: 0.0\n",
      "complete: 40 / 300 \n",
      "cost: 0.1812744069031234, prob: 0.0\n",
      "complete: 50 / 300 \n",
      "cost: 0.18143636233757177, prob: 0.0\n",
      "complete: 60 / 300 \n",
      "cost: 0.18748856248790288, prob: 0.0\n",
      "complete: 70 / 300 \n",
      "cost: 0.20768797548630807, prob: 0.0\n",
      "complete: 80 / 300 \n",
      "cost: 0.2300081567110604, prob: 0.0\n",
      "complete: 90 / 300 \n",
      "cost: 0.19353735563080607, prob: 0.0\n",
      "complete: 100 / 300 \n",
      "cost: 0.23846367308657562, prob: 0.0\n",
      "complete: 110 / 300 \n",
      "cost: 0.23832709159619223, prob: 0.0\n",
      "complete: 120 / 300 \n",
      "cost: 0.2966019408628211, prob: 0.0\n",
      "complete: 130 / 300 \n",
      "cost: 0.2389046153708168, prob: 0.0\n",
      "complete: 140 / 300 \n",
      "cost: 0.20156921972725345, prob: 0.0\n",
      "complete: 150 / 300 \n",
      "cost: 0.18904552100573926, prob: 0.0\n",
      "complete: 160 / 300 \n",
      "cost: 0.2167736794789946, prob: 0.0\n",
      "complete: 170 / 300 \n",
      "cost: 0.21921471378225466, prob: 0.0\n",
      "complete: 180 / 300 \n",
      "cost: 0.18360201182259603, prob: 0.0\n",
      "complete: 190 / 300 \n",
      "cost: 0.24093693799500548, prob: 0.0\n",
      "complete: 200 / 300 \n",
      "cost: 0.20176236412610557, prob: 0.0\n",
      "complete: 210 / 300 \n",
      "cost: 0.20766045827237561, prob: 0.0\n",
      "complete: 220 / 300 \n",
      "cost: 0.25069516030907274, prob: 0.0\n",
      "complete: 230 / 300 \n",
      "cost: 0.21479889688090853, prob: 0.0\n",
      "complete: 240 / 300 \n",
      "cost: 0.21261256403698817, prob: 0.0\n",
      "complete: 250 / 300 \n",
      "cost: 0.24063357802093877, prob: 0.0\n",
      "complete: 260 / 300 \n",
      "cost: 0.29264072171425004, prob: 0.0\n",
      "complete: 270 / 300 \n",
      "cost: 0.19379380119297404, prob: 0.0\n",
      "complete: 280 / 300 \n",
      "cost: 0.348769128773674, prob: 0.0\n",
      "complete: 290 / 300 \n",
      "cost: 0.22724476240392494, prob: 0.0\n",
      "complete: 300 / 300 \n",
      "avg probility of convergence:  0.007\n",
      "avg cost:  0.21838776065532178\n",
      "avg evals per exp:  1434.3980000000001\n",
      "total time: 293.4054069519043,  time per eval:2.2727723248661675e-06\n",
      "\n"
     ]
    }
   ],
   "source": [
    "# 1 optimiser\n",
    "opt = cma_es()\n",
    "optParas ={'x0': np.zeros((2,)),\n",
    "           'std': np.ones((2,)) * 3, \n",
    "           'tol': 1e-1, \n",
    "           'adjust_func': do_nothing(), \n",
    "           'record': False, \n",
    "           'max_iter':400,\n",
    "           'verbose': False}\n",
    "opt.set_parameters(optParas)\n",
    "\n",
    "# 2 objective function\n",
    "obj = bukin()\n",
    "\n",
    "# 3 setup sample zone of multiple experiments\n",
    "zoneParas = {'origin': np.array([-15, -5]),\n",
    "             'edge': np.array([30, 10]),\n",
    "             'step': 1,\n",
    "             'size': 10,\n",
    "             'sym': False}\n",
    "data = do_multiple_exps(obj, opt, zoneParas)"
   ]
  },
  {
   "cell_type": "code",
   "execution_count": 154,
   "metadata": {},
   "outputs": [],
   "source": [
    "cma_data = data"
   ]
  },
  {
   "cell_type": "code",
   "execution_count": 187,
   "metadata": {},
   "outputs": [],
   "source": [
    "ana_cma_bk = post_analysis_zone(cma_data)"
   ]
  },
  {
   "cell_type": "code",
   "execution_count": 200,
   "metadata": {},
   "outputs": [
    {
     "data": {
      "text/plain": [
       "Text(0.5, 1, 'cost of bukin, optimised by cma')"
      ]
     },
     "execution_count": 200,
     "metadata": {},
     "output_type": "execute_result"
    },
    {
     "data": {
      "image/png": "[encoded data removed]",
      "text/plain": [
       "<Figure size 936x288 with 2 Axes>"
      ]
     },
     "metadata": {
      "needs_background": "light"
     },
     "output_type": "display_data"
    }
   ],
   "source": [
    "fig = plt.figure(figsize=(13, 4))\n",
    "ax = ana_cma_bk.plot_hotmap_cost(1)\n",
    "ax.set_title(\"cost of bukin, optimised by cma\", fontsize=20)"
   ]
  },
  {
   "cell_type": "code",
   "execution_count": 190,
   "metadata": {},
   "outputs": [
    {
     "name": "stdout",
     "output_type": "stream",
     "text": [
      "cost: 0.0011207780564264347, prob: 1.0\n",
      "complete: 10 / 300 \n",
      "cost: 0.001862466871102386, prob: 1.0\n",
      "complete: 20 / 300 \n",
      "cost: 0.001118050855191994, prob: 1.0\n",
      "complete: 30 / 300 \n",
      "cost: 0.00082745286117326, prob: 1.0\n",
      "complete: 40 / 300 \n",
      "cost: 0.0010016409169191364, prob: 1.0\n",
      "complete: 50 / 300 \n",
      "cost: 0.0012023129321044159, prob: 1.0\n",
      "complete: 60 / 300 \n",
      "cost: 0.0008106211952275243, prob: 1.0\n",
      "complete: 70 / 300 \n",
      "cost: 0.0011146128352432108, prob: 1.0\n",
      "complete: 80 / 300 \n",
      "cost: 0.0010790089621089862, prob: 1.0\n",
      "complete: 90 / 300 \n",
      "cost: 0.001353019467420758, prob: 1.0\n",
      "complete: 100 / 300 \n",
      "cost: 0.0016990077370244096, prob: 1.0\n",
      "complete: 110 / 300 \n",
      "cost: 0.002684754930315221, prob: 1.0\n",
      "complete: 120 / 300 \n",
      "cost: 0.002043581921418465, prob: 1.0\n",
      "complete: 130 / 300 \n",
      "cost: 0.00624222750816802, prob: 1.0\n",
      "complete: 140 / 300 \n",
      "cost: 0.0072275162193991245, prob: 1.0\n",
      "complete: 150 / 300 \n",
      "cost: 0.005218976302784969, prob: 1.0\n",
      "complete: 160 / 300 \n",
      "cost: 0.006599596205623554, prob: 1.0\n",
      "complete: 170 / 300 \n",
      "cost: 0.017772022761053073, prob: 1.0\n",
      "complete: 180 / 300 \n",
      "cost: 0.02020017356575262, prob: 1.0\n",
      "complete: 190 / 300 \n",
      "cost: 0.020675261904723175, prob: 1.0\n",
      "complete: 200 / 300 \n",
      "cost: 0.007803467755733315, prob: 1.0\n",
      "complete: 210 / 300 \n",
      "cost: 0.01148659310304958, prob: 1.0\n",
      "complete: 220 / 300 \n",
      "cost: 0.04659986906090119, prob: 0.8\n",
      "complete: 230 / 300 \n",
      "cost: 0.024804287974605106, prob: 1.0\n",
      "complete: 240 / 300 \n",
      "cost: 0.03782772981392196, prob: 0.9\n",
      "complete: 250 / 300 \n",
      "cost: 0.028228565166964637, prob: 0.9\n",
      "complete: 260 / 300 \n",
      "cost: 0.056660251448966706, prob: 0.8\n",
      "complete: 270 / 300 \n",
      "cost: 0.04864517028973338, prob: 0.8\n",
      "complete: 280 / 300 \n",
      "cost: 0.052234144833433374, prob: 0.8\n",
      "complete: 290 / 300 \n",
      "cost: 0.08485526935638017, prob: 0.6\n",
      "complete: 300 / 300 \n",
      "avg probility of convergence:  0.9560000000000001\n",
      "avg cost:  0.017396744861526762\n",
      "avg evals per exp:  8657.762333333334\n",
      "total time: 313.1929862499237,  time per eval:4.019424344839677e-07\n",
      "\n"
     ]
    }
   ],
   "source": [
    "# 1 optimiser\n",
    "inner_opt = line_search()\n",
    "innerOptParas = {\n",
    "    'x0': None,\n",
    "    'alpha': 1,\n",
    "    'beta': 0.1, \n",
    "    'max_iter': 100,\n",
    "    'tol': 1e-1,              \n",
    "    'verbose': False,\n",
    "    'record': False\n",
    "}\n",
    "opt = cma_es()\n",
    "optParas ={'x0': np.zeros((2,)),\n",
    "           'std': np.ones((2,)) * 3, \n",
    "           'tol': 1e-1, \n",
    "           'adjust_func': inner_opt, \n",
    "           'record': False, \n",
    "           'max_iter':5,\n",
    "           'verbose': False}\n",
    "opt.set_parameters(optParas)\n",
    "\n",
    "# 2 objective function\n",
    "obj = bukin()\n",
    "\n",
    "# 3 setup sample zone of multiple experiments\n",
    "zoneParas = {'origin': np.array([-15, -5]),\n",
    "             'edge': np.array([30, 10]),\n",
    "             'step': 1,\n",
    "             'size': 10,\n",
    "             'sym': False}\n",
    "data = do_multiple_exps(obj, opt, zoneParas)"
   ]
  },
  {
   "cell_type": "code",
   "execution_count": 191,
   "metadata": {},
   "outputs": [],
   "source": [
    "cmaln_data = data"
   ]
  },
  {
   "cell_type": "code",
   "execution_count": 192,
   "metadata": {},
   "outputs": [],
   "source": [
    "ana_cmaln_bk = post_analysis_zone(cmaln_data)"
   ]
  },
  {
   "cell_type": "code",
   "execution_count": 207,
   "metadata": {},
   "outputs": [
    {
     "data": {
      "text/plain": [
       "Text(0.5, 1, 'cost of bukin, by cma with line search')"
      ]
     },
     "execution_count": 207,
     "metadata": {},
     "output_type": "execute_result"
    },
    {
     "data": {
      "image/png": "[encoded data removed]",
      "text/plain": [
       "<Figure size 936x360 with 2 Axes>"
      ]
     },
     "metadata": {
      "needs_background": "light"
     },
     "output_type": "display_data"
    }
   ],
   "source": [
    "fig = plt.figure(figsize=(13, 5))\n",
    "ax = ana_cmaln_bk.plot_hotmap_cost(0.1)\n",
    "ax.set_title(\"cost of bukin, by cma with line search\", fontsize=20)"
   ]
  },
  {
   "cell_type": "code",
   "execution_count": 57,
   "metadata": {},
   "outputs": [
    {
     "name": "stdout",
     "output_type": "stream",
     "text": [
      "cost: 8.169583597145368e-05, prob: 1.0\n",
      "complete: 10 / 300 \n",
      "cost: 5.931898190585372e-05, prob: 1.0\n",
      "complete: 20 / 300 \n",
      "cost: 4.879705459724982e-05, prob: 1.0\n",
      "complete: 30 / 300 \n",
      "cost: 5.773234574933994e-05, prob: 1.0\n",
      "complete: 40 / 300 \n",
      "cost: 5.630650733837151e-05, prob: 1.0\n",
      "complete: 50 / 300 \n",
      "cost: 5.0035172679217873e-05, prob: 1.0\n",
      "complete: 60 / 300 \n",
      "cost: 5.652998421325427e-05, prob: 1.0\n",
      "complete: 70 / 300 \n",
      "cost: 3.925337245608774e-05, prob: 1.0\n",
      "complete: 80 / 300 \n",
      "cost: 7.40984989035276e-05, prob: 1.0\n",
      "complete: 90 / 300 \n",
      "cost: 7.421004003968257e-05, prob: 1.0\n",
      "complete: 100 / 300 \n",
      "cost: 6.716050880659453e-05, prob: 1.0\n",
      "complete: 110 / 300 \n",
      "cost: 7.722194183818233e-05, prob: 1.0\n",
      "complete: 120 / 300 \n",
      "cost: 5.682736983021287e-05, prob: 1.0\n",
      "complete: 130 / 300 \n",
      "cost: 5.728408923317653e-05, prob: 1.0\n",
      "complete: 140 / 300 \n",
      "cost: 9.625787457234481e-05, prob: 1.0\n",
      "complete: 150 / 300 \n",
      "cost: 4.023937756824303e-05, prob: 1.0\n",
      "complete: 160 / 300 \n",
      "cost: 4.1151179432615595e-05, prob: 1.0\n",
      "complete: 170 / 300 \n",
      "cost: 7.662543887120955e-05, prob: 1.0\n",
      "complete: 180 / 300 \n",
      "cost: 6.309165060896228e-05, prob: 1.0\n",
      "complete: 190 / 300 \n",
      "cost: 4.046427680556519e-05, prob: 1.0\n",
      "complete: 200 / 300 \n",
      "cost: 5.8921378675938385e-05, prob: 1.0\n",
      "complete: 210 / 300 \n",
      "cost: 5.741424036702369e-05, prob: 1.0\n",
      "complete: 220 / 300 \n",
      "cost: 6.204015816025077e-05, prob: 1.0\n",
      "complete: 230 / 300 \n",
      "cost: 0.00010668213560274609, prob: 1.0\n",
      "complete: 240 / 300 \n",
      "cost: 4.6193720151830316e-05, prob: 1.0\n",
      "complete: 250 / 300 \n",
      "cost: 7.880815649080653e-05, prob: 1.0\n",
      "complete: 260 / 300 \n",
      "cost: 3.8619946773721384e-05, prob: 1.0\n",
      "complete: 270 / 300 \n",
      "cost: 7.647415154161231e-05, prob: 1.0\n",
      "complete: 280 / 300 \n",
      "cost: 5.499178239384506e-05, prob: 1.0\n",
      "complete: 290 / 300 \n",
      "cost: 5.937212758785826e-05, prob: 1.0\n",
      "complete: 300 / 300 \n",
      "avg probility of convergence:  1.0\n",
      "avg cost:  5.75127688519105e-05\n",
      "avg evals per exp:  30805.645999999997\n",
      "total time: 1107.8497569561005,  time per eval:3.995839510704198e-07\n",
      "\n"
     ]
    }
   ],
   "source": [
    "# 1 optimiser\n",
    "inner_opt = line_search()\n",
    "innerOptParas = {\n",
    "    'x0': None,\n",
    "    'alpha': 1,\n",
    "    'beta': 0.1, \n",
    "    'max_iter': 100,\n",
    "    'tol': 1e-1,              \n",
    "    'verbose': False,\n",
    "    'record': False\n",
    "}\n",
    "opt = cma_es()\n",
    "optParas ={'x0': np.zeros((2,)),\n",
    "           'std': np.ones((2,)) * 3, \n",
    "           'tol': 1e-1, \n",
    "           'adjust_func': inner_opt, \n",
    "           'record': False, \n",
    "           'max_iter':5,\n",
    "           'verbose': False}\n",
    "opt.set_parameters(optParas)\n",
    "\n",
    "# 2 objective function\n",
    "obj = bukin()\n",
    "\n",
    "# 3 setup sample zone of multiple experiments\n",
    "zoneParas = {'origin': np.array([-15, -5]),\n",
    "             'edge': np.array([30, 10]),\n",
    "             'step': 1,\n",
    "             'size': 10,\n",
    "             'sym': False}\n",
    "data = do_multiple_exps(obj, opt, zoneParas)"
   ]
  },
  {
   "cell_type": "code",
   "execution_count": 58,
   "metadata": {},
   "outputs": [],
   "source": [
    "ana_cmaln_bk = post_analysis_zone(data)"
   ]
  },
  {
   "cell_type": "code",
   "execution_count": 208,
   "metadata": {},
   "outputs": [
    {
     "data": {
      "text/plain": [
       "<matplotlib.axes._subplots.AxesSubplot at 0x1a2fdd3d10>"
      ]
     },
     "execution_count": 208,
     "metadata": {},
     "output_type": "execute_result"
    },
    {
     "data": {
      "image/png": "[encoded data removed]",
      "text/plain": [
       "<Figure size 936x288 with 2 Axes>"
      ]
     },
     "metadata": {
      "needs_background": "light"
     },
     "output_type": "display_data"
    }
   ],
   "source": [
    "fig = plt.figure(figsize=(13, 4))\n",
    "ana_cmaln_bk.plot_hotmap_cost(1)"
   ]
  },
  {
   "cell_type": "markdown",
   "metadata": {},
   "source": [
    "# eggholder "
   ]
  },
  {
   "cell_type": "markdown",
   "metadata": {},
   "source": [
    "## adam"
   ]
  },
  {
   "cell_type": "code",
   "execution_count": 3,
   "metadata": {},
   "outputs": [
    {
     "name": "stdout",
     "output_type": "stream",
     "text": [
      "cost: 1733.697667932663, prob: 0.0\n",
      "complete: 20 / 400 \n",
      "cost: 1360.8598353564116, prob: 0.0\n",
      "complete: 40 / 400 \n",
      "cost: 843.0154613373622, prob: 0.0\n",
      "complete: 60 / 400 \n",
      "cost: 153.53612567269212, prob: 0.0\n",
      "complete: 80 / 400 \n",
      "cost: 117.85828301373101, prob: 0.0\n",
      "complete: 100 / 400 \n",
      "cost: 304.5397742853322, prob: 0.0\n",
      "complete: 120 / 400 \n",
      "cost: 653.2340803850859, prob: 0.0\n",
      "complete: 140 / 400 \n",
      "cost: 847.63662857559, prob: 0.0\n",
      "complete: 160 / 400 \n",
      "cost: 1200.7371233453382, prob: 0.0\n",
      "complete: 180 / 400 \n",
      "cost: 1609.7988798644133, prob: 0.0\n",
      "complete: 200 / 400 \n",
      "cost: 1380.1217928193123, prob: 0.0\n",
      "complete: 220 / 400 \n",
      "cost: 1145.4561272331393, prob: 0.0\n",
      "complete: 240 / 400 \n",
      "cost: 969.7184757174367, prob: 0.0\n",
      "complete: 260 / 400 \n",
      "cost: 1034.1246220652306, prob: 0.0\n",
      "complete: 280 / 400 \n",
      "cost: 899.5090684365117, prob: 0.0\n",
      "complete: 300 / 400 \n",
      "cost: 402.8877491299786, prob: 0.0\n",
      "complete: 320 / 400 \n",
      "cost: 113.77023069489312, prob: 0.0\n",
      "complete: 340 / 400 \n",
      "cost: 557.6858374283383, prob: 0.0\n",
      "complete: 360 / 400 \n",
      "cost: 589.9352779569535, prob: 0.0\n",
      "complete: 380 / 400 \n",
      "cost: 611.6346925632245, prob: 0.0\n",
      "complete: 400 / 400 \n",
      "avg probility of convergence:  0.0\n",
      "avg cost:  759.1355238995536\n",
      "avg evals per exp:  1889.7559999999999\n",
      "\n",
      "\n"
     ]
    }
   ],
   "source": [
    "# 1 \n",
    "obj = eggholder()\n",
    "\n",
    "# 2\n",
    "opt = adam()\n",
    "optParas = {\n",
    "         'x0': None,\n",
    "         'alpha': 1e-2,\n",
    "         'beta_1': 0.9, \n",
    "         'beta_2': 0.999, \n",
    "         'epsilon': 1e-11, \n",
    "         'max_iter': 2000,\n",
    "         'tol': 1e-3,              \n",
    "         'verbose': False,\n",
    "         'record': False }\n",
    "opt.set_parameters(optParas)\n",
    "\n",
    "# 3 setup sample zone of multiple experiments\n",
    "zoneParas = {'origin': np.array([-550,-550]),\n",
    "             'edge': np.array([1100, 1100]),\n",
    "             'step': 55,\n",
    "             'size': 10,\n",
    "             'sym': False}\n",
    "\n",
    "data = do_multiple_exps(obj, opt, zoneParas)"
   ]
  },
  {
   "cell_type": "code",
   "execution_count": 17,
   "metadata": {},
   "outputs": [],
   "source": [
    "ana_adam_egg = post_analysis_zone(data)"
   ]
  },
  {
   "cell_type": "code",
   "execution_count": 69,
   "metadata": {},
   "outputs": [
    {
     "data": {
      "text/plain": [
       "Text(0.5, 1, 'cost of Eggholder, optimised by Adam')"
      ]
     },
     "execution_count": 69,
     "metadata": {},
     "output_type": "execute_result"
    },
    {
     "data": {
      "image/png": "[encoded data removed]",
      "text/plain": [
       "<Figure size 936x936 with 2 Axes>"
      ]
     },
     "metadata": {
      "needs_background": "light"
     },
     "output_type": "display_data"
    }
   ],
   "source": [
    "ax = ana_adam_egg.plot_hotmap_cost()\n",
    "ax.set_title(\"cost of Eggholder, optimised by Adam\", fontsize=25)"
   ]
  },
  {
   "cell_type": "markdown",
   "metadata": {},
   "source": [
    "## no optimisation"
   ]
  },
  {
   "cell_type": "code",
   "execution_count": 13,
   "metadata": {},
   "outputs": [
    {
     "name": "stdout",
     "output_type": "stream",
     "text": [
      "cost: 1965.5619819738265, prob: 0.0\n",
      "complete: 20 / 400 \n",
      "cost: 1666.6980358336623, prob: 0.0\n",
      "complete: 40 / 400 \n",
      "cost: 930.7896572955867, prob: 0.0\n",
      "complete: 60 / 400 \n",
      "cost: 351.53266115125587, prob: 0.0\n",
      "complete: 80 / 400 \n",
      "cost: 238.6697094869779, prob: 0.0\n",
      "complete: 100 / 400 \n",
      "cost: 484.6248544649326, prob: 0.0\n",
      "complete: 120 / 400 \n",
      "cost: 884.1053712749663, prob: 0.0\n",
      "complete: 140 / 400 \n",
      "cost: 1175.3991699518606, prob: 0.0\n",
      "complete: 160 / 400 \n",
      "cost: 1443.9465953386461, prob: 0.0\n",
      "complete: 180 / 400 \n",
      "cost: 1511.675914294919, prob: 0.0\n",
      "complete: 200 / 400 \n",
      "cost: 1450.926719216715, prob: 0.0\n",
      "complete: 220 / 400 \n",
      "cost: 1208.8490483662085, prob: 0.0\n",
      "complete: 240 / 400 \n",
      "cost: 806.906610464775, prob: 0.0\n",
      "complete: 260 / 400 \n",
      "cost: 523.1655109315852, prob: 0.0\n",
      "complete: 280 / 400 \n",
      "cost: 599.8631481562587, prob: 0.0\n",
      "complete: 300 / 400 \n",
      "cost: 572.6166288029705, prob: 0.0\n",
      "complete: 320 / 400 \n",
      "cost: 248.8770815359359, prob: 0.0\n",
      "complete: 340 / 400 \n",
      "cost: 842.6144195887686, prob: 0.0\n",
      "complete: 360 / 400 \n",
      "cost: 1136.0997076620304, prob: 0.0\n",
      "complete: 380 / 400 \n",
      "cost: 918.6145524178648, prob: 0.0\n",
      "complete: 400 / 400 \n",
      "avg probility of convergence:  0.0\n",
      "avg cost:  975.3842231030887\n",
      "avg evals per exp:  1.0\n",
      "\n",
      "\n"
     ]
    }
   ],
   "source": [
    "# 1 \n",
    "obj = eggholder()\n",
    "\n",
    "# 2\n",
    "opt = do_nothing()\n",
    "\n",
    "# 3 setup sample zone of multiple experiments\n",
    "zoneParas = {'origin': np.array([-550,-550]),\n",
    "             'edge': np.array([1100, 1100]),\n",
    "             'step': 55,\n",
    "             'size': 10,\n",
    "             'sym': False}\n",
    "\n",
    "data = do_multiple_exps(obj, opt, zoneParas)"
   ]
  },
  {
   "cell_type": "code",
   "execution_count": 19,
   "metadata": {},
   "outputs": [],
   "source": [
    "ana_no_egg = post_analysis_zone(data)"
   ]
  },
  {
   "cell_type": "code",
   "execution_count": 20,
   "metadata": {},
   "outputs": [
    {
     "data": {
      "text/plain": [
       "<matplotlib.axes._subplots.AxesSubplot at 0x1a22ce58d0>"
      ]
     },
     "execution_count": 20,
     "metadata": {},
     "output_type": "execute_result"
    },
    {
     "data": {
      "image/png": "[encoded data removed]",
      "text/plain": [
       "<Figure size 936x936 with 2 Axes>"
      ]
     },
     "metadata": {
      "needs_background": "light"
     },
     "output_type": "display_data"
    }
   ],
   "source": [
    "ana_no_egg.plot_hotmap_cost()"
   ]
  },
  {
   "cell_type": "markdown",
   "metadata": {},
   "source": [
    "## cma "
   ]
  },
  {
   "cell_type": "code",
   "execution_count": 22,
   "metadata": {},
   "outputs": [
    {
     "name": "stdout",
     "output_type": "stream",
     "text": [
      "cost: 450.9351674756105, prob: 0.0\n",
      "complete: 20 / 400 \n",
      "cost: 93.4508545679142, prob: 0.0\n",
      "complete: 40 / 400 \n"
     ]
    },
    {
     "name": "stderr",
     "output_type": "stream",
     "text": [
      "/Users/huajian/Non-convex/library/optimiser.py:168: RuntimeWarning:\n",
      "\n",
      "invalid value encountered in sqrt\n",
      "\n",
      "/Users/huajian/Non-convex/library/optimiser.py:60: RuntimeWarning:\n",
      "\n",
      "invalid value encountered in less\n",
      "\n",
      "/Users/huajian/Non-convex/library/optimiser.py:63: RuntimeWarning:\n",
      "\n",
      "invalid value encountered in less\n",
      "\n"
     ]
    },
    {
     "name": "stdout",
     "output_type": "stream",
     "text": [
      "diverge, raise LinAlgError!\n",
      "cost: 80.57931999020921, prob: 0.0\n",
      "complete: 60 / 400 \n",
      "cost: 80.5793264661029, prob: 0.0\n",
      "complete: 80 / 400 \n",
      "cost: 80.57931030639166, prob: 0.0\n",
      "complete: 100 / 400 \n",
      "cost: 80.5793191344596, prob: 0.0\n",
      "complete: 120 / 400 \n",
      "cost: 146.63853338876652, prob: 0.0\n",
      "complete: 140 / 400 \n",
      "cost: 362.2494774494931, prob: 0.0\n",
      "complete: 160 / 400 \n",
      "cost: 329.9892972170207, prob: 0.0\n",
      "complete: 180 / 400 \n",
      "cost: 292.2865256960332, prob: 0.0\n",
      "complete: 200 / 400 \n",
      "cost: 166.82125877770628, prob: 0.0\n",
      "complete: 220 / 400 \n",
      "cost: 230.99936161081695, prob: 0.0\n",
      "complete: 240 / 400 \n",
      "cost: 231.0020325095643, prob: 0.0\n",
      "complete: 260 / 400 \n",
      "cost: 230.99957576366836, prob: 0.0\n",
      "complete: 280 / 400 \n",
      "cost: 188.07620550582484, prob: 0.0\n",
      "complete: 300 / 400 \n",
      "diverge, raise LinAlgError!\n",
      "cost: 94.55442258902283, prob: 0.0\n",
      "complete: 320 / 400 \n",
      "cost: 87.92392202295646, prob: 0.0\n",
      "complete: 340 / 400 \n",
      "cost: 87.92390591489925, prob: 0.0\n",
      "complete: 360 / 400 \n",
      "cost: 38.315273901122154, prob: 0.2\n",
      "complete: 380 / 400 \n",
      "cost: 30.309034162045407, prob: 0.2\n",
      "complete: 400 / 400 \n",
      "avg probility of convergence:  0.013000000000000001\n",
      "avg cost:  408.39875229479264\n",
      "avg evals per exp:  399.86550000000005\n",
      "\n",
      "\n"
     ]
    }
   ],
   "source": [
    "# 1 optimiser\n",
    "opt = cma_es()\n",
    "optParas ={'x0': np.zeros((2,)),\n",
    "           'std': np.ones((2,)) * 3, \n",
    "           'tol': 1e-3, \n",
    "           'adjust_func': do_nothing(), \n",
    "           'record': False, \n",
    "           'verbose': False}\n",
    "opt.set_parameters(optParas)\n",
    "\n",
    "# 2 objective function\n",
    "obj = eggholder()\n",
    "\n",
    "# 3 setup sample zone of multiple experiments\n",
    "zoneParas = {'origin': np.array([-550,-550]),\n",
    "             'edge': np.array([1100, 1100]),\n",
    "             'step': 55,\n",
    "             'size': 10,\n",
    "             'sym': False}\n",
    "\n",
    "data = do_multiple_exps(obj, opt, zoneParas)"
   ]
  },
  {
   "cell_type": "code",
   "execution_count": 23,
   "metadata": {},
   "outputs": [],
   "source": [
    "ana_cma_egg = post_analysis_zone(data)"
   ]
  },
  {
   "cell_type": "code",
   "execution_count": 70,
   "metadata": {},
   "outputs": [
    {
     "data": {
      "text/plain": [
       "Text(0.5, 1, 'cost of Eggholder, optimised by CMA')"
      ]
     },
     "execution_count": 70,
     "metadata": {},
     "output_type": "execute_result"
    },
    {
     "data": {
      "image/png": "[encoded data removed]",
      "text/plain": [
       "<Figure size 936x936 with 2 Axes>"
      ]
     },
     "metadata": {
      "needs_background": "light"
     },
     "output_type": "display_data"
    }
   ],
   "source": [
    "ax = ana_cma_egg.plot_hotmap_cost()\n",
    "ax.set_title(\"cost of Eggholder, optimised by CMA\", fontsize=25)"
   ]
  },
  {
   "cell_type": "markdown",
   "metadata": {},
   "source": [
    "## cma-es with line search"
   ]
  },
  {
   "cell_type": "code",
   "execution_count": 28,
   "metadata": {},
   "outputs": [
    {
     "name": "stderr",
     "output_type": "stream",
     "text": [
      "/Users/huajian/Non-convex/library/objective_function.py:176: RuntimeWarning:\n",
      "\n",
      "divide by zero encountered in double_scalars\n",
      "\n",
      "/Users/huajian/Non-convex/library/objective_function.py:176: RuntimeWarning:\n",
      "\n",
      "invalid value encountered in double_scalars\n",
      "\n"
     ]
    },
    {
     "name": "stdout",
     "output_type": "stream",
     "text": [
      "cost: 74.69078381104882, prob: 0.0\n",
      "complete: 20 / 400 \n",
      "cost: 67.36683225858759, prob: 0.1\n",
      "complete: 40 / 400 \n",
      "cost: 82.70905437520736, prob: 0.0\n",
      "complete: 60 / 400 \n",
      "cost: 81.82743420995028, prob: 0.0\n",
      "complete: 80 / 400 \n",
      "cost: 74.13514663811317, prob: 0.0\n",
      "complete: 100 / 400 \n",
      "cost: 92.02828570092106, prob: 0.0\n",
      "complete: 120 / 400 \n",
      "cost: 94.25568978578251, prob: 0.0\n",
      "complete: 140 / 400 \n",
      "cost: 410.92151192650215, prob: 0.0\n",
      "complete: 160 / 400 \n",
      "cost: 412.4320727060228, prob: 0.0\n",
      "complete: 180 / 400 \n",
      "cost: 455.06341770686083, prob: 0.0\n",
      "complete: 200 / 400 \n",
      "cost: 302.02931640032455, prob: 0.2\n",
      "complete: 220 / 400 \n",
      "cost: 268.9335186500843, prob: 0.1\n",
      "complete: 240 / 400 \n",
      "cost: 153.358289424014, prob: 0.2\n",
      "complete: 260 / 400 \n",
      "cost: 165.3866719406938, prob: 0.3\n",
      "complete: 280 / 400 \n",
      "cost: 100.88860941681989, prob: 0.2\n",
      "complete: 300 / 400 \n",
      "cost: 80.52643271559924, prob: 0.1\n",
      "complete: 320 / 400 \n",
      "cost: 40.55523210725331, prob: 0.3\n",
      "complete: 340 / 400 \n",
      "cost: 70.5121183216329, prob: 0.2\n",
      "complete: 360 / 400 \n",
      "cost: 41.781790849877154, prob: 0.0\n",
      "complete: 380 / 400 \n",
      "cost: 55.33858888308206, prob: 0.0\n",
      "complete: 400 / 400 \n",
      "avg probility of convergence:  0.05625\n",
      "avg cost:  288.67330185864677\n",
      "avg evals per exp:  19941.785\n",
      "\n",
      "\n"
     ]
    }
   ],
   "source": [
    "# 1 optimiser\n",
    "inner_opt = line_search()\n",
    "innerOptParas = {\n",
    "    'x0': None,\n",
    "    'alpha': 1,\n",
    "    'beta': 0.1, \n",
    "    'max_iter': 100,\n",
    "    'tol': 1e-2,              \n",
    "    'verbose': False,\n",
    "    'record': False\n",
    "}\n",
    "inner_opt.set_parameters(innerOptParas)\n",
    "\n",
    "opt = cma_es()\n",
    "optParas ={'x0': np.zeros((2,)),\n",
    "           'std': np.ones((2,)) * 3, \n",
    "           'tol': 1e-3, \n",
    "           'adjust_func': inner_opt, \n",
    "           'record': False, \n",
    "           'verbose': False}\n",
    "opt.set_parameters(optParas)\n",
    "\n",
    "# 2 objective function\n",
    "obj = eggholder()\n",
    "\n",
    "# 3 setup sample zone of multiple experiments\n",
    "zoneParas = {'origin': np.array([-550,-550]),\n",
    "             'edge': np.array([1100, 1100]),\n",
    "             'step': 55,\n",
    "             'size': 10,\n",
    "             'sym': False}\n",
    "\n",
    "data = do_multiple_exps(obj, opt, zoneParas)"
   ]
  },
  {
   "cell_type": "code",
   "execution_count": null,
   "metadata": {},
   "outputs": [],
   "source": [
    "ana_cmaln_egg = post_analysis_zone(data)"
   ]
  },
  {
   "cell_type": "code",
   "execution_count": 71,
   "metadata": {},
   "outputs": [
    {
     "data": {
      "text/plain": [
       "Text(0.5, 1, 'cost of Eggholder, by CMA with line search')"
      ]
     },
     "execution_count": 71,
     "metadata": {},
     "output_type": "execute_result"
    },
    {
     "data": {
      "image/png": "[encoded data removed]",
      "text/plain": [
       "<Figure size 936x936 with 2 Axes>"
      ]
     },
     "metadata": {
      "needs_background": "light"
     },
     "output_type": "display_data"
    }
   ],
   "source": [
    "ax = ana_cmaln_egg.plot_hotmap_cost()\n",
    "ax.set_title(\"cost of Eggholder, by CMA with line search\", fontsize=25)"
   ]
  },
  {
   "cell_type": "code",
   "execution_count": 35,
   "metadata": {},
   "outputs": [],
   "source": [
    "import time\n",
    "class multiple_experiment:\n",
    "    def set_sample_zone(self, paras):\n",
    "        self.paras = paras\n",
    "        self.origin = paras['origin']\n",
    "        self.edge = paras['edge']\n",
    "        self.step = paras['step']\n",
    "        self.sym = paras['sym'] if 'sym' in self.paras.keys() else False\n",
    "        self.size = paras['size']\n",
    "    def set_single_exp(self, exp):\n",
    "        self.exp = exp\n",
    "    def do(self):\n",
    "        # get derivative parameters\n",
    "        num_x = int(self.edge[0] / self.step)\n",
    "        num_y = int(self.edge[1] / self.step)\n",
    "        abs_edge = np.zeros((2,))\n",
    "        abs_edge[0] = self.origin[0] + self.edge[0]\n",
    "        \n",
    "        # initlise matrix to record results\n",
    "        data = {}\n",
    "        data['convergence'] = np.zeros((num_y, num_x))\n",
    "        data['cost'] = np.zeros_like(data['convergence'])\n",
    "        data['evals'] = np.zeros_like(data['convergence'])\n",
    "        data['mask'] = np.ones_like(data['convergence'], dtype=np.uint8)\n",
    "        data['x'] = np.zeros_like(data['convergence'])\n",
    "        data['y'] = np.zeros_like(data['convergence'])     \n",
    "        if self.sym and num_x == num_y:   \n",
    "            total_num = (num_x + 1) * num_x / 2\n",
    "        else:\n",
    "            total_num = num_x * num_y\n",
    "        \n",
    "        start = time.time()\n",
    "        for i, x in enumerate(np.arange(self.origin[0], abs_edge[0], self.step)):\n",
    "            if self.sym:\n",
    "                abs_edge[1] = self.origin[1] + x + self.step \n",
    "            else:\n",
    "                abs_edge[1] = self.origin[1] + self.edge[1]\n",
    "            for j, y in enumerate(np.arange(self.origin[1], abs_edge[1], self.step)):\n",
    "                points = np.random.rand(self.size, 2) * self.step + np.array([x, y]) \n",
    "                data['mask'][num_y-1-j, i] = 0\n",
    "                data['x'][num_y-1-j, i] = x\n",
    "                data['y'][num_y-1-j, i] = y\n",
    "                # calculate the probility of getting global minimum \n",
    "                res = np.zeros((self.size, ))\n",
    "                costs = np.zeros_like(res)\n",
    "                evals = np.zeros_like(res)\n",
    "                for k in range(self.size):\n",
    "                    self.exp.optimizer.x0 = points[k].reshape(2,1)\n",
    "                    status, costs[k], evals[k] = self.exp.do()\n",
    "                    if(status == 'global minimum'):\n",
    "                        res[k] = 1\n",
    "                data['convergence'][num_y-1-j, i] = np.mean(res)\n",
    "                data['cost'][num_y-1-j, i] = np.mean(costs)\n",
    "                data['evals'][num_y-1-j, i] = np.mean(evals)\n",
    "            if self.sym:\n",
    "                completed_num = (i + 1) * i / 2 + j + 1\n",
    "            else:\n",
    "                completed_num = i * num_y + j + 1\n",
    "            print(\"cost: {}, prob: {}\".format(data['cost'][num_y-1-j, i], data['convergence'][num_y-1-j, i]) )\n",
    "            print(\"complete: {} / {} \".format(int(completed_num), int(total_num)))\n",
    "        end = time.time()\n",
    "        if self.sym:\n",
    "            num = self.edge[0] / self.step\n",
    "            num = (num + 1) * num / 2\n",
    "        else:\n",
    "            num = num_x * num_y\n",
    "        data['paras'] = self.paras\n",
    "        print(\"avg probility of convergence: \", data['convergence'].sum() / num)\n",
    "        print(\"avg cost: \", data['cost'].sum() / num)\n",
    "        print(\"avg evals per exp: \", data['evals'].sum() / num)\n",
    "        print(\"total time: {},  time per eval:{}\\n\".format(end - start, (end - start)/num/data['evals'].sum()))\n",
    "        return data"
   ]
  },
  {
   "cell_type": "markdown",
   "metadata": {},
   "source": [
    "# tuned ackley"
   ]
  },
  {
   "cell_type": "code",
   "execution_count": 46,
   "metadata": {},
   "outputs": [],
   "source": [
    "class post_analysis_zone:\n",
    "    def __init__(self, data):\n",
    "        self.paras = data['paras']\n",
    "        self.origin = self.paras['origin']\n",
    "        self.edge = self.paras['edge']\n",
    "        self.step = self.paras['step']\n",
    "        \n",
    "        self.x = data['x']\n",
    "        self.y = data['y']\n",
    "        self.prob = data['convergence']\n",
    "        self.cost = data['cost']\n",
    "        self.evals = data['evals']\n",
    "        self.mask = data['mask']\n",
    "        \n",
    "        self.xlabel = np.arange(self.origin[0], self.origin[0] + self.edge[0], self.step) + round(self.step/2)\n",
    "        self.ylabel = np.arange(self.edge[1] + self.origin[1], self.origin[1], -self.step) - round(self.step/2)\n",
    "        \n",
    "    def __setup_axis(self, ax):\n",
    "        sns.axes_style(\"white\")\n",
    "        ax.set_xticklabels(self.xlabel)\n",
    "        ax.set_yticklabels(self.ylabel)\n",
    "        \n",
    "    def plot_scatter(self):\n",
    "        fig = plt.figure(figsize=(10,10))\n",
    "        sc = plt.scatter(self.x.ravel(), self.y.ravel(), c=self.prob.ravel(), marker='o', vmin=0, vmax=1, s=35, cmap='YlGnBu')\n",
    "        plt.colorbar(sc)\n",
    "        return ax\n",
    "        \n",
    "    def plot_hotmap_prob(self):\n",
    "        fig = plt.figure(figsize=(13, 13))\n",
    "        ax = sns.heatmap(self.prob, mask=self.mask, vmin=0, vmax=1, square=True,  cmap=\"YlGnBu\")\n",
    "        self.__setup_axis(ax)\n",
    "        return ax\n",
    "\n",
    "    def plot_hotmap_cost(self, max_cost):\n",
    "        fig = plt.figure(figsize=(13, 13))\n",
    "        ax = sns.heatmap(self.cost, mask=self.mask, vmin=0, vmax=max_cost, square=True,  cmap=\"YlGnBu\")\n",
    "        self.__setup_axis(ax)\n",
    "        return ax\n",
    "\n",
    "    def plot_hotmap_evals(self):\n",
    "        fig = plt.figure(figsize=(13, 13))\n",
    "        ax = sns.heatmap(self.evals, mask=self.mask, vmin=0, square=True,  cmap=\"YlGnBu\")  \n",
    "        self.__setup_axis(ax)\n",
    "        return ax"
   ]
  },
  {
   "cell_type": "markdown",
   "metadata": {},
   "source": [
    "## adam"
   ]
  },
  {
   "cell_type": "code",
   "execution_count": 52,
   "metadata": {},
   "outputs": [
    {
     "name": "stdout",
     "output_type": "stream",
     "text": [
      "cost: 0.05046975578117099, prob: 1.0\n",
      "complete: 1 / 210 \n",
      "cost: 0.07337142349514458, prob: 1.0\n",
      "complete: 3 / 210 \n",
      "cost: 0.07972452676478632, prob: 0.9\n",
      "complete: 6 / 210 \n",
      "cost: 0.03033870781288641, prob: 1.0\n",
      "complete: 10 / 210 \n",
      "cost: 0.04157528313194767, prob: 1.0\n",
      "complete: 15 / 210 \n",
      "cost: 0.03769242682142071, prob: 1.0\n",
      "complete: 21 / 210 \n",
      "cost: 0.030206372102839652, prob: 1.0\n",
      "complete: 28 / 210 \n",
      "cost: 7.451499436980349, prob: 0.5\n",
      "complete: 36 / 210 \n",
      "cost: 14.874908617009126, prob: 0.0\n",
      "complete: 45 / 210 \n",
      "cost: 14.645257325100687, prob: 0.0\n",
      "complete: 55 / 210 \n",
      "cost: 14.64517426910867, prob: 0.0\n",
      "complete: 66 / 210 \n",
      "cost: 12.67690612632906, prob: 0.0\n",
      "complete: 78 / 210 \n",
      "cost: 12.680142978423703, prob: 0.0\n",
      "complete: 91 / 210 \n",
      "cost: 8.580159502602905, prob: 0.0\n",
      "complete: 105 / 210 \n",
      "cost: 8.269187847594358, prob: 0.0\n",
      "complete: 120 / 210 \n",
      "cost: 50.0, prob: 0.0\n",
      "complete: 136 / 210 \n",
      "cost: 50.0, prob: 0.0\n",
      "complete: 153 / 210 \n",
      "cost: 50.0, prob: 0.0\n",
      "complete: 171 / 210 \n",
      "cost: 50.0, prob: 0.0\n",
      "complete: 190 / 210 \n",
      "cost: 50.0, prob: 0.0\n",
      "complete: 210 / 210 \n",
      "avg probility of convergence:  0.2514285714285714\n",
      "avg cost:  13.83005915530605\n",
      "avg evals per exp:  113.52809523809523\n",
      "total time: 20.186044931411743,  time per eval:4.0318957540576515e-06\n",
      "\n"
     ]
    }
   ],
   "source": [
    "# 1 optimiser\n",
    "opt = adam()\n",
    "optParas = {\n",
    "         'x0': None,\n",
    "         'alpha': 1e-1,\n",
    "         'beta_1': 0.9, \n",
    "         'beta_2': 0.999, \n",
    "         'epsilon': 1e-11, \n",
    "         'max_iter': 2000,\n",
    "         'tol': 1e-3,              \n",
    "         'verbose': False,\n",
    "         'record': False }\n",
    "opt.set_parameters(optParas)\n",
    "\n",
    "# 2 objective function\n",
    "obj = tuned_ackley()\n",
    "\n",
    "# 3 setup sample zone of multiple experiments\n",
    "zoneParas = {'origin': np.array([0, 0]),\n",
    "             'edge': np.array([20, 20]),\n",
    "             'step': 1,\n",
    "             'size': 10,\n",
    "             'sym': True}\n",
    "\n",
    "data = do_multiple_exps(obj, opt, zoneParas)"
   ]
  },
  {
   "cell_type": "code",
   "execution_count": 53,
   "metadata": {},
   "outputs": [],
   "source": [
    "ana_ad_tak = post_analysis_zone(data)"
   ]
  },
  {
   "cell_type": "code",
   "execution_count": 66,
   "metadata": {
    "scrolled": true
   },
   "outputs": [
    {
     "data": {
      "text/plain": [
       "Text(0.5, 1, 'cost of tuned ackley, optimised by adam')"
      ]
     },
     "execution_count": 66,
     "metadata": {},
     "output_type": "execute_result"
    },
    {
     "data": {
      "image/png": "[encoded data removed]",
      "text/plain": [
       "<Figure size 936x936 with 2 Axes>"
      ]
     },
     "metadata": {
      "needs_background": "light"
     },
     "output_type": "display_data"
    }
   ],
   "source": [
    "ax = ana_ad_tak.plot_hotmap_cost(20)\n",
    "ax.set_title(\"cost of tuned ackley, optimised by adam\", fontsize=23)"
   ]
  },
  {
   "cell_type": "code",
   "execution_count": 55,
   "metadata": {},
   "outputs": [
    {
     "name": "stdout",
     "output_type": "stream",
     "text": [
      "cost: 0.0002949743494571777, prob: 1.0\n",
      "complete: 1 / 210 \n",
      "cost: 0.0003050879612477075, prob: 1.0\n",
      "complete: 3 / 210 \n",
      "cost: 0.0003554989528986141, prob: 1.0\n",
      "complete: 6 / 210 \n",
      "cost: 0.0003906634434454048, prob: 1.0\n",
      "complete: 10 / 210 \n",
      "cost: 0.00021844765305729653, prob: 1.0\n",
      "complete: 15 / 210 \n",
      "cost: 0.0003064333273691489, prob: 1.0\n",
      "complete: 21 / 210 \n",
      "cost: 0.00034168304938155816, prob: 1.0\n",
      "complete: 28 / 210 \n",
      "cost: 0.7239307139524722, prob: 0.9\n",
      "complete: 36 / 210 \n",
      "cost: 0.858158878424295, prob: 0.9\n",
      "complete: 45 / 210 \n",
      "cost: 0.4729429467536347, prob: 0.9\n",
      "complete: 55 / 210 \n",
      "cost: 4.121557484795035, prob: 0.2\n",
      "complete: 66 / 210 \n",
      "cost: 4.113651954052825, prob: 0.3\n",
      "complete: 78 / 210 \n",
      "cost: 4.6926052038122466, prob: 0.1\n",
      "complete: 91 / 210 \n",
      "cost: 4.702962966546354, prob: 0.1\n",
      "complete: 105 / 210 \n",
      "cost: 4.374163461250666, prob: 0.2\n",
      "complete: 120 / 210 \n",
      "diverge, raise LinAlgError!\n",
      "cost: 5.3751906323888345, prob: 0.0\n",
      "complete: 136 / 210 \n",
      "cost: 9.048296888570686, prob: 0.2\n",
      "complete: 153 / 210 \n",
      "cost: 22.764389700597896, prob: 0.1\n",
      "complete: 171 / 210 \n",
      "cost: 36.49253271472561, prob: 0.0\n",
      "complete: 190 / 210 \n",
      "cost: 36.598131268795214, prob: 0.0\n",
      "complete: 210 / 210 \n",
      "avg probility of convergence:  0.43333333333333335\n",
      "avg cost:  4.49337228162658\n",
      "avg evals per exp:  325.70857142857136\n",
      "total time: 67.30494499206543,  time per eval:4.68575089120649e-06\n",
      "\n"
     ]
    }
   ],
   "source": [
    "# 1 optimiser\n",
    "opt = cma_es()\n",
    "optParas ={'x0': np.zeros((2,)),\n",
    "           'std': np.ones((2,)) * 3, \n",
    "           'tol': 1e-3, \n",
    "           'adjust_func': do_nothing(), \n",
    "           'record': False, \n",
    "           'verbose': False}\n",
    "opt.set_parameters(optParas)\n",
    "\n",
    "# 2 objective function\n",
    "obj = tuned_ackley()\n",
    "\n",
    "# 3 setup sample zone of multiple experiments\n",
    "zoneParas = {'origin': np.array([0, 0]),\n",
    "             'edge': np.array([20, 20]),\n",
    "             'step': 1,\n",
    "             'size': 10,\n",
    "             'sym': True}\n",
    "\n",
    "data = do_multiple_exps(obj, opt, zoneParas)"
   ]
  },
  {
   "cell_type": "code",
   "execution_count": 56,
   "metadata": {},
   "outputs": [],
   "source": [
    "ana_cma_tak = post_analysis_zone(data)"
   ]
  },
  {
   "cell_type": "code",
   "execution_count": 64,
   "metadata": {},
   "outputs": [
    {
     "data": {
      "text/plain": [
       "Text(0.5, 1, 'cost of tuned ackley, optimised by cma')"
      ]
     },
     "execution_count": 64,
     "metadata": {},
     "output_type": "execute_result"
    },
    {
     "data": {
      "image/png": "[encoded data removed]",
      "text/plain": [
       "<Figure size 936x936 with 2 Axes>"
      ]
     },
     "metadata": {
      "needs_background": "light"
     },
     "output_type": "display_data"
    }
   ],
   "source": [
    "ax = ana_cma_tak.plot_hotmap_cost(20)\n",
    "ax.set_title(\"cost of tuned ackley, optimised by cma\", fontsize=23)"
   ]
  },
  {
   "cell_type": "code",
   "execution_count": 44,
   "metadata": {},
   "outputs": [
    {
     "name": "stdout",
     "output_type": "stream",
     "text": [
      "cost: 8.497193023728755e-05, prob: 1.0\n",
      "complete: 1 / 210 \n",
      "cost: 9.09162180647627e-05, prob: 1.0\n",
      "complete: 3 / 210 \n",
      "cost: 0.00010184041187208948, prob: 1.0\n",
      "complete: 6 / 210 \n",
      "cost: 0.00010586477659160209, prob: 1.0\n",
      "complete: 10 / 210 \n",
      "cost: 0.00013038676066834398, prob: 1.0\n",
      "complete: 15 / 210 \n",
      "cost: 4.718785825694738e-05, prob: 1.0\n",
      "complete: 21 / 210 \n",
      "cost: 3.660719164493287e-05, prob: 1.0\n",
      "complete: 28 / 210 \n",
      "cost: 8.339414890272679e-05, prob: 1.0\n",
      "complete: 36 / 210 \n",
      "cost: 6.456661908131878e-05, prob: 1.0\n",
      "complete: 45 / 210 \n",
      "cost: 0.4761637468758714, prob: 0.9\n",
      "complete: 55 / 210 \n",
      "cost: 0.36672097298630746, prob: 0.9\n",
      "complete: 66 / 210 \n",
      "cost: 3.102598063027215, prob: 0.3\n",
      "complete: 78 / 210 \n",
      "cost: 1.637405662349958, prob: 0.6\n",
      "complete: 91 / 210 \n",
      "cost: 3.0232987150064115, prob: 0.3\n",
      "complete: 105 / 210 \n",
      "diverge, raise LinAlgError!\n",
      "diverge, raise LinAlgError!\n",
      "cost: 2.6295766229887434, prob: 0.4\n",
      "complete: 120 / 210 \n",
      "diverge, raise LinAlgError!\n",
      "cost: 3.1686605641122583, prob: 0.3\n",
      "complete: 136 / 210 \n",
      "diverge, raise LinAlgError!\n",
      "cost: 7.689492021747602, prob: 0.3\n",
      "complete: 153 / 210 \n",
      "diverge, raise LinAlgError!\n",
      "cost: 31.23671325944564, prob: 0.1\n",
      "complete: 171 / 210 \n",
      "diverge, raise LinAlgError!\n",
      "diverge, raise LinAlgError!\n",
      "cost: 40.545070947361516, prob: 0.1\n",
      "complete: 190 / 210 \n",
      "cost: 40.452688180600056, prob: 0.1\n",
      "complete: 210 / 210 \n",
      "avg probility of convergence:  0.6247619047619047\n",
      "avg cost:  3.0887507598190895\n",
      "avg evals per exp:  5557.860476190477\n",
      "total time: 504.57500076293945,  time per eval:2.058635700489354e-06\n",
      "\n"
     ]
    }
   ],
   "source": [
    "# 1 optimiser\n",
    "inner_opt = line_search()\n",
    "innerOptParas = {\n",
    "    'x0': None,\n",
    "    'alpha': 1,\n",
    "    'beta': 0.1, \n",
    "    'max_iter': 100,\n",
    "    'tol': 1e-2,              \n",
    "    'verbose': False,\n",
    "    'record': False\n",
    "}\n",
    "inner_opt.set_parameters(innerOptParas)\n",
    "\n",
    "opt = cma_es()\n",
    "optParas ={'x0': np.zeros((2,)),\n",
    "           'std': np.ones((2,)) * 3, \n",
    "           'tol': 1e-3, \n",
    "           'adjust_func': inner_opt, \n",
    "           'record': False, \n",
    "           'verbose': False}\n",
    "opt.set_parameters(optParas)\n",
    "\n",
    "# 2 objective function\n",
    "obj = tuned_ackley()\n",
    "\n",
    "# 3 setup sample zone of multiple experiments\n",
    "zoneParas = {'origin': np.array([0, 0]),\n",
    "             'edge': np.array([20, 20]),\n",
    "             'step': 1,\n",
    "             'size': 10,\n",
    "             'sym': True}\n",
    "\n",
    "data = do_multiple_exps(obj, opt, zoneParas)"
   ]
  },
  {
   "cell_type": "code",
   "execution_count": null,
   "metadata": {},
   "outputs": [],
   "source": [
    "ana_cmaln_tak = post_analysis_zone(data)"
   ]
  },
  {
   "cell_type": "code",
   "execution_count": 63,
   "metadata": {},
   "outputs": [
    {
     "data": {
      "text/plain": [
       "Text(0.5, 1, 'cost of tuned ackley, by cma with line search')"
      ]
     },
     "execution_count": 63,
     "metadata": {},
     "output_type": "execute_result"
    },
    {
     "data": {
      "image/png": "[encoded data removed]",
      "text/plain": [
       "<Figure size 936x936 with 2 Axes>"
      ]
     },
     "metadata": {
      "needs_background": "light"
     },
     "output_type": "display_data"
    }
   ],
   "source": [
    "ax = ana_cmaln_tak.plot_hotmap_cost(20)\n",
    "ax.set_title(\"cost of tuned ackley, by cma with line search\", fontsize=23)"
   ]
  },
  {
   "cell_type": "code",
   "execution_count": null,
   "metadata": {},
   "outputs": [],
   "source": []
  }
 ],
 "metadata": {
  "kernelspec": {
   "display_name": "Python 2",
   "language": "python",
   "name": "python2"
  },
  "language_info": {
   "codemirror_mode": {
    "name": "ipython",
    "version": 3
   },
   "file_extension": ".py",
   "mimetype": "text/x-python",
   "name": "python",
   "nbconvert_exporter": "python",
   "pygments_lexer": "ipython3",
   "version": "3.7.4"
  }
 },
 "nbformat": 4,
 "nbformat_minor": 4
}
