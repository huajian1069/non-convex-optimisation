{
 "cells": [
  {
   "cell_type": "code",
   "execution_count": 1,
   "metadata": {},
   "outputs": [],
   "source": [
    "from library.optimiser import *\n",
    "from library.objective_function import *\n",
    "from library.post_analysis import *\n",
    "from library.experiments import *\n",
    "%matplotlib inline\n",
    "SEED = 23191"
   ]
  },
  {
   "cell_type": "code",
   "execution_count": 6,
   "metadata": {},
   "outputs": [
    {
     "name": "stdout",
     "output_type": "stream",
     "text": [
      "\n",
      "\n",
      "*******starting optimisation from intitial point:  [12.34232  3.3412   2.23     3.3      3.2    ]\n"
     ]
    },
    {
     "data": {
      "text/plain": [
       "(array([-0.00191471, -0.00481628, -0.00223462, -0.00172887, -0.00010251]),\n",
       " 0.010558381933893912,\n",
       " {'status': None, 'evals': 1000})"
      ]
     },
     "execution_count": 6,
     "metadata": {},
     "output_type": "execute_result"
    }
   ],
   "source": [
    "tak = tuned_ackley(dim=5)\n",
    "ad = adam()\n",
    "x0 = np.array([12.34232, 3.3412, 2.23, 3.3, 3.2])\n",
    "optmizerParas = {'x0': x0,\n",
    "         'alpha': 0.01,\n",
    "         'beta_1': 0.9, \n",
    "         'beta_2': 0.999, \n",
    "         'epsilon': 1e-8, \n",
    "         'max_iter': 1000,\n",
    "         'tol': 1e-5,              \n",
    "         'verbose': True,\n",
    "         'record': False}\n",
    "ad.set_parameters(optmizerParas)\n",
    "ad.optimise(tak)"
   ]
  },
  {
   "cell_type": "code",
   "execution_count": 8,
   "metadata": {},
   "outputs": [
    {
     "name": "stdout",
     "output_type": "stream",
     "text": [
      "\n",
      "*******starting optimisation from intitial point:  [ 12.34232  34.3412   34.3      23.3434  343.212   232.122  ]\n"
     ]
    },
    {
     "data": {
      "text/plain": [
       "(array([ 11.99999998,  33.99999999,  34.        ,  22.99999998,\n",
       "        343.00000002, 232.00000002]),\n",
       " 19.999999999999968,\n",
       " {'status': None, 'evals': 29})"
      ]
     },
     "execution_count": 8,
     "metadata": {},
     "output_type": "execute_result"
    }
   ],
   "source": [
    "ak = ackley()\n",
    "ls = line_search(dim=6)\n",
    "x0 = np.array([12.34232, 34.3412, 34.3, 23.3434, 343.212, 232.122])\n",
    "optmizerParas = {'x0': x0,\n",
    "         'alpha': 1,\n",
    "         'beta': 0.1, \n",
    "         'max_iter': 1000,\n",
    "         'tol': 1e-5,              \n",
    "         'verbose': True,\n",
    "         'record': False}\n",
    "ls.set_parameters(optmizerParas)\n",
    "ls.optimise(ak)"
   ]
  },
  {
   "cell_type": "code",
   "execution_count": 10,
   "metadata": {},
   "outputs": [
    {
     "name": "stdout",
     "output_type": "stream",
     "text": [
      "\n",
      "\n",
      "*******starting optimisation from intitial mean:  [ 12.34232     34.3412      23.22         4.22333333   3.12021\n",
      " 223.343       34.343     ]\n",
      "eigenvalue of variance = [6.54606319 4.06381807 2.15481538 3.55028104 2.71468067 2.98968522\n",
      " 3.27417869]\n",
      "total iterations = 96, total evaluatios = 36487\n",
      "found minimum position = [-1.01437493e-16  3.61992097e-18  1.52166618e-16  4.53131041e-17\n",
      " -7.77591494e-18  1.09635175e-16 -1.47933186e-16], found minimum = 4.440892098500626e-16\n"
     ]
    },
    {
     "data": {
      "text/plain": [
       "(array([-1.01437493e-16,  3.61992097e-18,  1.52166618e-16,  4.53131041e-17,\n",
       "        -7.77591494e-18,  1.09635175e-16, -1.47933186e-16]),\n",
       " 4.440892098500626e-16,\n",
       " {'val': [],\n",
       "  'arg': [],\n",
       "  'x_adjust': [],\n",
       "  'evals_per_iter': [],\n",
       "  'mean': [],\n",
       "  'std': [],\n",
       "  'status': None,\n",
       "  'evals': 36487})"
      ]
     },
     "execution_count": 10,
     "metadata": {},
     "output_type": "execute_result"
    }
   ],
   "source": [
    "ak = ackley()\n",
    "x0_2 = np.array([12.34232, 34.3412, 23.22, 4.223333332, 3.12021, 223.343, 34.343])\n",
    "dim = x0_2.shape[0]\n",
    "cma = cma_es(dim=dim)\n",
    "paras = {'x0': x0_2,\n",
    "         'std': np.ones((dim,)) * 3, \n",
    "         'tol': 1e-5, \n",
    "         'adjust_func': line_search(), \n",
    "         'record': False, \n",
    "         'verbose': True}\n",
    "cma.set_parameters(paras)\n",
    "cma.optimise(ak)"
   ]
  },
  {
   "cell_type": "code",
   "execution_count": null,
   "metadata": {},
   "outputs": [],
   "source": []
  }
 ],
 "metadata": {
  "kernelspec": {
   "display_name": "Python [conda env:miniconda3-ada] *",
   "language": "python",
   "name": "conda-env-miniconda3-ada-py"
  },
  "language_info": {
   "codemirror_mode": {
    "name": "ipython",
    "version": 3
   },
   "file_extension": ".py",
   "mimetype": "text/x-python",
   "name": "python",
   "nbconvert_exporter": "python",
   "pygments_lexer": "ipython3",
   "version": "3.7.4"
  }
 },
 "nbformat": 4,
 "nbformat_minor": 4
}
