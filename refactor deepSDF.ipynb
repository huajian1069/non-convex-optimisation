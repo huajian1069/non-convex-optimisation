{
 "cells": [
  {
   "cell_type": "code",
   "execution_count": 1,
   "metadata": {},
   "outputs": [],
   "source": [
    "#!/usr/bin/env python3\n",
    "# Copyright 2004-present Facebook. All Rights Reserved.\n",
    "#  python optim.py -s example1/synth_test.json -e example1\n",
    "import argparse\n",
    "import json\n",
    "import logging\n",
    "import os\n",
    "import random\n",
    "import time\n",
    "import torch\n",
    "import numpy as np\n",
    "\n",
    "import deep_sdf\n",
    "import deep_sdf.workspace as ws\n",
    "\n",
    "import pdb\n",
    "\n",
    "from library.optimiser import *\n",
    "from library.objective_function import *\n",
    "from library.post_analysis import *\n",
    "from library.experiments import *\n",
    "from deep_sdf.mesh import create_mesh_optim\n",
    "\n",
    "%matplotlib inline"
   ]
  },
  {
   "cell_type": "code",
   "execution_count": 2,
   "metadata": {},
   "outputs": [],
   "source": [
    "def adjust_learning_rate(initial_lr, optimizer, num_iterations, decreased_by, adjust_lr_every):\n",
    "    lr = initial_lr * ((1 / decreased_by) ** (num_iterations // adjust_lr_every))\n",
    "    for param_group in optimizer.param_groups:\n",
    "        param_group[\"lr\"] = lr\n",
    "\n",
    "def chamfer_distance(p1, p2):\n",
    "    '''\n",
    "    Calculate Chamfer Distance between two point sets\n",
    "    '''\n",
    "    p1 = p1.unsqueeze(0)\n",
    "    p2 = p2.unsqueeze(0)\n",
    "\n",
    "    p1 = p1.repeat(p2.size(1), 1, 1)\n",
    "    p1 = p1.transpose(0, 1)\n",
    "\n",
    "    p2 = p2.repeat(p1.size(0), 1, 1)\n",
    "\n",
    "    # compute distance tensor\n",
    "    dist = torch.add(p1, torch.neg(p2))\n",
    "    dist = torch.norm(dist, 2, dim=2)\n",
    "\n",
    "    dist1, _ = torch.min(dist, dim = 1)\n",
    "    dist2, _ = torch.min(dist, dim = 0)\n",
    "\n",
    "    return torch.mean(dist1) + torch.mean(dist2)\n",
    "\n",
    "class argms:\n",
    "    def __init__(self):\n",
    "        self.experiment_directory = \"example1\"\n",
    "        self.checkpoint = \"latest\"\n",
    "        self.iterations = 100\n",
    "        self.split_filename = \"example1/synth_test.json\"\n",
    "        self.logfile = None\n",
    "        self.debug = False\n",
    "        self.quiet = False\n",
    "args = argms()\n",
    "\n",
    "def getLatentSourceAndTarget(args, source_id, target_id):\n",
    "    # pick initialization and samples\n",
    "    # Load collection of all latent codes\n",
    "    all_codes_path = os.path.join(\n",
    "        args.experiment_directory,\n",
    "        ws.latent_codes_subdir,\n",
    "        'latest.pth')\n",
    "    all_codes = torch.load(all_codes_path)['latent_codes']['weight']\n",
    "    ## sphere\n",
    "    source_id = 999 # zywvjkvz2492e6xpq4hd1jzy2r9lht        # This will be the source shape (ie starting point)\n",
    "    latent = all_codes[source_id].unsqueeze(0).detach().cuda()   #Add .cuda() if you want to run on GPU\n",
    "    latent.requires_grad = True\n",
    "\n",
    "    # This is be the target shape (ie objective)\n",
    "    latent_target = all_codes[target_id].unsqueeze(0).detach().cuda()   #Add .cuda() if you want to run on GPU\n",
    "    return latent, latent_target\n",
    "\n",
    "def constructDecoder(args):\n",
    "    specs_filename = os.path.join(args.experiment_directory, \"specs.json\")\n",
    "    specs = json.load(open(specs_filename))\n",
    "    arch = __import__(\"networks.\" + specs[\"NetworkArch\"], fromlist=[\"Decoder\"])\n",
    "    latent_size = specs[\"CodeLength\"]\n",
    "    # Load decoder: this is our black box function\n",
    "    decoder = arch.Decoder(latent_size, **specs[\"NetworkSpecs\"])\n",
    "    decoder = torch.nn.DataParallel(decoder)\n",
    "    saved_model_state = torch.load(\n",
    "        os.path.join(\n",
    "            args.experiment_directory, ws.model_params_subdir, args.checkpoint + \".pth\"\n",
    "        ),\n",
    "       # map_location=torch.device('cpu') # Remove this if you want to run on GPU\n",
    "    )\n",
    "    decoder.load_state_dict(saved_model_state[\"model_state_dict\"])\n",
    "    # Optionally: put decoder on GPU\n",
    "    decoder = decoder.module.cuda()\n",
    "    return decoder\n",
    "\n",
    "class decoder_obj(objective_func):\n",
    "    def __init__(self, latent_target, decoder):\n",
    "        self.N_MARCHING_CUBE = 64\n",
    "        self.l2reg= True\n",
    "        self.regl2 = 1e-3\n",
    "        self.iter = 0\n",
    "        self.quick = True\n",
    "        \n",
    "        self.latent_target = latent_target\n",
    "        self.decoder = decoder\n",
    "        self.optimum = 0\n",
    "        self.optimal = latent_target\n",
    "        \n",
    "        # Get a mesh representation of the target shape\n",
    "        self.verts_target, faces_target = create_mesh_optim(\n",
    "            decoder, latent_target, N=self.N_MARCHING_CUBE, max_batch=int(2 ** 18)\n",
    "        )\n",
    "    \n",
    "        \n",
    "    def func(self, latent):\n",
    "        # from latent to xyz\n",
    "        verts, faces = deep_sdf.mesh.create_mesh_optim(self.decoder, latent, N=self.N_MARCHING_CUBE, max_batch=int(2 ** 18))\n",
    "        verts = verts[torch.randperm(verts.shape[0])]\n",
    "        verts = verts[0:20000, :]\n",
    "        self.xyz_upstream = torch.tensor(verts.astype(float), requires_grad = True, dtype=torch.float32,device=torch.device('cuda:0') )#, ) # For GPU,\n",
    "       \n",
    "        # from latent_traget to xyz_target\n",
    "        verts_target_sample = self.verts_target[torch.randperm(self.verts_target.shape[0])]\n",
    "        verts_target_sample = verts_target_sample[0:20000, :]\n",
    "        xyz_target = torch.tensor(verts_target_sample.astype(float), requires_grad = False, dtype=torch.float32, device=torch.device('cuda:0')) # For GPU, add: , device=torch.device('cuda:0'))\n",
    "\n",
    "        # compare difference\n",
    "        loss = chamfer_distance(self.xyz_upstream, xyz_target)\n",
    "        self.last_loss = loss;\n",
    "        self.last_latent = latent;\n",
    "        return loss\n",
    "    \n",
    "    def dfunc(self, latent):\n",
    "        \n",
    "        \n",
    "        if latent.grad is not None:\n",
    "            latent.grad.detach_()\n",
    "            latent.grad.zero_()\n",
    "        \n",
    "        # step 1\n",
    "        if self.quick and self.last_latent is not None and torch.all(latent == self.last_latent):\n",
    "            loss = self.last_loss\n",
    "        else:\n",
    "            loss = self.func(latent)\n",
    "        decoder.eval()\n",
    "        loss.backward()\n",
    "        dL_dx_i = self.xyz_upstream.grad\n",
    "        \n",
    "        # step 2\n",
    "        # use vertices to compute full backward pass\n",
    "        xyz = self.xyz_upstream.clone().detach()\n",
    "        xyz.requires_grad = True\n",
    "        latent_inputs = latent.expand(xyz.shape[0], -1)\n",
    "        inputs = torch.cat([latent_inputs, xyz], 1).cuda()      #Add .cuda() if you want to run on GPU\n",
    "        #first compute normals\n",
    "        pred_sdf = self.decoder(inputs)\n",
    "        loss_normals = torch.sum(pred_sdf)\n",
    "        loss_normals.backward(retain_graph = True)\n",
    "        normals = xyz.grad/torch.norm(xyz.grad, 2, 1).unsqueeze(-1)\n",
    "                \n",
    "        # step 3\n",
    "        # now assemble inflow derivative\n",
    "        latent.grad.detach_()\n",
    "        latent.grad.zero_()\n",
    "        dL_ds_i_fast = -torch.matmul(dL_dx_i.unsqueeze(1), normals.unsqueeze(-1)).squeeze(-1)\n",
    "        loss_backward = torch.sum(dL_ds_i_fast * pred_sdf)\n",
    "        if l2reg and self.iter % 20 == 0 and self.iter > 0:\n",
    "            self.regl2 = self.regl2/2\n",
    "        if l2reg:\n",
    "            loss_backward += self.regl2 * torch.mean(latent.pow(2))\n",
    "        # Backpropagate\n",
    "        loss_backward.backward()\n",
    "        \n",
    "        return latent.grad\n",
    "\n",
    "class argms:\n",
    "    def __init__(self):\n",
    "        self.experiment_directory = \"example1\"\n",
    "        self.checkpoint = \"latest\"\n",
    "        self.iterations = 400\n",
    "        self.split_filename = \"example1/synth_test.json\"\n",
    "        self.logfile = None\n",
    "        self.debug = False\n",
    "        self.quiet = False\n",
    "args = argms()"
   ]
  },
  {
   "cell_type": "code",
   "execution_count": 5,
   "metadata": {},
   "outputs": [
    {
     "name": "stdout",
     "output_type": "stream",
     "text": [
      "Starting optimization:\n"
     ]
    },
    {
     "data": {
      "text/plain": [
       "57.57914853096008"
      ]
     },
     "execution_count": 5,
     "metadata": {},
     "output_type": "execute_result"
    }
   ],
   "source": [
    "if __name__ == \"__main__\":\n",
    "    \n",
    "    torch.manual_seed(0)\n",
    "    # 0 Initialization\n",
    "    N_MARCHING_CUBE = 64\n",
    "    lr= 8e-3\n",
    "    l2reg= True\n",
    "    regl2 = 1e-3\n",
    "    decreased_by = 1.5\n",
    "    adjust_lr_every = 50\n",
    "    \n",
    "    # 1 prepare data\n",
    "    ## sphere\n",
    "    source_id = 999 # zywvjkvz2492e6xpq4hd1jzy2r9lht        # This will be the source shape (ie starting point)\n",
    "    ## torus\n",
    "    target_id = 2 # 0bucd9ryckhaqtqvbiagilujeqzek4  \n",
    "    latent, latent_target = getLatentSourceAndTarget(args, source_id, target_id)\n",
    "    \n",
    "    # 2 prepare model\n",
    "    decoder = constructDecoder(args)\n",
    "    # 3 prepare optimiser\n",
    "    optimizer = torch.optim.Adam([latent], lr=lr)\n",
    "\n",
    "    losses = []\n",
    "    lambdas = []\n",
    "    \n",
    "\n",
    "    objectiveDe = decoder_obj(latent_target, decoder)\n",
    "\n",
    "    # Use Adam optimizer, with source as starting point, and a loss defined on meshes\n",
    "    # latent is the input of our function\n",
    "    print(\"Starting optimization:\")\n",
    "    start = time.time()\n",
    "    for e in range(int(args.iterations)):\n",
    "        #print(\"latent: \", latent.detach().cpu().numpy())\n",
    "        \n",
    "        loss = objectiveDe.func(latent)\n",
    "        losses.append(loss.detach().cpu().numpy()) \n",
    "        #print(\"loss: \", loss.detach().cpu().numpy())\n",
    "        \n",
    "        grad = objectiveDe.dfunc(latent)\n",
    "        #print(\"latent grad: \", grad.detach().cpu().numpy())\n",
    "\n",
    "        #adjust_learning_rate(lr, optimizer, e, decreased_by, adjust_lr_every)\n",
    "        optimizer.step()\n",
    "        #print(e, \"th iteration\\n\")\n",
    "    end = time.time()\n",
    "end - start"
   ]
  },
  {
   "cell_type": "code",
   "execution_count": 5,
   "metadata": {},
   "outputs": [
    {
     "name": "stdout",
     "output_type": "stream",
     "text": [
      "\n",
      "\n",
      "*******starting optimisation from intitial point:  tensor([-0.3412, -0.4759, -0.1524,  0.0231,  0.1486,  0.3323, -0.1601, -0.1239],\n",
      "       device='cuda:0', grad_fn=<SqueezeBackward0>)\n",
      "total evaluatios = 100\n",
      "gradient at stop position = tensor([[-0.0403,  0.0278, -0.0547, -0.0144, -0.0018, -0.0057,  0.0503,  0.0527]],\n",
      "       device='cuda:0'),\n",
      "modified graident = tensor([[-0.1081,  0.2233, -0.2930, -0.1542, -0.2303, -0.0987,  0.4075,  0.3767]],\n",
      "       device='cuda:0')\n",
      "found minimum position = tensor([[-0.1705, -0.3181,  0.0271, -0.1400, -0.0010,  0.1682, -0.1373,  0.0339]],\n",
      "       device='cuda:0', requires_grad=True), found minimum = 0.23344364762306213\n",
      "Result:  local minimum\n",
      "found minimum: 0.23344361782073975, minimum position: tensor([[-0.1705, -0.3181,  0.0271, -0.1400, -0.0010,  0.1682, -0.1373,  0.0339]],\n",
      "       device='cuda:0'), evals: 100\n",
      "CPU times: user 4min 49s, sys: 21.5 s, total: 5min 11s\n",
      "Wall time: 15.6 s\n"
     ]
    }
   ],
   "source": [
    "torch.manual_seed(0)\n",
    "l2reg= True\n",
    "# 1 prepare data\n",
    "## sphere\n",
    "source_id = 999 # zywvjkvz2492e6xpq4hd1jzy2r9lht        # This will be the source shape (ie starting point)\n",
    "## torus\n",
    "target_id = 2 # 0bucd9ryckhaqtqvbiagilujeqzek4  \n",
    "latent, latent_target = getLatentSourceAndTarget(args, source_id, target_id)\n",
    "\n",
    "# 2 prepare model\n",
    "decoder = constructDecoder(args)\n",
    "\n",
    "# init and setup one experiment\n",
    "exp = single_experiment()\n",
    "# One experiment: setup objective function\n",
    "objectiveDe = decoder_obj(latent_target, decoder)\n",
    "exp.set_objective(objectiveDe)\n",
    "opt = adam(dim=8)\n",
    "optParas = {\n",
    "         'x0': latent,\n",
    "         'alpha': 8e-3,\n",
    "         'beta_1': 0.9, \n",
    "         'beta_2': 0.999, \n",
    "         'epsilon': 1e-11, \n",
    "         'max_iter': 100,\n",
    "         'tol': 1e-6,              \n",
    "         'verbose': True,\n",
    "         'record': True}\n",
    "opt.set_parameters(optParas)\n",
    "exp.set_optimizer(opt)\n",
    "%time stats = exp.do()"
   ]
  },
  {
   "cell_type": "code",
   "execution_count": 91,
   "metadata": {},
   "outputs": [
    {
     "data": {
      "image/png": "[encoded data removed]",
      "text/plain": [
       "<Figure size 576x288 with 2 Axes>"
      ]
     },
     "metadata": {
      "needs_background": "light"
     },
     "output_type": "display_data"
    }
   ],
   "source": [
    "ana = post_analysis_single(stats)\n",
    "ana.plot_distance()"
   ]
  },
  {
   "cell_type": "code",
   "execution_count": 5,
   "metadata": {},
   "outputs": [
    {
     "data": {
      "image/png": "[encoded data removed]",
      "text/plain": [
       "<Figure size 576x288 with 2 Axes>"
      ]
     },
     "metadata": {
      "needs_background": "light"
     },
     "output_type": "display_data"
    }
   ],
   "source": [
    "ana = post_analysis_single(stats)\n",
    "ana.plot_distance()"
   ]
  },
  {
   "cell_type": "code",
   "execution_count": 6,
   "metadata": {},
   "outputs": [
    {
     "data": {
      "text/plain": [
       "(0.0, 0.5)"
      ]
     },
     "execution_count": 6,
     "metadata": {},
     "output_type": "execute_result"
    },
    {
     "data": {
      "image/png": "[encoded data removed]",
      "text/plain": [
       "<Figure size 432x288 with 1 Axes>"
      ]
     },
     "metadata": {
      "needs_background": "light"
     },
     "output_type": "display_data"
    }
   ],
   "source": [
    "plt.plot(losses)\n",
    "plt.ylim([0,0.5])"
   ]
  },
  {
   "cell_type": "code",
   "execution_count": 9,
   "metadata": {},
   "outputs": [
    {
     "data": {
      "text/plain": [
       "(0.0, 0.5)"
      ]
     },
     "execution_count": 9,
     "metadata": {},
     "output_type": "execute_result"
    },
    {
     "data": {
      "image/png": "[encoded data removed]",
      "text/plain": [
       "<Figure size 432x288 with 1 Axes>"
      ]
     },
     "metadata": {
      "needs_background": "light"
     },
     "output_type": "display_data"
    }
   ],
   "source": [
    "plt.plot(stats['val'])\n",
    "plt.ylim([0,0.5])"
   ]
  },
  {
   "cell_type": "code",
   "execution_count": 8,
   "metadata": {},
   "outputs": [],
   "source": [
    "final = torch.tensor(stats['arg'][-1], device=torch.device('cuda:0'))"
   ]
  },
  {
   "cell_type": "code",
   "execution_count": 11,
   "metadata": {},
   "outputs": [
    {
     "data": {
      "text/plain": [
       "tensor([[-0.1705, -0.3181,  0.0271, -0.1400, -0.0010,  0.1682, -0.1373,  0.0339]],\n",
       "       device='cuda:0', requires_grad=True)"
      ]
     },
     "execution_count": 11,
     "metadata": {},
     "output_type": "execute_result"
    }
   ],
   "source": [
    "final.requires_grad_(True)"
   ]
  },
  {
   "cell_type": "code",
   "execution_count": 85,
   "metadata": {},
   "outputs": [],
   "source": [
    "import plyfile\n",
    "def write_verts_faces_to_file(verts, faces, ply_filename_out):\n",
    "\n",
    "    num_verts = verts.shape[0]\n",
    "    num_faces = faces.shape[0]\n",
    "\n",
    "    verts_tuple = np.zeros((num_verts,), dtype=[(\"x\", \"f4\"), (\"y\", \"f4\"), (\"z\", \"f4\")])\n",
    "\n",
    "    for i in range(0, num_verts):\n",
    "        verts_tuple[i] = tuple(verts[i, :])\n",
    "\n",
    "    faces_building = []\n",
    "    for i in range(0, num_faces):\n",
    "        faces_building.append(((faces[i, :].tolist(),)))\n",
    "    faces_tuple = np.array(faces_building, dtype=[(\"vertex_indices\", \"i4\", (3,))])\n",
    "\n",
    "    el_verts = plyfile.PlyElement.describe(verts_tuple, \"vertex\")\n",
    "    el_faces = plyfile.PlyElement.describe(faces_tuple, \"face\")\n",
    "\n",
    "    ply_data = plyfile.PlyData([el_verts, el_faces])\n",
    "    logging.debug(\"saving mesh to %s\" % (ply_filename_out))\n",
    "    ply_data.write(ply_filename_out)"
   ]
  },
  {
   "cell_type": "code",
   "execution_count": 86,
   "metadata": {},
   "outputs": [],
   "source": [
    "N_MARCHING_CUBE = 64\n",
    "verts, faces = mesh.create_mesh_optim(decoder, final, N=N_MARCHING_CUBE, max_batch=int(2 ** 18))\n",
    "write_verts_faces_to_file(verts, faces, \"data/final.ply\")"
   ]
  },
  {
   "cell_type": "code",
   "execution_count": 4,
   "metadata": {},
   "outputs": [],
   "source": [
    "final1 = torch.tensor([[-0.1002, -0.3736,  0.1695,  0.1200,  0.1178,  0.1962,  0.1246, -0.0640]])\n",
    "final2 = torch.tensor([[-0.0935, -0.3092,  0.1673,  0.1764,  0.0734,  0.2136,  0.1456, -0.0942]])"
   ]
  },
  {
   "cell_type": "code",
   "execution_count": 6,
   "metadata": {},
   "outputs": [],
   "source": [
    "source_id = 999 # zywvjkvz2492e6xpq4hd1jzy2r9lht        # This will be the source shape (ie starting point)\n",
    "## torus\n",
    "target_id = 2 # 0bucd9ryckhaqtqvbiagilujeqzek4  \n",
    "latent, latent_target = getLatentSourceAndTarget(args, source_id, target_id)"
   ]
  },
  {
   "cell_type": "code",
   "execution_count": 8,
   "metadata": {},
   "outputs": [
    {
     "data": {
      "text/plain": [
       "tensor(0.0869)"
      ]
     },
     "execution_count": 8,
     "metadata": {},
     "output_type": "execute_result"
    }
   ],
   "source": [
    "torch.norm(final2 - latent_target.cpu())"
   ]
  },
  {
   "cell_type": "code",
   "execution_count": 9,
   "metadata": {},
   "outputs": [
    {
     "data": {
      "text/plain": [
       "tensor(0.1626)"
      ]
     },
     "execution_count": 9,
     "metadata": {},
     "output_type": "execute_result"
    }
   ],
   "source": [
    "torch.norm(final1 - latent_target.cpu())"
   ]
  },
  {
   "cell_type": "code",
   "execution_count": 8,
   "metadata": {},
   "outputs": [
    {
     "data": {
      "text/plain": [
       "tensor([[-0.0562, -0.2882,  0.1230,  0.2264,  0.0941,  0.1983,  0.1402, -0.1180]],\n",
       "       device='cuda:0')"
      ]
     },
     "execution_count": 8,
     "metadata": {},
     "output_type": "execute_result"
    }
   ],
   "source": [
    "latent_target"
   ]
  },
  {
   "cell_type": "code",
   "execution_count": 154,
   "metadata": {},
   "outputs": [
    {
     "data": {
      "text/plain": [
       "tensor([[-0.3412, -0.4759, -0.1524,  0.0231,  0.1486,  0.3323, -0.1601, -0.1239]],\n",
       "       device='cuda:0', requires_grad=True)"
      ]
     },
     "execution_count": 154,
     "metadata": {},
     "output_type": "execute_result"
    }
   ],
   "source": [
    "latent"
   ]
  },
  {
   "cell_type": "code",
   "execution_count": 4,
   "metadata": {},
   "outputs": [
    {
     "data": {
      "text/plain": [
       "0.004978255368769169"
      ]
     },
     "execution_count": 4,
     "metadata": {},
     "output_type": "execute_result"
    }
   ],
   "source": [
    "min(stats['val'])"
   ]
  },
  {
   "cell_type": "code",
   "execution_count": 159,
   "metadata": {},
   "outputs": [
    {
     "data": {
      "text/plain": [
       "array(0.10836774, dtype=float32)"
      ]
     },
     "execution_count": 159,
     "metadata": {},
     "output_type": "execute_result"
    }
   ],
   "source": [
    "min(losses)"
   ]
  },
  {
   "cell_type": "code",
   "execution_count": 160,
   "metadata": {},
   "outputs": [
    {
     "data": {
      "text/plain": [
       "(0.0, 0.5)"
      ]
     },
     "execution_count": 160,
     "metadata": {},
     "output_type": "execute_result"
    },
    {
     "data": {
      "image/png": "[encoded data removed]",
      "text/plain": [
       "<Figure size 432x288 with 1 Axes>"
      ]
     },
     "metadata": {
      "needs_background": "light"
     },
     "output_type": "display_data"
    }
   ],
   "source": [
    "plt.plot(losses)\n",
    "plt.ylim([0,0.5])"
   ]
  },
  {
   "cell_type": "code",
   "execution_count": 6,
   "metadata": {},
   "outputs": [
    {
     "data": {
      "text/plain": [
       "2.0794415416798357"
      ]
     },
     "execution_count": 6,
     "metadata": {},
     "output_type": "execute_result"
    }
   ],
   "source": [
    "np.log(8)"
   ]
  },
  {
   "cell_type": "code",
   "execution_count": 3,
   "metadata": {},
   "outputs": [],
   "source": [
    "class cma_es(adjust_optimizer):\n",
    "    def __init__(self, dim=2):\n",
    "        self.dim = dim\n",
    "        paras = {'x0': torch.zeros((dim,)),\n",
    "                 'std': torch.ones((dim,)) * 3, \n",
    "                 'tol': 1e-5, \n",
    "                 'adjust_func': do_nothing(), \n",
    "                 'record': False, \n",
    "                 'verbose': False}\n",
    "        self.set_parameters(paras)\n",
    "    def set_parameters(self, paras):\n",
    "        self.paras = paras\n",
    "        self.x0 = paras['x0'] \n",
    "        self.std = paras['std']\n",
    "        self.tol = paras['tol']\n",
    "        self.adjust_func = paras['adjust_func']\n",
    "        self.max_iter = 400 if 'max_iter' not in paras.keys() else paras['max_iter']\n",
    "        # set none to use default value \n",
    "        self.cluster_size = None if 'cluster_size' not in paras.keys() else paras['cluster_size']\n",
    "        self.survival_size = None if 'survival_size' not in paras.keys() else paras['survival_size']\n",
    "        self.record = True if 'record' not in paras.keys() else paras['record']\n",
    "        self.verbose = True if 'verbose' not in paras.keys() else paras['verbose']\n",
    "    def optimise(self, obj):\n",
    "        '''\n",
    "        @param obj: objective function class instance\n",
    "        return arg: found minimum arguments\n",
    "               val: found minimum value\n",
    "               stats: collection of recorded statistics for post-analysis\n",
    "        '''                  \n",
    "        def update_mean(x):\n",
    "            return (weights @ x).reshape(dim, 1)\n",
    "        def update_ps(ps, sigma, C, mean, mean_old):\n",
    "            return (1 - cs) * ps + torch.sqrt(cs * (2 - cs) * mueff) * invsqrtC @ (mean - mean_old) / sigma \n",
    "        def update_pc(pc, sigma, ps, mean, mean_old):\n",
    "            hsig = (torch.norm(ps) / torch.sqrt(1 - (1 - cs)**(2 * iter_/lambda_)) / chiN < 1.4 + 2/(dim + 1)).int()\n",
    "            return (1 - cc) * pc + hsig * torch.sqrt(cc * (2 - cc) * mueff) * (mean - mean_old) / sigma\n",
    "        def update_C(C, pc, x, mean_old, sigma):\n",
    "            hsig = (torch.norm(ps) / torch.sqrt(1 - (1 - cs)**(2 * iter_/lambda_)) / chiN < (1.4 + 2/(dim + 1))).int()\n",
    "            artmp = (1 / sigma) * (x - mean_old.reshape(1, dim))\n",
    "            return (1 - c1 - cmu) * C + c1 * (pc * pc.transpose(1,0) + (1 - hsig) * cc * (2 - cc) * C) + cmu * artmp.transpose(1,0) @ torch.diag(weights) @ artmp\n",
    "        def update_sigma(sigma, ps):\n",
    "            return sigma * torch.exp((cs / damps) * (torch.norm(ps)/ chiN - 1))\n",
    "        def is_not_moving(arg, val, pre_arg, pre_val, tol):\n",
    "            dis_arg = torch.norm(arg - pre_arg, dim=1).mean()\n",
    "            dis_val = torch.abs(val - pre_val).mean()\n",
    "            return (dis_arg < tol and dis_val < tol) \n",
    "\n",
    "        if self.verbose:\n",
    "            print(\"\\n\\n*******starting optimisation from intitial mean: \", self.x0.squeeze().detach().cpu().numpy())\n",
    "        # User defined input parameters \n",
    "        dim = self.dim\n",
    "        sigma = 0.3\n",
    "        D = self.std / sigma\n",
    "        mean = self.x0.reshape(dim, 1)\n",
    "        # the size of solutions group\n",
    "        lambda_ = 4 + int(3 * np.log(dim)) if self.cluster_size == None else self.cluster_size  \n",
    "        # only best \"mu\" solutions are used to generate iterations\n",
    "        mu = int(lambda_ / 2) if self.survival_size == None else self.survival_size\n",
    "        # used to combine best \"mu\" solutions                                               \n",
    "        weights = np.log(mu + 1/2) - torch.log(torch.arange(mu, dtype=torch.float) + 1) \n",
    "        weights = (weights / torch.sum(weights)).cuda()   \n",
    "        mueff = 1 / torch.sum(weights**2) \n",
    "\n",
    "        # Strategy parameter setting: Adaptation\n",
    "        # time constant for cumulation for C\n",
    "        cc = (4 + mueff / dim) / (dim + 4 + 2 * mueff / dim)  \n",
    "        # t-const for cumulation for sigma control\n",
    "        cs = (mueff + 2) / (dim + mueff + 5)  \n",
    "        # learning rate for rank-one update of C\n",
    "        c1 = 2 / ((dim + 1.3)**2 + mueff)    \n",
    "        # and for rank-mu update\n",
    "        cmu = min(1 - c1, 2 * (mueff - 2 + 1 / mueff) / ((dim + 2)**2 + mueff))  \n",
    "        # damping for sigma, usually close to 1  \n",
    "        damps = 1 + 2 * max(0, torch.sqrt((mueff - 1)/( dim + 1)) - 1) + cs                                                                 \n",
    "\n",
    "        # Initialize dynamic (internal) strategy parameters and constants\n",
    "        # evolution paths for C and sigma\n",
    "        pc = torch.zeros((dim, 1), device=torch.device('cuda:0'))     \n",
    "        ps = torch.zeros((dim, 1), device=torch.device('cuda:0')) \n",
    "        # B defines the coordinate system\n",
    "        B = torch.eye(int(dim), device=torch.device('cuda:0'))       \n",
    "        # covariance matrix C\n",
    "        C = B * torch.diag(D**2) * B.transpose(1, 0)\n",
    "        # C^-1/2 \n",
    "        invsqrtC = B * torch.diag(D**-1) * B.transpose(1, 0)\n",
    "        # expectation of ||N(0,I)|| == norm(randn(N,1)) \n",
    "        chiN = dim**0.5 * (1 - 1/(4 * dim) + 1 / (21 * dim**2))  \n",
    "\n",
    "        # --------------------  Initialization --------------------------------  \n",
    "        x, x_old, f = torch.zeros((lambda_, dim), device=torch.device('cuda:0')),  \\\n",
    "                        torch.zeros((lambda_, dim), device=torch.device('cuda:0')), \\\n",
    "                        torch.zeros((lambda_,), device=torch.device('cuda:0'))\n",
    "        stats = {}\n",
    "        inner_stats = {}\n",
    "        stats['inner'] = []\n",
    "        stats['val'], stats['arg'] = [], []\n",
    "        stats['x_adjust'] = []\n",
    "        iter_eval, stats['evals_per_iter'] = torch.zeros((lambda_,)), []\n",
    "        inner_stats = [{}] * lambda_\n",
    "        stats['mean'], stats['std'] = [], []\n",
    "        stats['status'] = None\n",
    "        iter_, eval_ = 0, 0\n",
    "        # initial data in record\n",
    "        for i in range(lambda_):\n",
    "            x[i,:] = (mean + 0.1 * torch.randn(dim, 1).cuda()).squeeze()\n",
    "            #f[i] = obj.func(x[i])\n",
    "            f[i] = torch.tensor([10])\n",
    "        idx = torch.argsort(f.detach())\n",
    "        x_ascending = x[idx]\n",
    "        if self.record:\n",
    "            stats['inner'].append(inner_stats.detach().numpy())\n",
    "            stats['arg'].append(x_ascending.detach().numpy())\n",
    "            stats['val'].append(f[idx].detach().numpy())\n",
    "            stats['mean'].append(mean.detach().numpy())\n",
    "            stats['std'].append(sigma * B @ torch.diag(D))\n",
    "            stats['evals_per_iter'].append(torch.ones((lambda_,)).detach().numpy())\n",
    "            stats['x_adjust'].append(np.vstack((x.T.clone().detach().numpy(), x.T.clone().detach().numpy())))\n",
    "        arg = x_ascending\n",
    "        val = f[idx]\n",
    "        pre_arg = x_ascending\n",
    "        pre_val = f[idx]\n",
    "        best_val = 1e4\n",
    "        best_arg = None\n",
    "        \n",
    "        # optimise by iterations\n",
    "        try:\n",
    "            while iter_ < self.max_iter:\n",
    "                iter_ += 1\n",
    "                # generate candidate solutions with some stochastic elements\n",
    "                for i in range(lambda_):\n",
    "                    x[i] = (mean + sigma * B @ torch.diag(D) @ torch.randn(dim, 1).cuda()).squeeze()\n",
    "                    x_old[i] = x[i]\n",
    "                    print(\"candidate: \", x[i])\n",
    "                    x[i], f[i], inner_stats[i] = self.adjust_func.adjust(x[i].detach().requires_grad_(True), obj)\n",
    "                    eval_ += inner_stats[i]['evals']\n",
    "                    iter_eval[i] = inner_stats[i]['evals']\n",
    "                # sort the value and positions of solutions \n",
    "                idx = torch.argsort(f.detach())\n",
    "                x_ascending = x[idx]\n",
    "\n",
    "                # update the parameter for next iteration\n",
    "                mean_old = mean\n",
    "                mean = update_mean(x_ascending[:mu])\n",
    "                ps =   update_ps(ps, sigma, C, mean, mean_old)\n",
    "                pc =   update_pc(pc, sigma, ps, mean, mean_old)\n",
    "                sigma = update_sigma(sigma, ps)\n",
    "                C =    update_C(C, pc, x_ascending[:mu], mean_old, sigma)\n",
    "                C = torch.triu(C) + torch.triu(C, 1).transpose(1,0)\n",
    "                D, B = torch.eig(C, eigenvectors=True)\n",
    "                D = torch.sqrt(D[:,0])\n",
    "                invsqrtC = B @ torch.diag(D**-1) @ B.transpose(1,0)\n",
    "                arg = x_ascending\n",
    "                val = f[idx]\n",
    "                if self.verbose:\n",
    "                    print(\"iter: \", iter_)\n",
    "                    print(\"loss: \", val[0].item())\n",
    "                    print(\"latent: \", x_ascending[0].detach().cpu().numpy())\n",
    "                    #print(\"mean: \", mean)\n",
    "                    #print(\"sigma: \", sigma)\n",
    "                    #print(\"std: \", D)\n",
    "                    print(\"\\n\")\n",
    "                # record data during process for post analysis\n",
    "                if self.record:\n",
    "                    stats['inner'].append(inner_stats.clone().detach().numpy())\n",
    "                    stats['arg'].append(x_ascending.detach().numpy())\n",
    "                    stats['val'].append(f[idx].detach().numpy())\n",
    "                    stats['mean'].append(mean.detach().numpy())\n",
    "                    stats['std'].append((sigma * B @ np.diag(D)).detach().numpy())\n",
    "                    stats['evals_per_iter'].append(iter_eval.clone().detach().numpy())\n",
    "                    stats['x_adjust'].append(np.vstack((x_old.T.clone().detach().numpy(), x.T.clone().detach().numpy())))\n",
    "                # stopping condition  \n",
    "                if best_val > val[0]:\n",
    "                    best_val = val[0]\n",
    "                    best_arg = arg[0]              \n",
    "                # check the stop condition\n",
    "                if torch.max(D) > (torch.min(D) * 1e6):\n",
    "                    stats['status'] = 'diverge'\n",
    "                    print('diverge, concentrate in low dimension manifold')\n",
    "                    break\n",
    "                if is_not_moving(arg, val, pre_arg, pre_val, self.tol) :\n",
    "                    break\n",
    "                pre_arg = arg\n",
    "                pre_val = val\n",
    "        except np.linalg.LinAlgError as err:\n",
    "            stats['status'] = 'diverge'\n",
    "            print('diverge, raise LinAlgError!')\n",
    "        finally:\n",
    "            if self.verbose:\n",
    "                print('eigenvalue of variance = {}'.format(D))\n",
    "                print('total iterations = {}, total evaluatios = {}'.format(iter_, eval_))\n",
    "                print('found minimum position = {}, found minimum = {}'.format(best_arg.detach().numpy(), best_val.detach().numpy()))\n",
    "\n",
    "        # carry statistics info before quit\n",
    "        if self.record:\n",
    "            stats['arg'] = np.array(stats['arg'])\n",
    "            stats['val'] = np.array(stats['val'])\n",
    "            stats['mean'] = np.array(stats['mean'])\n",
    "            stats['std'] = np.array(stats['std'])\n",
    "            stats['evals_per_iter'] = np.array(stats['evals_per_iter'])\n",
    "            stats['x_adjust'] = np.array(stats['x_adjust'])\n",
    "        stats['evals'] = eval_\n",
    "        return best_arg, best_val, stats"
   ]
  },
  {
   "cell_type": "code",
   "execution_count": 73,
   "metadata": {},
   "outputs": [],
   "source": [
    "cl = [[5.0, 2.0], [3.0, 9.0]]"
   ]
  },
  {
   "cell_type": "code",
   "execution_count": 62,
   "metadata": {},
   "outputs": [],
   "source": [
    "C = torch.tensor(cl, device=torch.device('cuda:0')) # "
   ]
  },
  {
   "cell_type": "code",
   "execution_count": 63,
   "metadata": {},
   "outputs": [
    {
     "data": {
      "text/plain": [
       "tensor([[0., 0.],\n",
       "        [2., 0.]], device='cuda:0')"
      ]
     },
     "execution_count": 63,
     "metadata": {},
     "output_type": "execute_result"
    }
   ],
   "source": [
    "torch.triu(C, 1).transpose(1,0)"
   ]
  },
  {
   "cell_type": "code",
   "execution_count": 64,
   "metadata": {},
   "outputs": [],
   "source": [
    "D, B = torch.eig(C, eigenvectors=True)"
   ]
  },
  {
   "cell_type": "code",
   "execution_count": 84,
   "metadata": {},
   "outputs": [
    {
     "data": {
      "text/plain": [
       "tensor([[ 2.7574,  0.0000],\n",
       "        [11.2426,  0.0000]], device='cuda:0')"
      ]
     },
     "execution_count": 84,
     "metadata": {},
     "output_type": "execute_result"
    }
   ],
   "source": []
  },
  {
   "cell_type": "code",
   "execution_count": 50,
   "metadata": {},
   "outputs": [],
   "source": [
    "D, B = torch.eig(C, eigenvectors=True)\n",
    "D = torch.sqrt(D[:,0])\n",
    "#invsqrtC = B @ torch.diag(D**-1) @ B"
   ]
  },
  {
   "cell_type": "code",
   "execution_count": 66,
   "metadata": {},
   "outputs": [
    {
     "data": {
      "text/plain": [
       "tensor([[ 2.2680,  1.8969],\n",
       "        [ 1.8969, 11.7320]], device='cuda:0')"
      ]
     },
     "execution_count": 66,
     "metadata": {},
     "output_type": "execute_result"
    }
   ],
   "source": [
    "B@torch.diag(D[:,0])@B.transpose(1,0)"
   ]
  },
  {
   "cell_type": "code",
   "execution_count": 58,
   "metadata": {},
   "outputs": [
    {
     "data": {
      "text/plain": [
       "tensor([[ 2.1213,  4.9497],\n",
       "        [-4.9497,  7.7782]], device='cuda:0')"
      ]
     },
     "execution_count": 58,
     "metadata": {},
     "output_type": "execute_result"
    }
   ],
   "source": [
    "B@torch.diag(D[:,0])@B"
   ]
  },
  {
   "cell_type": "code",
   "execution_count": 77,
   "metadata": {},
   "outputs": [],
   "source": [
    "CN = np.array(cl)\n",
    "DN, BN, vh = np.linalg.svd(CN)"
   ]
  },
  {
   "cell_type": "code",
   "execution_count": 75,
   "metadata": {},
   "outputs": [
    {
     "data": {
      "text/plain": [
       "array([[4.19512195, 1.75609756],\n",
       "       [1.75609756, 9.80487805]])"
      ]
     },
     "execution_count": 75,
     "metadata": {},
     "output_type": "execute_result"
    }
   ],
   "source": [
    "BN@np.diag(DN)@BN.T"
   ]
  },
  {
   "cell_type": "code",
   "execution_count": 81,
   "metadata": {},
   "outputs": [
    {
     "data": {
      "text/plain": [
       "array([[5., 2.],\n",
       "       [3., 9.]])"
      ]
     },
     "execution_count": 81,
     "metadata": {},
     "output_type": "execute_result"
    }
   ],
   "source": [
    "DN.dot(np.diag(BN)).dot(vh)"
   ]
  },
  {
   "cell_type": "code",
   "execution_count": 87,
   "metadata": {},
   "outputs": [
    {
     "data": {
      "text/plain": [
       "array([0.09785314, 0.26203581])"
      ]
     },
     "execution_count": 87,
     "metadata": {},
     "output_type": "execute_result"
    }
   ],
   "source": [
    "BN**-1"
   ]
  },
  {
   "cell_type": "code",
   "execution_count": null,
   "metadata": {},
   "outputs": [],
   "source": []
  },
  {
   "cell_type": "code",
   "execution_count": 94,
   "metadata": {},
   "outputs": [],
   "source": [
    "torch.manual_seed(0)\n",
    "# 0 Initialization\n",
    "N_MARCHING_CUBE = 64\n",
    "lr= 8e-3\n",
    "l2reg= True\n",
    "regl2 = 1e-3\n",
    "decreased_by = 1.5\n",
    "adjust_lr_every = 50\n",
    "\n",
    "# 1 prepare data\n",
    "## sphere\n",
    "source_id = 999 # zywvjkvz2492e6xpq4hd1jzy2r9lht        # This will be the source shape (ie starting point)\n",
    "## torus\n",
    "target_id = 2 # 0bucd9ryckhaqtqvbiagilujeqzek4  \n",
    "latent, latent_target = getLatentSourceAndTarget(args, source_id, target_id)\n",
    "\n",
    "# 2 prepare model\n",
    "decoder = constructDecoder(args)"
   ]
  },
  {
   "cell_type": "code",
   "execution_count": null,
   "metadata": {},
   "outputs": [],
   "source": [
    "torch.manual_seed(0)\n",
    "l2reg= True\n",
    "# 1 prepare data\n",
    "## sphere\n",
    "source_id = 999 # zywvjkvz2492e6xpq4hd1jzy2r9lht        # This will be the source shape (ie starting point)\n",
    "## torus\n",
    "target_id = 2 # 0bucd9ryckhaqtqvbiagilujeqzek4  \n",
    "latent, latent_target = getLatentSourceAndTarget(args, source_id, target_id)\n",
    "\n",
    "\n",
    "# 2 prepare model\n",
    "decoder = constructDecoder(args)\n",
    "\n",
    "# init and setup one experiment\n",
    "exp = single_experiment()\n",
    "# One experiment: setup objective function\n",
    "objectiveDe = decoder_obj(latent_target, decoder)\n",
    "exp.set_objective(objectiveDe)\n",
    "opt = cma_es(dim=8)\n",
    "optParas ={'x0': latent,\n",
    "           'std': torch.ones((8,), device=torch.device('cuda:0')) * 0.03, \n",
    "           'tol': 1e-3, \n",
    "           'adjust_func': do_nothing(), \n",
    "           'record': False, \n",
    "           'cluster_size': 10,\n",
    "           'verbose': True}\n",
    "opt.set_parameters(optParas)\n",
    "exp.set_optimizer(opt)\n",
    "exp.do()"
   ]
  },
  {
   "cell_type": "code",
   "execution_count": 15,
   "metadata": {},
   "outputs": [],
   "source": [
    "torch.cuda.empty_cache() "
   ]
  },
  {
   "cell_type": "code",
   "execution_count": 16,
   "metadata": {},
   "outputs": [
    {
     "ename": "AttributeError",
     "evalue": "module 'torch.cuda' has no attribute 'memory_summary'",
     "output_type": "error",
     "traceback": [
      "\u001b[0;31m---------------------------------------------------------------------------\u001b[0m",
      "\u001b[0;31mAttributeError\u001b[0m                            Traceback (most recent call last)",
      "\u001b[0;32m<ipython-input-16-a7e933d74b36>\u001b[0m in \u001b[0;36m<module>\u001b[0;34m\u001b[0m\n\u001b[0;32m----> 1\u001b[0;31m \u001b[0mtorch\u001b[0m\u001b[0;34m.\u001b[0m\u001b[0mcuda\u001b[0m\u001b[0;34m.\u001b[0m\u001b[0mmemory_summary\u001b[0m\u001b[0;34m(\u001b[0m\u001b[0mdevice\u001b[0m\u001b[0;34m=\u001b[0m\u001b[0;32mNone\u001b[0m\u001b[0;34m,\u001b[0m \u001b[0mabbreviated\u001b[0m\u001b[0;34m=\u001b[0m\u001b[0;32mFalse\u001b[0m\u001b[0;34m)\u001b[0m\u001b[0;34m\u001b[0m\u001b[0;34m\u001b[0m\u001b[0m\n\u001b[0m",
      "\u001b[0;31mAttributeError\u001b[0m: module 'torch.cuda' has no attribute 'memory_summary'"
     ]
    }
   ],
   "source": [
    "torch.cuda.memory_summary(device=None, abbreviated=False)"
   ]
  },
  {
   "cell_type": "code",
   "execution_count": 7,
   "metadata": {},
   "outputs": [
    {
     "data": {
      "text/plain": [
       "22"
      ]
     },
     "execution_count": 7,
     "metadata": {},
     "output_type": "execute_result"
    }
   ],
   "source": [
    "import gc\n",
    "gc.collect()"
   ]
  },
  {
   "cell_type": "code",
   "execution_count": 12,
   "metadata": {},
   "outputs": [
    {
     "data": {
      "text/plain": [
       "torch.return_types.eig(\n",
       "eigenvalues=tensor([[16.6566,  0.0000],\n",
       "        [ 2.8434,  0.0000]]),\n",
       "eigenvectors=tensor([[ 0.3133, -0.2781],\n",
       "        [ 0.9497,  0.9605]]))"
      ]
     },
     "execution_count": 12,
     "metadata": {},
     "output_type": "execute_result"
    }
   ],
   "source": [
    "torch.eig(a, eigenvectors=True)"
   ]
  },
  {
   "cell_type": "code",
   "execution_count": 10,
   "metadata": {},
   "outputs": [],
   "source": [
    "a = torch.tensor([[10.2, 2.13], [22.3, 9.3]])"
   ]
  },
  {
   "cell_type": "code",
   "execution_count": null,
   "metadata": {},
   "outputs": [],
   "source": []
  }
 ],
 "metadata": {
  "kernelspec": {
   "display_name": "Python 3",
   "language": "python",
   "name": "python3"
  },
  "language_info": {
   "codemirror_mode": {
    "name": "ipython",
    "version": 3
   },
   "file_extension": ".py",
   "mimetype": "text/x-python",
   "name": "python",
   "nbconvert_exporter": "python",
   "pygments_lexer": "ipython3",
   "version": "3.7.7"
  }
 },
 "nbformat": 4,
 "nbformat_minor": 4
}
