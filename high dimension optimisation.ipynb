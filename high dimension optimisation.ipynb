{
 "cells": [
  {
   "cell_type": "code",
   "execution_count": null,
   "metadata": {},
   "outputs": [],
   "source": []
  },
  {
   "cell_type": "code",
   "execution_count": null,
   "metadata": {},
   "outputs": [],
   "source": [
    "class ackley(objective_func):\n",
    "    def __init__(self, dim=2):\n",
    "        self.optimal = np.array([0, 0])\n",
    "        self.optimum = 0\n",
    "        self.lim = 25\n",
    "        self.dim = dim\n",
    "    def func(self, x):\n",
    "        '''\n",
    "        the period of local minimum along each axis is 1, integer coordinate (1,1), (2,3)... \n",
    "        x and y is interchangeable\n",
    "        global minimum is 0 with arguments x=y=0\n",
    "        local minimums far away from orgin are 20\n",
    "        supremum is 20 + e - 1/e = 22.35\n",
    "        symmetric along x=0, y=0, y=x lines\n",
    "        disappearing global gradient when far away from optimal\n",
    "        '''\n",
    "        arg1 = -0.2 * np.sqrt(np.power(x, 2).mean())\n",
    "        arg2 = np.cos(2*np.pi*x).mean()\n",
    "        return -20. * np.exp(arg1) - np.exp(arg2) + 20. + np.e\n",
    "    def dfunc(self, x):\n",
    "        if np.linalg.norm(x) == 0:\n",
    "            return x\n",
    "        arg1 = -0.2 * np.sqrt(np.power(x, 2).mean())\n",
    "        arg2 = np.cos(2*np.pi*x).mean()\n",
    "        g = lambda xx: -0.8 * xx / arg1 * np.exp(arg1) / self.dim + 2 * np.pi * np.sin(2 * np.pi * xx) * np.exp(arg2) / self.dim\n",
    "        return g(x)\n",
    "    def get_optimal(self):\n",
    "        return self.optimal\n",
    "    def get_optimum(self):\n",
    "        return self.optimum\n",
    "a = ackley()\n",
    "print(\"check func value: expected:\", a.get_optimum(), \", actual:\", a.func(a.get_optimal()))\n",
    "print(\"check gradient: expected:[0,0], actual:\",a.dfunc(a.get_optimal()))"
   ]
  }
 ],
 "metadata": {
  "kernelspec": {
   "display_name": "Python [conda env:miniconda3-ada] *",
   "language": "python",
   "name": "conda-env-miniconda3-ada-py"
  },
  "language_info": {
   "codemirror_mode": {
    "name": "ipython",
    "version": 3
   },
   "file_extension": ".py",
   "mimetype": "text/x-python",
   "name": "python",
   "nbconvert_exporter": "python",
   "pygments_lexer": "ipython3",
   "version": "3.7.4"
  }
 },
 "nbformat": 4,
 "nbformat_minor": 4
}
