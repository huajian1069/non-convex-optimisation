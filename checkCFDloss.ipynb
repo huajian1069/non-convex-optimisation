{
 "cells": [
  {
   "cell_type": "code",
   "execution_count": 1,
   "metadata": {
    "colab": {},
    "colab_type": "code",
    "id": "-wgCgJ6AieVb"
   },
   "outputs": [],
   "source": [
    "import os\n",
    "import sys\n",
    "import time\n",
    "import numpy as np\n",
    "import math\n",
    "import json\n",
    "import torch\n",
    "import torch.nn as nn\n",
    "import torch.nn.functional as F\n",
    "import skimage.measure\n",
    "import plyfile\n",
    "from plyfile import PlyData\n",
    "from sklearn.neighbors import KDTree\n",
    "import matplotlib as mpl\n",
    "import matplotlib.cm as cm\n",
    "import matplotlib.pyplot as plt\n",
    "import trimesh\n",
    "#from library.cfd_objective import *"
   ]
  },
  {
   "cell_type": "code",
   "execution_count": 2,
   "metadata": {
    "colab": {
     "base_uri": "https://localhost:8080/",
     "height": 51
    },
    "colab_type": "code",
    "id": "DtBoNNSMieVi",
    "outputId": "86d328bb-69b8-4e45-baf7-d2e03557e517"
   },
   "outputs": [
    {
     "name": "stdout",
     "output_type": "stream",
     "text": [
      "1.1.0\n"
     ]
    },
    {
     "data": {
      "text/plain": [
       "True"
      ]
     },
     "execution_count": 2,
     "metadata": {},
     "output_type": "execute_result"
    }
   ],
   "source": [
    "print(torch.__version__)\n",
    "torch.cuda.is_available()"
   ]
  },
  {
   "cell_type": "code",
   "execution_count": 3,
   "metadata": {
    "colab": {
     "base_uri": "https://localhost:8080/",
     "height": 85
    },
    "colab_type": "code",
    "id": "f6JlQ7MWzsDx",
    "outputId": "ce243b5e-97f2-4d59-f35e-3a4a7fa026eb"
   },
   "outputs": [
    {
     "name": "stdout",
     "output_type": "stream",
     "text": [
      "nvcc: NVIDIA (R) Cuda compiler driver\n",
      "Copyright (c) 2005-2017 NVIDIA Corporation\n",
      "Built on Fri_Nov__3_21:07:56_CDT_2017\n",
      "Cuda compilation tools, release 9.1, V9.1.85\n"
     ]
    }
   ],
   "source": [
    "! nvcc --version"
   ]
  },
  {
   "cell_type": "code",
   "execution_count": 25,
   "metadata": {
    "colab": {
     "base_uri": "https://localhost:8080/",
     "height": 357
    },
    "colab_type": "code",
    "id": "3oINuP6Sz5B8",
    "outputId": "05dae263-cb5f-4e55-9d75-27d49680e9f5"
   },
   "outputs": [
    {
     "name": "stdout",
     "output_type": "stream",
     "text": [
      "Mon Aug 10 22:41:57 2020       \n",
      "+-----------------------------------------------------------------------------+\n",
      "| NVIDIA-SMI 440.48.02    Driver Version: 440.48.02    CUDA Version: 10.2     |\n",
      "|-------------------------------+----------------------+----------------------+\n",
      "| GPU  Name        Persistence-M| Bus-Id        Disp.A | Volatile Uncorr. ECC |\n",
      "| Fan  Temp  Perf  Pwr:Usage/Cap|         Memory-Usage | GPU-Util  Compute M. |\n",
      "|===============================+======================+======================|\n",
      "|   0  TITAN X (Pascal)    Off  | 00000000:04:00.0 Off |                  N/A |\n",
      "| 24%   39C    P2    54W / 250W |   3347MiB / 12196MiB |      0%      Default |\n",
      "+-------------------------------+----------------------+----------------------+\n",
      "|   1  TITAN X (Pascal)    Off  | 00000000:05:00.0 Off |                  N/A |\n",
      "| 23%   24C    P8     8W / 250W |  11875MiB / 12196MiB |      0%      Default |\n",
      "+-------------------------------+----------------------+----------------------+\n",
      "|   2  TITAN X (Pascal)    Off  | 00000000:84:00.0 Off |                  N/A |\n",
      "| 23%   25C    P8     9W / 250W |     10MiB / 12196MiB |      0%      Default |\n",
      "+-------------------------------+----------------------+----------------------+\n",
      "|   3  TITAN X (Pascal)    Off  | 00000000:85:00.0 Off |                  N/A |\n",
      "| 23%   41C    P2    53W / 250W |   6425MiB / 12196MiB |      0%      Default |\n",
      "+-------------------------------+----------------------+----------------------+\n",
      "                                                                               \n",
      "+-----------------------------------------------------------------------------+\n",
      "| Processes:                                                       GPU Memory |\n",
      "|  GPU       PID   Type   Process name                             Usage      |\n",
      "|=============================================================================|\n",
      "|    0      3561      C   ...e/anaconda3/envs/envpython36/bin/python   767MiB |\n",
      "|    0      5479      C   ...e/anaconda3/envs/envpython36/bin/python  1765MiB |\n",
      "|    0     25957      C   .../qiu/miniconda3/envs/meshSDF/bin/python   803MiB |\n",
      "|    1     17340      C   .../envs/uncertainty_estimation/bin/python 11865MiB |\n",
      "|    3       933      C   ...ydov/miniconda3/envs/env_cv2/bin/python  5007MiB |\n",
      "|    3     38149      C   ...ydov/miniconda3/envs/env_cv2/bin/python   523MiB |\n",
      "|    3     44841      C   python                                       885MiB |\n",
      "+-----------------------------------------------------------------------------+\n"
     ]
    }
   ],
   "source": [
    "! nvidia-smi"
   ]
  },
  {
   "cell_type": "code",
   "execution_count": null,
   "metadata": {
    "colab": {},
    "colab_type": "code",
    "id": "Zuy6igvMnjMZ"
   },
   "outputs": [],
   "source": [
    "! mkdir networks\n",
    "! mv ../deep_sdf_decoder.py networks/"
   ]
  },
  {
   "cell_type": "code",
   "execution_count": 3,
   "metadata": {
    "colab": {},
    "colab_type": "code",
    "id": "5vlOE0_iieV8"
   },
   "outputs": [],
   "source": [
    "def load_latent_vectors(experiment_directory, checkpoint):\n",
    "\n",
    "    filename = os.path.join(\n",
    "        experiment_directory, checkpoint + \".pth\"\n",
    "    )\n",
    "    if not os.path.isfile(filename):\n",
    "        raise Exception(\n",
    "            \"The experiment directory ({}) does not include a latent code file\"\n",
    "            + \" for checkpoint '{}'\".format(experiment_directory, checkpoint)\n",
    "        )\n",
    "    data = torch.load(filename)\n",
    "    return data[\"latent_codes\"].cuda()\n",
    "\n",
    "def load_model(experiment_directory, checkpoint):\n",
    "    specs_filename = os.path.join(experiment_directory, \"specs.json\")\n",
    "\n",
    "    if not os.path.isfile(specs_filename):\n",
    "        raise Exception(\n",
    "            'The experiment directory does not include specifications file \"specs.json\"'\n",
    "        )\n",
    "\n",
    "    specs = json.load(open(specs_filename))\n",
    "\n",
    "    arch = __import__(\"networks.\" + specs[\"NetworkArch\"], fromlist=[\"Decoder\"])\n",
    "\n",
    "    latent_size = specs[\"CodeLength\"]\n",
    "\n",
    "    decoder = arch.Decoder(latent_size, **specs[\"NetworkSpecs\"])\n",
    "\n",
    "    decoder = torch.nn.DataParallel(decoder)\n",
    "\n",
    "    saved_model_state = torch.load(\n",
    "        os.path.join(experiment_directory, checkpoint + \".pth\")\n",
    "    )\n",
    "\n",
    "    decoder.load_state_dict(saved_model_state[\"model_state_dict\"])\n",
    "\n",
    "    decoder = decoder.module.cuda()\n",
    "\n",
    "    decoder.eval()\n",
    "    \n",
    "    return decoder\n",
    "\n"
   ]
  },
  {
   "cell_type": "code",
   "execution_count": 4,
   "metadata": {},
   "outputs": [],
   "source": [
    "def create_mesh(\n",
    "    decoder, latent_vec, filename='', N=256, max_batch=32 ** 3, offset=None, scale=None\n",
    "):\n",
    "    ply_filename = filename\n",
    "\n",
    "    decoder.eval()\n",
    "\n",
    "    # NOTE: the voxel_origin is actually the (bottom, left, down) corner, not the middle\n",
    "    voxel_origin = [-1, -1, -1]\n",
    "    voxel_size = 2.0 / (N - 1)\n",
    "\n",
    "    overall_index = torch.arange(0, N ** 3, 1, out=torch.LongTensor())\n",
    "    samples = torch.zeros(N ** 3, 4)\n",
    "\n",
    "    # transform first 3 columns\n",
    "    # to be the x, y, z index\n",
    "    samples[:, 2] = overall_index % N\n",
    "    samples[:, 1] = (overall_index.long() // N) % N\n",
    "    samples[:, 0] = ((overall_index.long() // N) // N) % N\n",
    "\n",
    "    # transform first 3 columns\n",
    "    # to be the x, y, z coordinate\n",
    "    samples[:, 0] = (samples[:, 0] * voxel_size) + voxel_origin[2]\n",
    "    samples[:, 1] = (samples[:, 1] * voxel_size) + voxel_origin[1]\n",
    "    samples[:, 2] = (samples[:, 2] * voxel_size) + voxel_origin[0]\n",
    "\n",
    "    num_samples = N ** 3\n",
    "\n",
    "    samples.requires_grad = False\n",
    "    head = 0\n",
    "\n",
    "    while head < num_samples:\n",
    "        sample_subset = samples[head : min(head + max_batch, num_samples), 0:3].cuda()\n",
    "        num_subsample = min(max_batch, num_samples-head)\n",
    "        latent_repeat = latent_vec.expand(num_subsample, -1)\n",
    "        inputs = torch.cat([latent_repeat, sample_subset], 1)\n",
    "        samples[head : min(head + max_batch, num_samples), 3] = \\\n",
    "                decoder(inputs).squeeze(1).detach().cpu()\n",
    "        head += max_batch\n",
    "        \n",
    "    sdf_values = samples[:, 3].reshape(N, N, N).data.cpu()\n",
    "\n",
    "    return convert_sdf_samples_to_ply(\n",
    "        sdf_values,\n",
    "        voxel_origin,\n",
    "        voxel_size,\n",
    "        ply_filename + \".ply\",\n",
    "        offset,\n",
    "        scale,\n",
    "    )\n",
    "\n",
    "def convert_sdf_samples_to_ply(\n",
    "    pytorch_3d_sdf_tensor,\n",
    "    voxel_grid_origin,\n",
    "    voxel_size,\n",
    "    ply_filename_out,\n",
    "    offset=None,\n",
    "    scale=None,\n",
    "):\n",
    "    \"\"\"\n",
    "    Convert sdf samples to .ply\n",
    "\n",
    "    :param pytorch_3d_sdf_tensor: a torch.FloatTensor of shape (n,n,n)\n",
    "    :voxel_grid_origin: a list of three floats: the bottom, left, down origin of the voxel grid\n",
    "    :voxel_size: float, the size of the voxels\n",
    "    :ply_filename_out: string, path of the filename to save to\n",
    "\n",
    "    This function adapted from: https://github.com/RobotLocomotion/spartan\n",
    "    \"\"\"\n",
    "\n",
    "    numpy_3d_sdf_tensor = pytorch_3d_sdf_tensor.numpy()\n",
    "\n",
    "    verts, faces, normals, values = skimage.measure.marching_cubes_lewiner(\n",
    "        numpy_3d_sdf_tensor, level=0.0, spacing=[voxel_size] * 3\n",
    "    )\n",
    "\n",
    "    # transform from voxel coordinates to camera coordinates\n",
    "    # note x and y are flipped in the output of marching_cubes\n",
    "    mesh_points = np.zeros_like(verts)\n",
    "    mesh_points[:, 0] = voxel_grid_origin[0] + verts[:, 0]\n",
    "    mesh_points[:, 1] = voxel_grid_origin[1] + verts[:, 1]\n",
    "    mesh_points[:, 2] = voxel_grid_origin[2] + verts[:, 2]\n",
    "\n",
    "    # apply additional offset and scale\n",
    "    if scale is not None:\n",
    "        mesh_points = mesh_points / scale\n",
    "    if offset is not None:\n",
    "        mesh_points = mesh_points - offset\n",
    "\n",
    "    # try writing to the ply file\n",
    "\n",
    "    num_verts = verts.shape[0]\n",
    "    num_faces = faces.shape[0]\n",
    "\n",
    "    verts_tuple = np.zeros((num_verts,), dtype=[(\"x\", \"f4\"), (\"y\", \"f4\"), (\"z\", \"f4\")])\n",
    "    norms_tuple = np.zeros((num_verts,), dtype=[(\"x\", \"f4\"), (\"y\", \"f4\"), (\"z\", \"f4\")])\n",
    "\n",
    "    for i in range(0, num_verts):\n",
    "        verts_tuple[i] = tuple(mesh_points[i, :])\n",
    "        norms_tuple[i] = tuple(normals[i, :])\n",
    "\n",
    "    faces_building = []\n",
    "    for i in range(0, num_faces):\n",
    "        faces_building.append(((faces[i, :].tolist(),)))\n",
    "    faces_tuple = np.array(faces_building, dtype=[(\"vertex_indices\", \"i4\", (3,))])\n",
    "\n",
    "    el_verts = plyfile.PlyElement.describe(verts_tuple, \"vertex\")\n",
    "    el_faces = plyfile.PlyElement.describe(faces_tuple, \"face\")\n",
    "    el_norms = plyfile.PlyElement.describe(norms_tuple, \"normals\")\n",
    "\n",
    "    ply_data = plyfile.PlyData([el_verts, el_faces, el_norms])\n",
    "    return ply_data"
   ]
  },
  {
   "cell_type": "code",
   "execution_count": 5,
   "metadata": {},
   "outputs": [],
   "source": [
    "def transformPoints(points, AvgTransform):\n",
    "    matrix = torch.cuda.FloatTensor(AvgTransform)\n",
    "    column = torch.ones((len(points), 1), device=\"cuda:0\") \n",
    "    stacked = torch.cat([points, column], dim=1)\n",
    "    transformed = torch.matmul(matrix, stacked.t()).t()[:, :3]\n",
    "    return transformed\n",
    "\n",
    "def transform_mesh(points, ply_mesh, AvgTransform):\n",
    "    #transformed_points = transformPoints(points, AvgTransform)\n",
    "    #print(transformed_points.shape)\n",
    "    edges = trimesh.geometry.faces_to_edges(ply_mesh['face']['vertex_indices'])\n",
    "    np_points = points.cpu().detach().numpy()\n",
    "    edge_attr = [np_points[a] - np_points[b] for a, b in edges]\n",
    "    mesh = {'x': points, \n",
    "        'face': ply_mesh['face']['vertex_indices']\n",
    "        }\n",
    "    return mesh"
   ]
  },
  {
   "cell_type": "code",
   "execution_count": 6,
   "metadata": {
    "colab": {},
    "colab_type": "code",
    "id": "-JM2oaapieWC"
   },
   "outputs": [],
   "source": [
    "def compute_lift_faces_diff(mesh, preds):\n",
    "    #pressure = preds[mesh['face'], 0].mean(dim=1)\n",
    "\n",
    "    # TODO: cahnge to x if needed\n",
    "    pos = mesh['x']\n",
    "    cross_prod = (pos[mesh['face'][:,1]] - pos[mesh['face'][:,0]]).cross( \n",
    "                  pos[mesh['face'][:,2]] - pos[mesh['face'][:,0]])\n",
    "    area = -cross_prod / 2\n",
    "    #lift = torch.mul(pressure, area)\n",
    "    lift = area\n",
    "    return torch.sum(lift[~torch.isnan(lift)]), area"
   ]
  },
  {
   "cell_type": "code",
   "execution_count": 9,
   "metadata": {},
   "outputs": [
    {
     "name": "stderr",
     "output_type": "stream",
     "text": [
      "/home/qiu/miniconda3/envs/meshSDF/lib/python3.7/site-packages/torch/distributed/distributed_c10d.py:125: UserWarning: torch.distributed.reduce_op is deprecated, please use torch.distributed.ReduceOp instead\n",
      "  warnings.warn(\"torch.distributed.reduce_op is deprecated, please use \"\n"
     ]
    }
   ],
   "source": [
    "import torch\n",
    "import gc\n",
    "for obj in gc.get_objects():\n",
    "    try:\n",
    "        if torch.is_tensor(obj) or (hasattr(obj, 'data') and torch.is_tensor(obj.data)):\n",
    "            print(type(obj), obj.size())\n",
    "    except:\n",
    "        pass"
   ]
  },
  {
   "cell_type": "markdown",
   "metadata": {
    "colab": {},
    "colab_type": "code",
    "id": "zw1U5NI-ieWJ"
   },
   "source": [
    "## initilisation"
   ]
  },
  {
   "cell_type": "code",
   "execution_count": 7,
   "metadata": {
    "colab": {},
    "colab_type": "code",
    "id": "OwDmuXRZieWL"
   },
   "outputs": [],
   "source": [
    "DIR_for_dump_data = './starting_data'\n",
    "experiment_directory = DIR_for_dump_data\n",
    "\n",
    "\n",
    "\n",
    "decoder = load_model(experiment_directory, \"decoderModel\")\n",
    "latent_vectors = load_latent_vectors(experiment_directory, \"latentCodes\")\n",
    "latent_vectors = latent_vectors.detach()\n",
    "\n",
    "LATENT_TO_OPTIMIZE = latent_vectors[32]\n",
    "LATENT_KD_TREE = KDTree(np.array([lv.cpu().detach().numpy()[0] for lv in latent_vectors]))\n",
    "AvgTransform = np.load(DIR_for_dump_data + \"/avg_trans_matrix.npy\") #computeAvgTransform()\n"
   ]
  },
  {
   "cell_type": "markdown",
   "metadata": {},
   "source": [
    "## check sum of directed surface area is zero"
   ]
  },
  {
   "cell_type": "code",
   "execution_count": 8,
   "metadata": {},
   "outputs": [],
   "source": [
    "field = np.load(\"Expirements/OptimizationPaper/predictions/00001.npy\", allow_pickle=True)\n",
    "field = torch.tensor(field).cuda()\n",
    "\n",
    "initial_la = latent_vectors[32]\n",
    "ply_mesh = create_mesh(decoder,\n",
    "                        initial_la,\n",
    "                        N=128,\n",
    "                        max_batch=int(2 ** 12))\n",
    "\n",
    "points = torch.tensor(np.hstack(( ply_mesh['vertex']['x'][:, None], \n",
    "                                            ply_mesh['vertex']['y'][:, None], \n",
    "                                            ply_mesh['vertex']['z'][:, None]))).cuda()\n",
    "mesh_dic = {'x': points, \n",
    "            'face': ply_mesh['face']['vertex_indices']}"
   ]
  },
  {
   "cell_type": "code",
   "execution_count": 9,
   "metadata": {},
   "outputs": [
    {
     "name": "stdout",
     "output_type": "stream",
     "text": [
      "torch.Size([99888, 4])\n",
      "(48928, 3)\n",
      "torch.Size([24458, 3])\n"
     ]
    }
   ],
   "source": [
    "print(field.shape)\n",
    "print(mesh_dic['face'].shape)\n",
    "print(mesh_dic['x'].shape)"
   ]
  },
  {
   "cell_type": "code",
   "execution_count": 10,
   "metadata": {
    "colab": {},
    "colab_type": "code",
    "id": "-I_hhsIwieWF"
   },
   "outputs": [
    {
     "data": {
      "text/plain": [
       "tensor([ 1.0186e-09, -4.8894e-09, -2.7940e-09], device='cuda:0')"
      ]
     },
     "execution_count": 10,
     "metadata": {},
     "output_type": "execute_result"
    }
   ],
   "source": [
    "cross_prod = (points[mesh_dic['face'][:,1]] - points[mesh_dic['face'][:,0]]).cross( \n",
    "              points[mesh_dic['face'][:,2]] - points[mesh_dic['face'][:,0]])\n",
    "area_full = -cross_prod / 2\n",
    "area_full.sum(dim=0)"
   ]
  },
  {
   "cell_type": "code",
   "execution_count": 11,
   "metadata": {},
   "outputs": [
    {
     "data": {
      "text/plain": [
       "tensor([ 0.5345,  0.4560, -0.0141], device='cuda:0')"
      ]
     },
     "execution_count": 11,
     "metadata": {},
     "output_type": "execute_result"
    }
   ],
   "source": [
    "area_full[area_full[:,0]>0].sum(dim=0)"
   ]
  },
  {
   "cell_type": "code",
   "execution_count": 12,
   "metadata": {},
   "outputs": [
    {
     "data": {
      "text/plain": [
       "tensor(5.0062, device='cuda:0')"
      ]
     },
     "execution_count": 12,
     "metadata": {},
     "output_type": "execute_result"
    }
   ],
   "source": [
    "area_full.norm(dim=1).sum()"
   ]
  },
  {
   "cell_type": "markdown",
   "metadata": {},
   "source": [
    "## check directed and undirected surface area uncharge w.r.t. resolution"
   ]
  },
  {
   "cell_type": "code",
   "execution_count": 17,
   "metadata": {},
   "outputs": [
    {
     "name": "stdout",
     "output_type": "stream",
     "text": [
      "N=8, s=3.177701\n",
      "directed area = tensor([ 1.1176e-08, -1.8626e-08, -1.4901e-08], device='cuda:0') \n",
      "\n",
      "N=16, s=4.142625\n",
      "directed area = tensor([0.0000e+00, 1.8626e-09, 2.9802e-08], device='cuda:0') \n",
      "\n",
      "N=32, s=4.642710\n",
      "directed area = tensor([-2.3283e-09, -4.6566e-09,  0.0000e+00], device='cuda:0') \n",
      "\n",
      "N=64, s=4.909176\n",
      "directed area = tensor([2.7940e-09, 2.7008e-08, 7.4506e-09], device='cuda:0') \n",
      "\n",
      "N=128, s=5.006247\n",
      "directed area = tensor([ 2.4156e-09, -4.1910e-09, -1.8626e-09], device='cuda:0') \n",
      "\n",
      "N=200, s=5.027665\n",
      "directed area = tensor([ 2.7940e-09,  7.4506e-09, -4.6566e-10], device='cuda:0') \n",
      "\n",
      "N=256, s=5.034421\n",
      "directed area = tensor([ 9.3132e-10,  3.7253e-09, -2.1828e-10], device='cuda:0') \n",
      "\n"
     ]
    }
   ],
   "source": [
    "for n in [8, 16, 32, 64, 128, 200, 256]:\n",
    "\n",
    "    ply_mesh = create_mesh(decoder,\n",
    "                            initial_la,\n",
    "                            N=n,\n",
    "                            max_batch=int(2 ** 10))\n",
    "    points = torch.tensor(np.hstack(( ply_mesh['vertex']['x'][:, None], \n",
    "                                            ply_mesh['vertex']['y'][:, None], \n",
    "                                            ply_mesh['vertex']['z'][:, None]))).cuda()\n",
    "    mesh_dic = {'x': points, \n",
    "                'face': ply_mesh['face']['vertex_indices']}\n",
    "    cross_prod = (points[mesh_dic['face'][:,1]] - points[mesh_dic['face'][:,0]]).cross( \n",
    "              points[mesh_dic['face'][:,2]] - points[mesh_dic['face'][:,0]])\n",
    "    area = -cross_prod / 2\n",
    "    print(\"N=%d, s=%f\"%(n, area.norm(dim=1).sum()))\n",
    "    print(\"directed area = {} \\n\".format(area.sum(dim=0)))\n",
    "    "
   ]
  },
  {
   "cell_type": "code",
   "execution_count": null,
   "metadata": {},
   "outputs": [],
   "source": []
  },
  {
   "cell_type": "markdown",
   "metadata": {},
   "source": [
    "### show front faces"
   ]
  },
  {
   "cell_type": "code",
   "execution_count": 13,
   "metadata": {},
   "outputs": [],
   "source": [
    "mixed_face = (points[mesh_dic['face'][:,0]] + points[mesh_dic['face'][:,1]] + points[mesh_dic['face'][:,2]])/3\n",
    "mixed_array = mixed_face.cpu().numpy()\n",
    "front_half_faces_indices = np.array(np.where(mixed_array[:,0]>0))\n",
    "front_half_faces_vertices_indices = mesh_dic['face'][front_half_faces_indices]\n",
    "\n",
    "front0 = front_half_faces_vertices_indices[0, :, 0]\n",
    "front1 = front_half_faces_vertices_indices[0, :, 1]\n",
    "front2 = front_half_faces_vertices_indices[0, :, 2]\n",
    "front = np.array(list(set(front0).union(set(front1)).union(set(front2))))"
   ]
  },
  {
   "cell_type": "code",
   "execution_count": 31,
   "metadata": {},
   "outputs": [],
   "source": [
    "#mixed_array[front_half_faces_indices]"
   ]
  },
  {
   "cell_type": "code",
   "execution_count": 22,
   "metadata": {},
   "outputs": [
    {
     "data": {
      "text/plain": [
       "tensor([-3.3219e-01, -2.9104e-09,  9.3132e-10], device='cuda:0')"
      ]
     },
     "execution_count": 22,
     "metadata": {},
     "output_type": "execute_result"
    }
   ],
   "source": [
    "# this is the pressure on front half of car\n",
    "area_full[front_half_faces_indices].sum(dim=0)"
   ]
  },
  {
   "cell_type": "code",
   "execution_count": 21,
   "metadata": {},
   "outputs": [
    {
     "data": {
      "text/plain": [
       "tensor([ 1.0186e-09, -4.8894e-09, -2.7940e-09], device='cuda:0')"
      ]
     },
     "execution_count": 21,
     "metadata": {},
     "output_type": "execute_result"
    }
   ],
   "source": [
    "area_full.sum(dim=0)"
   ]
  },
  {
   "cell_type": "code",
   "execution_count": 26,
   "metadata": {},
   "outputs": [],
   "source": [
    "color = np.zeros(points.shape[0])\n",
    "color[front] = 1\n",
    "color = color * 8 - 4"
   ]
  },
  {
   "cell_type": "code",
   "execution_count": 24,
   "metadata": {},
   "outputs": [],
   "source": [
    "def get_trimesh_from_torch_geo_with_colors(mesh, color, vmin=-8, vmax=8):\n",
    "    norm = mpl.colors.Normalize(vmin= vmin, vmax=vmax)\n",
    "    cmap = cm.hot\n",
    "    m = cm.ScalarMappable(norm=norm, cmap=cmap)\n",
    "    \n",
    "    verticies = mesh['x'].cpu().detach()\n",
    "    faces = mesh['face']\n",
    "    return trimesh.Trimesh(vertices=verticies, faces=faces, \n",
    "                           vertex_colors=list(map(lambda c: m.to_rgba(c), color)))"
   ]
  },
  {
   "cell_type": "code",
   "execution_count": 28,
   "metadata": {},
   "outputs": [],
   "source": [
    "#tri_mesh = get_trimesh_from_torch_geo_with_colors(mesh_dic, color)\n",
    "#tri_mesh.show()"
   ]
  },
  {
   "cell_type": "markdown",
   "metadata": {},
   "source": [
    "### faces toward back "
   ]
  },
  {
   "cell_type": "code",
   "execution_count": 37,
   "metadata": {},
   "outputs": [
    {
     "data": {
      "text/plain": [
       "(24579, 3)"
      ]
     },
     "execution_count": 37,
     "metadata": {},
     "output_type": "execute_result"
    }
   ],
   "source": [
    "backward_faces_vertices_indices.shape"
   ]
  },
  {
   "cell_type": "code",
   "execution_count": 38,
   "metadata": {},
   "outputs": [],
   "source": [
    "backward_faces_indices = np.where(area_full.cpu().numpy()[:,0]<0)[0]\n",
    "backward_faces_vertices_indices = mesh_dic['face'][backward_faces_indices]\n",
    "\n",
    "back0 = backward_faces_vertices_indices[:, 0]\n",
    "back1 = backward_faces_vertices_indices[:, 1]\n",
    "back2 = backward_faces_vertices_indices[:, 2]\n",
    "back = np.array(list(set(back0).union(set(back1)).union(set(back2))))"
   ]
  },
  {
   "cell_type": "code",
   "execution_count": 40,
   "metadata": {},
   "outputs": [],
   "source": [
    "colorB = np.zeros(points.shape[0])\n",
    "colorB[back] = 1\n",
    "colorB = colorB * 8 - 4"
   ]
  },
  {
   "cell_type": "code",
   "execution_count": 39,
   "metadata": {},
   "outputs": [
    {
     "data": {
      "text/plain": [
       "tensor([-0.5345, -0.4561,  0.0141], device='cuda:0')"
      ]
     },
     "execution_count": 39,
     "metadata": {},
     "output_type": "execute_result"
    }
   ],
   "source": [
    "# this is the pressure on front half of car\n",
    "area_full[backward_faces_indices].sum(dim=0)"
   ]
  },
  {
   "cell_type": "code",
   "execution_count": 42,
   "metadata": {},
   "outputs": [],
   "source": [
    "#tri_meshB = get_trimesh_from_torch_geo_with_colors(mesh_dic, colorB)\n",
    "#tri_meshB.show()"
   ]
  },
  {
   "cell_type": "markdown",
   "metadata": {},
   "source": [
    "### statistics of pressure "
   ]
  },
  {
   "cell_type": "code",
   "execution_count": 63,
   "metadata": {},
   "outputs": [],
   "source": [
    "#mesh_dic['face']"
   ]
  },
  {
   "cell_type": "code",
   "execution_count": 64,
   "metadata": {},
   "outputs": [],
   "source": [
    "#points"
   ]
  },
  {
   "cell_type": "code",
   "execution_count": 66,
   "metadata": {},
   "outputs": [],
   "source": [
    "#np.where(field[:,0].cpu().numpy() < 0)"
   ]
  },
  {
   "cell_type": "code",
   "execution_count": 65,
   "metadata": {},
   "outputs": [],
   "source": [
    "#np.where(field[:,0].cpu().numpy() > 0)"
   ]
  },
  {
   "cell_type": "code",
   "execution_count": 56,
   "metadata": {},
   "outputs": [
    {
     "data": {
      "text/plain": [
       "tensor(-0.1928, device='cuda:0')"
      ]
     },
     "execution_count": 56,
     "metadata": {},
     "output_type": "execute_result"
    }
   ],
   "source": [
    "field[:int(99888/2), 0].mean()"
   ]
  },
  {
   "cell_type": "code",
   "execution_count": 55,
   "metadata": {},
   "outputs": [
    {
     "data": {
      "text/plain": [
       "tensor(-0.1089, device='cuda:0')"
      ]
     },
     "execution_count": 55,
     "metadata": {},
     "output_type": "execute_result"
    }
   ],
   "source": [
    "field[int(99888/2):, 0].mean()"
   ]
  },
  {
   "cell_type": "markdown",
   "metadata": {},
   "source": [
    "### check pressure field and mesh"
   ]
  },
  {
   "cell_type": "code",
   "execution_count": 76,
   "metadata": {},
   "outputs": [],
   "source": [
    "field0 = np.load(\"Expirements/OptimizationPaper/predictions/00000.npy\", allow_pickle=True)"
   ]
  },
  {
   "cell_type": "code",
   "execution_count": 71,
   "metadata": {},
   "outputs": [],
   "source": [
    "mesh0 = trimesh.load_mesh(\"Expirements/OptimizationPaper/meshes/00000.ply\")"
   ]
  },
  {
   "cell_type": "code",
   "execution_count": 77,
   "metadata": {},
   "outputs": [],
   "source": [
    "norm = mpl.colors.Normalize(vmin=-8, vmax=8)\n",
    "cmap = cm.hot\n",
    "m = cm.ScalarMappable(norm=norm, cmap=cmap)\n",
    "\n",
    "tri_mesh0 = trimesh.Trimesh(vertices=mesh0.vertices, faces=mesh0.faces, \n",
    "                       vertex_colors=list(map(lambda c: m.to_rgba(c), field0[:,0])))"
   ]
  },
  {
   "cell_type": "code",
   "execution_count": 79,
   "metadata": {},
   "outputs": [],
   "source": [
    "#tri_mesh0.show()"
   ]
  },
  {
   "cell_type": "code",
   "execution_count": null,
   "metadata": {},
   "outputs": [],
   "source": []
  },
  {
   "cell_type": "code",
   "execution_count": null,
   "metadata": {},
   "outputs": [],
   "source": []
  },
  {
   "cell_type": "code",
   "execution_count": 49,
   "metadata": {},
   "outputs": [],
   "source": [
    "pressure = field[mesh_dic['face'], 0].mean(dim=1)"
   ]
  },
  {
   "cell_type": "code",
   "execution_count": 111,
   "metadata": {},
   "outputs": [
    {
     "data": {
      "text/plain": [
       "array([[-5.31859338e-01,  0.00000000e+00,  0.00000000e+00,\n",
       "        -4.89233836e-02],\n",
       "       [ 0.00000000e+00,  5.31859338e-01,  0.00000000e+00,\n",
       "         1.75338480e-02],\n",
       "       [ 0.00000000e+00,  0.00000000e+00, -5.31859338e-01,\n",
       "        -3.49366102e-05],\n",
       "       [ 0.00000000e+00,  0.00000000e+00,  0.00000000e+00,\n",
       "         1.00000000e+00]])"
      ]
     },
     "execution_count": 111,
     "metadata": {},
     "output_type": "execute_result"
    }
   ],
   "source": [
    "AvgTransform"
   ]
  },
  {
   "cell_type": "markdown",
   "metadata": {},
   "source": [
    "# need pytorch geometric"
   ]
  },
  {
   "cell_type": "code",
   "execution_count": null,
   "metadata": {},
   "outputs": [],
   "source": [
    "import torch_geometric\n",
    "from torch_geometric.nn import (NNConv, GMMConv, GraphConv, Set2Set)\n",
    "from torch_geometric.nn import (SplineConv, graclus, max_pool, max_pool_x, global_mean_pool)\n",
    "\n",
    "model = SplineCNN8Residuals(3)\n",
    "model.load_state_dict(torch.load(experiment_directory + \"/cfdModel.nn\"))\n",
    "model = model.to(\"cuda:0\")\n",
    "model = model.eval()"
   ]
  },
  {
   "cell_type": "markdown",
   "metadata": {},
   "source": [
    "## step by step: from latent to loss"
   ]
  },
  {
   "cell_type": "code",
   "execution_count": 114,
   "metadata": {
    "colab": {},
    "colab_type": "code",
    "id": "w3z7xq1QieWR"
   },
   "outputs": [],
   "source": [
    "initial_la = latent_vectors[32]\n",
    "ply_mesh = create_mesh( decoder,\n",
    "                        initial_la,\n",
    "                        N=8,\n",
    "                        max_batch=int(2 ** 18),\n",
    "                        offset=None,\n",
    "                        scale=None)"
   ]
  },
  {
   "cell_type": "code",
   "execution_count": 9,
   "metadata": {
    "colab": {},
    "colab_type": "code",
    "id": "1HL3A11cx3wm"
   },
   "outputs": [],
   "source": [
    "points = torch.cuda.FloatTensor(np.hstack(( ply_mesh['vertex']['x'][:, None], \n",
    "                                            ply_mesh['vertex']['y'][:, None], \n",
    "                                            ply_mesh['vertex']['z'][:, None])))\n",
    "\n",
    "# from mesh to pressure field\n",
    "points.requires_grad = True\n",
    "mesh = make_mesh_from_points(points, ply_mesh)"
   ]
  },
  {
   "cell_type": "code",
   "execution_count": null,
   "metadata": {
    "colab": {},
    "colab_type": "code",
    "id": "kQgi519pBA_L"
   },
   "outputs": [],
   "source": [
    "#del ply_mesh, points\n",
    "local_preds = model(mesh)\n",
    "loss = calculate_loss(mesh, local_preds, axis=0, constraint_rad=0.05)"
   ]
  },
  {
   "cell_type": "code",
   "execution_count": null,
   "metadata": {
    "colab": {},
    "colab_type": "code",
    "id": "ayzvv36zI1S5"
   },
   "outputs": [],
   "source": [
    "loss.backward()\n",
    "dL_dp = points.grad.clone()"
   ]
  },
  {
   "cell_type": "code",
   "execution_count": null,
   "metadata": {
    "colab": {},
    "colab_type": "code",
    "id": "Hr_1kLvqJTQ0"
   },
   "outputs": [],
   "source": [
    "points.grad.data.zero_()\n",
    "sdf_value = decode_sdf(decoder, initial_la, points)\n",
    "sdf_value.backward(torch.ones([len(points), 1], dtype=torch.float32).cuda())"
   ]
  },
  {
   "cell_type": "code",
   "execution_count": null,
   "metadata": {
    "colab": {},
    "colab_type": "code",
    "id": "BLPn3Y81J5Ab"
   },
   "outputs": [],
   "source": [
    "# assemble constant \n",
    "mults = [-p1.dot(p2) for p1, p2 in zip(dL_dp, points.grad)]       \n",
    "multipliers = torch.cuda.FloatTensor(mults)"
   ]
  },
  {
   "cell_type": "code",
   "execution_count": null,
   "metadata": {
    "colab": {},
    "colab_type": "code",
    "id": "Y7RtRhTUJewl"
   },
   "outputs": [],
   "source": [
    "points = points.detach()\n",
    "initial_la = initial_la.detach().requires_grad_(True)\n",
    "latent_inputs = initial_la.expand(points.shape[0], -1)\n",
    "inputs = torch.cat([latent_inputs, points], 1).cuda() \n",
    "sdf_value = decoder(inputs)\n",
    "final_loss = torch.sum(sdf_value.squeeze() * multipliers)\n",
    "final_loss.backward()"
   ]
  },
  {
   "cell_type": "code",
   "execution_count": null,
   "metadata": {
    "colab": {
     "base_uri": "https://localhost:8080/",
     "height": 578
    },
    "colab_type": "code",
    "id": "n1cxfRK9ozBp",
    "outputId": "fba5cec2-6a64-4275-f58e-9752fbdebedb"
   },
   "outputs": [],
   "source": [
    "#initial_la.grad"
   ]
  },
  {
   "cell_type": "code",
   "execution_count": null,
   "metadata": {
    "colab": {
     "base_uri": "https://localhost:8080/",
     "height": 241
    },
    "colab_type": "code",
    "id": "T440V-0ao248",
    "outputId": "b0ddcc89-4900-4f2b-8403-228a8fea66f3"
   },
   "outputs": [],
   "source": [
    "#initial_la.grad.data.zero_()"
   ]
  },
  {
   "cell_type": "code",
   "execution_count": null,
   "metadata": {
    "colab": {},
    "colab_type": "code",
    "id": "-3A3dHkwYmKs"
   },
   "outputs": [],
   "source": [
    "apenalty = soft_constraints(initial_la, latent_vectors, num_neignours_constr=10, alpha_penalty=0.2)\n",
    "apenalty.backward()"
   ]
  },
  {
   "cell_type": "code",
   "execution_count": null,
   "metadata": {
    "colab": {
     "base_uri": "https://localhost:8080/",
     "height": 901
    },
    "colab_type": "code",
    "id": "MJJO70Umo7LV",
    "outputId": "4b78bd74-8ce6-4c60-f209-a7eafae12fa0"
   },
   "outputs": [],
   "source": [
    "#initial_la.grad"
   ]
  },
  {
   "cell_type": "code",
   "execution_count": null,
   "metadata": {
    "colab": {
     "base_uri": "https://localhost:8080/",
     "height": 34
    },
    "colab_type": "code",
    "id": "aTs5dZL0CuEg",
    "outputId": "2ef245aa-ee5b-498c-bad0-054458a7631d"
   },
   "outputs": [],
   "source": [
    "final_loss"
   ]
  },
  {
   "cell_type": "code",
   "execution_count": null,
   "metadata": {
    "colab": {
     "base_uri": "https://localhost:8080/",
     "height": 34
    },
    "colab_type": "code",
    "id": "fu57UXaPofQ9",
    "outputId": "d943245e-229e-42a9-e299-264325375b4c"
   },
   "outputs": [],
   "source": [
    "penalty"
   ]
  },
  {
   "cell_type": "code",
   "execution_count": null,
   "metadata": {
    "colab": {
     "base_uri": "https://localhost:8080/",
     "height": 34
    },
    "colab_type": "code",
    "id": "kpIdfkoR_P4K",
    "outputId": "8cc7c36f-56c3-4769-ac0b-5234b45d4ff9"
   },
   "outputs": [],
   "source": [
    "innerBoundsLoss(mesh['x'], r=(0.5 / 2)**2, center=(0.3, 0, 0))"
   ]
  },
  {
   "cell_type": "code",
   "execution_count": null,
   "metadata": {
    "colab": {
     "base_uri": "https://localhost:8080/",
     "height": 34
    },
    "colab_type": "code",
    "id": "T-pitvgF_znG",
    "outputId": "395691c7-70f2-4a76-c31b-21d710e385e0"
   },
   "outputs": [],
   "source": [
    "boundsLoss(mesh['x'], box=[(-0.006, 0.006, 0)])"
   ]
  },
  {
   "cell_type": "code",
   "execution_count": null,
   "metadata": {
    "colab": {
     "base_uri": "https://localhost:8080/",
     "height": 51
    },
    "colab_type": "code",
    "id": "dsOoQcbC1ai1",
    "outputId": "ec93170e-e62f-4933-dd4a-b5debd0f3c2a"
   },
   "outputs": [],
   "source": [
    "local_preds[0]"
   ]
  },
  {
   "cell_type": "code",
   "execution_count": null,
   "metadata": {
    "colab": {
     "base_uri": "https://localhost:8080/",
     "height": 34
    },
    "colab_type": "code",
    "id": "ccq6n-_m1h4f",
    "outputId": "efc9c605-a1c0-4b2d-e527-31090152df0f"
   },
   "outputs": [],
   "source": [
    "points.shape"
   ]
  },
  {
   "cell_type": "code",
   "execution_count": null,
   "metadata": {
    "colab": {},
    "colab_type": "code",
    "id": "6y6WBozCieWT"
   },
   "outputs": [],
   "source": [
    "ply_mesh.write(\"data_for_this_experiments/mesh32.ply\")"
   ]
  },
  {
   "cell_type": "code",
   "execution_count": null,
   "metadata": {
    "colab": {},
    "colab_type": "code",
    "id": "UkBBg5DtieWV"
   },
   "outputs": [],
   "source": [
    "# from latent to mesh/point\n",
    "with torch.no_grad():\n",
    "    ply_mesh = create_mesh( decoder,\n",
    "                            latent,\n",
    "                            N=N,\n",
    "                            max_batch=int(2 ** 18),\n",
    "                            offset=None,\n",
    "                            scale=None)\n",
    "points = torch.cuda.FloatTensor(np.hstack(( ply_mesh['vertex']['x'][:, None], \n",
    "                                            ply_mesh['vertex']['y'][:, None], \n",
    "                                            ply_mesh['vertex']['z'][:, None])))\n",
    "\n",
    "# from mesh to pressure field\n",
    "points.requires_grad = True\n",
    "mesh = make_mesh_from_points(points, ply_mesh)\n",
    "local_preds = model(mesh)\n",
    "loss = calculate_loss(mesh, local_preds, axis=axis, constraint_rad=constraint_rad)\n",
    "\n",
    "\n",
    "\n",
    "loss.backward()\n",
    "dL_dp = points.grad.clone()\n",
    "\n",
    "\n",
    "\n",
    "\n",
    "\n",
    "# calculate mesh normal\n",
    "points.grad.data.zero_()\n",
    "sdf_value = decode_sdf(decoder, latent, points)\n",
    "sdf_value.backward(torch.ones([len(points), 1], dtype=torch.float32).cuda())\n",
    "\n",
    "# assemble constant \n",
    "mults = [-p1.dot(p2) for p1, p2 in zip(dL_dp, points.grad)]       \n",
    "multipliers = torch.cuda.FloatTensor(mults)\n",
    "\n",
    "\n",
    "\n",
    "# get gradient of sdf w.r.t. latent\n",
    "#optimizer.zero_grad()\n",
    "latent.grad.data.zero_()\n",
    "sdf_value = torch.squeeze(.decode_sdf(decoder, latent, points))\n",
    "final_loss = torch.sum(sdf_value * multipliers)\n",
    "final_loss.backward()\n",
    "\n",
    "# artificial loss\n",
    "apenalty = soft_constraints(latent, latent_vectors, num_neignours_constr)\n",
    "apenalty.backward()\n",
    "\n",
    "#print(\"Latent grad penalized: \", torch.sum(latent.grad ** 2))\n",
    "\n",
    "#optimizer.step()"
   ]
  },
  {
   "cell_type": "code",
   "execution_count": 7,
   "metadata": {
    "colab": {},
    "colab_type": "code",
    "id": "zovrDIQKieWZ"
   },
   "outputs": [],
   "source": [
    "def method4_to_arbitatry_loss(points, ply_mesh, model, constraint_rad=0.1, axis=0):\n",
    "    initial_dir = points.grad.clone()\n",
    "    points.grad.data.zero_()\n",
    "\n",
    "    mesh = make_mesh_from_points(points, ply_mesh)\n",
    "    #signs = compute_signs_for_loss(mesh, transformPoints(normals, AvgTransform))\n",
    "    local_preds = model(mesh)\n",
    "    loss = calculate_loss(mesh, local_preds, axis=axis, constraint_rad=constraint_rad)\n",
    "    loss.backward()\n",
    "\n",
    "    sign = [-p1.dot(p2) for p1, p2 in zip(initial_dir, points.grad)]\n",
    "    \n",
    "    return sign, loss, local_preds, mesh\n",
    "\n",
    "\n",
    "\n",
    "def optimize_shape_deepSDF(decoder, latent, initial_points=None, num_points=None, \n",
    "                           num_iters=100, point_iters=100, num_neignours_constr=10,\n",
    "                           lr=0.2, decreased_by=2, adjust_lr_every=10, alpha_penalty=0.05,\n",
    "                           multiplier_func=method4_to_arbitatry_loss, verbose=None, save_to_dir=None, N=256):\n",
    "\n",
    "    def adjust_learning_rate(\n",
    "        initial_lr, optimizer, num_iterations, decreased_by, adjust_lr_every\n",
    "    ):\n",
    "        lr = initial_lr * ((1 / decreased_by) ** (num_iterations // adjust_lr_every)) \\\n",
    "                        * ((punch_lr_at_reindex_by) ** (num_iterations // reindex_latent_each))\n",
    "        for param_group in optimizer.param_groups:\n",
    "            param_group[\"lr\"] = lr\n",
    "            \n",
    "        return lr\n",
    "    \n",
    "    if not os.path.exists(os.path.join(save_to_dir, 'meshes')):\n",
    "        os.makedirs(os.path.join(save_to_dir, 'meshes'))\n",
    "    if not os.path.exists(os.path.join(save_to_dir, 'predictions')):\n",
    "        os.makedirs(os.path.join(save_to_dir, 'predictions'))\n",
    "\n",
    "    ref_latent = latent.clone().detach()\n",
    "    decoder.eval()\n",
    "    latent = latent.clone()\n",
    "    latent.requires_grad = True\n",
    "    optimizer = torch.optim.SGD([latent], lr=lr)\n",
    "\n",
    "    loss_plot = []\n",
    "    latent_dist = []\n",
    "    lr_plot = []\n",
    "    latent_plot = []\n",
    "\n",
    "    for i in range(num_iters):\n",
    "\n",
    "        time_start = time.time()\n",
    "\n",
    "        save_path = os.path.join(save_to_dir, 'meshes/' + str(i).zfill(5) + \".ply\")\n",
    "        preds_save_path = os.path.join(save_to_dir, 'predictions/' + str(i).zfill(5) + \".npy\")\n",
    "\n",
    "\n",
    "        cur_rl = adjust_learning_rate(lr, optimizer, i, decreased_by, adjust_lr_every)\n",
    "\n",
    "        with torch.no_grad():\n",
    "            ply_mesh = create_mesh( decoder,\n",
    "                                    latent,\n",
    "                                    N=N,\n",
    "                                    max_batch=int(2 ** 18),\n",
    "                                    offset=None,\n",
    "                                    scale=None)\n",
    "\n",
    "        points = torch.cuda.FloatTensor(np.hstack(( ply_mesh['vertex']['x'][:, None], \n",
    "                                                    ply_mesh['vertex']['y'][:, None], \n",
    "                                                    ply_mesh['vertex']['z'][:, None])))\n",
    "\n",
    "        points.requires_grad = True\n",
    "\n",
    "        sdf_value = decode_sdf(decoder, latent, points)\n",
    "        sdf_value.backward(torch.ones([len(points), 1], dtype=torch.float32).cuda())\n",
    "\n",
    "        mults, loss_value, preds, transformed_mesh = multiplier_func(points, ply_mesh)         \n",
    "        multipliers = torch.cuda.FloatTensor(mults)\n",
    "\n",
    "        optimizer.zero_grad()\n",
    "        sdf_value = torch.squeeze(decode_sdf(decoder, latent, points))\n",
    "\n",
    "        final_loss = torch.sum(sdf_value * multipliers)\n",
    "        final_loss.backward()\n",
    "\n",
    "        # Soft-constraints\n",
    "        distances, indeces = LATENT_KD_TREE.query(latent.cpu().detach(), k=num_neignours_constr)\n",
    "        penalty = torch.mean(\n",
    "                    torch.stack([torch.sum( \n",
    "                                    (latent - latent_vectors[indeces[0][i]]) ** 2\n",
    "                                 )\n",
    "                                 for i in range(len(indeces[0]))]\n",
    "                               )\n",
    "                    )\n",
    "        apenalty = penalty * alpha_penalty\n",
    "        apenalty.backward()\n",
    "\n",
    "\n",
    "        optimizer.step()\n",
    "       \n",
    "\n",
    "        tri_mesh = get_trimesh_from_torch_geo_with_colors(transformed_mesh, preds)\n",
    "        tri_mesh.export(save_path)\n",
    "        #np.save(preds_save_path, preds.cpu().detach().numpy())\n",
    "\n",
    "        #if save_to_dir is not None:\n",
    "        #    plot_points_from_torch\n",
    "\n",
    "        loss_plot.append(loss_value.cpu().detach().numpy())\n",
    "        latent_dist.append(torch.sum((latent - ref_latent) ** 2 ).cpu().detach().numpy() )\n",
    "        latent_plot.append(latent.detach().cpu().numpy())\n",
    "        lr_plot.append(penalty)\n",
    "\n",
    "        time_end = time.time()\n",
    "\n",
    "        if verbose is not None and i % verbose == 0:\n",
    "            print('Iter ', i, 'Loss: ', loss_value.detach().cpu().numpy(), ' LD: ', lr_plot[-1])\n",
    "            print(\"backward loss: \", final_loss)\n",
    "            print(\"penality: \", apenalty)\n",
    "            print(\"together: \", apenalty + final_loss, \"\\n\")\n",
    "    \n",
    "        np.save(os.path.join(save_to_dir, \"latent_plot.npy\"), latent_plot)    \n",
    "        np.save(os.path.join(save_to_dir, \"loss_plot.npy\"), loss_plot)\n",
    "        np.save(os.path.join(save_to_dir, \"latent_dist.npy\"), latent_dist)\n",
    "        np.save(os.path.join(save_to_dir, \"lr_plot.npy\"), lr_plot)\n",
    "\n",
    "\n",
    "\n",
    "def make_full_transformation(initial_latent, experiment_name, \n",
    "                             decoder, model, alpha_penalty=0.05, constraint_rad=0.1, axis=0, **kwargs):\n",
    "    '''\n",
    "    kwargs:\n",
    "        num_iters=1000, \n",
    "        adjust_lr_every=10, \n",
    "        decreased_by=1.2,\n",
    "        lr=0.005\n",
    "        verbose=10,\n",
    "    '''\n",
    "\n",
    "    #ref_points = get_points_from_latent(decoder, ref_latent, N=128)\n",
    "    save_to_dir = experiment_name\n",
    "    if not os.path.exists(save_to_dir):\n",
    "        os.makedirs(save_to_dir)\n",
    "\n",
    "    #np.save(os.path.join(save_to_dir, \"target_verts.npy\"), ref_points)\n",
    "\n",
    "    optimize_shape_deepSDF(decoder, initial_latent, initial_points=None,\n",
    "                                           alpha_penalty=alpha_penalty,\n",
    "                                           num_points=None, point_iters=2,\n",
    "                                           multiplier_func=lambda x, y: \n",
    "                                               method4_to_arbitatry_loss(x, y, model, \n",
    "                                                                         constraint_rad=constraint_rad, \n",
    "                                                                         axis=axis),\n",
    "                                           save_to_dir=save_to_dir, **kwargs)\n",
    "   "
   ]
  },
  {
   "cell_type": "code",
   "execution_count": 8,
   "metadata": {
    "colab": {},
    "colab_type": "code",
    "id": "iJJyuM71ieWb"
   },
   "outputs": [],
   "source": [
    "\n",
    "DIR_for_dump_data = './data_for_this_experiments'\n",
    "punch_lr_at_reindex_by=1\n",
    "reindex_latent_each = 10000\n"
   ]
  },
  {
   "cell_type": "code",
   "execution_count": null,
   "metadata": {
    "colab": {},
    "colab_type": "code",
    "id": "f_H2o92JieWf"
   },
   "outputs": [],
   "source": [
    "np.random.seed(101)\n",
    "make_full_transformation(LATENT_TO_OPTIMIZE.detach(),\n",
    "                         experiment_name=DIR_for_dump_data, decoder=decoder, model=model,\n",
    "                         alpha_penalty=0.2, axis=0,\n",
    "                         constraint_rad=0.05,\n",
    "                         num_iters=3,\n",
    "                         adjust_lr_every=20,\n",
    "                         decreased_by=1.1, \n",
    "                         lr=0.2,\n",
    "                         verbose=1,\n",
    "                         N=256,\n",
    "                         num_neignours_constr=10)"
   ]
  },
  {
   "cell_type": "code",
   "execution_count": 2,
   "metadata": {
    "colab": {},
    "colab_type": "code",
    "id": "s-LdeJ1zieWi"
   },
   "outputs": [],
   "source": [
    "#preds = np.load(\"data_for_this_experiments/OptimizationPaper/predictions/00000.npy\")\n",
    "mesh = trimesh.load_mesh(\"data_for_this_experiments/meshes/00029.ply\")\n",
    "loss_plot = np.load(\"data_for_this_experiments/loss_plot.npy\", allow_pickle=True)\n",
    "lr_plot = np.load(\"data_for_this_experiments/lr_plot.npy\", allow_pickle=True)\n",
    "latent_plot = np.load(\"data_for_this_experiments/latent_plot.npy\", allow_pickle=True)"
   ]
  },
  {
   "cell_type": "code",
   "execution_count": null,
   "metadata": {},
   "outputs": [],
   "source": []
  },
  {
   "cell_type": "code",
   "execution_count": 3,
   "metadata": {},
   "outputs": [
    {
     "data": {
      "text/plain": [
       "[<matplotlib.lines.Line2D at 0x7f108111f210>]"
      ]
     },
     "execution_count": 3,
     "metadata": {},
     "output_type": "execute_result"
    },
    {
     "data": {
      "image/png": "[encoded data removed]",
      "text/plain": [
       "<Figure size 432x288 with 1 Axes>"
      ]
     },
     "metadata": {
      "needs_background": "light"
     },
     "output_type": "display_data"
    }
   ],
   "source": [
    "plt.plot(loss_plot)"
   ]
  },
  {
   "cell_type": "code",
   "execution_count": null,
   "metadata": {},
   "outputs": [],
   "source": [
    "distances, indeces = LATENT_KD_TREE.query(torch.tensor(latent_plot[-1]), k=10)"
   ]
  },
  {
   "cell_type": "code",
   "execution_count": null,
   "metadata": {},
   "outputs": [],
   "source": []
  },
  {
   "cell_type": "code",
   "execution_count": null,
   "metadata": {},
   "outputs": [],
   "source": [
    "indeces"
   ]
  },
  {
   "cell_type": "code",
   "execution_count": null,
   "metadata": {},
   "outputs": [],
   "source": [
    "newl = 0.1 * latent_vectors[indeces.squeeze()[0]] + 0.9 * latent_vectors[indeces.squeeze()[1]]"
   ]
  },
  {
   "cell_type": "code",
   "execution_count": null,
   "metadata": {},
   "outputs": [],
   "source": [
    "#visual_Mesh(torch.tensor(newl)).show()"
   ]
  },
  {
   "cell_type": "code",
   "execution_count": null,
   "metadata": {},
   "outputs": [],
   "source": [
    "#visual_Mesh(torch.tensor(latent_vectors[indeces.squeeze()[:2]].mean(axis=0))).show()"
   ]
  },
  {
   "cell_type": "code",
   "execution_count": null,
   "metadata": {},
   "outputs": [],
   "source": [
    "#visual_Mesh(torch.tensor(latent_vectors[indeces].mean(axis=0))).show()"
   ]
  },
  {
   "cell_type": "code",
   "execution_count": null,
   "metadata": {},
   "outputs": [],
   "source": [
    "#visual_Mesh(latent_vectors[267]).show()"
   ]
  },
  {
   "cell_type": "code",
   "execution_count": null,
   "metadata": {},
   "outputs": [],
   "source": [
    "#visual_Mesh(latent_vectors[350]).show()"
   ]
  },
  {
   "cell_type": "code",
   "execution_count": null,
   "metadata": {},
   "outputs": [],
   "source": [
    "#visual_Mesh(torch.tensor(latent_plot[-1]).cuda()).show()"
   ]
  },
  {
   "cell_type": "code",
   "execution_count": null,
   "metadata": {},
   "outputs": [],
   "source": [
    "#plt.plot(lr_plot)"
   ]
  },
  {
   "cell_type": "code",
   "execution_count": null,
   "metadata": {},
   "outputs": [],
   "source": [
    "mesh = trimesh.load_mesh(\"data_for_this_experiments/meshes/00004.ply\")\n",
    "#mesh.show()"
   ]
  },
  {
   "cell_type": "code",
   "execution_count": null,
   "metadata": {},
   "outputs": [],
   "source": [
    "mesh = trimesh.load_mesh(\"data_for_this_experiments/meshes/00029.ply\")\n",
    "#mesh.show()"
   ]
  },
  {
   "cell_type": "code",
   "execution_count": null,
   "metadata": {},
   "outputs": [],
   "source": [
    "distances, indeces = LATENT_KD_TREE.query(LATENT_TO_OPTIMIZE.cpu().detach(), k=10)"
   ]
  },
  {
   "cell_type": "code",
   "execution_count": null,
   "metadata": {},
   "outputs": [],
   "source": [
    "mesh['face'].shape"
   ]
  },
  {
   "cell_type": "code",
   "execution_count": null,
   "metadata": {},
   "outputs": [],
   "source": [
    "torch.norm(latent_vectors[indeces.squeeze()[0]] - latent_vectors[indeces.squeeze()[8]])"
   ]
  },
  {
   "cell_type": "code",
   "execution_count": null,
   "metadata": {},
   "outputs": [],
   "source": [
    "torch.norm(latent_vectors[indeces.squeeze()[9]] - latent_vectors[indeces.squeeze()[8]])"
   ]
  },
  {
   "cell_type": "code",
   "execution_count": null,
   "metadata": {},
   "outputs": [],
   "source": [
    "torch.norm(latent_vectors[indeces.squeeze()[7]] - latent_vectors[indeces.squeeze()[8]])"
   ]
  },
  {
   "cell_type": "code",
   "execution_count": null,
   "metadata": {},
   "outputs": [],
   "source": [
    "\n",
    "def visual_Mesh(ilatent):\n",
    "    ply_mesh = create_mesh(decoder,\n",
    "                        ilatent,\n",
    "                        N=256,\n",
    "                        max_batch=int(2 ** 18))\n",
    "    points = torch.cuda.FloatTensor(np.hstack(( ply_mesh['vertex']['x'][:, None], \n",
    "                                            ply_mesh['vertex']['y'][:, None], \n",
    "                                            ply_mesh['vertex']['z'][:, None])))\n",
    "    scaled_mesh = make_mesh_from_points(points, ply_mesh)\n",
    "    pressure_field = model(scaled_mesh)\n",
    "    loss = compute_lift_faces_diff(scaled_mesh, pressure_field, axis=0)  \n",
    "    print(\"latent loss. %f \"%(loss))\n",
    "    return get_trimesh_from_torch_geo_with_colors(scaled_mesh, pressure_field)\n",
    "    "
   ]
  },
  {
   "cell_type": "code",
   "execution_count": null,
   "metadata": {},
   "outputs": [],
   "source": [
    "#visual_Mesh(latent_vectors[26]).show() # "
   ]
  },
  {
   "cell_type": "code",
   "execution_count": null,
   "metadata": {
    "colab": {},
    "colab_type": "code",
    "id": "wZ85ST4pieWl"
   },
   "outputs": [],
   "source": [
    "mesh37 = trimesh.load_mesh(\"Expirements/OptimizationPaper/meshes/00037.ply\")\n",
    "mesh37.show()\n"
   ]
  },
  {
   "cell_type": "code",
   "execution_count": null,
   "metadata": {
    "colab": {},
    "colab_type": "code",
    "id": "cY9La8xqieWm"
   },
   "outputs": [],
   "source": [
    "mesh = {'point_pos': tansformed_points, \n",
    "        'edge_vec':torch.tensor(edge_attr, dtype=torch.float).to('cuda:0'),\n",
    "        'edge_index':torch.tensor(edges, dtype=torch.long).t().contiguous().to('cuda:0')\n",
    "        }"
   ]
  },
  {
   "cell_type": "code",
   "execution_count": 27,
   "metadata": {},
   "outputs": [
    {
     "name": "stdout",
     "output_type": "stream",
     "text": [
      "torch.Size([2824])\n",
      "torch.Size([2824])\n"
     ]
    },
    {
     "data": {
      "text/plain": [
       "tensor(-0.1377, device='cuda:0', grad_fn=<SumBackward0>)"
      ]
     },
     "execution_count": 27,
     "metadata": {},
     "output_type": "execute_result"
    }
   ],
   "source": [
    "compute_lift_faces_diff(mesh, torch.tensor(pressure).cuda())"
   ]
  }
 ],
 "metadata": {
  "accelerator": "GPU",
  "colab": {
   "collapsed_sections": [],
   "name": "checkCFDloss.ipynb",
   "provenance": []
  },
  "kernelspec": {
   "display_name": "Python 3",
   "language": "python",
   "name": "python3"
  },
  "language_info": {
   "codemirror_mode": {
    "name": "ipython",
    "version": 3
   },
   "file_extension": ".py",
   "mimetype": "text/x-python",
   "name": "python",
   "nbconvert_exporter": "python",
   "pygments_lexer": "ipython3",
   "version": "3.7.7"
  }
 },
 "nbformat": 4,
 "nbformat_minor": 4
}
