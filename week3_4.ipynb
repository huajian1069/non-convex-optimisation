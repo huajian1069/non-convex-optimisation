{
 "cells": [
  {
   "cell_type": "code",
   "execution_count": 1,
   "metadata": {},
   "outputs": [],
   "source": [
    "import numpy as np\n",
    "import matplotlib.pyplot as plt\n",
    "#from scipy.optimize import differential_evolution"
   ]
  },
  {
   "cell_type": "code",
   "execution_count": 2,
   "metadata": {},
   "outputs": [],
   "source": [
    "def ackley(x):\n",
    "    '''\n",
    "    the period of local minimum along each axis is 1, integer coordinate (1,1), (2,3)... \n",
    "    x and y is interchangeable\n",
    "    global minimum is 0 with arguments x=y=0\n",
    "    local minimums far away from orgin are 20\n",
    "    supremum is 20 + e - 1/e = 22.35\n",
    "    being symmetric along x=0, y=0, y=x lines\n",
    "    '''\n",
    "    global arg1, arg2\n",
    "    arg1 = -0.2 * np.sqrt(0.5 * (x[0] ** 2 + x[1] ** 2))\n",
    "    arg2 = 0.5 * (np.cos(2. * np.pi * x[0]) + np.cos(2. * np.pi * x[1]))\n",
    "    return -20. * np.exp(arg1) - np.exp(arg2) + 20. + np.e\n",
    "\n",
    "def derivative_ackley(x):\n",
    "    global arg1, arg2\n",
    "    return np.array([-0.4 * x[0] / arg1 * np.exp(arg1) + np.pi * np.sin(2 * np.pi * x[0]) * np.exp(arg2), \n",
    "            -0.4 * x[1] / arg1 * np.exp(arg1) + np.pi * np.sin(2 * np.pi * x[1]) * np.exp(arg2)])"
   ]
  },
  {
   "cell_type": "code",
   "execution_count": 3,
   "metadata": {},
   "outputs": [],
   "source": [
    "def cma_es_general(mean0, D, alpha, beta, adjust):\n",
    "    '''\n",
    "    @param mean0: initial mean of groups of points\n",
    "    @param D: sqrt of eigenvalues of initial variance of points\n",
    "    @param alpha: initial step size\n",
    "    @param beta: control the armijo condition\n",
    "    @return snapshot_val: snapshot of func values of points every 2 iterations\n",
    "    @return snapshot_arg: snapshot of positions of points every 2 iterations\n",
    "    '''\n",
    "    # initial mean and variance\n",
    "    #mean = np.random.rand(dim, 1) * 20\n",
    "    #D = np.ones((dim,))              \n",
    "    \n",
    "    # --------------------  Initialization --------------------------------  \n",
    "    # User defined input parameters (need to be edited)\n",
    "    dim = 2\n",
    "    mean = mean0\n",
    "    sigma = 0.3\n",
    "    tolerance = 1e-5\n",
    "    max_iter = 500\n",
    "    \n",
    "    # Strategy parameter setting: Selection  \n",
    "    lambda_ = 4 + int(3 * np.log(dim))       # the size of solutions group\n",
    "    mu = int(lambda_ / 2)     # only best \"mu\" solutions are used to generate iterations\n",
    "    weights = np.log(mu + 1/2) - np.log(np.arange(mu) + 1) \n",
    "    weights = weights / np.sum(weights)      # used to combine best \"mu\" solutions\n",
    "    mueff = np.sum(weights)**2 / np.sum(weights**2) \n",
    "    \n",
    "    # Strategy parameter setting: Adaptation\n",
    "    cc = (4 + mueff / dim) / (dim + 4 + 2 * mueff / dim)  # time constant for cumulation for C\n",
    "    cs = (mueff + 2) / (dim + mueff + 5)  # t-const for cumulation for sigma control\n",
    "    c1 = 2 / ((dim + 1.3)**2 + mueff)    # learning rate for rank-one update of C\n",
    "    cmu = min(1 - c1, 2 * (mueff - 2 + 1 / mueff) / ((dim + 2)**2 + mueff))  # and for rank-mu update\n",
    "    damps = 1 + 2 * max(0, np.sqrt((mueff - 1)/( dim + 1)) - 1) + cs  # damping for sigma, usually close to 1                                                                 \n",
    "        \n",
    "    # Initialize dynamic (internal) strategy parameters and constants\n",
    "    pc = np.zeros((dim, 1))     # evolution paths for C and sigma\n",
    "    ps = np.zeros((dim, 1)) \n",
    "    B = np.eye(dim)     # B defines the coordinate system\n",
    "    C = B * np.diag(D**2) * B.T            # covariance matrix C\n",
    "    invsqrtC = B * np.diag(D**-1) * B.T    # C^-1/2 \n",
    "    chiN = dim**0.5 * (1 - 1/(4 * dim) + 1 / (21 * dim**2))  # expectation of ||N(0,I)|| == norm(randn(N,1)) \n",
    "    \n",
    "    def update_mean(x):\n",
    "        return (weights @ x).reshape(dim, 1)\n",
    "    def update_ps(ps, sigma, C, mean, mean_old):\n",
    "        return (1 - cs) * ps + np.sqrt(cs * (2 - cs) * mueff) * invsqrtC @ (mean - mean_old) / sigma \n",
    "    def update_pc(pc, sigma, ps, mean, mean_old):\n",
    "        hsig = np.abs(ps) / np.sqrt(1 - (1 - cs)**(2 * iter_/lambda_)) / chiN < 1.4 + 2/(dim + 1)\n",
    "        return (1 - cc) * pc + hsig * np.sqrt(cc * (2 - cc) * mueff) * (mean - mean_old) / sigma\n",
    "    def update_C(C, pc, x, mean_old, sigma):\n",
    "        hsig = np.abs(ps) / np.sqrt(1 - (1 - cs)**(2 * iter_/lambda_)) / chiN < 1.4 + 2/(dim + 1)\n",
    "        artmp = (1 / sigma) * (x - mean_old.reshape(1, dim))\n",
    "        return (1 - c1 - cmu) * C + c1 * (pc * pc.T + (1 - hsig) * cc * (2 - cc) * C) + cmu * artmp.T @ np.diag(weights) @ artmp\n",
    "    def update_sigma(sigma, ps):\n",
    "        return sigma * np.exp((cs / damps) * (np.linalg.norm(ps)/ chiN - 1))\n",
    "    \n",
    "    x = np.zeros((lambda_, dim))\n",
    "    f = np.zeros((lambda_,))\n",
    "    snapshot_arg = []\n",
    "    snapshot_val = []\n",
    "    fmin = []\n",
    "    iter_ = 0\n",
    "    eval_ = 0\n",
    "    while iter_ < max_iter:\n",
    "        iter_ += 1\n",
    "        # generate candidate solutions with some stochastic elements\n",
    "        for i in range(lambda_):\n",
    "            x[i] = (mean + sigma * B @ np.diag(D) @ np.random.randn(dim, 1)).ravel() \n",
    "            x[i], eval_cnt = adjust(x[i], alpha, beta)\n",
    "            f[i] = ackley(x[i])\n",
    "            eval_ += eval_cnt\n",
    "            \n",
    "        # sort the value and positions of solutions \n",
    "        idx = np.argsort(f)\n",
    "        x_ascending = x[idx]\n",
    "        \n",
    "        # record the trail and value of solutions points\n",
    "        snapshot_arg.append(x_ascending)\n",
    "        snapshot_val.append(f[idx])\n",
    "        \n",
    "        # update the parameter for next iteration\n",
    "        mean_old = mean\n",
    "        mean = update_mean(x_ascending[:mu])\n",
    "        ps =   update_ps(ps, sigma, C, mean, mean_old)\n",
    "        pc =   update_pc(pc, sigma, ps, mean, mean_old)\n",
    "        sigma = update_sigma(sigma, ps)\n",
    "        C =    update_C(C, pc, x_ascending[:mu], mean_old, sigma)\n",
    "        C = np.triu(C) + np.triu(C, 1).T\n",
    "        D, B = np.linalg.eig(C)\n",
    "        D = np.sqrt(D)\n",
    "        invsqrtC = B @ np.diag(D**-1) @ B\n",
    "        # check the stop condition\n",
    "        # f[0] < tolerance \n",
    "        if np.linalg.norm(f) < tolerance or (np.max(D) > (np.min(D) * 1e7)):  #np.abs(f[0] - fmin_old) < tolerance:\n",
    "            break\n",
    "            \n",
    "    # analyse the result after finish\n",
    "    if f[0] > tolerance:\n",
    "        print('stuck in local minimum!!')\n",
    "        print('iterations = {}, eigenvalue = {}'.format(iter_, D))\n",
    "    else:\n",
    "        print('Global minimum')\n",
    "    print('min = {}, total iterations = {}, total evaluatios = {}\\n position = {} {}'.format(f[0], iter_, eval_, x_ascending[0, 0], x_ascending[0, 1]))\n",
    "    return np.array(snapshot_val), np.array(snapshot_arg)\n",
    "\n",
    "def line_search(x0, alpha, beta):\n",
    "    '''\n",
    "    @param x0: initial point position\n",
    "    @param alpha: initial step size\n",
    "    @param beta: control the armijo condition\n",
    "    @return x: point position after moving to local minimum\n",
    "    '''\n",
    "    x = x0.copy()\n",
    "    alpha0 = alpha\n",
    "    beta = 0.1\n",
    "    tao = 0.5\n",
    "    k_max = 100\n",
    "    f = ackley\n",
    "    deri_f = derivative_ackley\n",
    "    fx = f(x)\n",
    "    p = - deri_f(x)\n",
    "    fnx = f(x + alpha * p)\n",
    "    evaluation_cnt = 4\n",
    "    for k in range(k_max):\n",
    "        while fnx > fx + alpha * beta * (-p @ p):\n",
    "            alpha *= tao\n",
    "            fnx = f(x + alpha * p)\n",
    "            evaluation_cnt += 1\n",
    "        x += alpha * p\n",
    "        fx = fnx\n",
    "        p = -deri_f(x)\n",
    "        fnx = f(x + alpha * p)\n",
    "        evaluation_cnt += 2\n",
    "        if np.linalg.norm(p) < 1e-5:\n",
    "            break\n",
    "    return x, evaluation_cnt\n",
    "\n",
    "def do_nothing(x0, alpha, beta):\n",
    "    return x0, 1"
   ]
  },
  {
   "cell_type": "code",
   "execution_count": 28,
   "metadata": {},
   "outputs": [
    {
     "name": "stdout",
     "output_type": "stream",
     "text": [
      "Global minimum\n",
      "min = 4.440892098500626e-16, total iterations = 37, total evaluatios = 22460\n",
      " position = 1.0529642920474356e-16 1.179580288606663e-16\n",
      "CPU times: user 341 ms, sys: 2.43 ms, total: 343 ms\n",
      "Wall time: 343 ms\n"
     ]
    }
   ],
   "source": [
    "np.random.seed(34)\n",
    "mean0 = np.array([[140.743], [152.21]])\n",
    "D = np.ones((2,)) * 10\n",
    "alpha = 1\n",
    "beta = 2\n",
    "\n",
    "%time val, arg = cma_es_general(mean0, D, alpha, beta, line_search)"
   ]
  },
  {
   "cell_type": "code",
   "execution_count": 30,
   "metadata": {},
   "outputs": [
    {
     "name": "stdout",
     "output_type": "stream",
     "text": [
      "stuck in local minimum!!\n",
      "iterations = 500, eigenvalue = [5.04114563e-09 1.58574395e-08]\n",
      "min = 19.999999999994593, total iterations = 500, total evaluatios = 3000\n",
      " position = 137.00000000451357 152.00000000657664\n",
      "CPU times: user 180 ms, sys: 2.81 ms, total: 183 ms\n",
      "Wall time: 185 ms\n"
     ]
    }
   ],
   "source": [
    "%time val, arg = cma_es_general(mean0, D, alpha, beta, do_nothing)"
   ]
  },
  {
   "cell_type": "code",
   "execution_count": null,
   "metadata": {},
   "outputs": [],
   "source": []
  },
  {
   "cell_type": "code",
   "execution_count": 32,
   "metadata": {},
   "outputs": [],
   "source": [
    "def plot_distance(arg, val):\n",
    "    distance_arg = np.linalg.norm(arg, axis=(1,2))\n",
    "    distance_val = np.linalg.norm(val, axis=1)\n",
    "    fig = plt.figure(figsize=(10, 5))\n",
    "    ax1=fig.add_subplot(1, 1, 1)\n",
    "    ax1.plot(np.arange(val.shape[0]), distance_arg, color='green', label='Frobenius norm \\nof parameters')\n",
    "    ax1.set_xlabel('iteration', fontsize=15)\n",
    "    ax1.set_ylabel('distance in domain', color='green', fontsize=15)\n",
    "    ax1.tick_params(axis='y', labelcolor='green')\n",
    "    ax1.legend(loc='center left')\n",
    "\n",
    "    ax2 = ax1.twinx()  \n",
    "    ax2.plot(np.arange(val.shape[0]), distance_val, color='red', label='L2 norm \\nof func value')\n",
    "    ax2.set_ylabel('distance in codomain', color='red', fontsize=15)\n",
    "    ax2.tick_params(axis='y', labelcolor='red')\n",
    "    ax2.legend(loc='center right')"
   ]
  },
  {
   "cell_type": "code",
   "execution_count": 29,
   "metadata": {},
   "outputs": [
    {
     "data": {
      "image/png": "[encoded data removed]",
      "text/plain": [
       "<Figure size 720x360 with 2 Axes>"
      ]
     },
     "metadata": {
      "needs_background": "light"
     },
     "output_type": "display_data"
    }
   ],
   "source": [
    "plot_distance(arg,val)"
   ]
  },
  {
   "cell_type": "code",
   "execution_count": 31,
   "metadata": {},
   "outputs": [
    {
     "data": {
      "image/png": "[encoded data removed]",
      "text/plain": [
       "<Figure size 720x360 with 2 Axes>"
      ]
     },
     "metadata": {
      "needs_background": "light"
     },
     "output_type": "display_data"
    }
   ],
   "source": [
    "plot_distance(arg,val)"
   ]
  },
  {
   "cell_type": "code",
   "execution_count": 33,
   "metadata": {},
   "outputs": [
    {
     "data": {
      "text/plain": [
       "array([[20., 20., 20., 20., 20., 20.],\n",
       "       [20., 20., 20., 20., 20., 20.],\n",
       "       [20., 20., 20., 20., 20., 20.]])"
      ]
     },
     "execution_count": 33,
     "metadata": {},
     "output_type": "execute_result"
    }
   ],
   "source": [
    "val[-3:]"
   ]
  },
  {
   "cell_type": "code",
   "execution_count": 34,
   "metadata": {},
   "outputs": [
    {
     "data": {
      "text/plain": [
       "array([[[137.        , 152.00000001],\n",
       "        [137.        , 152.00000001],\n",
       "        [137.        , 152.00000001],\n",
       "        [137.        , 152.        ],\n",
       "        [137.        , 152.00000001],\n",
       "        [137.        , 152.00000001]],\n",
       "\n",
       "       [[137.        , 152.00000001],\n",
       "        [137.        , 152.00000001],\n",
       "        [137.        , 152.00000001],\n",
       "        [137.        , 152.00000001],\n",
       "        [137.        , 152.00000001],\n",
       "        [137.        , 152.00000001]],\n",
       "\n",
       "       [[137.        , 152.00000001],\n",
       "        [137.        , 152.00000001],\n",
       "        [137.        , 152.00000001],\n",
       "        [137.        , 152.00000001],\n",
       "        [137.        , 152.00000001],\n",
       "        [137.        , 152.00000001]]])"
      ]
     },
     "execution_count": 34,
     "metadata": {},
     "output_type": "execute_result"
    }
   ],
   "source": [
    "arg[-3:]"
   ]
  },
  {
   "cell_type": "code",
   "execution_count": null,
   "metadata": {},
   "outputs": [],
   "source": []
  }
 ],
 "metadata": {
  "kernelspec": {
   "display_name": "Python [conda env:miniconda3-ada] *",
   "language": "python",
   "name": "conda-env-miniconda3-ada-py"
  },
  "language_info": {
   "codemirror_mode": {
    "name": "ipython",
    "version": 3
   },
   "file_extension": ".py",
   "mimetype": "text/x-python",
   "name": "python",
   "nbconvert_exporter": "python",
   "pygments_lexer": "ipython3",
   "version": "3.7.4"
  }
 },
 "nbformat": 4,
 "nbformat_minor": 2
}
