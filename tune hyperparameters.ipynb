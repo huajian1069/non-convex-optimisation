{
 "cells": [
  {
   "cell_type": "code",
   "execution_count": null,
   "metadata": {},
   "outputs": [],
   "source": []
  },
  {
   "cell_type": "code",
   "execution_count": null,
   "metadata": {},
   "outputs": [],
   "source": []
  },
  {
   "cell_type": "markdown",
   "metadata": {},
   "source": [
    "# find the best setp size of Adam"
   ]
  },
  {
   "cell_type": "markdown",
   "metadata": {},
   "source": [
    "## ackley"
   ]
  },
  {
   "cell_type": "code",
   "execution_count": null,
   "metadata": {},
   "outputs": [],
   "source": [
    "# init and setup one experiment\n",
    "exp = single_experiment()\n",
    "\n",
    "# One experiment: setup objective function\n",
    "ak = ackley()\n",
    "exp.set_objective(ak)\n",
    "\n",
    "# One experiment: setup optimizer\n",
    "ad = adam()\n",
    "optmizerParas = {'x0': np.array([133.963,23.2323]),\n",
    "         'alpha': 2e0,\n",
    "         'beta_1': 0.9, \n",
    "         'beta_2': 0.999, \n",
    "         'epsilon': 1e-8, \n",
    "         'max_iter': 1000,\n",
    "         'tol': 1e-5,              \n",
    "         'verbose': True,\n",
    "         'record': True}\n",
    "ad.set_parameters(optmizerParas)\n",
    "exp.set_optimizer(ad)\n",
    "exp.do()"
   ]
  },
  {
   "cell_type": "code",
   "execution_count": null,
   "metadata": {},
   "outputs": [],
   "source": []
  },
  {
   "cell_type": "code",
   "execution_count": null,
   "metadata": {},
   "outputs": [],
   "source": [
    "for i in range(0, 10):\n",
    "    # One experiment: setup optimizer\n",
    "    ad = adam()\n",
    "    optmizerParas = {'x0': np.array([133,23]),\n",
    "             'alpha': np.power(0.1, i),\n",
    "             'beta_1': 0.9, \n",
    "             'beta_2': 0.999, \n",
    "             'epsilon': 1e-8, \n",
    "             'max_iter': 1000,\n",
    "             'tol': 1e-2,              \n",
    "             'verbose': True,\n",
    "             'record': True}\n",
    "    ad.set_parameters(optmizerParas)\n",
    "    exp.set_optimizer(ad)\n",
    "    exp.do()"
   ]
  },
  {
   "cell_type": "code",
   "execution_count": null,
   "metadata": {},
   "outputs": [],
   "source": [
    "for i in range(0, 10):\n",
    "    # One experiment: setup optimizer\n",
    "    ad = adam()\n",
    "    optmizerParas = {'x0': np.array([133,23]),\n",
    "             'alpha': np.power(10, i),\n",
    "             'beta_1': 0.9, \n",
    "             'beta_2': 0.999, \n",
    "             'epsilon': 1e-8, \n",
    "             'max_iter': 1000,\n",
    "             'tol': 1e-2,              \n",
    "             'verbose': True,\n",
    "             'record': True}\n",
    "    ad.set_parameters(optmizerParas)\n",
    "    exp.set_optimizer(ad)\n",
    "    exp.do()"
   ]
  },
  {
   "cell_type": "markdown",
   "metadata": {},
   "source": [
    "## bukin"
   ]
  },
  {
   "cell_type": "code",
   "execution_count": null,
   "metadata": {},
   "outputs": [],
   "source": [
    "for i in range(0, 10):\n",
    "    # One experiment: setup optimizer\n",
    "    ad = adam()\n",
    "    optmizerParas = {'x0': np.zeros((2,)),\n",
    "             'alpha': 0.01* np.power(0.1, i),\n",
    "             'beta_1': 0.9, \n",
    "             'beta_2': 0.999, \n",
    "             'epsilon': 1e-8, \n",
    "             'max_iter': 1000,\n",
    "             'tol': 1e-2,              \n",
    "             'verbose': True,\n",
    "             'record': False}\n",
    "    ad.set_parameters(optmizerParas)\n",
    "    exp.set_optimizer(ad)\n",
    "\n",
    "    # Multiple experiment: setup one expreiment\n",
    "    exps_bk_ad.set_single_exp(exp)\n",
    "\n",
    "\n",
    "    # Multiple experiments: setup sample zone of multiple experiments\n",
    "    zoneParas = {'origin': np.array([-15, -5]),\n",
    "                 'edge': np.array([30, 10]),\n",
    "                 'step': 10,\n",
    "                 'size': 10,\n",
    "                 'sym': False}\n",
    "    exps_bk_ad.set_sample_zone(zoneParas)\n",
    "\n",
    "    %time data_bk_ad = exps_bk_ad.do()"
   ]
  }
 ],
 "metadata": {
  "kernelspec": {
   "display_name": "Python [conda env:miniconda3-ada] *",
   "language": "python",
   "name": "conda-env-miniconda3-ada-py"
  },
  "language_info": {
   "codemirror_mode": {
    "name": "ipython",
    "version": 3
   },
   "file_extension": ".py",
   "mimetype": "text/x-python",
   "name": "python",
   "nbconvert_exporter": "python",
   "pygments_lexer": "ipython3",
   "version": "3.7.4"
  }
 },
 "nbformat": 4,
 "nbformat_minor": 4
}
