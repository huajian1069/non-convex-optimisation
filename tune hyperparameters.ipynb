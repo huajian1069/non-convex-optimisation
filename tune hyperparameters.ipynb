{
 "cells": [
  {
   "cell_type": "code",
   "execution_count": 4,
   "metadata": {},
   "outputs": [],
   "source": [
    "from library.objective_function import *\n",
    "from library.optimiser import *\n",
    "from library.post_analysis import *\n",
    "from library.experiments import *\n",
    "%matplotlib inline\n",
    "SEED = 23191"
   ]
  },
  {
   "cell_type": "markdown",
   "metadata": {},
   "source": [
    "## optimise one dimension function"
   ]
  },
  {
   "cell_type": "code",
   "execution_count": 8,
   "metadata": {},
   "outputs": [],
   "source": [
    "ak_1d = ackley(dim=1) "
   ]
  },
  {
   "cell_type": "code",
   "execution_count": 20,
   "metadata": {},
   "outputs": [
    {
     "data": {
      "image/png": "[encoded data removed]",
      "text/plain": [
       "<Figure size 432x288 with 1 Axes>"
      ]
     },
     "metadata": {
      "needs_background": "light"
     },
     "output_type": "display_data"
    }
   ],
   "source": [
    "ak_1d.visualise1d(lim=5, n=50)"
   ]
  },
  {
   "cell_type": "markdown",
   "metadata": {},
   "source": [
    "### line search "
   ]
  },
  {
   "cell_type": "code",
   "execution_count": 57,
   "metadata": {},
   "outputs": [
    {
     "name": "stdout",
     "output_type": "stream",
     "text": [
      "\n",
      "*******starting optimisation from intitial point:  [-12.34232]\n"
     ]
    },
    {
     "data": {
      "text/plain": [
       "(array([-3.98306771]), 10.998262102599446, {'status': None, 'evals': 25})"
      ]
     },
     "execution_count": 57,
     "metadata": {},
     "output_type": "execute_result"
    }
   ],
   "source": [
    "ls = line_search(dim=1)\n",
    "x0 = np.array([-12.34232])\n",
    "optmizerParas = {'x0': x0,\n",
    "         'alpha': 10,\n",
    "         'beta': 0.19, \n",
    "         'max_iter': 1000,\n",
    "         'tol': 1e-5,              \n",
    "         'verbose': True,\n",
    "         'record': False}\n",
    "ls.set_parameters(optmizerParas)\n",
    "ls.optimise(ak_1d)"
   ]
  },
  {
   "cell_type": "markdown",
   "metadata": {},
   "source": [
    "remark:\n",
    "\n",
    "large alpha(step size), little beta(threshold) is beneficial to search more globally"
   ]
  },
  {
   "cell_type": "markdown",
   "metadata": {},
   "source": [
    "### adam"
   ]
  },
  {
   "cell_type": "code",
   "execution_count": 125,
   "metadata": {},
   "outputs": [
    {
     "name": "stdout",
     "output_type": "stream",
     "text": [
      "\n",
      "\n",
      "*******starting optimisation from intitial point:  [12.34232]\n"
     ]
    },
    {
     "data": {
      "text/plain": [
       "(array([-0.01528442]), 0.07354080047177947, {'status': None, 'evals': 1000})"
      ]
     },
     "execution_count": 125,
     "metadata": {},
     "output_type": "execute_result"
    }
   ],
   "source": [
    "ad = adam(dim=1)\n",
    "x0 = np.array([12.34232])\n",
    "optmizerParas = {'x0': x0,\n",
    "         'alpha': 1.3,\n",
    "         'beta_1': 0.99, \n",
    "         'beta_2': 0.999, \n",
    "         'epsilon': 1e-11, \n",
    "         'max_iter': 1000,\n",
    "         'tol': 1e-4,              \n",
    "         'verbose': True,\n",
    "         'record': False}\n",
    "ad.set_parameters(optmizerParas)\n",
    "ad.optimise(ak_1d)"
   ]
  },
  {
   "cell_type": "markdown",
   "metadata": {},
   "source": [
    "### cma"
   ]
  },
  {
   "cell_type": "code",
   "execution_count": 105,
   "metadata": {},
   "outputs": [
    {
     "name": "stdout",
     "output_type": "stream",
     "text": [
      "\n",
      "\n",
      "*******starting optimisation from intitial mean:  [12.34232]\n",
      "eigenvalue of variance = [0.00754878]\n",
      "total iterations = 55, total evaluatios = 220\n",
      "found minimum position = [-2.14504359e-06], found minimum = 8.580419415427087e-06\n"
     ]
    },
    {
     "data": {
      "text/plain": [
       "(array([-2.14504359e-06]),\n",
       " 8.580419415427087e-06,\n",
       " {'val': [],\n",
       "  'arg': [],\n",
       "  'x_adjust': [],\n",
       "  'evals_per_iter': [],\n",
       "  'mean': [],\n",
       "  'std': [],\n",
       "  'status': None,\n",
       "  'evals': 220})"
      ]
     },
     "execution_count": 105,
     "metadata": {},
     "output_type": "execute_result"
    }
   ],
   "source": [
    "cma = cma_es(dim=1)\n",
    "x0 = np.array([12.34232])\n",
    "paras = {'x0': x0,\n",
    "         'std': np.ones((1,)) * 3, \n",
    "         'tol': 1e-5, \n",
    "         'adjust_func': do_nothing(), \n",
    "         'record': False, \n",
    "         'verbose': True}\n",
    "cma.set_parameters(paras)\n",
    "cma.optimise(ak_1d)"
   ]
  },
  {
   "cell_type": "code",
   "execution_count": null,
   "metadata": {},
   "outputs": [],
   "source": []
  },
  {
   "cell_type": "markdown",
   "metadata": {},
   "source": [
    "# find the best setp size of Adam"
   ]
  },
  {
   "cell_type": "markdown",
   "metadata": {},
   "source": [
    "## ackley"
   ]
  },
  {
   "cell_type": "code",
   "execution_count": 7,
   "metadata": {},
   "outputs": [
    {
     "name": "stdout",
     "output_type": "stream",
     "text": [
      "\n",
      "\n",
      "*******starting optimisation from intitial point:  [13.163  23.2323]\n",
      "Result:  local minimum\n",
      "found minimum: 19.523118600495653, minimum position: [12.99941843 22.99896483], evals: 151\n"
     ]
    }
   ],
   "source": [
    "# init and setup one experiment\n",
    "exp = single_experiment()\n",
    "\n",
    "# One experiment: setup objective function\n",
    "ak = ackley()\n",
    "exp.set_objective(ak)\n",
    "\n",
    "# One experiment: setup optimizer\n",
    "ad = adam()\n",
    "optmizerParas = {'x0': np.array([13.163,23.2323]),\n",
    "         'alpha': 0.1,\n",
    "         'beta_1': 0.9, \n",
    "         'beta_2': 0.999, \n",
    "         'epsilon': 1e-8, \n",
    "         'max_iter': 1000,\n",
    "         'tol': 1e-5,              \n",
    "         'verbose': True,\n",
    "         'record': True}\n",
    "ad.set_parameters(optmizerParas)\n",
    "exp.set_optimizer(ad)\n",
    "exp.do()"
   ]
  },
  {
   "cell_type": "code",
   "execution_count": null,
   "metadata": {},
   "outputs": [],
   "source": []
  },
  {
   "cell_type": "code",
   "execution_count": null,
   "metadata": {},
   "outputs": [],
   "source": [
    "for i in range(0, 10):\n",
    "    # One experiment: setup optimizer\n",
    "    ad = adam()\n",
    "    optmizerParas = {'x0': np.array([133,23]),\n",
    "             'alpha': np.power(0.1, i),\n",
    "             'beta_1': 0.9, \n",
    "             'beta_2': 0.999, \n",
    "             'epsilon': 1e-8, \n",
    "             'max_iter': 1000,\n",
    "             'tol': 1e-2,              \n",
    "             'verbose': True,\n",
    "             'record': True}\n",
    "    ad.set_parameters(optmizerParas)\n",
    "    exp.set_optimizer(ad)\n",
    "    exp.do()"
   ]
  },
  {
   "cell_type": "code",
   "execution_count": null,
   "metadata": {},
   "outputs": [],
   "source": [
    "for i in range(0, 10):\n",
    "    # One experiment: setup optimizer\n",
    "    ad = adam()\n",
    "    optmizerParas = {'x0': np.array([133,23]),\n",
    "             'alpha': np.power(10, i),\n",
    "             'beta_1': 0.9, \n",
    "             'beta_2': 0.999, \n",
    "             'epsilon': 1e-8, \n",
    "             'max_iter': 1000,\n",
    "             'tol': 1e-2,              \n",
    "             'verbose': True,\n",
    "             'record': True}\n",
    "    ad.set_parameters(optmizerParas)\n",
    "    exp.set_optimizer(ad)\n",
    "    exp.do()"
   ]
  },
  {
   "cell_type": "markdown",
   "metadata": {},
   "source": [
    "## bukin"
   ]
  },
  {
   "cell_type": "code",
   "execution_count": null,
   "metadata": {},
   "outputs": [],
   "source": [
    "for i in range(0, 10):\n",
    "    # One experiment: setup optimizer\n",
    "    ad = adam()\n",
    "    optmizerParas = {'x0': np.zeros((2,)),\n",
    "             'alpha': 0.01* np.power(0.1, i),\n",
    "             'beta_1': 0.9, \n",
    "             'beta_2': 0.999, \n",
    "             'epsilon': 1e-8, \n",
    "             'max_iter': 1000,\n",
    "             'tol': 1e-2,              \n",
    "             'verbose': True,\n",
    "             'record': False}\n",
    "    ad.set_parameters(optmizerParas)\n",
    "    exp.set_optimizer(ad)\n",
    "\n",
    "    # Multiple experiment: setup one expreiment\n",
    "    exps_bk_ad.set_single_exp(exp)\n",
    "\n",
    "\n",
    "    # Multiple experiments: setup sample zone of multiple experiments\n",
    "    zoneParas = {'origin': np.array([-15, -5]),\n",
    "                 'edge': np.array([30, 10]),\n",
    "                 'step': 10,\n",
    "                 'size': 10,\n",
    "                 'sym': False}\n",
    "    exps_bk_ad.set_sample_zone(zoneParas)\n",
    "\n",
    "    %time data_bk_ad = exps_bk_ad.do()"
   ]
  }
 ],
 "metadata": {
  "kernelspec": {
   "display_name": "Python [conda env:miniconda3-ada] *",
   "language": "python",
   "name": "conda-env-miniconda3-ada-py"
  },
  "language_info": {
   "codemirror_mode": {
    "name": "ipython",
    "version": 3
   },
   "file_extension": ".py",
   "mimetype": "text/x-python",
   "name": "python",
   "nbconvert_exporter": "python",
   "pygments_lexer": "ipython3",
   "version": "3.7.4"
  }
 },
 "nbformat": 4,
 "nbformat_minor": 4
}
